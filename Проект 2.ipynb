{
 "cells": [
  {
   "cell_type": "markdown",
   "metadata": {},
   "source": [
    "# Исследование объявлений о продаже квартир\n",
    "\n",
    "В вашем распоряжении данные сервиса Яндекс.Недвижимость — архив объявлений о продаже квартир в Санкт-Петербурге и соседних населённых пунктов за несколько лет. Нужно научиться определять рыночную стоимость объектов недвижимости. Ваша задача — установить параметры. Это позволит построить автоматизированную систему: она отследит аномалии и мошенническую деятельность. \n",
    "\n",
    "По каждой квартире на продажу доступны два вида данных. Первые вписаны пользователем, вторые — получены автоматически на основе картографических данных. Например, расстояние до центра, аэропорта, ближайшего парка и водоёма. "
   ]
  },
  {
   "cell_type": "markdown",
   "metadata": {},
   "source": [
    "### Откройте файл с данными и изучите общую информацию. "
   ]
  },
  {
   "cell_type": "markdown",
   "metadata": {},
   "source": [
    "Составим первое представление о данных:"
   ]
  },
  {
   "cell_type": "code",
   "execution_count": 1,
   "metadata": {},
   "outputs": [],
   "source": [
    "#импортируем библиотеку Pandas для работы с данными\n",
    "import pandas as pd\n",
    "# и библиотеку matplotlib.pyplot для красивого вывода графиков\n",
    "import matplotlib.pyplot as plt\n",
    "# на всякий случай использую ещё одну библиотеку с графиками\n",
    "import seaborn as sns"
   ]
  },
  {
   "cell_type": "code",
   "execution_count": 2,
   "metadata": {
    "scrolled": false
   },
   "outputs": [
    {
     "data": {
      "text/html": [
       "<div>\n",
       "<style scoped>\n",
       "    .dataframe tbody tr th:only-of-type {\n",
       "        vertical-align: middle;\n",
       "    }\n",
       "\n",
       "    .dataframe tbody tr th {\n",
       "        vertical-align: top;\n",
       "    }\n",
       "\n",
       "    .dataframe thead th {\n",
       "        text-align: right;\n",
       "    }\n",
       "</style>\n",
       "<table border=\"1\" class=\"dataframe\">\n",
       "  <thead>\n",
       "    <tr style=\"text-align: right;\">\n",
       "      <th></th>\n",
       "      <th>total_images</th>\n",
       "      <th>last_price</th>\n",
       "      <th>total_area</th>\n",
       "      <th>first_day_exposition</th>\n",
       "      <th>rooms</th>\n",
       "      <th>ceiling_height</th>\n",
       "      <th>floors_total</th>\n",
       "      <th>living_area</th>\n",
       "      <th>floor</th>\n",
       "      <th>is_apartment</th>\n",
       "      <th>...</th>\n",
       "      <th>kitchen_area</th>\n",
       "      <th>balcony</th>\n",
       "      <th>locality_name</th>\n",
       "      <th>airports_nearest</th>\n",
       "      <th>cityCenters_nearest</th>\n",
       "      <th>parks_around3000</th>\n",
       "      <th>parks_nearest</th>\n",
       "      <th>ponds_around3000</th>\n",
       "      <th>ponds_nearest</th>\n",
       "      <th>days_exposition</th>\n",
       "    </tr>\n",
       "  </thead>\n",
       "  <tbody>\n",
       "    <tr>\n",
       "      <th>0</th>\n",
       "      <td>20</td>\n",
       "      <td>13000000.0</td>\n",
       "      <td>108.0</td>\n",
       "      <td>2019-03-07T00:00:00</td>\n",
       "      <td>3</td>\n",
       "      <td>2.70</td>\n",
       "      <td>16.0</td>\n",
       "      <td>51.0</td>\n",
       "      <td>8</td>\n",
       "      <td>NaN</td>\n",
       "      <td>...</td>\n",
       "      <td>25.0</td>\n",
       "      <td>NaN</td>\n",
       "      <td>Санкт-Петербург</td>\n",
       "      <td>18863.0</td>\n",
       "      <td>16028.0</td>\n",
       "      <td>1.0</td>\n",
       "      <td>482.0</td>\n",
       "      <td>2.0</td>\n",
       "      <td>755.0</td>\n",
       "      <td>NaN</td>\n",
       "    </tr>\n",
       "    <tr>\n",
       "      <th>1</th>\n",
       "      <td>7</td>\n",
       "      <td>3350000.0</td>\n",
       "      <td>40.4</td>\n",
       "      <td>2018-12-04T00:00:00</td>\n",
       "      <td>1</td>\n",
       "      <td>NaN</td>\n",
       "      <td>11.0</td>\n",
       "      <td>18.6</td>\n",
       "      <td>1</td>\n",
       "      <td>NaN</td>\n",
       "      <td>...</td>\n",
       "      <td>11.0</td>\n",
       "      <td>2.0</td>\n",
       "      <td>посёлок Шушары</td>\n",
       "      <td>12817.0</td>\n",
       "      <td>18603.0</td>\n",
       "      <td>0.0</td>\n",
       "      <td>NaN</td>\n",
       "      <td>0.0</td>\n",
       "      <td>NaN</td>\n",
       "      <td>81.0</td>\n",
       "    </tr>\n",
       "    <tr>\n",
       "      <th>2</th>\n",
       "      <td>10</td>\n",
       "      <td>5196000.0</td>\n",
       "      <td>56.0</td>\n",
       "      <td>2015-08-20T00:00:00</td>\n",
       "      <td>2</td>\n",
       "      <td>NaN</td>\n",
       "      <td>5.0</td>\n",
       "      <td>34.3</td>\n",
       "      <td>4</td>\n",
       "      <td>NaN</td>\n",
       "      <td>...</td>\n",
       "      <td>8.3</td>\n",
       "      <td>0.0</td>\n",
       "      <td>Санкт-Петербург</td>\n",
       "      <td>21741.0</td>\n",
       "      <td>13933.0</td>\n",
       "      <td>1.0</td>\n",
       "      <td>90.0</td>\n",
       "      <td>2.0</td>\n",
       "      <td>574.0</td>\n",
       "      <td>558.0</td>\n",
       "    </tr>\n",
       "    <tr>\n",
       "      <th>3</th>\n",
       "      <td>0</td>\n",
       "      <td>64900000.0</td>\n",
       "      <td>159.0</td>\n",
       "      <td>2015-07-24T00:00:00</td>\n",
       "      <td>3</td>\n",
       "      <td>NaN</td>\n",
       "      <td>14.0</td>\n",
       "      <td>NaN</td>\n",
       "      <td>9</td>\n",
       "      <td>NaN</td>\n",
       "      <td>...</td>\n",
       "      <td>NaN</td>\n",
       "      <td>0.0</td>\n",
       "      <td>Санкт-Петербург</td>\n",
       "      <td>28098.0</td>\n",
       "      <td>6800.0</td>\n",
       "      <td>2.0</td>\n",
       "      <td>84.0</td>\n",
       "      <td>3.0</td>\n",
       "      <td>234.0</td>\n",
       "      <td>424.0</td>\n",
       "    </tr>\n",
       "    <tr>\n",
       "      <th>4</th>\n",
       "      <td>2</td>\n",
       "      <td>10000000.0</td>\n",
       "      <td>100.0</td>\n",
       "      <td>2018-06-19T00:00:00</td>\n",
       "      <td>2</td>\n",
       "      <td>3.03</td>\n",
       "      <td>14.0</td>\n",
       "      <td>32.0</td>\n",
       "      <td>13</td>\n",
       "      <td>NaN</td>\n",
       "      <td>...</td>\n",
       "      <td>41.0</td>\n",
       "      <td>NaN</td>\n",
       "      <td>Санкт-Петербург</td>\n",
       "      <td>31856.0</td>\n",
       "      <td>8098.0</td>\n",
       "      <td>2.0</td>\n",
       "      <td>112.0</td>\n",
       "      <td>1.0</td>\n",
       "      <td>48.0</td>\n",
       "      <td>121.0</td>\n",
       "    </tr>\n",
       "  </tbody>\n",
       "</table>\n",
       "<p>5 rows × 22 columns</p>\n",
       "</div>"
      ],
      "text/plain": [
       "   total_images  last_price  total_area first_day_exposition  rooms  \\\n",
       "0            20  13000000.0       108.0  2019-03-07T00:00:00      3   \n",
       "1             7   3350000.0        40.4  2018-12-04T00:00:00      1   \n",
       "2            10   5196000.0        56.0  2015-08-20T00:00:00      2   \n",
       "3             0  64900000.0       159.0  2015-07-24T00:00:00      3   \n",
       "4             2  10000000.0       100.0  2018-06-19T00:00:00      2   \n",
       "\n",
       "   ceiling_height  floors_total  living_area  floor is_apartment  ...  \\\n",
       "0            2.70          16.0         51.0      8          NaN  ...   \n",
       "1             NaN          11.0         18.6      1          NaN  ...   \n",
       "2             NaN           5.0         34.3      4          NaN  ...   \n",
       "3             NaN          14.0          NaN      9          NaN  ...   \n",
       "4            3.03          14.0         32.0     13          NaN  ...   \n",
       "\n",
       "   kitchen_area  balcony    locality_name  airports_nearest  \\\n",
       "0          25.0      NaN  Санкт-Петербург           18863.0   \n",
       "1          11.0      2.0   посёлок Шушары           12817.0   \n",
       "2           8.3      0.0  Санкт-Петербург           21741.0   \n",
       "3           NaN      0.0  Санкт-Петербург           28098.0   \n",
       "4          41.0      NaN  Санкт-Петербург           31856.0   \n",
       "\n",
       "  cityCenters_nearest  parks_around3000  parks_nearest  ponds_around3000  \\\n",
       "0             16028.0               1.0          482.0               2.0   \n",
       "1             18603.0               0.0            NaN               0.0   \n",
       "2             13933.0               1.0           90.0               2.0   \n",
       "3              6800.0               2.0           84.0               3.0   \n",
       "4              8098.0               2.0          112.0               1.0   \n",
       "\n",
       "   ponds_nearest  days_exposition  \n",
       "0          755.0              NaN  \n",
       "1            NaN             81.0  \n",
       "2          574.0            558.0  \n",
       "3          234.0            424.0  \n",
       "4           48.0            121.0  \n",
       "\n",
       "[5 rows x 22 columns]"
      ]
     },
     "execution_count": 2,
     "metadata": {},
     "output_type": "execute_result"
    }
   ],
   "source": [
    "# в переменную data положим данные из real_estate_data\n",
    "data = pd.read_csv('/datasets/real_estate_data.csv', sep='\\t')\n",
    "# посмотрим первые 5 строк Датафрейма\n",
    "data.head()"
   ]
  },
  {
   "cell_type": "code",
   "execution_count": 3,
   "metadata": {
    "scrolled": true
   },
   "outputs": [
    {
     "data": {
      "text/html": [
       "<div>\n",
       "<style scoped>\n",
       "    .dataframe tbody tr th:only-of-type {\n",
       "        vertical-align: middle;\n",
       "    }\n",
       "\n",
       "    .dataframe tbody tr th {\n",
       "        vertical-align: top;\n",
       "    }\n",
       "\n",
       "    .dataframe thead th {\n",
       "        text-align: right;\n",
       "    }\n",
       "</style>\n",
       "<table border=\"1\" class=\"dataframe\">\n",
       "  <thead>\n",
       "    <tr style=\"text-align: right;\">\n",
       "      <th></th>\n",
       "      <th>total_images</th>\n",
       "      <th>last_price</th>\n",
       "      <th>total_area</th>\n",
       "      <th>rooms</th>\n",
       "      <th>ceiling_height</th>\n",
       "      <th>floors_total</th>\n",
       "      <th>living_area</th>\n",
       "      <th>floor</th>\n",
       "      <th>kitchen_area</th>\n",
       "      <th>balcony</th>\n",
       "      <th>airports_nearest</th>\n",
       "      <th>cityCenters_nearest</th>\n",
       "      <th>parks_around3000</th>\n",
       "      <th>parks_nearest</th>\n",
       "      <th>ponds_around3000</th>\n",
       "      <th>ponds_nearest</th>\n",
       "      <th>days_exposition</th>\n",
       "    </tr>\n",
       "  </thead>\n",
       "  <tbody>\n",
       "    <tr>\n",
       "      <th>count</th>\n",
       "      <td>23699.000000</td>\n",
       "      <td>2.369900e+04</td>\n",
       "      <td>23699.000000</td>\n",
       "      <td>23699.000000</td>\n",
       "      <td>14504.000000</td>\n",
       "      <td>23613.000000</td>\n",
       "      <td>21796.000000</td>\n",
       "      <td>23699.000000</td>\n",
       "      <td>21421.000000</td>\n",
       "      <td>12180.000000</td>\n",
       "      <td>18157.000000</td>\n",
       "      <td>18180.000000</td>\n",
       "      <td>18181.000000</td>\n",
       "      <td>8079.000000</td>\n",
       "      <td>18181.000000</td>\n",
       "      <td>9110.000000</td>\n",
       "      <td>20518.000000</td>\n",
       "    </tr>\n",
       "    <tr>\n",
       "      <th>mean</th>\n",
       "      <td>9.858475</td>\n",
       "      <td>6.541549e+06</td>\n",
       "      <td>60.348651</td>\n",
       "      <td>2.070636</td>\n",
       "      <td>2.771499</td>\n",
       "      <td>10.673824</td>\n",
       "      <td>34.457852</td>\n",
       "      <td>5.892358</td>\n",
       "      <td>10.569807</td>\n",
       "      <td>1.150082</td>\n",
       "      <td>28793.672193</td>\n",
       "      <td>14191.277833</td>\n",
       "      <td>0.611408</td>\n",
       "      <td>490.804555</td>\n",
       "      <td>0.770255</td>\n",
       "      <td>517.980900</td>\n",
       "      <td>180.888634</td>\n",
       "    </tr>\n",
       "    <tr>\n",
       "      <th>std</th>\n",
       "      <td>5.682529</td>\n",
       "      <td>1.088701e+07</td>\n",
       "      <td>35.654083</td>\n",
       "      <td>1.078405</td>\n",
       "      <td>1.261056</td>\n",
       "      <td>6.597173</td>\n",
       "      <td>22.030445</td>\n",
       "      <td>4.885249</td>\n",
       "      <td>5.905438</td>\n",
       "      <td>1.071300</td>\n",
       "      <td>12630.880622</td>\n",
       "      <td>8608.386210</td>\n",
       "      <td>0.802074</td>\n",
       "      <td>342.317995</td>\n",
       "      <td>0.938346</td>\n",
       "      <td>277.720643</td>\n",
       "      <td>219.727988</td>\n",
       "    </tr>\n",
       "    <tr>\n",
       "      <th>min</th>\n",
       "      <td>0.000000</td>\n",
       "      <td>1.219000e+04</td>\n",
       "      <td>12.000000</td>\n",
       "      <td>0.000000</td>\n",
       "      <td>1.000000</td>\n",
       "      <td>1.000000</td>\n",
       "      <td>2.000000</td>\n",
       "      <td>1.000000</td>\n",
       "      <td>1.300000</td>\n",
       "      <td>0.000000</td>\n",
       "      <td>0.000000</td>\n",
       "      <td>181.000000</td>\n",
       "      <td>0.000000</td>\n",
       "      <td>1.000000</td>\n",
       "      <td>0.000000</td>\n",
       "      <td>13.000000</td>\n",
       "      <td>1.000000</td>\n",
       "    </tr>\n",
       "    <tr>\n",
       "      <th>25%</th>\n",
       "      <td>6.000000</td>\n",
       "      <td>3.400000e+06</td>\n",
       "      <td>40.000000</td>\n",
       "      <td>1.000000</td>\n",
       "      <td>2.520000</td>\n",
       "      <td>5.000000</td>\n",
       "      <td>18.600000</td>\n",
       "      <td>2.000000</td>\n",
       "      <td>7.000000</td>\n",
       "      <td>0.000000</td>\n",
       "      <td>18585.000000</td>\n",
       "      <td>9238.000000</td>\n",
       "      <td>0.000000</td>\n",
       "      <td>288.000000</td>\n",
       "      <td>0.000000</td>\n",
       "      <td>294.000000</td>\n",
       "      <td>45.000000</td>\n",
       "    </tr>\n",
       "    <tr>\n",
       "      <th>50%</th>\n",
       "      <td>9.000000</td>\n",
       "      <td>4.650000e+06</td>\n",
       "      <td>52.000000</td>\n",
       "      <td>2.000000</td>\n",
       "      <td>2.650000</td>\n",
       "      <td>9.000000</td>\n",
       "      <td>30.000000</td>\n",
       "      <td>4.000000</td>\n",
       "      <td>9.100000</td>\n",
       "      <td>1.000000</td>\n",
       "      <td>26726.000000</td>\n",
       "      <td>13098.500000</td>\n",
       "      <td>0.000000</td>\n",
       "      <td>455.000000</td>\n",
       "      <td>1.000000</td>\n",
       "      <td>502.000000</td>\n",
       "      <td>95.000000</td>\n",
       "    </tr>\n",
       "    <tr>\n",
       "      <th>75%</th>\n",
       "      <td>14.000000</td>\n",
       "      <td>6.800000e+06</td>\n",
       "      <td>69.900000</td>\n",
       "      <td>3.000000</td>\n",
       "      <td>2.800000</td>\n",
       "      <td>16.000000</td>\n",
       "      <td>42.300000</td>\n",
       "      <td>8.000000</td>\n",
       "      <td>12.000000</td>\n",
       "      <td>2.000000</td>\n",
       "      <td>37273.000000</td>\n",
       "      <td>16293.000000</td>\n",
       "      <td>1.000000</td>\n",
       "      <td>612.000000</td>\n",
       "      <td>1.000000</td>\n",
       "      <td>729.000000</td>\n",
       "      <td>232.000000</td>\n",
       "    </tr>\n",
       "    <tr>\n",
       "      <th>max</th>\n",
       "      <td>50.000000</td>\n",
       "      <td>7.630000e+08</td>\n",
       "      <td>900.000000</td>\n",
       "      <td>19.000000</td>\n",
       "      <td>100.000000</td>\n",
       "      <td>60.000000</td>\n",
       "      <td>409.700000</td>\n",
       "      <td>33.000000</td>\n",
       "      <td>112.000000</td>\n",
       "      <td>5.000000</td>\n",
       "      <td>84869.000000</td>\n",
       "      <td>65968.000000</td>\n",
       "      <td>3.000000</td>\n",
       "      <td>3190.000000</td>\n",
       "      <td>3.000000</td>\n",
       "      <td>1344.000000</td>\n",
       "      <td>1580.000000</td>\n",
       "    </tr>\n",
       "  </tbody>\n",
       "</table>\n",
       "</div>"
      ],
      "text/plain": [
       "       total_images    last_price    total_area         rooms  ceiling_height  \\\n",
       "count  23699.000000  2.369900e+04  23699.000000  23699.000000    14504.000000   \n",
       "mean       9.858475  6.541549e+06     60.348651      2.070636        2.771499   \n",
       "std        5.682529  1.088701e+07     35.654083      1.078405        1.261056   \n",
       "min        0.000000  1.219000e+04     12.000000      0.000000        1.000000   \n",
       "25%        6.000000  3.400000e+06     40.000000      1.000000        2.520000   \n",
       "50%        9.000000  4.650000e+06     52.000000      2.000000        2.650000   \n",
       "75%       14.000000  6.800000e+06     69.900000      3.000000        2.800000   \n",
       "max       50.000000  7.630000e+08    900.000000     19.000000      100.000000   \n",
       "\n",
       "       floors_total   living_area         floor  kitchen_area       balcony  \\\n",
       "count  23613.000000  21796.000000  23699.000000  21421.000000  12180.000000   \n",
       "mean      10.673824     34.457852      5.892358     10.569807      1.150082   \n",
       "std        6.597173     22.030445      4.885249      5.905438      1.071300   \n",
       "min        1.000000      2.000000      1.000000      1.300000      0.000000   \n",
       "25%        5.000000     18.600000      2.000000      7.000000      0.000000   \n",
       "50%        9.000000     30.000000      4.000000      9.100000      1.000000   \n",
       "75%       16.000000     42.300000      8.000000     12.000000      2.000000   \n",
       "max       60.000000    409.700000     33.000000    112.000000      5.000000   \n",
       "\n",
       "       airports_nearest  cityCenters_nearest  parks_around3000  parks_nearest  \\\n",
       "count      18157.000000         18180.000000      18181.000000    8079.000000   \n",
       "mean       28793.672193         14191.277833          0.611408     490.804555   \n",
       "std        12630.880622          8608.386210          0.802074     342.317995   \n",
       "min            0.000000           181.000000          0.000000       1.000000   \n",
       "25%        18585.000000          9238.000000          0.000000     288.000000   \n",
       "50%        26726.000000         13098.500000          0.000000     455.000000   \n",
       "75%        37273.000000         16293.000000          1.000000     612.000000   \n",
       "max        84869.000000         65968.000000          3.000000    3190.000000   \n",
       "\n",
       "       ponds_around3000  ponds_nearest  days_exposition  \n",
       "count      18181.000000    9110.000000     20518.000000  \n",
       "mean           0.770255     517.980900       180.888634  \n",
       "std            0.938346     277.720643       219.727988  \n",
       "min            0.000000      13.000000         1.000000  \n",
       "25%            0.000000     294.000000        45.000000  \n",
       "50%            1.000000     502.000000        95.000000  \n",
       "75%            1.000000     729.000000       232.000000  \n",
       "max            3.000000    1344.000000      1580.000000  "
      ]
     },
     "execution_count": 3,
     "metadata": {},
     "output_type": "execute_result"
    }
   ],
   "source": [
    "# посмотрим числовое описание данных\n",
    "data.describe()"
   ]
  },
  {
   "cell_type": "markdown",
   "metadata": {},
   "source": [
    "Есть экстремумы, которые в дальнейнем стоит рассмотреть, например, квартиры с высотой потолков в 100 м явно не выглядят правдоподобно."
   ]
  },
  {
   "cell_type": "code",
   "execution_count": 4,
   "metadata": {
    "scrolled": false
   },
   "outputs": [
    {
     "name": "stdout",
     "output_type": "stream",
     "text": [
      "<class 'pandas.core.frame.DataFrame'>\n",
      "RangeIndex: 23699 entries, 0 to 23698\n",
      "Data columns (total 22 columns):\n",
      " #   Column                Non-Null Count  Dtype  \n",
      "---  ------                --------------  -----  \n",
      " 0   total_images          23699 non-null  int64  \n",
      " 1   last_price            23699 non-null  float64\n",
      " 2   total_area            23699 non-null  float64\n",
      " 3   first_day_exposition  23699 non-null  object \n",
      " 4   rooms                 23699 non-null  int64  \n",
      " 5   ceiling_height        14504 non-null  float64\n",
      " 6   floors_total          23613 non-null  float64\n",
      " 7   living_area           21796 non-null  float64\n",
      " 8   floor                 23699 non-null  int64  \n",
      " 9   is_apartment          2775 non-null   object \n",
      " 10  studio                23699 non-null  bool   \n",
      " 11  open_plan             23699 non-null  bool   \n",
      " 12  kitchen_area          21421 non-null  float64\n",
      " 13  balcony               12180 non-null  float64\n",
      " 14  locality_name         23650 non-null  object \n",
      " 15  airports_nearest      18157 non-null  float64\n",
      " 16  cityCenters_nearest   18180 non-null  float64\n",
      " 17  parks_around3000      18181 non-null  float64\n",
      " 18  parks_nearest         8079 non-null   float64\n",
      " 19  ponds_around3000      18181 non-null  float64\n",
      " 20  ponds_nearest         9110 non-null   float64\n",
      " 21  days_exposition       20518 non-null  float64\n",
      "dtypes: bool(2), float64(14), int64(3), object(3)\n",
      "memory usage: 3.7+ MB\n"
     ]
    }
   ],
   "source": [
    "# с помощью метода info() получаем общую информацию о данных\n",
    "data.info()"
   ]
  },
  {
   "cell_type": "markdown",
   "metadata": {},
   "source": [
    "**Количество значений в столбцах разное, значит присутствуют пропуски.**\n",
    "\n",
    "Для дальнейшего облегчения воспиятия данных составим таблицу на основе полученных данных и документации к данным, также были добавлены первичные явные ошибки, которые будут исправлены в [Предобработкe данных](#Предобработка-данных)."
   ]
  },
  {
   "cell_type": "markdown",
   "metadata": {},
   "source": [
    "#### Таблица данных"
   ]
  },
  {
   "cell_type": "markdown",
   "metadata": {},
   "source": [
    "Название | Тип данных | Описание | Первичные предложение по изменениям\n",
    "--- | --- | --- | ---\n",
    "total_images | int64 | число фотографий квартиры в объявлении \n",
    "last_price | float64 | цена на момент снятия с публикации | для удобства восприятия можно сразу перевести в миллионы\n",
    "total_area | float64 | общая площадь квартиры в квадратных метрах (м²)\n",
    "first_day_exposition | object | дата публикации | преобразовать данные в формат дат (datetime64)\n",
    "rooms | int64 | число комнат\n",
    "ceiling_height | float64 | высота потолков (м)\n",
    "floors_total | float64 | всего этажей в доме | изменить формат данных на целое число int64\n",
    "living_area | float64 | жилая площадь в квадратных метрах (м²)\n",
    "floor | int64 | этаж   \n",
    "is_apartment | object | апартаменты (булев тип) | стоит избавиться от пропусков, чтобы привести всё к типу bool\n",
    "studio | bool | квартира-студия (булев тип)   \n",
    "open_plan | bool | свободная планировка (булев тип)\n",
    "kitchen_area | float64 | площадь кухни в квадратных метрах (м²)\n",
    "balcony | float64 | число балконов | изменить формат данных на целое число int64\n",
    "locality_name | object | название населённого пункта \n",
    "airports_nearest | float64 | расстояние до ближайшего аэропорта в метрах (м)\n",
    "cityCenters_nearest | float64 | расстояние до центра города (м) | можно полностью перевести название переменной в змеиный регистр\n",
    "parks_around3000 | float64 | число парков в радиусе 3 км | изменить формат данных на целое число int64\n",
    "parks_nearest | float64 | расстояние до ближайшего парка (м)\n",
    "ponds_around3000 | float64 | число водоёмов в радиусе 3 км | изменить формат данных на целое число int64\n",
    "ponds_nearest | float64 | расстояние до ближайшего водоёма (м)\n",
    "days_exposition | float64 | сколько дней было размещено объявление (от публикации до снятия) | изменить формат данных на целое число int64\n"
   ]
  },
  {
   "cell_type": "markdown",
   "metadata": {},
   "source": [
    "Теперь построим гистограммы:"
   ]
  },
  {
   "cell_type": "code",
   "execution_count": 5,
   "metadata": {
    "scrolled": true
   },
   "outputs": [
    {
     "data": {
      "text/plain": [
       "array([[<AxesSubplot:title={'center':'total_images'}>,\n",
       "        <AxesSubplot:title={'center':'last_price'}>,\n",
       "        <AxesSubplot:title={'center':'total_area'}>,\n",
       "        <AxesSubplot:title={'center':'rooms'}>],\n",
       "       [<AxesSubplot:title={'center':'ceiling_height'}>,\n",
       "        <AxesSubplot:title={'center':'floors_total'}>,\n",
       "        <AxesSubplot:title={'center':'living_area'}>,\n",
       "        <AxesSubplot:title={'center':'floor'}>],\n",
       "       [<AxesSubplot:title={'center':'kitchen_area'}>,\n",
       "        <AxesSubplot:title={'center':'balcony'}>,\n",
       "        <AxesSubplot:title={'center':'airports_nearest'}>,\n",
       "        <AxesSubplot:title={'center':'cityCenters_nearest'}>],\n",
       "       [<AxesSubplot:title={'center':'parks_around3000'}>,\n",
       "        <AxesSubplot:title={'center':'parks_nearest'}>,\n",
       "        <AxesSubplot:title={'center':'ponds_around3000'}>,\n",
       "        <AxesSubplot:title={'center':'ponds_nearest'}>],\n",
       "       [<AxesSubplot:title={'center':'days_exposition'}>, <AxesSubplot:>,\n",
       "        <AxesSubplot:>, <AxesSubplot:>]], dtype=object)"
      ]
     },
     "execution_count": 5,
     "metadata": {},
     "output_type": "execute_result"
    },
    {
     "data": {
      "image/png": "[encoded data removed]",
      "text/plain": [
       "<Figure size 1080x1440 with 20 Axes>"
      ]
     },
     "metadata": {
      "needs_background": "light"
     },
     "output_type": "display_data"
    }
   ],
   "source": [
    "# построим общую гистограмму для всех столбцов таблицы\n",
    "data.hist(figsize=(15, 20))"
   ]
  },
  {
   "cell_type": "markdown",
   "metadata": {},
   "source": [
    "**'last_price'** имеет слишком большой разброс значений, поэтому под графиков написано `1e8`(1e8 ~ 10^8) и выведен лишь 1 столбец. Проще говоря, эта гистограмма имеет слишком маленький масштаб и слишком большой диапозон чисел, чтобы хоть что-то разглядеть. Такая же ситация с **'ceiling_height'**. Для проверки корректности значений ниже построены графики."
   ]
  },
  {
   "cell_type": "code",
   "execution_count": 6,
   "metadata": {
    "scrolled": true
   },
   "outputs": [
    {
     "data": {
      "text/plain": [
       "array([[<AxesSubplot:title={'center':'ceiling_height'}>]], dtype=object)"
      ]
     },
     "execution_count": 6,
     "metadata": {},
     "output_type": "execute_result"
    },
    {
     "data": {
      "image/png": "[encoded data removed]",
      "text/plain": [
       "<Figure size 360x360 with 1 Axes>"
      ]
     },
     "metadata": {
      "needs_background": "light"
     },
     "output_type": "display_data"
    },
    {
     "data": {
      "image/png": "[encoded data removed]",
      "text/plain": [
       "<Figure size 360x360 with 1 Axes>"
      ]
     },
     "metadata": {
      "needs_background": "light"
     },
     "output_type": "display_data"
    }
   ],
   "source": [
    "# построим гистограммы на основе 'last_price' и 'total_area', чтобы убелится, что данные корректны.\n",
    "data.hist('last_price', range=(0, 10000000), figsize=(5, 5))\n",
    "data.hist('ceiling_height', range=(0, 10), figsize=(5, 5))"
   ]
  },
  {
   "cell_type": "markdown",
   "metadata": {},
   "source": [
    "<div style=\"border:solid green 2px; padding: 20px\">\n",
    "    \n",
    "        Итак, после просмотра данных, стало понятно какие существуют данные, какие они \n",
    "    имеют диапозоны и какие форматы имеют данные. Также выявилось, что существуют \n",
    "    пропуски, аномальные значения и неправильные форматы данных. Теперь можно приступать\n",
    "    к обработке этих данных. \n",
    "</div>"
   ]
  },
  {
   "cell_type": "markdown",
   "metadata": {},
   "source": [
    "### Предобработка данных"
   ]
  },
  {
   "cell_type": "markdown",
   "metadata": {},
   "source": [
    "Я буду ориентироваться на [Таблицу данных](#Таблица-данных). "
   ]
  },
  {
   "cell_type": "code",
   "execution_count": 7,
   "metadata": {
    "scrolled": true
   },
   "outputs": [],
   "source": [
    "# переведём cityCenters_nearest к змеиному регистру\n",
    "data = data.rename(columns={'cityCenters_nearest': 'city_сenters_nearest'})"
   ]
  },
  {
   "cell_type": "code",
   "execution_count": 8,
   "metadata": {},
   "outputs": [],
   "source": [
    "# для удобсва представим столбец стоимости в миллионах\n",
    "data['last_price_million'] = data['last_price'] / 1000000"
   ]
  },
  {
   "cell_type": "markdown",
   "metadata": {},
   "source": [
    "Теперь все колонки приведены к единому регистру и цена представлена в удобном для анализа виде. Можно начинать предобработку."
   ]
  },
  {
   "cell_type": "markdown",
   "metadata": {},
   "source": [
    "<div class=\"alert alert-success\">\n",
    "<b>Комментарий ревьюера ✔️:</b> Так и правда удобнее </div>"
   ]
  },
  {
   "cell_type": "markdown",
   "metadata": {},
   "source": [
    "#### Обработка пропусков и типов данных"
   ]
  },
  {
   "cell_type": "markdown",
   "metadata": {},
   "source": [
    "Пропуски могут возникнуть по разным причинам, однако их нужно изучить и по возможности избавиться, потому что без этого результат может выйти некорректным. "
   ]
  },
  {
   "cell_type": "code",
   "execution_count": 9,
   "metadata": {
    "scrolled": true
   },
   "outputs": [
    {
     "data": {
      "text/plain": [
       "total_images                0\n",
       "last_price                  0\n",
       "total_area                  0\n",
       "first_day_exposition        0\n",
       "rooms                       0\n",
       "ceiling_height           9195\n",
       "floors_total               86\n",
       "living_area              1903\n",
       "floor                       0\n",
       "is_apartment            20924\n",
       "studio                      0\n",
       "open_plan                   0\n",
       "kitchen_area             2278\n",
       "balcony                 11519\n",
       "locality_name              49\n",
       "airports_nearest         5542\n",
       "city_сenters_nearest     5519\n",
       "parks_around3000         5518\n",
       "parks_nearest           15620\n",
       "ponds_around3000         5518\n",
       "ponds_nearest           14589\n",
       "days_exposition          3181\n",
       "last_price_million          0\n",
       "dtype: int64"
      ]
     },
     "execution_count": 9,
     "metadata": {},
     "output_type": "execute_result"
    }
   ],
   "source": [
    "# определим, в каких столбцах есть пропуски и сколько их\n",
    "data.isna().sum()"
   ]
  },
  {
   "cell_type": "markdown",
   "metadata": {},
   "source": [
    "**Итак, как же бороться с пропусками?**\n",
    "\n",
    "1. До начала разберёмся со столбцами с маленьким количеством пропусков: избавимся от них. Это можно сделать, так как относительно большого массива данных они не являются показательными.\n",
    "\n",
    "2. Пропуски в некоторых столбцах могли получиться из-за того, что продавец мог посчитать их заполнение необязательным, если такое условие не выполняется. Так пользователь мог не заполнить поле с количеством балконов, если их нет (заменим пропуски нулями) и пропустить пункт об апартоменты, если продаёт не их (заменим на False). По такому же принципу заполним количество прудов и парков рядом с домами.\n",
    "\n",
    "3. Высоту потолков можно заменить медианным значением (почему медианными? Среднее арифметическое наверняка очень искажено из-за экстремумов, поэтому медиана лучше будет отражать действительность).\n",
    "\n",
    "4. Площадь кухни и жил.площадь продавец мог не измерять, однако её тоже можно заполнить. Для этого:\n",
    "\n",
    "  + посчитаем сколько в среднем занимает жил.площадь/кухня от средней площади квартиры (то есть найти отношение медианных значений); \n",
    "  + далее  просто умножаем полученные коэфициенты на площадь квартиры. \n",
    "\n",
    "(*Понимаю, что с помощью коэфициента я упрощаю себе жизнь, так как это могут быть евро-квартиры, площадь кухонь может зависеть от количества комнат и так далее. Если нужно это учитывать, то на доработке это сделаю.*)\n",
    "\n",
    "5. Пропуски в 'days_exposition' могли появиться по разным причинам, например, из-за того, что на тот момент квартиру ещё не продали. Стоит проверить эту гипотезу. Проверка осуществляется [здесь](#Проверка-зависимости-продаж-от-года)\n",
    "\n",
    "6. После дальнейшей обработки неявных дубликатов, проверим, можно ли заполнить столбец с расстоянием до центра города медианами. Если нет, то в дальнейшем используем особый маркер для заполнения информации. Проверка осуществляется в [этом разделе](#Проверка-расстояния-до-центра)\n",
    "\n",
    "7. Остальные параметры зависят от конкретной квартиры и поэтому заполнить их сложно.\n"
   ]
  },
  {
   "cell_type": "code",
   "execution_count": 10,
   "metadata": {},
   "outputs": [],
   "source": [
    "# удаляем строки, где количество пропусков небольшое:\n",
    "data = data.dropna(subset=['locality_name', 'floors_total'])\n",
    "\n",
    "# заполним пропуски в столбце нулями \n",
    "data['balcony'] = data['balcony'].fillna(value=0)\n",
    "data['parks_around3000'] = data['parks_around3000'].fillna(value=0)\n",
    "data['ponds_around3000'] = data['ponds_around3000'].fillna(value=0)\n",
    "\n",
    "\n",
    "# заполним пропуски в столбце значениями False\n",
    "data['is_apartment'] = data['is_apartment'].fillna(value=False)\n",
    "\n",
    "# заполнить пропуски в столбце медианными значениями\n",
    "data['ceiling_height'] = data['ceiling_height'].fillna(value=data['ceiling_height'].median())\n",
    "\n",
    "# заполним пропуски в столбцах с помощью отношения медиан\n",
    "living_conv = data['living_area'].median() / data['total_area'].median()\n",
    "kitchen_conv = data['kitchen_area'].median() / data['total_area'].median()\n",
    "data['living_area'].fillna(living_conv * data['total_area'], inplace=True)\n",
    "data['kitchen_area'].fillna(kitchen_conv * data['total_area'], inplace=True)"
   ]
  },
  {
   "cell_type": "markdown",
   "metadata": {},
   "source": [
    "#### Обработка типов данных"
   ]
  },
  {
   "cell_type": "markdown",
   "metadata": {},
   "source": [
    "**Также не стоит забывать про типы данных:**\n",
    "1. Сложно представить в квартире 2 с половиной балкона или дом с 14 с четвертью этажами, поэтому преобразуем ряд столбцов в формат целых чисел.\n",
    "2. Преобразуем столбец 'first_day_exposition' в формат дат."
   ]
  },
  {
   "cell_type": "code",
   "execution_count": 11,
   "metadata": {
    "scrolled": true
   },
   "outputs": [],
   "source": [
    "# изменим тип данных у некоторых столбцов на целочисленные значения\n",
    "int_types_columns = ['balcony', 'floors_total', 'parks_around3000', 'ponds_around3000', 'last_price']\n",
    "for column in int_types_columns:\n",
    "    data[column] = data[column].astype(int)\n",
    "\n",
    "# преобразуем столбец в корректный формат даты\n",
    "data['first_day_exposition'] = pd.to_datetime(data['first_day_exposition'], format='%Y-%m-%d')"
   ]
  },
  {
   "cell_type": "markdown",
   "metadata": {},
   "source": [
    "<div class=\"alert alert-success\">\n",
    "<b>Комментарий ревьюера ✔️:</b> Эти типы данных и правда лучше тут смотрятся"
   ]
  },
  {
   "cell_type": "markdown",
   "metadata": {},
   "source": [
    "#### Проверка зависимости продаж от года"
   ]
  },
  {
   "cell_type": "code",
   "execution_count": 12,
   "metadata": {},
   "outputs": [
    {
     "data": {
      "text/html": [
       "<div>\n",
       "<style scoped>\n",
       "    .dataframe tbody tr th:only-of-type {\n",
       "        vertical-align: middle;\n",
       "    }\n",
       "\n",
       "    .dataframe tbody tr th {\n",
       "        vertical-align: top;\n",
       "    }\n",
       "\n",
       "    .dataframe thead th {\n",
       "        text-align: right;\n",
       "    }\n",
       "</style>\n",
       "<table border=\"1\" class=\"dataframe\">\n",
       "  <thead>\n",
       "    <tr style=\"text-align: right;\">\n",
       "      <th></th>\n",
       "      <th>количество значений</th>\n",
       "      <th>количество пропусков</th>\n",
       "      <th>процент пропусков</th>\n",
       "    </tr>\n",
       "    <tr>\n",
       "      <th>year</th>\n",
       "      <th></th>\n",
       "      <th></th>\n",
       "      <th></th>\n",
       "    </tr>\n",
       "  </thead>\n",
       "  <tbody>\n",
       "    <tr>\n",
       "      <th>2014</th>\n",
       "      <td>136</td>\n",
       "      <td>18</td>\n",
       "      <td>13.235294</td>\n",
       "    </tr>\n",
       "    <tr>\n",
       "      <th>2015</th>\n",
       "      <td>1166</td>\n",
       "      <td>70</td>\n",
       "      <td>6.003431</td>\n",
       "    </tr>\n",
       "    <tr>\n",
       "      <th>2016</th>\n",
       "      <td>2745</td>\n",
       "      <td>67</td>\n",
       "      <td>2.440801</td>\n",
       "    </tr>\n",
       "    <tr>\n",
       "      <th>2017</th>\n",
       "      <td>8161</td>\n",
       "      <td>271</td>\n",
       "      <td>3.320671</td>\n",
       "    </tr>\n",
       "    <tr>\n",
       "      <th>2018</th>\n",
       "      <td>8486</td>\n",
       "      <td>957</td>\n",
       "      <td>11.277398</td>\n",
       "    </tr>\n",
       "    <tr>\n",
       "      <th>2019</th>\n",
       "      <td>2871</td>\n",
       "      <td>1788</td>\n",
       "      <td>62.277952</td>\n",
       "    </tr>\n",
       "  </tbody>\n",
       "</table>\n",
       "</div>"
      ],
      "text/plain": [
       "      количество значений  количество пропусков  процент пропусков\n",
       "year                                                              \n",
       "2014                  136                    18          13.235294\n",
       "2015                 1166                    70           6.003431\n",
       "2016                 2745                    67           2.440801\n",
       "2017                 8161                   271           3.320671\n",
       "2018                 8486                   957          11.277398\n",
       "2019                 2871                  1788          62.277952"
      ]
     },
     "execution_count": 12,
     "metadata": {},
     "output_type": "execute_result"
    }
   ],
   "source": [
    "# заранее создадим столбец с годами\n",
    "data['year'] = data['first_day_exposition'].dt.year\n",
    "\n",
    "# создадим список с количеством пропусков по годам\n",
    "nan_year = []\n",
    "for year in sorted(data['year'].unique()):\n",
    "    nan_year.append(data[data['year'] == year]['days_exposition'].isna().sum())\n",
    "    \n",
    "# создадим таблицу по годам с пропусками\n",
    "data_year = data.pivot_table(index='year', values = 'first_day_exposition', aggfunc='count')\n",
    "data_year['is_na'] = nan_year\n",
    "data_year['per'] = data_year['is_na'] / data_year['first_day_exposition'] * 100\n",
    "data_year.columns = ['количество значений', 'количество пропусков', 'процент пропусков']\n",
    "data_year"
   ]
  },
  {
   "cell_type": "markdown",
   "metadata": {},
   "source": [
    "Как и предполагалось, в 2018 и 2019 процент пропусков выше, чем годами ранее. Значит, недвижимость в эти года ещё не куплена. Пропуски в 2014 году могли появиться из-за несовершенства сервиса или из-за того, что в те годы продажа онлайн только начинала проявляться. (Эти преположения могут быть подкреплены маленьким количеством размещений объявлений)."
   ]
  },
  {
   "cell_type": "markdown",
   "metadata": {},
   "source": [
    "#### Обработка дубликатов"
   ]
  },
  {
   "cell_type": "markdown",
   "metadata": {},
   "source": [
    "Дубликаты могут усложить работу или даже исказить данные, поэтому от них стоит избавиться."
   ]
  },
  {
   "cell_type": "code",
   "execution_count": 13,
   "metadata": {},
   "outputs": [
    {
     "data": {
      "text/plain": [
       "0"
      ]
     },
     "execution_count": 13,
     "metadata": {},
     "output_type": "execute_result"
    }
   ],
   "source": [
    "# посмотрим есть ли явные дубликаты в данных\n",
    "data.duplicated().sum()"
   ]
  },
  {
   "cell_type": "markdown",
   "metadata": {},
   "source": [
    "Явных дубликатов не обнаружено, однако надо проверить наличие неявных."
   ]
  },
  {
   "cell_type": "code",
   "execution_count": 14,
   "metadata": {},
   "outputs": [
    {
     "data": {
      "text/plain": [
       "array(['Санкт-Петербург', 'посёлок Шушары', 'городской посёлок Янино-1',\n",
       "       'посёлок Парголово', 'посёлок Мурино', 'Ломоносов', 'Сертолово',\n",
       "       'Петергоф', 'Пушкин', 'деревня Кудрово', 'Коммунар', 'Колпино',\n",
       "       'поселок городского типа Красный Бор', 'Гатчина', 'поселок Мурино',\n",
       "       'деревня Фёдоровское', 'Выборг', 'Кронштадт', 'Кировск',\n",
       "       'деревня Новое Девяткино', 'посёлок Металлострой',\n",
       "       'посёлок городского типа Лебяжье',\n",
       "       'посёлок городского типа Сиверский', 'поселок Молодцово',\n",
       "       'поселок городского типа Кузьмоловский',\n",
       "       'садовое товарищество Новая Ропша', 'Павловск',\n",
       "       'деревня Пикколово', 'Всеволожск', 'Волхов', 'Кингисепп',\n",
       "       'Приозерск', 'Сестрорецк', 'деревня Куттузи', 'посёлок Аннино',\n",
       "       'поселок городского типа Ефимовский', 'посёлок Плодовое',\n",
       "       'деревня Заклинье', 'поселок Торковичи', 'поселок Первомайское',\n",
       "       'Красное Село', 'посёлок Понтонный', 'Сясьстрой', 'деревня Старая',\n",
       "       'деревня Лесколово', 'посёлок Новый Свет', 'Сланцы',\n",
       "       'село Путилово', 'Ивангород', 'Мурино', 'Шлиссельбург',\n",
       "       'Никольское', 'Зеленогорск', 'Сосновый Бор', 'поселок Новый Свет',\n",
       "       'деревня Оржицы', 'деревня Кальтино', 'Кудрово',\n",
       "       'поселок Романовка', 'посёлок Бугры', 'поселок Бугры',\n",
       "       'поселок городского типа Рощино', 'Кириши', 'Луга', 'Волосово',\n",
       "       'Отрадное', 'село Павлово', 'поселок Оредеж', 'село Копорье',\n",
       "       'посёлок городского типа Красный Бор', 'посёлок Молодёжное',\n",
       "       'Тихвин', 'посёлок Победа', 'деревня Нурма',\n",
       "       'поселок городского типа Синявино', 'Тосно',\n",
       "       'посёлок городского типа Кузьмоловский', 'посёлок Стрельна',\n",
       "       'Бокситогорск', 'посёлок Александровская', 'деревня Лопухинка',\n",
       "       'Пикалёво', 'поселок Терволово',\n",
       "       'поселок городского типа Советский', 'Подпорожье',\n",
       "       'посёлок Петровское', 'посёлок городского типа Токсово',\n",
       "       'поселок Сельцо', 'посёлок городского типа Вырица',\n",
       "       'деревня Кипень', 'деревня Келози', 'деревня Вартемяги',\n",
       "       'посёлок Тельмана', 'поселок Севастьяново',\n",
       "       'городской поселок Большая Ижора', 'городской посёлок Павлово',\n",
       "       'деревня Агалатово', 'посёлок Новогорелово',\n",
       "       'городской посёлок Лесогорский', 'деревня Лаголово',\n",
       "       'поселок Цвелодубово', 'поселок городского типа Рахья',\n",
       "       'поселок городского типа Вырица', 'деревня Белогорка',\n",
       "       'поселок Заводской', 'городской посёлок Новоселье',\n",
       "       'деревня Большие Колпаны', 'деревня Горбунки', 'деревня Батово',\n",
       "       'деревня Заневка', 'деревня Иссад', 'Приморск',\n",
       "       'городской посёлок Фёдоровское', 'деревня Мистолово',\n",
       "       'Новая Ладога', 'поселок Зимитицы', 'поселок Барышево',\n",
       "       'деревня Разметелево', 'поселок городского типа имени Свердлова',\n",
       "       'деревня Пеники', 'поселок Рябово', 'деревня Пудомяги',\n",
       "       'поселок станции Корнево', 'деревня Низино', 'деревня Бегуницы',\n",
       "       'посёлок Поляны', 'городской посёлок Мга', 'поселок Елизаветино',\n",
       "       'посёлок городского типа Кузнечное', 'деревня Колтуши',\n",
       "       'поселок Запорожское', 'посёлок городского типа Рощино',\n",
       "       'деревня Гостилицы', 'деревня Малое Карлино',\n",
       "       'посёлок Мичуринское', 'посёлок городского типа имени Морозова',\n",
       "       'посёлок Песочный', 'посёлок Сосново', 'деревня Аро',\n",
       "       'поселок Ильичёво', 'посёлок городского типа Тайцы',\n",
       "       'деревня Малое Верево', 'деревня Извара', 'поселок станции Вещево',\n",
       "       'село Паша', 'деревня Калитино',\n",
       "       'посёлок городского типа Ульяновка', 'деревня Чудской Бор',\n",
       "       'поселок городского типа Дубровка', 'деревня Мины',\n",
       "       'поселок Войсковицы', 'посёлок городского типа имени Свердлова',\n",
       "       'деревня Коркино', 'посёлок Ропша',\n",
       "       'поселок городского типа Приладожский', 'посёлок Щеглово',\n",
       "       'посёлок Гаврилово', 'Лодейное Поле', 'деревня Рабитицы',\n",
       "       'поселок городского типа Никольский', 'деревня Кузьмолово',\n",
       "       'деревня Малые Колпаны', 'поселок Тельмана',\n",
       "       'посёлок Петро-Славянка', 'городской посёлок Назия',\n",
       "       'посёлок Репино', 'посёлок Ильичёво', 'поселок Углово',\n",
       "       'поселок Старая Малукса', 'садовое товарищество Рахья',\n",
       "       'поселок Аннино', 'поселок Победа', 'деревня Меньково',\n",
       "       'деревня Старые Бегуницы', 'посёлок Сапёрный', 'поселок Семрино',\n",
       "       'поселок Гаврилово', 'поселок Глажево', 'поселок Кобринское',\n",
       "       'деревня Гарболово', 'деревня Юкки',\n",
       "       'поселок станции Приветнинское', 'деревня Мануйлово',\n",
       "       'деревня Пчева', 'поселок Поляны', 'поселок Цвылёво',\n",
       "       'поселок Мельниково', 'посёлок Пудость', 'посёлок Усть-Луга',\n",
       "       'Светогорск', 'Любань', 'поселок Селезнёво',\n",
       "       'поселок городского типа Рябово', 'Каменногорск', 'деревня Кривко',\n",
       "       'поселок Глебычево', 'деревня Парицы', 'поселок Жилпосёлок',\n",
       "       'посёлок городского типа Мга', 'городской поселок Янино-1',\n",
       "       'посёлок Войскорово', 'село Никольское', 'посёлок Терволово',\n",
       "       'поселок Стеклянный', 'посёлок городского типа Важины',\n",
       "       'посёлок Мыза-Ивановка', 'село Русско-Высоцкое',\n",
       "       'поселок городского типа Лебяжье',\n",
       "       'поселок городского типа Форносово', 'село Старая Ладога',\n",
       "       'поселок Житково', 'городской посёлок Виллози', 'деревня Лампово',\n",
       "       'деревня Шпаньково', 'деревня Лаврики', 'посёлок Сумино',\n",
       "       'посёлок Возрождение', 'деревня Старосиверская',\n",
       "       'посёлок Кикерино', 'поселок Возрождение',\n",
       "       'деревня Старое Хинколово', 'посёлок Пригородный',\n",
       "       'посёлок Торфяное', 'городской посёлок Будогощь',\n",
       "       'поселок Суходолье', 'поселок Красная Долина', 'деревня Хапо-Ое',\n",
       "       'поселок городского типа Дружная Горка', 'поселок Лисий Нос',\n",
       "       'деревня Яльгелево', 'посёлок Стеклянный', 'село Рождествено',\n",
       "       'деревня Старополье', 'посёлок Левашово', 'деревня Сяськелево',\n",
       "       'деревня Камышовка',\n",
       "       'садоводческое некоммерческое товарищество Лесная Поляна',\n",
       "       'деревня Хязельки', 'поселок Жилгородок',\n",
       "       'посёлок городского типа Павлово', 'деревня Ялгино',\n",
       "       'поселок Новый Учхоз', 'городской посёлок Рощино',\n",
       "       'поселок Гончарово', 'поселок Почап', 'посёлок Сапёрное',\n",
       "       'посёлок Платформа 69-й километр', 'поселок Каложицы',\n",
       "       'деревня Фалилеево', 'деревня Пельгора',\n",
       "       'поселок городского типа Лесогорский', 'деревня Торошковичи',\n",
       "       'посёлок Белоостров', 'посёлок Алексеевка', 'поселок Серебрянский',\n",
       "       'поселок Лукаши', 'поселок Петровское', 'деревня Щеглово',\n",
       "       'поселок Мичуринское', 'деревня Тарасово', 'поселок Кингисеппский',\n",
       "       'посёлок при железнодорожной станции Вещево', 'поселок Ушаки',\n",
       "       'деревня Котлы', 'деревня Сижно', 'деревня Торосово',\n",
       "       'посёлок Форт Красная Горка', 'деревня Новолисино',\n",
       "       'посёлок станции Громово', 'деревня Глинка', 'посёлок Мельниково',\n",
       "       'поселок городского типа Назия', 'деревня Старая Пустошь',\n",
       "       'поселок Коммунары', 'поселок Починок',\n",
       "       'посёлок городского типа Вознесенье', 'деревня Разбегаево',\n",
       "       'посёлок городского типа Рябово', 'поселок Гладкое',\n",
       "       'посёлок при железнодорожной станции Приветнинское',\n",
       "       'поселок Тёсово-4', 'посёлок Жилгородок', 'деревня Бор',\n",
       "       'посёлок Коробицыно', 'деревня Большая Вруда', 'деревня Курковицы',\n",
       "       'посёлок Лисий Нос', 'городской посёлок Советский',\n",
       "       'посёлок Кобралово', 'деревня Суоранда', 'поселок Кобралово',\n",
       "       'поселок городского типа Кондратьево',\n",
       "       'коттеджный поселок Счастье', 'поселок Любань', 'деревня Реброво',\n",
       "       'деревня Зимитицы', 'деревня Тойворово', 'поселок Семиозерье',\n",
       "       'поселок Лесное', 'поселок Совхозный', 'поселок Усть-Луга',\n",
       "       'посёлок Ленинское', 'посёлок Суйда',\n",
       "       'посёлок городского типа Форносово', 'деревня Нижние Осельки',\n",
       "       'посёлок станции Свирь', 'поселок Перово', 'Высоцк',\n",
       "       'поселок Гарболово', 'село Шум', 'поселок Котельский',\n",
       "       'поселок станции Лужайка', 'деревня Большая Пустомержа',\n",
       "       'поселок Красносельское', 'деревня Вахнова Кара', 'деревня Пижма',\n",
       "       'коттеджный поселок Кивеннапа Север', 'поселок Коробицыно',\n",
       "       'поселок Ромашки', 'посёлок Перово', 'деревня Каськово',\n",
       "       'деревня Куровицы', 'посёлок Плоское', 'поселок Сумино',\n",
       "       'поселок городского типа Большая Ижора', 'поселок Кирпичное',\n",
       "       'деревня Ям-Тесово', 'деревня Раздолье', 'деревня Терпилицы',\n",
       "       'поселок городского типа Токсово', 'посёлок Шугозеро',\n",
       "       'деревня Ваганово', 'поселок Пушное', 'садовое товарищество Садко',\n",
       "       'посёлок Усть-Ижора', 'деревня Выскатка',\n",
       "       'городской посёлок Свирьстрой', 'поселок Громово',\n",
       "       'деревня Кисельня', 'посёлок Старая Малукса',\n",
       "       'деревня Трубников Бор', 'поселок Калитино',\n",
       "       'посёлок Высокоключевой', 'садовое товарищество Приладожский',\n",
       "       'посёлок Пансионат Зелёный Бор', 'деревня Ненимяки',\n",
       "       'поселок Пансионат Зелёный Бор', 'деревня Снегирёвка',\n",
       "       'деревня Рапполово', 'деревня Пустынка', 'поселок Рабитицы',\n",
       "       'деревня Большой Сабск', 'деревня Русско', 'деревня Лупполово',\n",
       "       'деревня Большое Рейзино', 'деревня Малая Романовка',\n",
       "       'поселок Дружноселье', 'поселок Пчевжа', 'поселок Володарское',\n",
       "       'деревня Нижняя', 'коттеджный посёлок Лесное', 'деревня Тихковицы',\n",
       "       'деревня Борисова Грива', 'посёлок Дзержинского'], dtype=object)"
      ]
     },
     "execution_count": 14,
     "metadata": {},
     "output_type": "execute_result"
    }
   ],
   "source": [
    "# выведем на экран уникальные значения столбца, чтобы выявить дубликаты:\n",
    "data['locality_name'].unique()"
   ]
  },
  {
   "cell_type": "markdown",
   "metadata": {},
   "source": [
    "На первый взгляд, в данных часто встречаются чередования `\"посёлок\" - \"поселок\"`. Стоит от них избавиться. Однако, это не всё: также присутствуют дубликаты `\"городской поселок\" - \"поселок городского типа\"` и `\"поселок при железнодорожной станции\" - \"поселок станции\"`. От них также необходимо избавиться"
   ]
  },
  {
   "cell_type": "code",
   "execution_count": 15,
   "metadata": {},
   "outputs": [],
   "source": [
    "# избавимся от неявных дубликатов методом replase()\n",
    "data['locality_name'] = data['locality_name'].str.replace(\"посёлок\", \"поселок\") \n",
    "data['locality_name'] = data['locality_name'].str.replace(\"городской поселок\", \"поселок городского типа\")\n",
    "data['locality_name'] = data['locality_name'].str.replace(\"поселок при железнодорожной станции\", \"поселок станции\") "
   ]
  },
  {
   "cell_type": "markdown",
   "metadata": {},
   "source": [
    "#### Проверка расстояния до центра"
   ]
  },
  {
   "cell_type": "markdown",
   "metadata": {},
   "source": [
    "Отдельно теперь проверим, можно ли заполнить расстояние до центра медианами в зависимости от уникальных населённых пунктов:"
   ]
  },
  {
   "cell_type": "code",
   "execution_count": 16,
   "metadata": {
    "scrolled": true
   },
   "outputs": [
    {
     "data": {
      "text/html": [
       "<div>\n",
       "<style scoped>\n",
       "    .dataframe tbody tr th:only-of-type {\n",
       "        vertical-align: middle;\n",
       "    }\n",
       "\n",
       "    .dataframe tbody tr th {\n",
       "        vertical-align: top;\n",
       "    }\n",
       "\n",
       "    .dataframe thead th {\n",
       "        text-align: right;\n",
       "    }\n",
       "</style>\n",
       "<table border=\"1\" class=\"dataframe\">\n",
       "  <thead>\n",
       "    <tr style=\"text-align: right;\">\n",
       "      <th></th>\n",
       "      <th>city_сenters_nearest</th>\n",
       "    </tr>\n",
       "    <tr>\n",
       "      <th>locality_name</th>\n",
       "      <th></th>\n",
       "    </tr>\n",
       "  </thead>\n",
       "  <tbody>\n",
       "    <tr>\n",
       "      <th>Зеленогорск</th>\n",
       "      <td>53381.0</td>\n",
       "    </tr>\n",
       "    <tr>\n",
       "      <th>Колпино</th>\n",
       "      <td>32018.0</td>\n",
       "    </tr>\n",
       "    <tr>\n",
       "      <th>Красное Село</th>\n",
       "      <td>29148.5</td>\n",
       "    </tr>\n",
       "    <tr>\n",
       "      <th>Кронштадт</th>\n",
       "      <td>49575.0</td>\n",
       "    </tr>\n",
       "    <tr>\n",
       "      <th>Ломоносов</th>\n",
       "      <td>51677.0</td>\n",
       "    </tr>\n",
       "    <tr>\n",
       "      <th>Павловск</th>\n",
       "      <td>32683.0</td>\n",
       "    </tr>\n",
       "    <tr>\n",
       "      <th>Петергоф</th>\n",
       "      <td>33771.0</td>\n",
       "    </tr>\n",
       "    <tr>\n",
       "      <th>Пушкин</th>\n",
       "      <td>27930.5</td>\n",
       "    </tr>\n",
       "    <tr>\n",
       "      <th>Санкт-Петербург</th>\n",
       "      <td>12242.0</td>\n",
       "    </tr>\n",
       "    <tr>\n",
       "      <th>Сестрорецк</th>\n",
       "      <td>34821.0</td>\n",
       "    </tr>\n",
       "    <tr>\n",
       "      <th>поселок Александровская</th>\n",
       "      <td>27468.0</td>\n",
       "    </tr>\n",
       "    <tr>\n",
       "      <th>поселок Белоостров</th>\n",
       "      <td>38868.0</td>\n",
       "    </tr>\n",
       "    <tr>\n",
       "      <th>поселок Левашово</th>\n",
       "      <td>25727.0</td>\n",
       "    </tr>\n",
       "    <tr>\n",
       "      <th>поселок Лисий Нос</th>\n",
       "      <td>28226.0</td>\n",
       "    </tr>\n",
       "    <tr>\n",
       "      <th>поселок Металлострой</th>\n",
       "      <td>27602.0</td>\n",
       "    </tr>\n",
       "    <tr>\n",
       "      <th>поселок Молодёжное</th>\n",
       "      <td>65764.0</td>\n",
       "    </tr>\n",
       "    <tr>\n",
       "      <th>поселок Парголово</th>\n",
       "      <td>19311.0</td>\n",
       "    </tr>\n",
       "    <tr>\n",
       "      <th>поселок Песочный</th>\n",
       "      <td>26099.5</td>\n",
       "    </tr>\n",
       "    <tr>\n",
       "      <th>поселок Петро-Славянка</th>\n",
       "      <td>27165.0</td>\n",
       "    </tr>\n",
       "    <tr>\n",
       "      <th>поселок Понтонный</th>\n",
       "      <td>32354.0</td>\n",
       "    </tr>\n",
       "    <tr>\n",
       "      <th>поселок Репино</th>\n",
       "      <td>42896.5</td>\n",
       "    </tr>\n",
       "    <tr>\n",
       "      <th>поселок Сапёрный</th>\n",
       "      <td>35859.5</td>\n",
       "    </tr>\n",
       "    <tr>\n",
       "      <th>поселок Стрельна</th>\n",
       "      <td>23506.0</td>\n",
       "    </tr>\n",
       "    <tr>\n",
       "      <th>поселок Усть-Ижора</th>\n",
       "      <td>28222.5</td>\n",
       "    </tr>\n",
       "    <tr>\n",
       "      <th>поселок Шушары</th>\n",
       "      <td>24212.0</td>\n",
       "    </tr>\n",
       "  </tbody>\n",
       "</table>\n",
       "</div>"
      ],
      "text/plain": [
       "                         city_сenters_nearest\n",
       "locality_name                                \n",
       "Зеленогорск                           53381.0\n",
       "Колпино                               32018.0\n",
       "Красное Село                          29148.5\n",
       "Кронштадт                             49575.0\n",
       "Ломоносов                             51677.0\n",
       "Павловск                              32683.0\n",
       "Петергоф                              33771.0\n",
       "Пушкин                                27930.5\n",
       "Санкт-Петербург                       12242.0\n",
       "Сестрорецк                            34821.0\n",
       "поселок Александровская               27468.0\n",
       "поселок Белоостров                    38868.0\n",
       "поселок Левашово                      25727.0\n",
       "поселок Лисий Нос                     28226.0\n",
       "поселок Металлострой                  27602.0\n",
       "поселок Молодёжное                    65764.0\n",
       "поселок Парголово                     19311.0\n",
       "поселок Песочный                      26099.5\n",
       "поселок Петро-Славянка                27165.0\n",
       "поселок Понтонный                     32354.0\n",
       "поселок Репино                        42896.5\n",
       "поселок Сапёрный                      35859.5\n",
       "поселок Стрельна                      23506.0\n",
       "поселок Усть-Ижора                    28222.5\n",
       "поселок Шушары                        24212.0"
      ]
     },
     "execution_count": 16,
     "metadata": {},
     "output_type": "execute_result"
    }
   ],
   "source": [
    "# построим таблицу с населёнными пунктами, где указано хотя бы 1 расстояние.\n",
    "pivot_median_center = data.pivot_table(index='locality_name', values='city_сenters_nearest', aggfunc='median')\n",
    "pivot_median_center"
   ]
  },
  {
   "cell_type": "markdown",
   "metadata": {},
   "source": [
    "В таблице не так уж и много столбцов. Стоит посмотреть сколько населённых пунктов с указанными и пропущенными значениями:"
   ]
  },
  {
   "cell_type": "code",
   "execution_count": 17,
   "metadata": {
    "scrolled": false
   },
   "outputs": [
    {
     "name": "stdout",
     "output_type": "stream",
     "text": [
      "Количество населённых пунктов без указания расстояния до центра города: 296\n",
      "Количество населённых пунктов, где указано расстояние до центра города: 25\n"
     ]
    }
   ],
   "source": [
    "print('Количество населённых пунктов без указания расстояния до центра города:', len(data['locality_name'].unique()) - pivot_median_center.shape[0])\n",
    "print('Количество населённых пунктов, где указано расстояние до центра города:', pivot_median_center.shape[0])"
   ]
  },
  {
   "cell_type": "markdown",
   "metadata": {},
   "source": [
    "Населённых пунктов без указания хотя бы одного расстояния до центра очень много, поэтому в дальнейшем я буду использовать маркер.\n",
    "\n",
    "*(Я понимаю, что такие значения можно исключить вообще: 18К уже являются статистикой. Однако 5-6К значений составляют приблизительно 25% от выборки, поэтому это может повлять на исследование и выводы.)*"
   ]
  },
  {
   "cell_type": "markdown",
   "metadata": {},
   "source": [
    "#### Устранение аномалий"
   ]
  },
  {
   "cell_type": "markdown",
   "metadata": {},
   "source": [
    "Остались только аномальные значения. \n",
    "\n",
    "По первым гистограмам и методу describe было видно, что в некоторых столбцах есть аномальные значения. Они могли появиться из-за невнимательности продавца, неправильный выгрузки данных, сбоев в сайте и так далее. Эти значения могут исказить данные, поэтому стоит их обработать.\n",
    "\n",
    "Рассмотрим столбцы:\n",
    "+ rooms;\n",
    "+ ceiling_height;\n",
    "+ last_price и last_price_million;\n",
    "+ living_area."
   ]
  },
  {
   "cell_type": "markdown",
   "metadata": {},
   "source": [
    "---"
   ]
  },
  {
   "cell_type": "markdown",
   "metadata": {},
   "source": [
    "Начнём с количества комнат. Для обработки этого столца нужно рассмотреть два пункта:\n",
    "1. Почему появились квартиры с 0 комнатами? Нужно проверить студии ли это.\n",
    "2. Какое большое количество комнат можно не учитывать, так как оно не повлияет на статистику, а наоборот может испортить анализ в дальнейшем."
   ]
  },
  {
   "cell_type": "code",
   "execution_count": 18,
   "metadata": {
    "scrolled": true
   },
   "outputs": [
    {
     "data": {
      "text/plain": [
       "rooms\n",
       "0      194\n",
       "1     8004\n",
       "2     7897\n",
       "3     5779\n",
       "4     1172\n",
       "5      325\n",
       "6      104\n",
       "7       59\n",
       "8       12\n",
       "9        8\n",
       "10       3\n",
       "11       2\n",
       "12       1\n",
       "14       2\n",
       "15       1\n",
       "16       1\n",
       "19       1\n",
       "Name: rooms, dtype: int64"
      ]
     },
     "execution_count": 18,
     "metadata": {},
     "output_type": "execute_result"
    }
   ],
   "source": [
    "# сгруппируем данные по комнатам и выведем их количество\n",
    "data.groupby('rooms')['rooms'].count()"
   ]
  },
  {
   "cell_type": "markdown",
   "metadata": {},
   "source": [
    "Количество квартир комнат от 11 до 19 незначительное, поэтому такие значения лучше исключить."
   ]
  },
  {
   "cell_type": "code",
   "execution_count": 19,
   "metadata": {},
   "outputs": [],
   "source": [
    "data = data.loc[data['rooms'] < 11]"
   ]
  },
  {
   "cell_type": "code",
   "execution_count": 20,
   "metadata": {
    "scrolled": true
   },
   "outputs": [
    {
     "data": {
      "text/plain": [
       "135"
      ]
     },
     "execution_count": 20,
     "metadata": {},
     "output_type": "execute_result"
    }
   ],
   "source": [
    "# посмотрим почему появились такие значения. Возможно, так обозначаются студии.\n",
    "data[(data['studio'] == True) & (data['rooms'] == 0)]['rooms'].count()"
   ]
  },
  {
   "cell_type": "markdown",
   "metadata": {},
   "source": [
    "Количества разнятся, однако не значительно.\n",
    "\n",
    "Человеческий фактор играет важную роль при заполнении данных. Человек мог либо забыть написать количество комнат, либо не написать, что это студия. Расчитать, что именно сделал человек неправильно сложно, однако аномалии оставлять нежелательно. \n",
    "\n",
    "Изменим значения в столбце studio на True, если количество комнат равно 0."
   ]
  },
  {
   "cell_type": "code",
   "execution_count": 21,
   "metadata": {},
   "outputs": [],
   "source": [
    "data.loc[(data['rooms'] == 0) & (data['studio']==False), 'studio'] = True"
   ]
  },
  {
   "cell_type": "markdown",
   "metadata": {},
   "source": [
    "---"
   ]
  },
  {
   "cell_type": "markdown",
   "metadata": {},
   "source": [
    "Теперь рассмотрим высоту потолков. \n",
    "\n",
    "В данных есть потолки выше 20 метров. Возможно, это двухэтажные квартиры (однако в Спб таких наверняка мало). Для исследования и проверки значений стоит выполнить следующие шаги:\n",
    "\n",
    "+ рассмотрим какие есть аномальные значения (ниже 2 и выше 4 метров), найдём их количество и проверим взаимосвязь между высотой потолков, площадью квартиры и ценой на неё;\n",
    "+ проверим эти значения на наличие опечаток и если они есть, то исправим;\n",
    "+ рассмотрим оставшиеся аномальные данные с точки зрения показательности (если их много, то стоит рассмотреть их адекватность, если их немного, тогда можно их исключить)."
   ]
  },
  {
   "cell_type": "code",
   "execution_count": 22,
   "metadata": {},
   "outputs": [
    {
     "data": {
      "text/plain": [
       "78"
      ]
     },
     "execution_count": 22,
     "metadata": {},
     "output_type": "execute_result"
    }
   ],
   "source": [
    "# До начала посчитаем сколько всего аномалий\n",
    "data[(data['ceiling_height'] > 4) | (data['ceiling_height'] < 2)]['ceiling_height'].count()\n"
   ]
  },
  {
   "cell_type": "code",
   "execution_count": 23,
   "metadata": {
    "scrolled": true
   },
   "outputs": [
    {
     "data": {
      "text/html": [
       "<div>\n",
       "<style scoped>\n",
       "    .dataframe tbody tr th:only-of-type {\n",
       "        vertical-align: middle;\n",
       "    }\n",
       "\n",
       "    .dataframe tbody tr th {\n",
       "        vertical-align: top;\n",
       "    }\n",
       "\n",
       "    .dataframe thead th {\n",
       "        text-align: right;\n",
       "    }\n",
       "</style>\n",
       "<table border=\"1\" class=\"dataframe\">\n",
       "  <thead>\n",
       "    <tr style=\"text-align: right;\">\n",
       "      <th></th>\n",
       "      <th>цена, млн</th>\n",
       "      <th>площадь квартиры, м^2</th>\n",
       "      <th>количество</th>\n",
       "    </tr>\n",
       "    <tr>\n",
       "      <th>ceiling_height</th>\n",
       "      <th></th>\n",
       "      <th></th>\n",
       "      <th></th>\n",
       "    </tr>\n",
       "  </thead>\n",
       "  <tbody>\n",
       "    <tr>\n",
       "      <th>1.00</th>\n",
       "      <td>6.0000</td>\n",
       "      <td>55.00</td>\n",
       "      <td>1</td>\n",
       "    </tr>\n",
       "    <tr>\n",
       "      <th>1.20</th>\n",
       "      <td>1.5000</td>\n",
       "      <td>42.80</td>\n",
       "      <td>1</td>\n",
       "    </tr>\n",
       "    <tr>\n",
       "      <th>1.75</th>\n",
       "      <td>4.1000</td>\n",
       "      <td>40.00</td>\n",
       "      <td>1</td>\n",
       "    </tr>\n",
       "    <tr>\n",
       "      <th>4.06</th>\n",
       "      <td>6.6950</td>\n",
       "      <td>36.90</td>\n",
       "      <td>1</td>\n",
       "    </tr>\n",
       "    <tr>\n",
       "      <th>4.10</th>\n",
       "      <td>9.9980</td>\n",
       "      <td>65.60</td>\n",
       "      <td>3</td>\n",
       "    </tr>\n",
       "    <tr>\n",
       "      <th>4.14</th>\n",
       "      <td>15.0000</td>\n",
       "      <td>117.30</td>\n",
       "      <td>1</td>\n",
       "    </tr>\n",
       "    <tr>\n",
       "      <th>4.15</th>\n",
       "      <td>8.2000</td>\n",
       "      <td>80.00</td>\n",
       "      <td>1</td>\n",
       "    </tr>\n",
       "    <tr>\n",
       "      <th>4.19</th>\n",
       "      <td>4.6500</td>\n",
       "      <td>47.85</td>\n",
       "      <td>2</td>\n",
       "    </tr>\n",
       "    <tr>\n",
       "      <th>4.20</th>\n",
       "      <td>13.7450</td>\n",
       "      <td>105.50</td>\n",
       "      <td>10</td>\n",
       "    </tr>\n",
       "    <tr>\n",
       "      <th>4.25</th>\n",
       "      <td>11.5000</td>\n",
       "      <td>57.40</td>\n",
       "      <td>1</td>\n",
       "    </tr>\n",
       "    <tr>\n",
       "      <th>4.30</th>\n",
       "      <td>9.3500</td>\n",
       "      <td>74.00</td>\n",
       "      <td>1</td>\n",
       "    </tr>\n",
       "    <tr>\n",
       "      <th>4.37</th>\n",
       "      <td>8.2500</td>\n",
       "      <td>84.20</td>\n",
       "      <td>1</td>\n",
       "    </tr>\n",
       "    <tr>\n",
       "      <th>4.40</th>\n",
       "      <td>43.0000</td>\n",
       "      <td>280.00</td>\n",
       "      <td>3</td>\n",
       "    </tr>\n",
       "    <tr>\n",
       "      <th>4.45</th>\n",
       "      <td>63.7500</td>\n",
       "      <td>376.40</td>\n",
       "      <td>2</td>\n",
       "    </tr>\n",
       "    <tr>\n",
       "      <th>4.50</th>\n",
       "      <td>11.5000</td>\n",
       "      <td>95.00</td>\n",
       "      <td>7</td>\n",
       "    </tr>\n",
       "    <tr>\n",
       "      <th>4.65</th>\n",
       "      <td>91.5000</td>\n",
       "      <td>495.00</td>\n",
       "      <td>1</td>\n",
       "    </tr>\n",
       "    <tr>\n",
       "      <th>4.70</th>\n",
       "      <td>64.3250</td>\n",
       "      <td>183.85</td>\n",
       "      <td>2</td>\n",
       "    </tr>\n",
       "    <tr>\n",
       "      <th>4.80</th>\n",
       "      <td>14.9500</td>\n",
       "      <td>50.00</td>\n",
       "      <td>1</td>\n",
       "    </tr>\n",
       "    <tr>\n",
       "      <th>4.90</th>\n",
       "      <td>115.4900</td>\n",
       "      <td>235.00</td>\n",
       "      <td>1</td>\n",
       "    </tr>\n",
       "    <tr>\n",
       "      <th>5.00</th>\n",
       "      <td>0.5500</td>\n",
       "      <td>29.00</td>\n",
       "      <td>1</td>\n",
       "    </tr>\n",
       "    <tr>\n",
       "      <th>5.20</th>\n",
       "      <td>66.5710</td>\n",
       "      <td>280.30</td>\n",
       "      <td>1</td>\n",
       "    </tr>\n",
       "    <tr>\n",
       "      <th>5.30</th>\n",
       "      <td>79.4500</td>\n",
       "      <td>180.00</td>\n",
       "      <td>2</td>\n",
       "    </tr>\n",
       "    <tr>\n",
       "      <th>5.50</th>\n",
       "      <td>38.0000</td>\n",
       "      <td>143.00</td>\n",
       "      <td>1</td>\n",
       "    </tr>\n",
       "    <tr>\n",
       "      <th>5.60</th>\n",
       "      <td>59.8000</td>\n",
       "      <td>399.00</td>\n",
       "      <td>1</td>\n",
       "    </tr>\n",
       "    <tr>\n",
       "      <th>5.80</th>\n",
       "      <td>8.2000</td>\n",
       "      <td>71.00</td>\n",
       "      <td>1</td>\n",
       "    </tr>\n",
       "    <tr>\n",
       "      <th>6.00</th>\n",
       "      <td>119.0000</td>\n",
       "      <td>187.60</td>\n",
       "      <td>1</td>\n",
       "    </tr>\n",
       "    <tr>\n",
       "      <th>8.00</th>\n",
       "      <td>5.3500</td>\n",
       "      <td>54.00</td>\n",
       "      <td>3</td>\n",
       "    </tr>\n",
       "    <tr>\n",
       "      <th>8.30</th>\n",
       "      <td>5.6500</td>\n",
       "      <td>45.00</td>\n",
       "      <td>1</td>\n",
       "    </tr>\n",
       "    <tr>\n",
       "      <th>10.30</th>\n",
       "      <td>5.3000</td>\n",
       "      <td>45.00</td>\n",
       "      <td>1</td>\n",
       "    </tr>\n",
       "    <tr>\n",
       "      <th>14.00</th>\n",
       "      <td>5.6000</td>\n",
       "      <td>56.40</td>\n",
       "      <td>1</td>\n",
       "    </tr>\n",
       "    <tr>\n",
       "      <th>20.00</th>\n",
       "      <td>6.7000</td>\n",
       "      <td>92.90</td>\n",
       "      <td>1</td>\n",
       "    </tr>\n",
       "    <tr>\n",
       "      <th>22.60</th>\n",
       "      <td>5.9500</td>\n",
       "      <td>60.00</td>\n",
       "      <td>1</td>\n",
       "    </tr>\n",
       "    <tr>\n",
       "      <th>24.00</th>\n",
       "      <td>3.8500</td>\n",
       "      <td>30.50</td>\n",
       "      <td>1</td>\n",
       "    </tr>\n",
       "    <tr>\n",
       "      <th>25.00</th>\n",
       "      <td>3.6000</td>\n",
       "      <td>43.00</td>\n",
       "      <td>7</td>\n",
       "    </tr>\n",
       "    <tr>\n",
       "      <th>26.00</th>\n",
       "      <td>4.4000</td>\n",
       "      <td>50.00</td>\n",
       "      <td>1</td>\n",
       "    </tr>\n",
       "    <tr>\n",
       "      <th>27.00</th>\n",
       "      <td>3.8500</td>\n",
       "      <td>55.00</td>\n",
       "      <td>8</td>\n",
       "    </tr>\n",
       "    <tr>\n",
       "      <th>27.50</th>\n",
       "      <td>4.9000</td>\n",
       "      <td>42.00</td>\n",
       "      <td>1</td>\n",
       "    </tr>\n",
       "    <tr>\n",
       "      <th>32.00</th>\n",
       "      <td>6.4495</td>\n",
       "      <td>83.70</td>\n",
       "      <td>2</td>\n",
       "    </tr>\n",
       "    <tr>\n",
       "      <th>100.00</th>\n",
       "      <td>15.0000</td>\n",
       "      <td>25.00</td>\n",
       "      <td>1</td>\n",
       "    </tr>\n",
       "  </tbody>\n",
       "</table>\n",
       "</div>"
      ],
      "text/plain": [
       "                цена, млн  площадь квартиры, м^2  количество\n",
       "ceiling_height                                              \n",
       "1.00               6.0000                  55.00           1\n",
       "1.20               1.5000                  42.80           1\n",
       "1.75               4.1000                  40.00           1\n",
       "4.06               6.6950                  36.90           1\n",
       "4.10               9.9980                  65.60           3\n",
       "4.14              15.0000                 117.30           1\n",
       "4.15               8.2000                  80.00           1\n",
       "4.19               4.6500                  47.85           2\n",
       "4.20              13.7450                 105.50          10\n",
       "4.25              11.5000                  57.40           1\n",
       "4.30               9.3500                  74.00           1\n",
       "4.37               8.2500                  84.20           1\n",
       "4.40              43.0000                 280.00           3\n",
       "4.45              63.7500                 376.40           2\n",
       "4.50              11.5000                  95.00           7\n",
       "4.65              91.5000                 495.00           1\n",
       "4.70              64.3250                 183.85           2\n",
       "4.80              14.9500                  50.00           1\n",
       "4.90             115.4900                 235.00           1\n",
       "5.00               0.5500                  29.00           1\n",
       "5.20              66.5710                 280.30           1\n",
       "5.30              79.4500                 180.00           2\n",
       "5.50              38.0000                 143.00           1\n",
       "5.60              59.8000                 399.00           1\n",
       "5.80               8.2000                  71.00           1\n",
       "6.00             119.0000                 187.60           1\n",
       "8.00               5.3500                  54.00           3\n",
       "8.30               5.6500                  45.00           1\n",
       "10.30              5.3000                  45.00           1\n",
       "14.00              5.6000                  56.40           1\n",
       "20.00              6.7000                  92.90           1\n",
       "22.60              5.9500                  60.00           1\n",
       "24.00              3.8500                  30.50           1\n",
       "25.00              3.6000                  43.00           7\n",
       "26.00              4.4000                  50.00           1\n",
       "27.00              3.8500                  55.00           8\n",
       "27.50              4.9000                  42.00           1\n",
       "32.00              6.4495                  83.70           2\n",
       "100.00            15.0000                  25.00           1"
      ]
     },
     "execution_count": 23,
     "metadata": {},
     "output_type": "execute_result"
    }
   ],
   "source": [
    "# построим таблицу, описанную ранее\n",
    "data_ceil_pivot = data[(data['ceiling_height'] > 4) | (data['ceiling_height'] < 2)].pivot_table(index='ceiling_height', values=['last_price_million', 'total_area'], aggfunc='median')\n",
    "data_ceil_pivot['count'] = data[(data['ceiling_height'] > 4) | (data['ceiling_height'] < 2)].groupby('ceiling_height')['ceiling_height'].count()\n",
    "data_ceil_pivot.columns = 'цена, млн', 'площадь квартиры, м^2', 'количество'\n",
    "data_ceil_pivot"
   ]
  },
  {
   "cell_type": "markdown",
   "metadata": {},
   "source": [
    "Цены у потолков в диапозоне от 20 до 40 м похожи на цены обычных квартир, вероятнее всего, это опечатка, которую нужно исправить. \n",
    "\n",
    "Цены на квартиры с высокими потолками не везде адекватные, да и площадь очень странно распределена. Стоит посмотреть их общее количество после исправления опечаток и исключить это не повляет на статистику."
   ]
  },
  {
   "cell_type": "code",
   "execution_count": 24,
   "metadata": {},
   "outputs": [
    {
     "name": "stdout",
     "output_type": "stream",
     "text": [
      "Количество аномалий: 56\n",
      "Количество адеватных значений: 23501\n"
     ]
    }
   ],
   "source": [
    "# перенесём запятую\n",
    "data['ceiling_height'] = data['ceiling_height'].apply(lambda x: x/10 if 20 <= x <= 40 else x)\n",
    "\n",
    "# посчитаем количество оставшихся аномалий и сравним количество с адеватными\n",
    "print('Количество аномалий:', data[(data['ceiling_height'] > 4) | (data['ceiling_height'] < 2)].shape[0])\n",
    "print('Количество адеватных значений:', data[(data['ceiling_height'] <= 4) & (data['ceiling_height'] >= 2)].shape[0])\n"
   ]
  },
  {
   "cell_type": "markdown",
   "metadata": {},
   "source": [
    "Аномалий незначительное количество относительно остального объёма данных, поэтому просто исключим эти значения из Датафрейма."
   ]
  },
  {
   "cell_type": "code",
   "execution_count": 25,
   "metadata": {},
   "outputs": [],
   "source": [
    "# теперь уберём все квартиры, где значение потолков меньше 2 или больше 4 метров\n",
    "data = data.loc[(data['ceiling_height'] <= 4) & (data['ceiling_height'] >= 2)]"
   ]
  },
  {
   "cell_type": "markdown",
   "metadata": {},
   "source": [
    "---"
   ]
  },
  {
   "cell_type": "markdown",
   "metadata": {},
   "source": [
    "Очень сложно жить в квартире с жилой площадью меньше 10 квадратных метров. Посмотрим, насколько такие значения могут повлиять на статистику."
   ]
  },
  {
   "cell_type": "code",
   "execution_count": 26,
   "metadata": {},
   "outputs": [
    {
     "data": {
      "text/plain": [
       "31"
      ]
     },
     "execution_count": 26,
     "metadata": {},
     "output_type": "execute_result"
    }
   ],
   "source": [
    "# посчитаем количество\n",
    "data[data['living_area'] < 10].shape[0]"
   ]
  },
  {
   "cell_type": "markdown",
   "metadata": {},
   "source": [
    "Их немного, поэтому их стоит исключить."
   ]
  },
  {
   "cell_type": "code",
   "execution_count": 27,
   "metadata": {},
   "outputs": [],
   "source": [
    "data = data.loc[data['living_area'] >= 10]"
   ]
  },
  {
   "cell_type": "markdown",
   "metadata": {},
   "source": [
    "---"
   ]
  },
  {
   "cell_type": "markdown",
   "metadata": {},
   "source": [
    "Теперь разберёмся с ценами. Нельзя исключать, что кто-то продавал квартиру за 800 млн, однако такие значения не являются статистикой, если их мало. Также по изначальному графику было видно, что больше 100 млн значений почти нет. Также странно, что есть скопление данных около нуля. Проверим это."
   ]
  },
  {
   "cell_type": "code",
   "execution_count": 28,
   "metadata": {},
   "outputs": [
    {
     "data": {
      "text/plain": [
       "32"
      ]
     },
     "execution_count": 28,
     "metadata": {},
     "output_type": "execute_result"
    }
   ],
   "source": [
    "# посчитаем количество\n",
    "data[data['last_price_million'] > 100].shape[0]"
   ]
  },
  {
   "cell_type": "markdown",
   "metadata": {},
   "source": [
    "Значений и правда мало, поэтому их лучше исключить"
   ]
  },
  {
   "cell_type": "code",
   "execution_count": 29,
   "metadata": {},
   "outputs": [],
   "source": [
    "data = data.loc[data['last_price_million'] <= 100]"
   ]
  },
  {
   "cell_type": "markdown",
   "metadata": {},
   "source": [
    "Теперь рассмотрим слишком маленькие цены. Для этого обратимся к изначальным ценам, а не к миллионам. До начала определим, в каком диапозоне лучше смотреть"
   ]
  },
  {
   "cell_type": "code",
   "execution_count": 30,
   "metadata": {
    "scrolled": false
   },
   "outputs": [
    {
     "data": {
      "image/png": "[encoded data removed]",
      "text/plain": [
       "<Figure size 576x288 with 1 Axes>"
      ]
     },
     "metadata": {
      "needs_background": "light"
     },
     "output_type": "display_data"
    }
   ],
   "source": [
    "data['last_price'].hist(range=(0,1000000), figsize=(8,4), bins=20)\n",
    "plt.title('Цены ниже миллиона')\n",
    "plt.xlabel('Миллион')\n",
    "plt.ylabel('Количество квартир')\n",
    "plt.show()"
   ]
  },
  {
   "cell_type": "markdown",
   "metadata": {},
   "source": [
    "Значений меньше 700К на первый взгляд немного. Проверим это."
   ]
  },
  {
   "cell_type": "code",
   "execution_count": 31,
   "metadata": {
    "scrolled": true
   },
   "outputs": [
    {
     "data": {
      "text/plain": [
       "68"
      ]
     },
     "execution_count": 31,
     "metadata": {},
     "output_type": "execute_result"
    }
   ],
   "source": [
    "data[data['last_price'] < 700000].shape[0]"
   ]
  },
  {
   "cell_type": "markdown",
   "metadata": {},
   "source": [
    "Их действительно немного, поэтому исключим их."
   ]
  },
  {
   "cell_type": "code",
   "execution_count": 32,
   "metadata": {},
   "outputs": [],
   "source": [
    "data = data.loc[data['last_price'] >= 700000]"
   ]
  },
  {
   "cell_type": "markdown",
   "metadata": {},
   "source": [
    "---\n",
    "\n",
    "Теперь посчитаем какой ущерб мы принесли данным."
   ]
  },
  {
   "cell_type": "code",
   "execution_count": 33,
   "metadata": {},
   "outputs": [
    {
     "name": "stdout",
     "output_type": "stream",
     "text": [
      "Всего удалено 329 значений.\n"
     ]
    }
   ],
   "source": [
    "print('Всего удалено', (23699 - data.shape[0]) , 'значений.')"
   ]
  },
  {
   "cell_type": "markdown",
   "metadata": {},
   "source": [
    "<div style=\"border:solid green 2px; padding: 20px\">\n",
    "    \n",
    "        В результате обработки данных было сделано следующее:\n",
    "    1. Обработаны пропуски.\n",
    "    2. Изменены типы данных в некоторых столбцах.\n",
    "    3. Удалены дубликаты.\n",
    "    4. Удалены аномальные изначения.\n",
    "    По итогу было удалено 329 значения.\n",
    "    Теперь можно изменять таблицу для дальнейшего анализа.\n",
    "    \n",
    "</div>"
   ]
  },
  {
   "cell_type": "markdown",
   "metadata": {},
   "source": [
    "### Посчитайте и добавьте в таблицу новые столбцы"
   ]
  },
  {
   "cell_type": "markdown",
   "metadata": {},
   "source": [
    "Для удобства анализа состадим нескольно ковых столбцов:"
   ]
  },
  {
   "cell_type": "code",
   "execution_count": 34,
   "metadata": {},
   "outputs": [],
   "source": [
    "# цена одного квадратного метра\n",
    "data['m_sq_price'] = data['last_price'] / data['total_area']\n",
    "\n",
    "# день недели публикации объявления (0 — понедельник, 1 — вторник и так далее);\n",
    "data['weekday'] = data['first_day_exposition'].dt.weekday\n",
    "\n",
    "# месяц публикации объявления;\n",
    "data['month'] = data['first_day_exposition'].dt.month\n",
    "\n",
    "# год публикации объявления был добавлен ранее\n",
    "\n",
    "# тип этажа квартиры (значения — «первый», «последний», «другой»);\n",
    "def floor_group(flat):\n",
    "    if flat['floor'] == 1:\n",
    "        return 'первый'\n",
    "    elif flat['floor'] == flat['floors_total']:\n",
    "        return 'последний'\n",
    "    return 'другой'\n",
    "\n",
    "data['floor_type'] = data.apply(floor_group, axis=1)\n",
    "\n",
    "#расстояние до центра города в километрах.\n",
    "data['city_сenters_nearest_km'] = data['city_сenters_nearest'] / 1000\n",
    "#в расстояниях присутствуют пропуски, здесь их можно заполнить особыми осозначениями (9999)\n",
    "data['city_сenters_nearest_km'] = data['city_сenters_nearest_km'].fillna(9999).astype(int) "
   ]
  },
  {
   "cell_type": "markdown",
   "metadata": {},
   "source": [
    "<div style=\"border:solid green 2px; padding: 20px\">\n",
    "    \n",
    "        Теперь у нас есть всё необходимое для начала анализа.\n",
    "    \n",
    "</div>"
   ]
  },
  {
   "cell_type": "markdown",
   "metadata": {},
   "source": [
    "### Проведите исследовательский анализ данных"
   ]
  },
  {
   "cell_type": "markdown",
   "metadata": {},
   "source": [
    "#### Изучение параметров"
   ]
  },
  {
   "cell_type": "markdown",
   "metadata": {},
   "source": [
    "До начала построим все необходимые графики и вызовем метод описания данных. Это позволит сложить подробное впечатление о следующих параметрах:\n",
    "\n",
    "+ общая площадь;\n",
    "+ жилая площадь;\n",
    "+ площадь кухни;\n",
    "+ цена объекта;\n",
    "+ количество комнат;\n",
    "+ высота потолков;\n",
    "+ этаж квартиры;\n",
    "+ тип этажа квартиры («первый», «последний», «другой»);\n",
    "+ общее количество этажей в доме;\n",
    "+ расстояние до центра города в метрах;\n",
    "+ расстояние до ближайшего аэропорта;\n",
    "+ расстояние до ближайшего парка;\n",
    "+ день и месяц публикации объявления."
   ]
  },
  {
   "cell_type": "code",
   "execution_count": 35,
   "metadata": {
    "scrolled": false
   },
   "outputs": [
    {
     "data": {
      "image/png": "[encoded data removed]",
      "text/plain": [
       "<Figure size 360x216 with 1 Axes>"
      ]
     },
     "metadata": {
      "needs_background": "light"
     },
     "output_type": "display_data"
    },
    {
     "data": {
      "text/plain": [
       "count    23370.000000\n",
       "mean        59.771460\n",
       "std         32.530725\n",
       "min         12.000000\n",
       "25%         40.000000\n",
       "50%         52.000000\n",
       "75%         69.500000\n",
       "max        517.000000\n",
       "Name: total_area, dtype: float64"
      ]
     },
     "execution_count": 35,
     "metadata": {},
     "output_type": "execute_result"
    }
   ],
   "source": [
    "# рассмотрим общую площадь\n",
    "# нарисуем гистограмму\n",
    "data.plot(y = 'total_area', kind = 'hist', grid=True, bins=100, figsize = (5,3))\n",
    "plt.title('Общая площадь квартиры')\n",
    "plt.xlabel('Квадратные метры')\n",
    "plt.ylabel('Количество квартир')\n",
    "plt.show()\n",
    "# вызовем метод describe()\n",
    "data['total_area'].describe()"
   ]
  },
  {
   "cell_type": "code",
   "execution_count": 36,
   "metadata": {
    "scrolled": false
   },
   "outputs": [
    {
     "data": {
      "image/png": "[encoded data removed]",
      "text/plain": [
       "<Figure size 360x216 with 1 Axes>"
      ]
     },
     "metadata": {
      "needs_background": "light"
     },
     "output_type": "display_data"
    },
    {
     "data": {
      "text/plain": [
       "count    23370.000000\n",
       "mean        34.308546\n",
       "std         20.720351\n",
       "min         10.000000\n",
       "25%         19.000000\n",
       "50%         30.000000\n",
       "75%         42.100000\n",
       "max        332.000000\n",
       "Name: living_area, dtype: float64"
      ]
     },
     "execution_count": 36,
     "metadata": {},
     "output_type": "execute_result"
    }
   ],
   "source": [
    "# нарисуем гистограмму\n",
    "data.plot(y = 'living_area', kind = 'hist', bins=60, grid=True, figsize = (5,3))\n",
    "plt.title('Жилая площадь квартиры')\n",
    "plt.xlabel('Квадратные метры')\n",
    "plt.ylabel('Количество квартир')\n",
    "plt.show()\n",
    "# вызовем метод describe()\n",
    "data['living_area'].describe()"
   ]
  },
  {
   "cell_type": "code",
   "execution_count": 37,
   "metadata": {
    "scrolled": false
   },
   "outputs": [
    {
     "data": {
      "image/png": "[encoded data removed]",
      "text/plain": [
       "<Figure size 360x216 with 1 Axes>"
      ]
     },
     "metadata": {
      "needs_background": "light"
     },
     "output_type": "display_data"
    },
    {
     "data": {
      "text/plain": [
       "count    23370.000000\n",
       "mean        10.432086\n",
       "std          5.767628\n",
       "min          1.300000\n",
       "25%          7.000000\n",
       "50%          9.000000\n",
       "75%         12.000000\n",
       "max        107.000000\n",
       "Name: kitchen_area, dtype: float64"
      ]
     },
     "execution_count": 37,
     "metadata": {},
     "output_type": "execute_result"
    }
   ],
   "source": [
    "# нарисуем гистограмму\n",
    "data.plot(y = 'kitchen_area', kind = 'hist', bins=60, grid=True, figsize = (5,3))\n",
    "plt.title('Площадь кухни в квартире')\n",
    "plt.xlabel('Квадратные метры')\n",
    "plt.ylabel('Количество квартир')\n",
    "plt.show()\n",
    "# вызовем метод describe()\n",
    "data['kitchen_area'].describe()"
   ]
  },
  {
   "cell_type": "code",
   "execution_count": 38,
   "metadata": {
    "scrolled": true
   },
   "outputs": [
    {
     "data": {
      "image/png": "[encoded data removed]",
      "text/plain": [
       "<Figure size 360x216 with 1 Axes>"
      ]
     },
     "metadata": {
      "needs_background": "light"
     },
     "output_type": "display_data"
    },
    {
     "data": {
      "text/plain": [
       "count    23370.000000\n",
       "mean         6.227400\n",
       "std          6.288156\n",
       "min          0.700000\n",
       "25%          3.439400\n",
       "50%          4.645000\n",
       "75%          6.750000\n",
       "max         99.000000\n",
       "Name: last_price_million, dtype: float64"
      ]
     },
     "execution_count": 38,
     "metadata": {},
     "output_type": "execute_result"
    }
   ],
   "source": [
    "# нарисуем гистограмму\n",
    "data.plot(y = 'last_price_million', kind = 'hist', bins=20, grid=True, figsize = (5,3))\n",
    "plt.title('Цена объекта')\n",
    "plt.xlabel('Миллионы')\n",
    "plt.ylabel('Количество квартир')\n",
    "plt.show()\n",
    "# вызовем метод describe()\n",
    "data['last_price_million'].describe()"
   ]
  },
  {
   "cell_type": "code",
   "execution_count": 39,
   "metadata": {
    "scrolled": true
   },
   "outputs": [
    {
     "data": {
      "image/png": "[encoded data removed]",
      "text/plain": [
       "<Figure size 360x216 with 1 Axes>"
      ]
     },
     "metadata": {
      "needs_background": "light"
     },
     "output_type": "display_data"
    },
    {
     "data": {
      "text/plain": [
       "count     23370.000000\n",
       "mean      98623.770298\n",
       "std       42535.183587\n",
       "min       10507.246377\n",
       "25%       76673.849869\n",
       "50%       94972.067039\n",
       "75%      114000.000000\n",
       "max      848484.848485\n",
       "Name: m_sq_price, dtype: float64"
      ]
     },
     "execution_count": 39,
     "metadata": {},
     "output_type": "execute_result"
    }
   ],
   "source": [
    "# нарисуем гистограмму\n",
    "data.plot(y = 'm_sq_price', kind = 'hist', bins=100, grid=True, figsize = (5,3))\n",
    "plt.title('Цена квадратного метра')\n",
    "plt.xlabel('Рубли')\n",
    "plt.ylabel('Количество квартир')\n",
    "plt.show()\n",
    "# вызовем метод describe()\n",
    "data['m_sq_price'].describe()"
   ]
  },
  {
   "cell_type": "code",
   "execution_count": 40,
   "metadata": {},
   "outputs": [
    {
     "data": {
      "image/png": "[encoded data removed]",
      "text/plain": [
       "<Figure size 360x216 with 1 Axes>"
      ]
     },
     "metadata": {
      "needs_background": "light"
     },
     "output_type": "display_data"
    },
    {
     "data": {
      "text/plain": [
       "count    23370.000000\n",
       "mean         2.063243\n",
       "std          1.046207\n",
       "min          0.000000\n",
       "25%          1.000000\n",
       "50%          2.000000\n",
       "75%          3.000000\n",
       "max         10.000000\n",
       "Name: rooms, dtype: float64"
      ]
     },
     "execution_count": 40,
     "metadata": {},
     "output_type": "execute_result"
    }
   ],
   "source": [
    "# нарисуем гистограмму\n",
    "data.plot(y = 'rooms', kind = 'hist', grid=True, figsize = (5,3))\n",
    "plt.title('Количество комнат в квартире')\n",
    "plt.xlabel('Количество комнат')\n",
    "plt.ylabel('Количество квартир')\n",
    "plt.show()\n",
    "# вызовем метод describe()\n",
    "data['rooms'].describe()"
   ]
  },
  {
   "cell_type": "code",
   "execution_count": 41,
   "metadata": {},
   "outputs": [
    {
     "data": {
      "image/png": "[encoded data removed]",
      "text/plain": [
       "<Figure size 360x216 with 1 Axes>"
      ]
     },
     "metadata": {
      "needs_background": "light"
     },
     "output_type": "display_data"
    },
    {
     "data": {
      "text/plain": [
       "count    23370.000000\n",
       "mean         2.692630\n",
       "std          0.203663\n",
       "min          2.000000\n",
       "25%          2.600000\n",
       "50%          2.650000\n",
       "75%          2.700000\n",
       "max          4.000000\n",
       "Name: ceiling_height, dtype: float64"
      ]
     },
     "execution_count": 41,
     "metadata": {},
     "output_type": "execute_result"
    }
   ],
   "source": [
    "# нарисуем гистограмму\n",
    "data.plot(y = 'ceiling_height', kind = 'hist', bins=20, grid=True, figsize = (5,3))\n",
    "plt.title('Высота потолков')\n",
    "plt.xlabel('Метры')\n",
    "plt.ylabel('Количество квартир')\n",
    "plt.show()\n",
    "# вызовем метод describe()\n",
    "data['ceiling_height'].describe()"
   ]
  },
  {
   "cell_type": "code",
   "execution_count": 42,
   "metadata": {},
   "outputs": [
    {
     "data": {
      "image/png": "[encoded data removed]",
      "text/plain": [
       "<Figure size 360x216 with 1 Axes>"
      ]
     },
     "metadata": {
      "needs_background": "light"
     },
     "output_type": "display_data"
    },
    {
     "data": {
      "text/plain": [
       "count    23370.000000\n",
       "mean         5.889474\n",
       "std          4.873914\n",
       "min          1.000000\n",
       "25%          2.000000\n",
       "50%          4.000000\n",
       "75%          8.000000\n",
       "max         33.000000\n",
       "Name: floor, dtype: float64"
      ]
     },
     "execution_count": 42,
     "metadata": {},
     "output_type": "execute_result"
    }
   ],
   "source": [
    "# нарисуем гистограмму\n",
    "data.plot(y = 'floor', kind = 'hist', grid=True, bins=33, figsize = (5,3))\n",
    "plt.title('Этаж квартиры')\n",
    "plt.xlabel('Этаж')\n",
    "plt.ylabel('Количество квартир')\n",
    "plt.show()\n",
    "# вызовем метод describe()\n",
    "data['floor'].describe()"
   ]
  },
  {
   "cell_type": "code",
   "execution_count": 43,
   "metadata": {
    "scrolled": false
   },
   "outputs": [
    {
     "data": {
      "image/png": "[encoded data removed]",
      "text/plain": [
       "<Figure size 360x216 with 1 Axes>"
      ]
     },
     "metadata": {
      "needs_background": "light"
     },
     "output_type": "display_data"
    },
    {
     "name": "stdout",
     "output_type": "stream",
     "text": [
      "Квартир на последнем этаже: 3267\n",
      "Квартир на первом этаже: 2873\n"
     ]
    }
   ],
   "source": [
    "# импортируем библиотеку warnings, чтобы Питон не выдавал ошибку при построении графика\n",
    "import warnings\n",
    "warnings.filterwarnings(\"ignore\")\n",
    "\n",
    "# и всё-таки сибонка пригодилась!\n",
    "# нарисуем количественный график\n",
    "plt.figure(figsize=(5,3))\n",
    "sns.countplot(data['floor_type'])\n",
    "plt.title('Тип этажа квартиры')\n",
    "plt.xlabel('Тип этажа')\n",
    "plt.ylabel('Количество квартир')\n",
    "plt.show()\n",
    "# посмотрим количество квартир на первом и последнем этаже\n",
    "print('Квартир на последнем этаже:', data[data['floor_type'] == 'последний']['floor'].count())\n",
    "print('Квартир на первом этаже:', data[data['floor_type'] == 'первый']['floor'].count())\n",
    "\n",
    "#pd.pivot_table(data, index='floor_type',values='debt', aggfunc=(lambda x: x.sum()/x.count() * 100))"
   ]
  },
  {
   "cell_type": "markdown",
   "metadata": {},
   "source": [
    "Конечно, график немного выбивает из стиля, зато выглядит информативно"
   ]
  },
  {
   "cell_type": "code",
   "execution_count": 44,
   "metadata": {},
   "outputs": [
    {
     "data": {
      "image/png": "[encoded data removed]",
      "text/plain": [
       "<Figure size 360x216 with 1 Axes>"
      ]
     },
     "metadata": {
      "needs_background": "light"
     },
     "output_type": "display_data"
    },
    {
     "data": {
      "text/plain": [
       "count    23370.000000\n",
       "mean        10.708258\n",
       "std          6.592317\n",
       "min          1.000000\n",
       "25%          5.000000\n",
       "50%          9.000000\n",
       "75%         16.000000\n",
       "max         60.000000\n",
       "Name: floors_total, dtype: float64"
      ]
     },
     "execution_count": 44,
     "metadata": {},
     "output_type": "execute_result"
    }
   ],
   "source": [
    "# нарисуем гистограмму\n",
    "data.plot(y = 'floors_total', kind = 'hist', grid=True, bins=30, figsize = (5,3))\n",
    "plt.title('Общее количество этажей')\n",
    "plt.xlabel('Количество этажей')\n",
    "plt.ylabel('Количество квартир')\n",
    "plt.show()\n",
    "# вызовем метод describe()\n",
    "data['floors_total'].describe()"
   ]
  },
  {
   "cell_type": "code",
   "execution_count": 45,
   "metadata": {
    "scrolled": false
   },
   "outputs": [
    {
     "data": {
      "image/png": "[encoded data removed]",
      "text/plain": [
       "<Figure size 360x216 with 1 Axes>"
      ]
     },
     "metadata": {
      "needs_background": "light"
     },
     "output_type": "display_data"
    },
    {
     "data": {
      "text/plain": [
       "count    17945.000000\n",
       "mean     14237.685539\n",
       "std       8608.987308\n",
       "min        181.000000\n",
       "25%       9319.000000\n",
       "50%      13127.000000\n",
       "75%      16296.000000\n",
       "max      65968.000000\n",
       "Name: city_сenters_nearest, dtype: float64"
      ]
     },
     "execution_count": 45,
     "metadata": {},
     "output_type": "execute_result"
    }
   ],
   "source": [
    "# нарисуем гистограмму\n",
    "data.plot(y = 'city_сenters_nearest_km', kind = 'hist', bins=70, grid=True, figsize = (5,3), range=(0,70))\n",
    "plt.title('Расстояние до центра города')\n",
    "plt.xlabel('Километры')\n",
    "plt.ylabel('Количество квартир')\n",
    "plt.show()\n",
    "# вызовем метод describe() для метров, чтобы увидеть объективные цифры\n",
    "data['city_сenters_nearest'].describe()"
   ]
  },
  {
   "cell_type": "code",
   "execution_count": 46,
   "metadata": {},
   "outputs": [
    {
     "data": {
      "image/png": "[encoded data removed]",
      "text/plain": [
       "<Figure size 360x216 with 1 Axes>"
      ]
     },
     "metadata": {
      "needs_background": "light"
     },
     "output_type": "display_data"
    },
    {
     "data": {
      "text/plain": [
       "count    17925.000000\n",
       "mean     28808.342762\n",
       "std      12657.642371\n",
       "min          0.000000\n",
       "25%      18539.000000\n",
       "50%      26770.000000\n",
       "75%      37313.000000\n",
       "max      84869.000000\n",
       "Name: airports_nearest, dtype: float64"
      ]
     },
     "execution_count": 46,
     "metadata": {},
     "output_type": "execute_result"
    }
   ],
   "source": [
    "# нарисуем гистограмму\n",
    "data.plot(y = 'airports_nearest', kind = 'hist', grid=True, bins=80, figsize = (5,3))\n",
    "plt.title('Расстояние до ближайшего аэропорта')\n",
    "plt.xlabel('Метры')\n",
    "plt.ylabel('Количество квартир')\n",
    "plt.show()\n",
    "# вызовем метод describe()\n",
    "data['airports_nearest'].describe()"
   ]
  },
  {
   "cell_type": "code",
   "execution_count": 47,
   "metadata": {},
   "outputs": [
    {
     "data": {
      "image/png": "[encoded data removed]",
      "text/plain": [
       "<Figure size 360x216 with 1 Axes>"
      ]
     },
     "metadata": {
      "needs_background": "light"
     },
     "output_type": "display_data"
    },
    {
     "data": {
      "text/plain": [
       "count    7955.000000\n",
       "mean      490.814331\n",
       "std       341.964728\n",
       "min         1.000000\n",
       "25%       288.000000\n",
       "50%       455.000000\n",
       "75%       612.000000\n",
       "max      3190.000000\n",
       "Name: parks_nearest, dtype: float64"
      ]
     },
     "execution_count": 47,
     "metadata": {},
     "output_type": "execute_result"
    }
   ],
   "source": [
    "# нарисуем гистограмму\n",
    "data.plot(y = 'parks_nearest', kind = 'hist', grid=True, bins=30, figsize = (5,3))\n",
    "plt.title('Расстояние до ближайшего парка')\n",
    "plt.xlabel('Метры')\n",
    "plt.ylabel('Количество квартир')\n",
    "plt.show()\n",
    "# вызовем метод describe()\n",
    "data['parks_nearest'].describe()"
   ]
  },
  {
   "cell_type": "code",
   "execution_count": 48,
   "metadata": {},
   "outputs": [
    {
     "data": {
      "image/png": "[encoded data removed]",
      "text/plain": [
       "<Figure size 360x216 with 1 Axes>"
      ]
     },
     "metadata": {
      "needs_background": "light"
     },
     "output_type": "display_data"
    },
    {
     "data": {
      "text/plain": [
       "count    23370.000000\n",
       "mean         6.403894\n",
       "std          3.492573\n",
       "min          1.000000\n",
       "25%          3.000000\n",
       "50%          6.000000\n",
       "75%         10.000000\n",
       "max         12.000000\n",
       "Name: month, dtype: float64"
      ]
     },
     "execution_count": 48,
     "metadata": {},
     "output_type": "execute_result"
    }
   ],
   "source": [
    "# нарисуем гистограмму\n",
    "data.plot(y = 'month', kind = 'hist', bins=12, grid=True, figsize = (5,3))\n",
    "plt.title('Месяц публикации')\n",
    "plt.xlabel('Месяц')\n",
    "plt.ylabel('Количество квартир')\n",
    "plt.show()\n",
    "# вызовем метод describe()\n",
    "data['month'].describe()"
   ]
  },
  {
   "cell_type": "code",
   "execution_count": 49,
   "metadata": {
    "scrolled": false
   },
   "outputs": [
    {
     "data": {
      "image/png": "[encoded data removed]",
      "text/plain": [
       "<Figure size 360x216 with 1 Axes>"
      ]
     },
     "metadata": {
      "needs_background": "light"
     },
     "output_type": "display_data"
    },
    {
     "data": {
      "text/plain": [
       "count    23370.000000\n",
       "mean         2.566324\n",
       "std          1.787884\n",
       "min          0.000000\n",
       "25%          1.000000\n",
       "50%          3.000000\n",
       "75%          4.000000\n",
       "max          6.000000\n",
       "Name: weekday, dtype: float64"
      ]
     },
     "execution_count": 49,
     "metadata": {},
     "output_type": "execute_result"
    }
   ],
   "source": [
    "# нарисуем гистограмму\n",
    "data.plot(y = 'weekday', kind = 'hist', bins=7, grid=True, figsize = (5,3))\n",
    "plt.title('День публикации')\n",
    "plt.xlabel('День недели')\n",
    "plt.ylabel('Количество квартир')\n",
    "plt.show()\n",
    "# вызовем метод describe()\n",
    "data['weekday'].describe()"
   ]
  },
  {
   "cell_type": "markdown",
   "metadata": {},
   "source": [
    "<div style=\"border:solid green 2px; padding: 20px\">\n",
    "    <p>\n",
    "    <b>Текстовое описание данных: </b>\n",
    "    <ol>\n",
    "        <li>Квартир с общей площадью больше 200 м² не много. Чаще всего продаются квартиры от 30 до 100 м². Медианное значение 52 м² достаточно близко к среднему 59,7 м². Квартир с жил.площадью больше 100 м² не много. Больше всего продаж квартир с жил.площадью от 10 до 40 м². Медианное значение 30 м² также близко к среднему 34,3 м². Кухонь больше 40 м² мало. Чаще всего встречаются квартиры с площадью кухни от 5 до 12 м². Медианное 9 м² близко к среднему 10,4 м².\n",
    "        <li>Квартир, которые стоят больше 20 млн немного. Чаще всего продают квартиры за 3-6 млн. Медианное значение 4,6 млн. Среднее 6,2 млн. Чаще всего квадратный метр стоит от 70К до 120К и больше всего квартир с ценой квадратного метра примерно 100К.\n",
    "        <li>Как мы до этого выясними, квартиры с 0 комнатами это студии. Их относительно немного. Как и ожидалось, чаще всего на рынке встречаются квартиры с 1-5 комнатами. Квартир с количеством комнат больше 6 достаточно мало. Чаще всего продаются двушки.\n",
    "        <li>Реже всего встречаются потолки ниже 2,75 метров и выше 3,5 метров. Больше всего квартир с потолками в 2,6-2,7 м в высоту. Медианное значение приблизительно равно среднему и составляет 2,65 метра. Таких потолков больше всего.\n",
    "        <li>Чаще всего продаются квартира на 3-5 этажах, квартир на 20 этаже и выше мало. Соотношение первых и последних этажей примерно одинаковое (на первом 2873 квартиры, на последнем 3267). Больше всего квартир продаются в домах, где до 10 этажей, домов больше 30 этажей очень мало. В среднем дома имеют 11 этажей, медиана же составляет 9 этажей.\n",
    "        <li>Большая часть квартир находится в радиусе 9-20 км от центра города. Меньше всего квартир дальше 40 км от центра. Расстояние до аэропорта в среднем составляет 18-40 км, до парка 300-600 метров.     \n",
    "        <li>В январе, декабре и в мае меньше всего размещений объвлений. И при этом чаще всего квартиры продаются весной. На выходных меньше всего выкладывают объявления.\n"
   ]
  },
  {
   "cell_type": "markdown",
   "metadata": {},
   "source": [
    "#### Изучаем, как быстро продавались квартиры"
   ]
  },
  {
   "cell_type": "code",
   "execution_count": 50,
   "metadata": {
    "scrolled": false
   },
   "outputs": [
    {
     "data": {
      "image/png": "[encoded data removed]",
      "text/plain": [
       "<Figure size 360x216 with 1 Axes>"
      ]
     },
     "metadata": {
      "needs_background": "light"
     },
     "output_type": "display_data"
    },
    {
     "data": {
      "text/plain": [
       "count    20224.000000\n",
       "mean       180.266021\n",
       "std        219.222822\n",
       "min          1.000000\n",
       "25%         45.000000\n",
       "50%         95.000000\n",
       "75%        230.000000\n",
       "max       1580.000000\n",
       "Name: days_exposition, dtype: float64"
      ]
     },
     "execution_count": 50,
     "metadata": {},
     "output_type": "execute_result"
    }
   ],
   "source": [
    "# нарисуем гистограмму\n",
    "data.plot(y = 'days_exposition', kind = 'hist', bins=100, grid=True, figsize = (5,3))\n",
    "plt.title('Длительность размещения объявления')\n",
    "plt.xlabel('Дни')\n",
    "plt.ylabel('Количество квартир')\n",
    "plt.show()\n",
    "# вызовем метод describe()\n",
    "data['days_exposition'].describe()"
   ]
  },
  {
   "cell_type": "markdown",
   "metadata": {},
   "source": [
    "<div style=\"border:solid green 2px; padding: 20px\">\n",
    "    \n",
    "        В большинстве случаев квартиры продаются в срок до 100 дней, но есть и исключения, которые сильно искажают среднее арифметическое. \n",
    "    МЕДИАНА: 95 дней\n",
    "    СРЕДНЕЕ АРИФМЕТИЧЕСКОЕ: 180 дней\n",
    "    БЫСТРЫЕ ПРОДАЖИ: от 1 до 45 дней\n",
    "    ОЧЕНЬ ДОЛГИЕ ПРОДАЖИ: больше 800 дней\n",
    "    \n",
    "</div>"
   ]
  },
  {
   "cell_type": "markdown",
   "metadata": {},
   "source": [
    "#### Факторы, влияющие на стоимость"
   ]
  },
  {
   "cell_type": "code",
   "execution_count": 51,
   "metadata": {
    "scrolled": false
   },
   "outputs": [
    {
     "data": {
      "image/png": "[encoded data removed]",
      "text/plain": [
       "<Figure size 360x360 with 1 Axes>"
      ]
     },
     "metadata": {
      "needs_background": "light"
     },
     "output_type": "display_data"
    },
    {
     "name": "stdout",
     "output_type": "stream",
     "text": [
      "Корреляция цены и общей площади: 0.7610652129779453\n"
     ]
    }
   ],
   "source": [
    "# Зависимость цены от общей площади\n",
    "\n",
    "# построим график\n",
    "data.pivot_table(index='total_area', values='last_price_million').plot(grid=True, style='x', figsize=(5, 5))\n",
    "plt.title('Зависимость цены от общей площади')\n",
    "plt.xlabel('Общая площадь')\n",
    "plt.ylabel('Цена, млн')\n",
    "plt.show()\n",
    "# посчитаем корреляцию\n",
    "print('Корреляция цены и общей площади:', data['total_area'].corr(data['last_price']))"
   ]
  },
  {
   "cell_type": "code",
   "execution_count": 52,
   "metadata": {},
   "outputs": [
    {
     "data": {
      "image/png": "[encoded data removed]",
      "text/plain": [
       "<Figure size 360x360 with 1 Axes>"
      ]
     },
     "metadata": {
      "needs_background": "light"
     },
     "output_type": "display_data"
    },
    {
     "name": "stdout",
     "output_type": "stream",
     "text": [
      "Корреляция цены и жилой площади: 0.6810567593740535\n"
     ]
    }
   ],
   "source": [
    "# Зависимость цены от жилой площади\n",
    "\n",
    "# построим график\n",
    "data.pivot_table(index='living_area', values='last_price_million').plot(grid=True, style='x', figsize=(5, 5))\n",
    "plt.title('Зависимость цены от жилой площади')\n",
    "plt.xlabel('Жилая площадь')\n",
    "plt.ylabel('Цена, млн')\n",
    "plt.show()\n",
    "# посчитаем корреляцию\n",
    "print('Корреляция цены и жилой площади:', data['living_area'].corr(data['last_price']))"
   ]
  },
  {
   "cell_type": "code",
   "execution_count": 53,
   "metadata": {},
   "outputs": [
    {
     "data": {
      "image/png": "[encoded data removed]",
      "text/plain": [
       "<Figure size 360x360 with 1 Axes>"
      ]
     },
     "metadata": {
      "needs_background": "light"
     },
     "output_type": "display_data"
    },
    {
     "name": "stdout",
     "output_type": "stream",
     "text": [
      "Корреляция цены и площади кухни: 0.6128798288285368\n"
     ]
    }
   ],
   "source": [
    "# Зависимость цены от площадии кухни\n",
    "\n",
    "# построим график\n",
    "data.pivot_table(index='kitchen_area', values='last_price_million').plot(grid=True, style='x', figsize=(5, 5))\n",
    "plt.title('Зависимость цены от площади кухни')\n",
    "plt.xlabel('Площадь кухни')\n",
    "plt.ylabel('Цена, млн')\n",
    "plt.show()\n",
    "# посчитаем корреляцию\n",
    "print('Корреляция цены и площади кухни:', data['kitchen_area'].corr(data['last_price']))"
   ]
  },
  {
   "cell_type": "code",
   "execution_count": 54,
   "metadata": {},
   "outputs": [
    {
     "data": {
      "image/png": "[encoded data removed]",
      "text/plain": [
       "<Figure size 360x360 with 1 Axes>"
      ]
     },
     "metadata": {
      "needs_background": "light"
     },
     "output_type": "display_data"
    },
    {
     "name": "stdout",
     "output_type": "stream",
     "text": [
      "Корреляция цены и количества комнат: 0.4666839010925207\n"
     ]
    }
   ],
   "source": [
    "# Зависимость цены от количества комнат\n",
    "\n",
    "# построим график\n",
    "data.pivot_table(index='rooms', values='last_price_million', aggfunc='median').plot(grid=True, style='o-', figsize=(5, 5))\n",
    "plt.title('Зависимость цены от количества комнат')\n",
    "plt.xlabel('Количество комнат')\n",
    "plt.ylabel('Цена, млн')\n",
    "plt.show()\n",
    "# посчитаем корреляцию\n",
    "print('Корреляция цены и количества комнат:', data['rooms'].corr(data['last_price']))"
   ]
  },
  {
   "cell_type": "code",
   "execution_count": 55,
   "metadata": {
    "scrolled": false
   },
   "outputs": [
    {
     "data": {
      "image/png": "[encoded data removed]",
      "text/plain": [
       "<Figure size 360x360 with 1 Axes>"
      ]
     },
     "metadata": {
      "needs_background": "light"
     },
     "output_type": "display_data"
    }
   ],
   "source": [
    "# Зависимость цены от типа этажа\n",
    "\n",
    "# построим график\n",
    "data.pivot_table(index='floor_type', values='last_price_million', aggfunc='median').plot(grid=True, style='o-', figsize=(5, 5))\n",
    "plt.title('Зависимость цены от типа этажа')\n",
    "plt.xlabel('Тип этажа')\n",
    "plt.ylabel('Цена, млн')\n",
    "plt.show()\n",
    "# корреляцию здесь вычислить сложно"
   ]
  },
  {
   "cell_type": "code",
   "execution_count": 56,
   "metadata": {},
   "outputs": [
    {
     "data": {
      "image/png": "[encoded data removed]",
      "text/plain": [
       "<Figure size 360x360 with 1 Axes>"
      ]
     },
     "metadata": {
      "needs_background": "light"
     },
     "output_type": "display_data"
    },
    {
     "name": "stdout",
     "output_type": "stream",
     "text": [
      "Корреляция цены и дня недели: -0.0029049094129611178\n"
     ]
    }
   ],
   "source": [
    "# Зависимость цены от дня недели\n",
    "\n",
    "# построим график\n",
    "data.pivot_table(index='weekday', values='last_price_million', aggfunc='median').plot(grid=True, style='o-', figsize=(5, 5))\n",
    "plt.title('Зависимость цены от дня недели')\n",
    "plt.xlabel('День недели')\n",
    "plt.ylabel('Цена, млн')\n",
    "plt.show()\n",
    "# посчитаем корреляцию\n",
    "print('Корреляция цены и дня недели:', data['weekday'].corr(data['last_price']))"
   ]
  },
  {
   "cell_type": "code",
   "execution_count": 57,
   "metadata": {},
   "outputs": [
    {
     "data": {
      "image/png": "[encoded data removed]",
      "text/plain": [
       "<Figure size 360x360 with 1 Axes>"
      ]
     },
     "metadata": {
      "needs_background": "light"
     },
     "output_type": "display_data"
    },
    {
     "name": "stdout",
     "output_type": "stream",
     "text": [
      "Корреляция цены и месяца: 0.006131882974118005\n"
     ]
    }
   ],
   "source": [
    "# Зависимость цены от месяца\n",
    "\n",
    "# построим график\n",
    "data.pivot_table(index='month', values='last_price_million', aggfunc='median').plot(grid=True, style='o-', figsize=(5, 5))\n",
    "plt.title('Зависимость цены от месяца')\n",
    "plt.xlabel('Месяц')\n",
    "plt.ylabel('Цена, млн')\n",
    "plt.show()\n",
    "# посчитаем корреляцию\n",
    "print('Корреляция цены и месяца:', data['month'].corr(data['last_price']))"
   ]
  },
  {
   "cell_type": "code",
   "execution_count": 58,
   "metadata": {},
   "outputs": [
    {
     "data": {
      "image/png": "[encoded data removed]",
      "text/plain": [
       "<Figure size 360x360 with 1 Axes>"
      ]
     },
     "metadata": {
      "needs_background": "light"
     },
     "output_type": "display_data"
    },
    {
     "name": "stdout",
     "output_type": "stream",
     "text": [
      "Корреляция цены и года: -0.04771366116404905\n"
     ]
    }
   ],
   "source": [
    "# Зависимость цены от года\n",
    "\n",
    "# построим график\n",
    "data.pivot_table(index='year', values='last_price_million', aggfunc='median').plot(grid=True, style='o-', figsize=(5, 5))\n",
    "plt.title('Зависимость цены от года')\n",
    "plt.xlabel('Год')\n",
    "plt.ylabel('Цена, млн')\n",
    "plt.show()\n",
    "# посчитаем корреляцию\n",
    "print('Корреляция цены и года:', data['year'].corr(data['last_price']))"
   ]
  },
  {
   "cell_type": "markdown",
   "metadata": {},
   "source": [
    "<div style=\"border:solid green 2px; padding: 20px\">\n",
    "    <p>\n",
    "        <ol>\n",
    "            <li>\n",
    "                Самая большая зависимость между ценой и общей площадью квартиры. Однако, цена \n",
    "    также напрямую зависит от площади кухни и жилой площади. Чем больше площади, тем выше \n",
    "    цена. (Сильная положительная корреляция).\n",
    "            </li>\n",
    "            <li>\n",
    "                Также цена зависит от количества комнат. Чем больше комнат, чем выше цена. Больше \n",
    "    всего это заметно по возвышающемуся графику с 0 до 7 комнатами.\n",
    "            </li>\n",
    "            <li>\n",
    "                Цена на 1 этаже ниже всего. На последнем этаже цена ниже, чем на других этажах.\n",
    "            </li>\n",
    "            <li>\n",
    "                Меньше всего цена зависит от дня и месяца публикации.\n",
    "            </li>\n",
    "            <li>\n",
    "        Меньше всего цена зависит от дня недели и месяца публикации. Однако можно заметить некую зависимость по годам: \n",
    "            </li>\n",
    "            </ol>\n",
    "    <ul>\n",
    "        <li>предположительно, развитость и популярность сервиса была низкой. Объявления с низкими ценами и из разных населённых пунктов Лен.области выкладывались не в таком большом количестве,\n",
    "        </li>\n",
    "        <li>с 2017 по 2019 год цены на недвижимость в Лен.области выросли (ссылка на одно исследование ниже).\n",
    "        </li>\n",
    "    </ul>\n",
    "    </p>\n",
    "        \n",
    "</div>"
   ]
  },
  {
   "cell_type": "markdown",
   "metadata": {},
   "source": [
    "[ссылка на на динамику стоимости недвижимости по годам](https://www.realtymag.ru/leningradskaya-oblast/kvartira/prodazha/prices/all-time)\n",
    "\n",
    "\n",
    "*(Конечно, одна ссылка это не объективно, но это просто одно из подтверждений).*"
   ]
  },
  {
   "cell_type": "markdown",
   "metadata": {},
   "source": [
    "#### Посчитаем среднюю цену квадратного метра"
   ]
  },
  {
   "cell_type": "code",
   "execution_count": 85,
   "metadata": {
    "scrolled": true
   },
   "outputs": [
    {
     "data": {
      "text/html": [
       "<div>\n",
       "<style scoped>\n",
       "    .dataframe tbody tr th:only-of-type {\n",
       "        vertical-align: middle;\n",
       "    }\n",
       "\n",
       "    .dataframe tbody tr th {\n",
       "        vertical-align: top;\n",
       "    }\n",
       "\n",
       "    .dataframe thead th {\n",
       "        text-align: right;\n",
       "    }\n",
       "</style>\n",
       "<table border=\"1\" class=\"dataframe\">\n",
       "  <thead>\n",
       "    <tr style=\"text-align: right;\">\n",
       "      <th></th>\n",
       "      <th>count</th>\n",
       "      <th>mean</th>\n",
       "    </tr>\n",
       "    <tr>\n",
       "      <th>locality_name</th>\n",
       "      <th></th>\n",
       "      <th></th>\n",
       "    </tr>\n",
       "  </thead>\n",
       "  <tbody>\n",
       "    <tr>\n",
       "      <th>Санкт-Петербург</th>\n",
       "      <td>15535</td>\n",
       "      <td>113432.357703</td>\n",
       "    </tr>\n",
       "    <tr>\n",
       "      <th>Пушкин</th>\n",
       "      <td>368</td>\n",
       "      <td>103058.361434</td>\n",
       "    </tr>\n",
       "    <tr>\n",
       "      <th>деревня Кудрово</th>\n",
       "      <td>299</td>\n",
       "      <td>92473.547576</td>\n",
       "    </tr>\n",
       "    <tr>\n",
       "      <th>поселок Парголово</th>\n",
       "      <td>327</td>\n",
       "      <td>90175.913458</td>\n",
       "    </tr>\n",
       "    <tr>\n",
       "      <th>поселок Мурино</th>\n",
       "      <td>551</td>\n",
       "      <td>85601.120803</td>\n",
       "    </tr>\n",
       "    <tr>\n",
       "      <th>поселок Шушары</th>\n",
       "      <td>438</td>\n",
       "      <td>78577.014984</td>\n",
       "    </tr>\n",
       "    <tr>\n",
       "      <th>Колпино</th>\n",
       "      <td>338</td>\n",
       "      <td>75424.579098</td>\n",
       "    </tr>\n",
       "    <tr>\n",
       "      <th>Гатчина</th>\n",
       "      <td>307</td>\n",
       "      <td>68746.146763</td>\n",
       "    </tr>\n",
       "    <tr>\n",
       "      <th>Всеволожск</th>\n",
       "      <td>397</td>\n",
       "      <td>68605.572959</td>\n",
       "    </tr>\n",
       "    <tr>\n",
       "      <th>Выборг</th>\n",
       "      <td>234</td>\n",
       "      <td>58407.407772</td>\n",
       "    </tr>\n",
       "  </tbody>\n",
       "</table>\n",
       "</div>"
      ],
      "text/plain": [
       "                   count           mean\n",
       "locality_name                          \n",
       "Санкт-Петербург    15535  113432.357703\n",
       "Пушкин               368  103058.361434\n",
       "деревня Кудрово      299   92473.547576\n",
       "поселок Парголово    327   90175.913458\n",
       "поселок Мурино       551   85601.120803\n",
       "поселок Шушары       438   78577.014984\n",
       "Колпино              338   75424.579098\n",
       "Гатчина              307   68746.146763\n",
       "Всеволожск           397   68605.572959\n",
       "Выборг               234   58407.407772"
      ]
     },
     "execution_count": 85,
     "metadata": {},
     "output_type": "execute_result"
    }
   ],
   "source": [
    "# выведем города с наибольшим количеством объявлений и найдём среди них\n",
    "# населёнными пункты с наибольшей средней ценой на квадратный метр\n",
    "\n",
    "data_loc_price = data.pivot_table(index='locality_name', values='m_sq_price', aggfunc=['count', 'mean'])\n",
    "data_loc_price.columns = ['count', 'mean']\n",
    "data_loc_price.sort_values(by='count', ascending=False)[:10].sort_values(by='mean', ascending=False)\n"
   ]
  },
  {
   "cell_type": "markdown",
   "metadata": {},
   "source": [
    "<div style=\"border:solid green 2px; padding: 20px\">\n",
    "    <p>\n",
    "        Наибольшее количество объявлений и наибольшая цена за квадратный метр в <b>Санкт-Петербурге</b>.\n",
    "    </p>\n",
    "    <p>\n",
    "        Наименьшая цена и наименьшее количество объявлений в <b>Выборге</b>.\n",
    "    </p>\n",
    "    \n",
    "</div>"
   ]
  },
  {
   "cell_type": "markdown",
   "metadata": {},
   "source": [
    " #### Анализ отдалённости от центра в Спб"
   ]
  },
  {
   "cell_type": "code",
   "execution_count": 61,
   "metadata": {},
   "outputs": [
    {
     "data": {
      "text/plain": [
       "59"
      ]
     },
     "execution_count": 61,
     "metadata": {},
     "output_type": "execute_result"
    }
   ],
   "source": [
    "# создадим отдельную таблицу с квартирами в Спб\n",
    "spb_data = data[data['locality_name'] == 'Санкт-Петербург']\n",
    "\n",
    "# посчитаем сколько пропусков было допущено ранее\n",
    "spb_data[spb_data['city_сenters_nearest_km'] == 9999].shape[0]\n",
    "# ранее 9999 обозначал пропуск значения. В этой таблице лучше не учитывать такие строки, так как \n",
    "# это может появлять на итоговый результат. Также таких значений немного относительно остального\n",
    "# массива данных."
   ]
  },
  {
   "cell_type": "code",
   "execution_count": 62,
   "metadata": {},
   "outputs": [],
   "source": [
    "# исключим маркеры\n",
    "spb_data = spb_data.loc[spb_data['city_сenters_nearest_km'] != 9999]"
   ]
  },
  {
   "cell_type": "code",
   "execution_count": 63,
   "metadata": {
    "scrolled": false
   },
   "outputs": [
    {
     "data": {
      "text/html": [
       "<div>\n",
       "<style scoped>\n",
       "    .dataframe tbody tr th:only-of-type {\n",
       "        vertical-align: middle;\n",
       "    }\n",
       "\n",
       "    .dataframe tbody tr th {\n",
       "        vertical-align: top;\n",
       "    }\n",
       "\n",
       "    .dataframe thead th {\n",
       "        text-align: right;\n",
       "    }\n",
       "</style>\n",
       "<table border=\"1\" class=\"dataframe\">\n",
       "  <thead>\n",
       "    <tr style=\"text-align: right;\">\n",
       "      <th></th>\n",
       "      <th>last_price_million</th>\n",
       "    </tr>\n",
       "    <tr>\n",
       "      <th>city_сenters_nearest_km</th>\n",
       "      <th></th>\n",
       "    </tr>\n",
       "  </thead>\n",
       "  <tbody>\n",
       "    <tr>\n",
       "      <th>0</th>\n",
       "      <td>20.415111</td>\n",
       "    </tr>\n",
       "    <tr>\n",
       "      <th>1</th>\n",
       "      <td>14.947722</td>\n",
       "    </tr>\n",
       "    <tr>\n",
       "      <th>2</th>\n",
       "      <td>13.649661</td>\n",
       "    </tr>\n",
       "    <tr>\n",
       "      <th>3</th>\n",
       "      <td>11.137316</td>\n",
       "    </tr>\n",
       "    <tr>\n",
       "      <th>4</th>\n",
       "      <td>12.665638</td>\n",
       "    </tr>\n",
       "    <tr>\n",
       "      <th>5</th>\n",
       "      <td>13.081725</td>\n",
       "    </tr>\n",
       "    <tr>\n",
       "      <th>6</th>\n",
       "      <td>13.129933</td>\n",
       "    </tr>\n",
       "    <tr>\n",
       "      <th>7</th>\n",
       "      <td>10.900928</td>\n",
       "    </tr>\n",
       "    <tr>\n",
       "      <th>8</th>\n",
       "      <td>8.420222</td>\n",
       "    </tr>\n",
       "    <tr>\n",
       "      <th>9</th>\n",
       "      <td>6.435737</td>\n",
       "    </tr>\n",
       "    <tr>\n",
       "      <th>10</th>\n",
       "      <td>6.375016</td>\n",
       "    </tr>\n",
       "    <tr>\n",
       "      <th>11</th>\n",
       "      <td>5.965907</td>\n",
       "    </tr>\n",
       "    <tr>\n",
       "      <th>12</th>\n",
       "      <td>5.976423</td>\n",
       "    </tr>\n",
       "    <tr>\n",
       "      <th>13</th>\n",
       "      <td>6.027171</td>\n",
       "    </tr>\n",
       "    <tr>\n",
       "      <th>14</th>\n",
       "      <td>5.757876</td>\n",
       "    </tr>\n",
       "    <tr>\n",
       "      <th>15</th>\n",
       "      <td>5.544916</td>\n",
       "    </tr>\n",
       "    <tr>\n",
       "      <th>16</th>\n",
       "      <td>5.525606</td>\n",
       "    </tr>\n",
       "    <tr>\n",
       "      <th>17</th>\n",
       "      <td>4.872388</td>\n",
       "    </tr>\n",
       "    <tr>\n",
       "      <th>18</th>\n",
       "      <td>5.360713</td>\n",
       "    </tr>\n",
       "    <tr>\n",
       "      <th>19</th>\n",
       "      <td>4.678756</td>\n",
       "    </tr>\n",
       "    <tr>\n",
       "      <th>20</th>\n",
       "      <td>6.393164</td>\n",
       "    </tr>\n",
       "    <tr>\n",
       "      <th>21</th>\n",
       "      <td>5.183239</td>\n",
       "    </tr>\n",
       "    <tr>\n",
       "      <th>22</th>\n",
       "      <td>5.425513</td>\n",
       "    </tr>\n",
       "    <tr>\n",
       "      <th>23</th>\n",
       "      <td>4.126867</td>\n",
       "    </tr>\n",
       "    <tr>\n",
       "      <th>24</th>\n",
       "      <td>3.862235</td>\n",
       "    </tr>\n",
       "    <tr>\n",
       "      <th>25</th>\n",
       "      <td>4.048664</td>\n",
       "    </tr>\n",
       "    <tr>\n",
       "      <th>26</th>\n",
       "      <td>3.575000</td>\n",
       "    </tr>\n",
       "    <tr>\n",
       "      <th>27</th>\n",
       "      <td>8.300000</td>\n",
       "    </tr>\n",
       "    <tr>\n",
       "      <th>28</th>\n",
       "      <td>4.910500</td>\n",
       "    </tr>\n",
       "    <tr>\n",
       "      <th>29</th>\n",
       "      <td>3.833333</td>\n",
       "    </tr>\n",
       "  </tbody>\n",
       "</table>\n",
       "</div>"
      ],
      "text/plain": [
       "                         last_price_million\n",
       "city_сenters_nearest_km                    \n",
       "0                                 20.415111\n",
       "1                                 14.947722\n",
       "2                                 13.649661\n",
       "3                                 11.137316\n",
       "4                                 12.665638\n",
       "5                                 13.081725\n",
       "6                                 13.129933\n",
       "7                                 10.900928\n",
       "8                                  8.420222\n",
       "9                                  6.435737\n",
       "10                                 6.375016\n",
       "11                                 5.965907\n",
       "12                                 5.976423\n",
       "13                                 6.027171\n",
       "14                                 5.757876\n",
       "15                                 5.544916\n",
       "16                                 5.525606\n",
       "17                                 4.872388\n",
       "18                                 5.360713\n",
       "19                                 4.678756\n",
       "20                                 6.393164\n",
       "21                                 5.183239\n",
       "22                                 5.425513\n",
       "23                                 4.126867\n",
       "24                                 3.862235\n",
       "25                                 4.048664\n",
       "26                                 3.575000\n",
       "27                                 8.300000\n",
       "28                                 4.910500\n",
       "29                                 3.833333"
      ]
     },
     "execution_count": 63,
     "metadata": {},
     "output_type": "execute_result"
    }
   ],
   "source": [
    "# выведем на экран таблицу с распределением цен в зависимости от удалённости от центра\n",
    "spb_data.pivot_table(index='city_сenters_nearest_km', values=['last_price_million'], aggfunc='mean')"
   ]
  },
  {
   "cell_type": "code",
   "execution_count": 64,
   "metadata": {
    "scrolled": true
   },
   "outputs": [
    {
     "data": {
      "text/plain": [
       "-0.37260111302659615"
      ]
     },
     "execution_count": 64,
     "metadata": {},
     "output_type": "execute_result"
    }
   ],
   "source": [
    "# посчитаем корреляцию\n",
    "spb_data['last_price_million'].corr(spb_data['city_сenters_nearest_km'])"
   ]
  },
  {
   "cell_type": "code",
   "execution_count": 65,
   "metadata": {},
   "outputs": [
    {
     "data": {
      "image/png": "[encoded data removed]",
      "text/plain": [
       "<Figure size 360x360 with 1 Axes>"
      ]
     },
     "metadata": {
      "needs_background": "light"
     },
     "output_type": "display_data"
    }
   ],
   "source": [
    "# построим график\n",
    "spb_data.pivot_table(index='city_сenters_nearest_km', values=['last_price_million'], aggfunc='mean').plot(grid=True, style='o-', figsize=(5, 5))\n",
    "plt.title('Зависимость цены от расстояния до центра Питера')\n",
    "plt.xlabel('Расстояние до центра, км')\n",
    "plt.ylabel('Цена, млн')\n",
    "plt.show()"
   ]
  },
  {
   "cell_type": "markdown",
   "metadata": {},
   "source": [
    "<div style=\"border:solid green 2px; padding: 20px\">\n",
    "    \n",
    "        Цены на квартиры в центре Питера в несколько раз выше цен на квартиры, находящиеся далеко от центра. Однако, даже далеко от центра есть дорогие квартиры, это стоит учитывать.\n",
    "    \n",
    "</div>"
   ]
  },
  {
   "cell_type": "markdown",
   "metadata": {},
   "source": [
    "### Общий вывод"
   ]
  },
  {
   "cell_type": "markdown",
   "metadata": {},
   "source": [
    "В ходе работы были сделаны следующие шаги:\n",
    "1. Изучена общая информация и выдвинуты первые предложение по исправлению данных.\n",
    "2. Была проведена предподготовка данных: удалены пропуски, изменены типы данных, удалены дубликаты и удалены аномальные значения.\n",
    "3. В таблицу были внесены новые столбцы для дальнейшего облегчения анализа.\n",
    "4. Проведён исследовательский анализ данных."
   ]
  },
  {
   "cell_type": "markdown",
   "metadata": {},
   "source": [
    "<div style=\"border:solid green 2px; padding: 20px\">\n",
    "    <p>\n",
    "        <b>Найденные закономерности:</b>\n",
    "        <li>больше всего цена на квартиру зависит от площади самой квартиры, при этом больших квартир (больше 200 м2) достаточно мало;</li>\n",
    "        <li>квартиры на первом этаже стоят меньше всего, на последнем приблизительно равны другим квартирам, но всё-таки стоят меньше;</li>\n",
    "        <li>наибольшая средняя цена на объект в Зеленогорске и Питере, а наименьшие в селах и деревнях: поселок Тёсово-4 и деревня Малая Романовка; </li>\n",
    "        <li>обычно квартиры продаются не дольше 95 дней, но достаточно много квартир продавались пости срразу после публикации(до 45 дней). Квартир, которые продавались(больше 800 дней) долго значительно меньше;</li>\n",
    "        <li>в последние года цена на недвижимость растёт;</li>\n",
    "        <li>если рассматривать только Спб, то в его центре (в радиусе 7 км) самые дорогие квартиры, остальные же квартиры стоят в разу меньше. </li>\n",
    "    </p>\n",
    "            \n",
    "    \n",
    "</div>\n"
   ]
  }
 ],
 "metadata": {
  "ExecuteTimeLog": [
   {
    "duration": 501,
    "start_time": "2022-08-09T21:19:16.454Z"
   },
   {
    "duration": 3,
    "start_time": "2022-08-09T21:20:12.912Z"
   },
   {
    "duration": 2,
    "start_time": "2022-08-09T21:45:22.437Z"
   },
   {
    "duration": 145,
    "start_time": "2022-08-09T21:45:22.689Z"
   },
   {
    "duration": 14,
    "start_time": "2022-08-09T21:45:23.000Z"
   },
   {
    "duration": 104,
    "start_time": "2022-08-09T21:45:34.372Z"
   },
   {
    "duration": 168,
    "start_time": "2022-08-09T21:46:11.714Z"
   },
   {
    "duration": 15,
    "start_time": "2022-08-09T21:46:22.165Z"
   },
   {
    "duration": 125,
    "start_time": "2022-08-09T21:48:50.622Z"
   },
   {
    "duration": 138,
    "start_time": "2022-08-09T21:50:17.192Z"
   },
   {
    "duration": 27,
    "start_time": "2022-08-09T21:50:25.696Z"
   },
   {
    "duration": 118,
    "start_time": "2022-08-09T21:50:36.520Z"
   },
   {
    "duration": 16,
    "start_time": "2022-08-09T21:50:36.772Z"
   },
   {
    "duration": 2629,
    "start_time": "2022-08-09T21:54:42.547Z"
   },
   {
    "duration": 42,
    "start_time": "2022-08-10T06:45:46.477Z"
   },
   {
    "duration": 346,
    "start_time": "2022-08-10T06:45:54.575Z"
   },
   {
    "duration": 677,
    "start_time": "2022-08-10T06:45:54.923Z"
   },
   {
    "duration": 12,
    "start_time": "2022-08-10T06:45:55.602Z"
   },
   {
    "duration": 2037,
    "start_time": "2022-08-10T06:45:55.616Z"
   },
   {
    "duration": 12,
    "start_time": "2022-08-10T06:50:52.855Z"
   },
   {
    "duration": 29,
    "start_time": "2022-08-10T06:51:01.842Z"
   },
   {
    "duration": 3,
    "start_time": "2022-08-10T06:51:57.023Z"
   },
   {
    "duration": 30,
    "start_time": "2022-08-10T06:52:14.770Z"
   },
   {
    "duration": 66,
    "start_time": "2022-08-10T06:53:21.200Z"
   },
   {
    "duration": 4,
    "start_time": "2022-08-10T06:53:53.185Z"
   },
   {
    "duration": 4,
    "start_time": "2022-08-10T06:54:00.365Z"
   },
   {
    "duration": 16,
    "start_time": "2022-08-10T06:55:07.425Z"
   },
   {
    "duration": 21,
    "start_time": "2022-08-10T06:55:12.139Z"
   },
   {
    "duration": 34,
    "start_time": "2022-08-10T06:55:31.837Z"
   },
   {
    "duration": 18,
    "start_time": "2022-08-10T06:56:44.881Z"
   },
   {
    "duration": 17,
    "start_time": "2022-08-10T06:56:55.242Z"
   },
   {
    "duration": 5,
    "start_time": "2022-08-10T06:57:02.667Z"
   },
   {
    "duration": 46,
    "start_time": "2022-08-10T06:59:25.430Z"
   },
   {
    "duration": 4,
    "start_time": "2022-08-10T06:59:42.881Z"
   },
   {
    "duration": 205,
    "start_time": "2022-08-10T06:59:53.874Z"
   },
   {
    "duration": 4,
    "start_time": "2022-08-10T07:02:05.213Z"
   },
   {
    "duration": 211,
    "start_time": "2022-08-10T07:14:15.261Z"
   },
   {
    "duration": 4,
    "start_time": "2022-08-10T07:14:55.203Z"
   },
   {
    "duration": 192,
    "start_time": "2022-08-10T07:15:12.875Z"
   },
   {
    "duration": 206,
    "start_time": "2022-08-10T07:15:55.297Z"
   },
   {
    "duration": 252,
    "start_time": "2022-08-10T07:16:03.516Z"
   },
   {
    "duration": 168,
    "start_time": "2022-08-10T07:18:23.566Z"
   },
   {
    "duration": 124,
    "start_time": "2022-08-10T07:18:35.053Z"
   },
   {
    "duration": 147,
    "start_time": "2022-08-10T07:18:42.369Z"
   },
   {
    "duration": 77,
    "start_time": "2022-08-10T07:18:50.069Z"
   },
   {
    "duration": 150,
    "start_time": "2022-08-10T07:18:55.837Z"
   },
   {
    "duration": 4,
    "start_time": "2022-08-10T07:20:20.140Z"
   },
   {
    "duration": 6,
    "start_time": "2022-08-10T07:29:16.469Z"
   },
   {
    "duration": 6,
    "start_time": "2022-08-10T07:29:47.833Z"
   },
   {
    "duration": 121,
    "start_time": "2022-08-10T07:39:02.172Z"
   },
   {
    "duration": 132,
    "start_time": "2022-08-10T07:39:09.974Z"
   },
   {
    "duration": 404,
    "start_time": "2022-08-10T07:47:39.708Z"
   },
   {
    "duration": 121,
    "start_time": "2022-08-10T07:47:40.113Z"
   },
   {
    "duration": 16,
    "start_time": "2022-08-10T07:47:40.235Z"
   },
   {
    "duration": 10,
    "start_time": "2022-08-10T07:47:40.253Z"
   },
   {
    "duration": 2188,
    "start_time": "2022-08-10T07:47:40.265Z"
   },
   {
    "duration": 249,
    "start_time": "2022-08-10T07:47:42.455Z"
   },
   {
    "duration": 141,
    "start_time": "2022-08-10T07:47:42.705Z"
   },
   {
    "duration": 418,
    "start_time": "2022-08-10T07:48:05.828Z"
   },
   {
    "duration": 118,
    "start_time": "2022-08-10T07:48:06.247Z"
   },
   {
    "duration": 13,
    "start_time": "2022-08-10T07:48:06.367Z"
   },
   {
    "duration": 12,
    "start_time": "2022-08-10T07:48:06.382Z"
   },
   {
    "duration": 1990,
    "start_time": "2022-08-10T07:48:06.395Z"
   },
   {
    "duration": 342,
    "start_time": "2022-08-10T07:49:47.080Z"
   },
   {
    "duration": 143,
    "start_time": "2022-08-10T07:49:47.424Z"
   },
   {
    "duration": 36,
    "start_time": "2022-08-10T07:49:47.568Z"
   },
   {
    "duration": 8,
    "start_time": "2022-08-10T07:49:47.609Z"
   },
   {
    "duration": 2097,
    "start_time": "2022-08-10T07:49:47.620Z"
   },
   {
    "duration": 243,
    "start_time": "2022-08-10T07:49:49.719Z"
   },
   {
    "duration": 415,
    "start_time": "2022-08-10T15:47:38.291Z"
   },
   {
    "duration": 361,
    "start_time": "2022-08-10T15:47:38.709Z"
   },
   {
    "duration": 14,
    "start_time": "2022-08-10T15:47:39.071Z"
   },
   {
    "duration": 2211,
    "start_time": "2022-08-10T15:47:39.087Z"
   },
   {
    "duration": 272,
    "start_time": "2022-08-10T15:47:41.299Z"
   },
   {
    "duration": 8,
    "start_time": "2022-08-10T15:57:16.121Z"
   },
   {
    "duration": 10,
    "start_time": "2022-08-10T15:59:41.982Z"
   },
   {
    "duration": 64,
    "start_time": "2022-08-10T16:02:29.179Z"
   },
   {
    "duration": 10,
    "start_time": "2022-08-10T16:04:08.239Z"
   },
   {
    "duration": 10,
    "start_time": "2022-08-10T16:04:22.525Z"
   },
   {
    "duration": 6,
    "start_time": "2022-08-10T16:04:38.898Z"
   },
   {
    "duration": 5,
    "start_time": "2022-08-10T16:04:50.316Z"
   },
   {
    "duration": 7,
    "start_time": "2022-08-10T16:06:17.856Z"
   },
   {
    "duration": 3,
    "start_time": "2022-08-10T16:06:21.700Z"
   },
   {
    "duration": 9,
    "start_time": "2022-08-10T16:06:24.156Z"
   },
   {
    "duration": 5,
    "start_time": "2022-08-10T16:06:24.662Z"
   },
   {
    "duration": 5,
    "start_time": "2022-08-10T16:06:54.241Z"
   },
   {
    "duration": 556,
    "start_time": "2022-08-10T16:08:29.968Z"
   },
   {
    "duration": 491,
    "start_time": "2022-08-10T16:08:40.106Z"
   },
   {
    "duration": 408,
    "start_time": "2022-08-10T16:09:09.306Z"
   },
   {
    "duration": 469,
    "start_time": "2022-08-10T16:10:04.969Z"
   },
   {
    "duration": 6,
    "start_time": "2022-08-10T16:11:32.222Z"
   },
   {
    "duration": 502,
    "start_time": "2022-08-10T16:13:00.164Z"
   },
   {
    "duration": 413,
    "start_time": "2022-08-10T16:13:21.063Z"
   },
   {
    "duration": 373,
    "start_time": "2022-08-10T16:13:35.624Z"
   },
   {
    "duration": 88,
    "start_time": "2022-08-10T16:14:14.816Z"
   },
   {
    "duration": 12,
    "start_time": "2022-08-10T16:14:18.166Z"
   },
   {
    "duration": 14,
    "start_time": "2022-08-10T16:16:07.994Z"
   },
   {
    "duration": 13,
    "start_time": "2022-08-10T16:16:14.333Z"
   },
   {
    "duration": 379,
    "start_time": "2022-08-10T16:16:27.836Z"
   },
   {
    "duration": 122,
    "start_time": "2022-08-10T16:16:28.217Z"
   },
   {
    "duration": 14,
    "start_time": "2022-08-10T16:16:28.341Z"
   },
   {
    "duration": 2046,
    "start_time": "2022-08-10T16:16:28.356Z"
   },
   {
    "duration": 250,
    "start_time": "2022-08-10T16:16:30.404Z"
   },
   {
    "duration": 6,
    "start_time": "2022-08-10T16:16:30.656Z"
   },
   {
    "duration": 86,
    "start_time": "2022-08-10T16:16:30.663Z"
   },
   {
    "duration": 0,
    "start_time": "2022-08-10T16:16:30.751Z"
   },
   {
    "duration": 0,
    "start_time": "2022-08-10T16:16:30.752Z"
   },
   {
    "duration": 0,
    "start_time": "2022-08-10T16:16:30.753Z"
   },
   {
    "duration": 12,
    "start_time": "2022-08-10T16:16:52.592Z"
   },
   {
    "duration": 403,
    "start_time": "2022-08-10T16:17:44.996Z"
   },
   {
    "duration": 116,
    "start_time": "2022-08-10T16:17:45.401Z"
   },
   {
    "duration": 14,
    "start_time": "2022-08-10T16:17:45.519Z"
   },
   {
    "duration": 2219,
    "start_time": "2022-08-10T16:17:45.535Z"
   },
   {
    "duration": 245,
    "start_time": "2022-08-10T16:17:47.755Z"
   },
   {
    "duration": 10,
    "start_time": "2022-08-10T16:17:48.001Z"
   },
   {
    "duration": 10,
    "start_time": "2022-08-10T16:17:48.013Z"
   },
   {
    "duration": 6,
    "start_time": "2022-08-10T16:17:48.024Z"
   },
   {
    "duration": 7,
    "start_time": "2022-08-10T16:17:48.031Z"
   },
   {
    "duration": 641,
    "start_time": "2022-08-10T16:17:48.039Z"
   },
   {
    "duration": 12,
    "start_time": "2022-08-10T16:18:46.204Z"
   },
   {
    "duration": 11,
    "start_time": "2022-08-10T16:19:00.148Z"
   },
   {
    "duration": 6,
    "start_time": "2022-08-10T16:19:03.634Z"
   },
   {
    "duration": 350,
    "start_time": "2022-08-10T16:19:19.047Z"
   },
   {
    "duration": 118,
    "start_time": "2022-08-10T16:19:19.399Z"
   },
   {
    "duration": 19,
    "start_time": "2022-08-10T16:19:19.518Z"
   },
   {
    "duration": 1983,
    "start_time": "2022-08-10T16:19:19.539Z"
   },
   {
    "duration": 253,
    "start_time": "2022-08-10T16:19:21.523Z"
   },
   {
    "duration": 6,
    "start_time": "2022-08-10T16:19:21.778Z"
   },
   {
    "duration": 23,
    "start_time": "2022-08-10T16:19:21.786Z"
   },
   {
    "duration": 6,
    "start_time": "2022-08-10T16:19:21.811Z"
   },
   {
    "duration": 12,
    "start_time": "2022-08-10T16:19:21.818Z"
   },
   {
    "duration": 5,
    "start_time": "2022-08-10T16:19:21.832Z"
   },
   {
    "duration": 8,
    "start_time": "2022-08-10T16:20:08.435Z"
   },
   {
    "duration": 234,
    "start_time": "2022-08-10T16:21:56.613Z"
   },
   {
    "duration": 258,
    "start_time": "2022-08-10T16:22:10.309Z"
   },
   {
    "duration": 319,
    "start_time": "2022-08-10T16:22:18.835Z"
   },
   {
    "duration": 238,
    "start_time": "2022-08-10T16:23:34.795Z"
   },
   {
    "duration": 290,
    "start_time": "2022-08-10T16:23:45.839Z"
   },
   {
    "duration": 240,
    "start_time": "2022-08-10T16:23:59.215Z"
   },
   {
    "duration": 245,
    "start_time": "2022-08-10T16:24:20.478Z"
   },
   {
    "duration": 242,
    "start_time": "2022-08-10T16:24:36.278Z"
   },
   {
    "duration": 379,
    "start_time": "2022-08-10T16:27:07.124Z"
   },
   {
    "duration": 6,
    "start_time": "2022-08-10T16:30:04.090Z"
   },
   {
    "duration": 6,
    "start_time": "2022-08-10T16:30:16.770Z"
   },
   {
    "duration": 4,
    "start_time": "2022-08-10T16:30:22.682Z"
   },
   {
    "duration": 5,
    "start_time": "2022-08-10T16:30:34.217Z"
   },
   {
    "duration": 5,
    "start_time": "2022-08-10T16:31:24.063Z"
   },
   {
    "duration": 6,
    "start_time": "2022-08-10T16:31:33.593Z"
   },
   {
    "duration": 69,
    "start_time": "2022-08-10T16:34:37.781Z"
   },
   {
    "duration": 8,
    "start_time": "2022-08-10T16:34:42.523Z"
   },
   {
    "duration": 5,
    "start_time": "2022-08-10T16:34:50.853Z"
   },
   {
    "duration": 7,
    "start_time": "2022-08-10T16:34:57.531Z"
   },
   {
    "duration": 4,
    "start_time": "2022-08-10T16:36:32.864Z"
   },
   {
    "duration": 4,
    "start_time": "2022-08-10T16:36:33.084Z"
   },
   {
    "duration": 6,
    "start_time": "2022-08-10T16:36:34.885Z"
   },
   {
    "duration": 5,
    "start_time": "2022-08-10T16:37:43.779Z"
   },
   {
    "duration": 7,
    "start_time": "2022-08-10T16:37:49.953Z"
   },
   {
    "duration": 4,
    "start_time": "2022-08-10T16:38:02.853Z"
   },
   {
    "duration": 6,
    "start_time": "2022-08-10T16:38:08.759Z"
   },
   {
    "duration": 9,
    "start_time": "2022-08-10T16:39:10.913Z"
   },
   {
    "duration": 8,
    "start_time": "2022-08-10T16:39:19.630Z"
   },
   {
    "duration": 8,
    "start_time": "2022-08-10T16:39:34.473Z"
   },
   {
    "duration": 6,
    "start_time": "2022-08-10T16:40:16.472Z"
   },
   {
    "duration": 5,
    "start_time": "2022-08-10T16:40:48.912Z"
   },
   {
    "duration": 9,
    "start_time": "2022-08-10T16:48:32.433Z"
   },
   {
    "duration": 5,
    "start_time": "2022-08-10T16:48:42.605Z"
   },
   {
    "duration": 5,
    "start_time": "2022-08-10T16:49:57.004Z"
   },
   {
    "duration": 5,
    "start_time": "2022-08-10T16:50:04.608Z"
   },
   {
    "duration": 7,
    "start_time": "2022-08-10T16:50:16.278Z"
   },
   {
    "duration": 10,
    "start_time": "2022-08-10T16:52:56.377Z"
   },
   {
    "duration": 4,
    "start_time": "2022-08-10T16:54:48.199Z"
   },
   {
    "duration": 13,
    "start_time": "2022-08-10T17:00:54.976Z"
   },
   {
    "duration": 6,
    "start_time": "2022-08-10T17:01:00.555Z"
   },
   {
    "duration": 9,
    "start_time": "2022-08-10T17:09:41.047Z"
   },
   {
    "duration": 9,
    "start_time": "2022-08-10T17:09:59.083Z"
   },
   {
    "duration": 111,
    "start_time": "2022-08-10T17:10:03.236Z"
   },
   {
    "duration": 105,
    "start_time": "2022-08-10T17:11:58.066Z"
   },
   {
    "duration": 117,
    "start_time": "2022-08-10T17:12:11.352Z"
   },
   {
    "duration": 8,
    "start_time": "2022-08-10T17:12:20.624Z"
   },
   {
    "duration": 6,
    "start_time": "2022-08-10T17:12:32.420Z"
   },
   {
    "duration": 5,
    "start_time": "2022-08-10T17:12:38.711Z"
   },
   {
    "duration": 9,
    "start_time": "2022-08-10T17:12:52.284Z"
   },
   {
    "duration": 58,
    "start_time": "2022-08-10T17:14:34.754Z"
   },
   {
    "duration": 5286,
    "start_time": "2022-08-10T17:14:57.663Z"
   },
   {
    "duration": 10,
    "start_time": "2022-08-10T17:15:15.668Z"
   },
   {
    "duration": 11,
    "start_time": "2022-08-10T17:15:51.057Z"
   },
   {
    "duration": 7,
    "start_time": "2022-08-10T17:16:04.777Z"
   },
   {
    "duration": 6,
    "start_time": "2022-08-10T17:16:18.669Z"
   },
   {
    "duration": 6,
    "start_time": "2022-08-10T17:16:25.035Z"
   },
   {
    "duration": 10,
    "start_time": "2022-08-10T17:16:49.494Z"
   },
   {
    "duration": 8,
    "start_time": "2022-08-10T17:17:07.323Z"
   },
   {
    "duration": 5,
    "start_time": "2022-08-10T17:17:22.965Z"
   },
   {
    "duration": 11,
    "start_time": "2022-08-10T17:17:25.712Z"
   },
   {
    "duration": 8,
    "start_time": "2022-08-10T17:18:08.786Z"
   },
   {
    "duration": 7,
    "start_time": "2022-08-10T17:19:32.666Z"
   },
   {
    "duration": 9,
    "start_time": "2022-08-10T17:21:43.165Z"
   },
   {
    "duration": 68,
    "start_time": "2022-08-10T17:23:11.331Z"
   },
   {
    "duration": 65,
    "start_time": "2022-08-10T17:23:16.809Z"
   },
   {
    "duration": 12,
    "start_time": "2022-08-10T17:23:28.309Z"
   },
   {
    "duration": 9,
    "start_time": "2022-08-10T17:23:36.302Z"
   },
   {
    "duration": 10,
    "start_time": "2022-08-10T17:23:41.069Z"
   },
   {
    "duration": 6,
    "start_time": "2022-08-10T17:23:43.966Z"
   },
   {
    "duration": 9,
    "start_time": "2022-08-10T17:24:16.512Z"
   },
   {
    "duration": 208,
    "start_time": "2022-08-10T17:27:56.738Z"
   },
   {
    "duration": 431,
    "start_time": "2022-08-10T17:33:54.594Z"
   },
   {
    "duration": 121,
    "start_time": "2022-08-10T17:33:55.026Z"
   },
   {
    "duration": 15,
    "start_time": "2022-08-10T17:33:55.149Z"
   },
   {
    "duration": 2220,
    "start_time": "2022-08-10T17:33:55.166Z"
   },
   {
    "duration": 286,
    "start_time": "2022-08-10T17:33:57.389Z"
   },
   {
    "duration": 6,
    "start_time": "2022-08-10T17:33:57.676Z"
   },
   {
    "duration": 6,
    "start_time": "2022-08-10T17:33:57.684Z"
   },
   {
    "duration": 19,
    "start_time": "2022-08-10T17:33:57.691Z"
   },
   {
    "duration": 7,
    "start_time": "2022-08-10T17:33:57.712Z"
   },
   {
    "duration": 17,
    "start_time": "2022-08-10T17:33:57.721Z"
   },
   {
    "duration": 8,
    "start_time": "2022-08-10T17:33:57.739Z"
   },
   {
    "duration": 6,
    "start_time": "2022-08-10T17:33:57.749Z"
   },
   {
    "duration": 428,
    "start_time": "2022-08-10T17:33:57.757Z"
   },
   {
    "duration": 0,
    "start_time": "2022-08-10T17:33:58.187Z"
   },
   {
    "duration": 6,
    "start_time": "2022-08-10T17:41:09.001Z"
   },
   {
    "duration": 30,
    "start_time": "2022-08-10T17:58:43.307Z"
   },
   {
    "duration": 23,
    "start_time": "2022-08-10T17:59:29.935Z"
   },
   {
    "duration": 8,
    "start_time": "2022-08-10T17:59:37.252Z"
   },
   {
    "duration": 15,
    "start_time": "2022-08-10T18:07:10.324Z"
   },
   {
    "duration": 6,
    "start_time": "2022-08-10T18:09:20.986Z"
   },
   {
    "duration": 15,
    "start_time": "2022-08-10T18:09:23.030Z"
   },
   {
    "duration": 7,
    "start_time": "2022-08-10T18:09:26.212Z"
   },
   {
    "duration": 6,
    "start_time": "2022-08-10T18:09:55.541Z"
   },
   {
    "duration": 15,
    "start_time": "2022-08-10T18:18:42.305Z"
   },
   {
    "duration": 16,
    "start_time": "2022-08-10T18:18:42.702Z"
   },
   {
    "duration": 6,
    "start_time": "2022-08-10T18:26:43.067Z"
   },
   {
    "duration": 14,
    "start_time": "2022-08-10T18:34:24.882Z"
   },
   {
    "duration": 5,
    "start_time": "2022-08-10T18:35:36.031Z"
   },
   {
    "duration": 37,
    "start_time": "2022-08-10T18:35:38.325Z"
   },
   {
    "duration": 5,
    "start_time": "2022-08-10T18:35:38.534Z"
   },
   {
    "duration": 341,
    "start_time": "2022-08-10T18:36:56.568Z"
   },
   {
    "duration": 121,
    "start_time": "2022-08-10T18:36:56.911Z"
   },
   {
    "duration": 14,
    "start_time": "2022-08-10T18:36:57.033Z"
   },
   {
    "duration": 2162,
    "start_time": "2022-08-10T18:36:57.048Z"
   },
   {
    "duration": 270,
    "start_time": "2022-08-10T18:36:59.212Z"
   },
   {
    "duration": 6,
    "start_time": "2022-08-10T18:36:59.483Z"
   },
   {
    "duration": 11,
    "start_time": "2022-08-10T18:36:59.491Z"
   },
   {
    "duration": 15,
    "start_time": "2022-08-10T18:36:59.508Z"
   },
   {
    "duration": 8,
    "start_time": "2022-08-10T18:36:59.525Z"
   },
   {
    "duration": 14,
    "start_time": "2022-08-10T18:36:59.535Z"
   },
   {
    "duration": 17,
    "start_time": "2022-08-10T18:36:59.551Z"
   },
   {
    "duration": 12,
    "start_time": "2022-08-10T18:36:59.569Z"
   },
   {
    "duration": 9,
    "start_time": "2022-08-10T18:36:59.582Z"
   },
   {
    "duration": 45,
    "start_time": "2022-08-10T18:36:59.593Z"
   },
   {
    "duration": 5,
    "start_time": "2022-08-10T18:36:59.639Z"
   },
   {
    "duration": 3,
    "start_time": "2022-08-10T18:43:19.817Z"
   },
   {
    "duration": 8,
    "start_time": "2022-08-10T18:53:47.966Z"
   },
   {
    "duration": 370,
    "start_time": "2022-08-10T18:56:15.764Z"
   },
   {
    "duration": 123,
    "start_time": "2022-08-10T18:56:16.136Z"
   },
   {
    "duration": 14,
    "start_time": "2022-08-10T18:56:16.261Z"
   },
   {
    "duration": 2242,
    "start_time": "2022-08-10T18:56:16.277Z"
   },
   {
    "duration": 287,
    "start_time": "2022-08-10T18:56:18.521Z"
   },
   {
    "duration": 6,
    "start_time": "2022-08-10T18:56:18.810Z"
   },
   {
    "duration": 10,
    "start_time": "2022-08-10T18:56:18.818Z"
   },
   {
    "duration": 4,
    "start_time": "2022-08-10T18:56:18.829Z"
   },
   {
    "duration": 9,
    "start_time": "2022-08-10T18:56:18.834Z"
   },
   {
    "duration": 8,
    "start_time": "2022-08-10T18:56:18.845Z"
   },
   {
    "duration": 8,
    "start_time": "2022-08-10T18:56:18.855Z"
   },
   {
    "duration": 51,
    "start_time": "2022-08-10T18:56:18.865Z"
   },
   {
    "duration": 5,
    "start_time": "2022-08-10T18:59:51.528Z"
   },
   {
    "duration": 6,
    "start_time": "2022-08-10T19:00:01.999Z"
   },
   {
    "duration": 6,
    "start_time": "2022-08-10T19:03:05.066Z"
   },
   {
    "duration": 8,
    "start_time": "2022-08-10T19:03:08.847Z"
   },
   {
    "duration": 16396,
    "start_time": "2022-08-10T19:04:14.754Z"
   },
   {
    "duration": 20,
    "start_time": "2022-08-10T19:05:34.269Z"
   },
   {
    "duration": 834,
    "start_time": "2022-08-10T19:07:54.950Z"
   },
   {
    "duration": 7,
    "start_time": "2022-08-10T19:15:54.096Z"
   },
   {
    "duration": 8,
    "start_time": "2022-08-10T19:15:57.095Z"
   },
   {
    "duration": 5,
    "start_time": "2022-08-10T19:16:49.091Z"
   },
   {
    "duration": 7,
    "start_time": "2022-08-10T19:18:57.179Z"
   },
   {
    "duration": 4,
    "start_time": "2022-08-10T19:19:03.485Z"
   },
   {
    "duration": 323,
    "start_time": "2022-08-10T19:24:56.787Z"
   },
   {
    "duration": 9,
    "start_time": "2022-08-10T19:25:06.541Z"
   },
   {
    "duration": 9,
    "start_time": "2022-08-10T19:25:09.462Z"
   },
   {
    "duration": 22,
    "start_time": "2022-08-10T19:40:59.075Z"
   },
   {
    "duration": 20,
    "start_time": "2022-08-10T19:41:11.389Z"
   },
   {
    "duration": 19,
    "start_time": "2022-08-10T19:41:16.276Z"
   },
   {
    "duration": 19,
    "start_time": "2022-08-10T19:42:09.069Z"
   },
   {
    "duration": 15,
    "start_time": "2022-08-10T19:47:23.730Z"
   },
   {
    "duration": 23,
    "start_time": "2022-08-10T19:47:55.929Z"
   },
   {
    "duration": 352,
    "start_time": "2022-08-10T19:48:31.650Z"
   },
   {
    "duration": 118,
    "start_time": "2022-08-10T19:48:32.004Z"
   },
   {
    "duration": 14,
    "start_time": "2022-08-10T19:48:32.124Z"
   },
   {
    "duration": 2102,
    "start_time": "2022-08-10T19:48:32.140Z"
   },
   {
    "duration": 248,
    "start_time": "2022-08-10T19:48:34.243Z"
   },
   {
    "duration": 6,
    "start_time": "2022-08-10T19:48:34.492Z"
   },
   {
    "duration": 35,
    "start_time": "2022-08-10T19:48:34.508Z"
   },
   {
    "duration": 9,
    "start_time": "2022-08-10T19:48:34.545Z"
   },
   {
    "duration": 15,
    "start_time": "2022-08-10T19:48:34.556Z"
   },
   {
    "duration": 30,
    "start_time": "2022-08-10T19:48:34.573Z"
   },
   {
    "duration": 6,
    "start_time": "2022-08-10T19:48:34.605Z"
   },
   {
    "duration": 45,
    "start_time": "2022-08-10T19:48:34.613Z"
   },
   {
    "duration": 7,
    "start_time": "2022-08-10T19:53:44.287Z"
   },
   {
    "duration": 10,
    "start_time": "2022-08-10T19:55:11.230Z"
   },
   {
    "duration": 5,
    "start_time": "2022-08-10T19:58:49.339Z"
   },
   {
    "duration": 5,
    "start_time": "2022-08-10T19:59:00.499Z"
   },
   {
    "duration": 17,
    "start_time": "2022-08-10T20:26:30.751Z"
   },
   {
    "duration": 7,
    "start_time": "2022-08-10T20:26:39.189Z"
   },
   {
    "duration": 7,
    "start_time": "2022-08-10T20:27:06.047Z"
   },
   {
    "duration": 6,
    "start_time": "2022-08-10T20:27:14.182Z"
   },
   {
    "duration": 9,
    "start_time": "2022-08-10T20:27:20.336Z"
   },
   {
    "duration": 9,
    "start_time": "2022-08-10T20:30:14.958Z"
   },
   {
    "duration": 9,
    "start_time": "2022-08-10T20:30:23.427Z"
   },
   {
    "duration": 5,
    "start_time": "2022-08-10T20:34:59.025Z"
   },
   {
    "duration": 1701,
    "start_time": "2022-08-10T20:35:50.734Z"
   },
   {
    "duration": 54,
    "start_time": "2022-08-10T20:36:02.197Z"
   },
   {
    "duration": 66,
    "start_time": "2022-08-10T20:36:45.469Z"
   },
   {
    "duration": 50,
    "start_time": "2022-08-10T20:45:13.069Z"
   },
   {
    "duration": 48,
    "start_time": "2022-08-10T20:45:24.212Z"
   },
   {
    "duration": 898,
    "start_time": "2022-08-10T20:49:48.255Z"
   },
   {
    "duration": 77,
    "start_time": "2022-08-10T20:50:07.114Z"
   },
   {
    "duration": 15082,
    "start_time": "2022-08-10T20:50:54.421Z"
   },
   {
    "duration": 16,
    "start_time": "2022-08-10T20:51:16.934Z"
   },
   {
    "duration": 329,
    "start_time": "2022-08-10T20:51:38.373Z"
   },
   {
    "duration": 5,
    "start_time": "2022-08-10T20:51:48.569Z"
   },
   {
    "duration": 250,
    "start_time": "2022-08-10T20:51:59.544Z"
   },
   {
    "duration": 7,
    "start_time": "2022-08-10T20:52:03.848Z"
   },
   {
    "duration": 631,
    "start_time": "2022-08-10T20:53:18.710Z"
   },
   {
    "duration": 393,
    "start_time": "2022-08-10T20:53:49.074Z"
   },
   {
    "duration": 119,
    "start_time": "2022-08-10T20:53:49.469Z"
   },
   {
    "duration": 20,
    "start_time": "2022-08-10T20:53:49.589Z"
   },
   {
    "duration": 2027,
    "start_time": "2022-08-10T20:53:49.611Z"
   },
   {
    "duration": 277,
    "start_time": "2022-08-10T20:53:51.642Z"
   },
   {
    "duration": 6,
    "start_time": "2022-08-10T20:53:51.920Z"
   },
   {
    "duration": 28,
    "start_time": "2022-08-10T20:53:51.928Z"
   },
   {
    "duration": 9,
    "start_time": "2022-08-10T20:53:51.958Z"
   },
   {
    "duration": 11,
    "start_time": "2022-08-10T20:53:51.969Z"
   },
   {
    "duration": 45,
    "start_time": "2022-08-10T20:53:51.982Z"
   },
   {
    "duration": 31,
    "start_time": "2022-08-10T20:53:52.029Z"
   },
   {
    "duration": 15,
    "start_time": "2022-08-10T20:53:52.061Z"
   },
   {
    "duration": 331,
    "start_time": "2022-08-10T20:53:52.078Z"
   },
   {
    "duration": 0,
    "start_time": "2022-08-10T20:53:52.410Z"
   },
   {
    "duration": 0,
    "start_time": "2022-08-10T20:53:52.412Z"
   },
   {
    "duration": 0,
    "start_time": "2022-08-10T20:53:52.413Z"
   },
   {
    "duration": 264,
    "start_time": "2022-08-10T20:54:36.864Z"
   },
   {
    "duration": 189,
    "start_time": "2022-08-10T20:59:38.017Z"
   },
   {
    "duration": 13,
    "start_time": "2022-08-10T20:59:53.561Z"
   },
   {
    "duration": 360,
    "start_time": "2022-08-10T21:00:05.650Z"
   },
   {
    "duration": 53,
    "start_time": "2022-08-10T21:02:33.995Z"
   },
   {
    "duration": 57,
    "start_time": "2022-08-10T21:02:40.589Z"
   },
   {
    "duration": 78,
    "start_time": "2022-08-10T21:03:16.753Z"
   },
   {
    "duration": 9359,
    "start_time": "2022-08-10T21:04:17.074Z"
   },
   {
    "duration": 270,
    "start_time": "2022-08-10T21:06:53.983Z"
   },
   {
    "duration": 405,
    "start_time": "2022-08-10T21:07:10.118Z"
   },
   {
    "duration": 121,
    "start_time": "2022-08-10T21:07:10.525Z"
   },
   {
    "duration": 14,
    "start_time": "2022-08-10T21:07:10.647Z"
   },
   {
    "duration": 2039,
    "start_time": "2022-08-10T21:07:10.663Z"
   },
   {
    "duration": 253,
    "start_time": "2022-08-10T21:07:12.704Z"
   },
   {
    "duration": 7,
    "start_time": "2022-08-10T21:07:12.959Z"
   },
   {
    "duration": 28,
    "start_time": "2022-08-10T21:07:12.968Z"
   },
   {
    "duration": 9,
    "start_time": "2022-08-10T21:07:13.008Z"
   },
   {
    "duration": 14,
    "start_time": "2022-08-10T21:07:13.018Z"
   },
   {
    "duration": 27,
    "start_time": "2022-08-10T21:07:13.034Z"
   },
   {
    "duration": 7,
    "start_time": "2022-08-10T21:07:13.063Z"
   },
   {
    "duration": 19,
    "start_time": "2022-08-10T21:07:13.071Z"
   },
   {
    "duration": 264,
    "start_time": "2022-08-10T21:07:13.092Z"
   },
   {
    "duration": 53,
    "start_time": "2022-08-10T21:07:13.358Z"
   },
   {
    "duration": 0,
    "start_time": "2022-08-10T21:07:13.413Z"
   },
   {
    "duration": 0,
    "start_time": "2022-08-10T21:07:13.414Z"
   },
   {
    "duration": 372,
    "start_time": "2022-08-10T21:08:01.463Z"
   },
   {
    "duration": 7,
    "start_time": "2022-08-10T21:08:20.419Z"
   },
   {
    "duration": 6,
    "start_time": "2022-08-10T21:08:31.457Z"
   },
   {
    "duration": 390,
    "start_time": "2022-08-10T21:11:14.192Z"
   },
   {
    "duration": 352,
    "start_time": "2022-08-10T21:11:34.449Z"
   },
   {
    "duration": 117,
    "start_time": "2022-08-10T21:11:34.803Z"
   },
   {
    "duration": 13,
    "start_time": "2022-08-10T21:11:34.921Z"
   },
   {
    "duration": 1962,
    "start_time": "2022-08-10T21:11:34.936Z"
   },
   {
    "duration": 257,
    "start_time": "2022-08-10T21:11:36.900Z"
   },
   {
    "duration": 6,
    "start_time": "2022-08-10T21:11:37.159Z"
   },
   {
    "duration": 45,
    "start_time": "2022-08-10T21:11:37.167Z"
   },
   {
    "duration": 11,
    "start_time": "2022-08-10T21:11:37.214Z"
   },
   {
    "duration": 20,
    "start_time": "2022-08-10T21:11:37.228Z"
   },
   {
    "duration": 22,
    "start_time": "2022-08-10T21:11:37.251Z"
   },
   {
    "duration": 9,
    "start_time": "2022-08-10T21:11:37.275Z"
   },
   {
    "duration": 7,
    "start_time": "2022-08-10T21:11:37.308Z"
   },
   {
    "duration": 484,
    "start_time": "2022-08-10T21:11:37.317Z"
   },
   {
    "duration": 0,
    "start_time": "2022-08-10T21:11:37.802Z"
   },
   {
    "duration": 0,
    "start_time": "2022-08-10T21:11:37.803Z"
   },
   {
    "duration": 0,
    "start_time": "2022-08-10T21:11:37.804Z"
   },
   {
    "duration": 334,
    "start_time": "2022-08-10T21:12:03.842Z"
   },
   {
    "duration": 386,
    "start_time": "2022-08-10T21:12:10.040Z"
   },
   {
    "duration": 124,
    "start_time": "2022-08-10T21:12:10.428Z"
   },
   {
    "duration": 15,
    "start_time": "2022-08-10T21:12:10.556Z"
   },
   {
    "duration": 2038,
    "start_time": "2022-08-10T21:12:10.572Z"
   },
   {
    "duration": 250,
    "start_time": "2022-08-10T21:12:12.611Z"
   },
   {
    "duration": 7,
    "start_time": "2022-08-10T21:12:12.863Z"
   },
   {
    "duration": 44,
    "start_time": "2022-08-10T21:12:12.871Z"
   },
   {
    "duration": 10,
    "start_time": "2022-08-10T21:12:12.916Z"
   },
   {
    "duration": 9,
    "start_time": "2022-08-10T21:12:12.929Z"
   },
   {
    "duration": 16,
    "start_time": "2022-08-10T21:12:12.940Z"
   },
   {
    "duration": 7,
    "start_time": "2022-08-10T21:12:12.958Z"
   },
   {
    "duration": 6,
    "start_time": "2022-08-10T21:12:12.967Z"
   },
   {
    "duration": 462,
    "start_time": "2022-08-10T21:12:13.010Z"
   },
   {
    "duration": 0,
    "start_time": "2022-08-10T21:12:13.474Z"
   },
   {
    "duration": 0,
    "start_time": "2022-08-10T21:12:13.475Z"
   },
   {
    "duration": 0,
    "start_time": "2022-08-10T21:12:13.476Z"
   },
   {
    "duration": 5,
    "start_time": "2022-08-10T21:12:34.815Z"
   },
   {
    "duration": 8,
    "start_time": "2022-08-10T21:12:50.315Z"
   },
   {
    "duration": 500,
    "start_time": "2022-08-10T21:13:22.881Z"
   },
   {
    "duration": 350,
    "start_time": "2022-08-10T21:14:53.454Z"
   },
   {
    "duration": 116,
    "start_time": "2022-08-10T21:14:53.805Z"
   },
   {
    "duration": 14,
    "start_time": "2022-08-10T21:14:53.922Z"
   },
   {
    "duration": 384,
    "start_time": "2022-08-10T21:14:55.543Z"
   },
   {
    "duration": 130,
    "start_time": "2022-08-10T21:14:55.929Z"
   },
   {
    "duration": 14,
    "start_time": "2022-08-10T21:14:56.060Z"
   },
   {
    "duration": 2082,
    "start_time": "2022-08-10T21:14:56.076Z"
   },
   {
    "duration": 242,
    "start_time": "2022-08-10T21:14:58.160Z"
   },
   {
    "duration": 6,
    "start_time": "2022-08-10T21:14:58.408Z"
   },
   {
    "duration": 27,
    "start_time": "2022-08-10T21:14:58.415Z"
   },
   {
    "duration": 8,
    "start_time": "2022-08-10T21:14:58.444Z"
   },
   {
    "duration": 8,
    "start_time": "2022-08-10T21:14:58.454Z"
   },
   {
    "duration": 15,
    "start_time": "2022-08-10T21:14:58.464Z"
   },
   {
    "duration": 608,
    "start_time": "2022-08-10T21:14:58.480Z"
   },
   {
    "duration": 5,
    "start_time": "2022-08-10T21:14:59.090Z"
   },
   {
    "duration": 45,
    "start_time": "2022-08-10T21:14:59.097Z"
   },
   {
    "duration": 8,
    "start_time": "2022-08-10T21:15:04.882Z"
   },
   {
    "duration": 374,
    "start_time": "2022-08-10T21:23:44.075Z"
   },
   {
    "duration": 120,
    "start_time": "2022-08-10T21:23:44.451Z"
   },
   {
    "duration": 13,
    "start_time": "2022-08-10T21:23:44.574Z"
   },
   {
    "duration": 2006,
    "start_time": "2022-08-10T21:23:44.588Z"
   },
   {
    "duration": 250,
    "start_time": "2022-08-10T21:23:46.595Z"
   },
   {
    "duration": 5,
    "start_time": "2022-08-10T21:23:46.847Z"
   },
   {
    "duration": 26,
    "start_time": "2022-08-10T21:23:46.854Z"
   },
   {
    "duration": 29,
    "start_time": "2022-08-10T21:23:46.881Z"
   },
   {
    "duration": 9,
    "start_time": "2022-08-10T21:23:46.912Z"
   },
   {
    "duration": 15,
    "start_time": "2022-08-10T21:23:46.922Z"
   },
   {
    "duration": 54,
    "start_time": "2022-08-10T21:23:46.938Z"
   },
   {
    "duration": 0,
    "start_time": "2022-08-10T21:23:46.994Z"
   },
   {
    "duration": 0,
    "start_time": "2022-08-10T21:23:46.995Z"
   },
   {
    "duration": 0,
    "start_time": "2022-08-10T21:23:46.996Z"
   },
   {
    "duration": 7,
    "start_time": "2022-08-10T21:24:06.358Z"
   },
   {
    "duration": 8,
    "start_time": "2022-08-10T21:24:10.995Z"
   },
   {
    "duration": 6,
    "start_time": "2022-08-10T21:40:28.987Z"
   },
   {
    "duration": 6,
    "start_time": "2022-08-10T21:40:38.897Z"
   },
   {
    "duration": 2056,
    "start_time": "2022-08-10T21:41:05.399Z"
   },
   {
    "duration": 112,
    "start_time": "2022-08-10T21:41:45.653Z"
   },
   {
    "duration": 80,
    "start_time": "2022-08-10T21:42:45.493Z"
   },
   {
    "duration": 361,
    "start_time": "2022-08-10T21:42:52.950Z"
   },
   {
    "duration": 123,
    "start_time": "2022-08-10T21:42:53.312Z"
   },
   {
    "duration": 14,
    "start_time": "2022-08-10T21:42:53.437Z"
   },
   {
    "duration": 1945,
    "start_time": "2022-08-10T21:42:53.453Z"
   },
   {
    "duration": 239,
    "start_time": "2022-08-10T21:42:55.400Z"
   },
   {
    "duration": 5,
    "start_time": "2022-08-10T21:42:55.641Z"
   },
   {
    "duration": 29,
    "start_time": "2022-08-10T21:42:55.648Z"
   },
   {
    "duration": 9,
    "start_time": "2022-08-10T21:42:55.679Z"
   },
   {
    "duration": 30,
    "start_time": "2022-08-10T21:42:55.689Z"
   },
   {
    "duration": 95,
    "start_time": "2022-08-10T21:42:55.722Z"
   },
   {
    "duration": 0,
    "start_time": "2022-08-10T21:42:55.819Z"
   },
   {
    "duration": 0,
    "start_time": "2022-08-10T21:42:55.820Z"
   },
   {
    "duration": 0,
    "start_time": "2022-08-10T21:42:55.822Z"
   },
   {
    "duration": 0,
    "start_time": "2022-08-10T21:42:55.823Z"
   },
   {
    "duration": 400,
    "start_time": "2022-08-10T21:43:20.678Z"
   },
   {
    "duration": 117,
    "start_time": "2022-08-10T21:43:21.080Z"
   },
   {
    "duration": 21,
    "start_time": "2022-08-10T21:43:21.199Z"
   },
   {
    "duration": 2012,
    "start_time": "2022-08-10T21:43:21.222Z"
   },
   {
    "duration": 232,
    "start_time": "2022-08-10T21:43:23.236Z"
   },
   {
    "duration": 6,
    "start_time": "2022-08-10T21:43:23.469Z"
   },
   {
    "duration": 34,
    "start_time": "2022-08-10T21:43:23.476Z"
   },
   {
    "duration": 9,
    "start_time": "2022-08-10T21:43:23.512Z"
   },
   {
    "duration": 13,
    "start_time": "2022-08-10T21:43:23.522Z"
   },
   {
    "duration": 20,
    "start_time": "2022-08-10T21:43:23.538Z"
   },
   {
    "duration": 3,
    "start_time": "2022-08-10T21:43:23.559Z"
   },
   {
    "duration": 24,
    "start_time": "2022-08-10T21:43:23.563Z"
   },
   {
    "duration": 23,
    "start_time": "2022-08-10T21:43:23.588Z"
   },
   {
    "duration": 37,
    "start_time": "2022-08-10T21:43:23.613Z"
   },
   {
    "duration": 8,
    "start_time": "2022-08-10T21:43:33.557Z"
   },
   {
    "duration": 12,
    "start_time": "2022-08-10T21:43:46.320Z"
   },
   {
    "duration": 2007,
    "start_time": "2022-08-10T21:44:06.919Z"
   },
   {
    "duration": 414,
    "start_time": "2022-08-10T21:52:41.196Z"
   },
   {
    "duration": 125,
    "start_time": "2022-08-10T21:52:41.612Z"
   },
   {
    "duration": 14,
    "start_time": "2022-08-10T21:52:41.738Z"
   },
   {
    "duration": 1996,
    "start_time": "2022-08-10T21:52:41.754Z"
   },
   {
    "duration": 232,
    "start_time": "2022-08-10T21:52:43.751Z"
   },
   {
    "duration": 6,
    "start_time": "2022-08-10T21:52:43.984Z"
   },
   {
    "duration": 34,
    "start_time": "2022-08-10T21:52:43.992Z"
   },
   {
    "duration": 9,
    "start_time": "2022-08-10T21:52:44.027Z"
   },
   {
    "duration": 10,
    "start_time": "2022-08-10T21:52:44.038Z"
   },
   {
    "duration": 25,
    "start_time": "2022-08-10T21:52:44.050Z"
   },
   {
    "duration": 4,
    "start_time": "2022-08-10T21:52:44.077Z"
   },
   {
    "duration": 31,
    "start_time": "2022-08-10T21:52:44.083Z"
   },
   {
    "duration": 35,
    "start_time": "2022-08-10T21:52:44.116Z"
   },
   {
    "duration": 66,
    "start_time": "2022-08-10T22:13:57.338Z"
   },
   {
    "duration": 5,
    "start_time": "2022-08-10T22:14:32.089Z"
   },
   {
    "duration": 15,
    "start_time": "2022-08-10T22:14:56.851Z"
   },
   {
    "duration": 12,
    "start_time": "2022-08-10T22:16:18.025Z"
   },
   {
    "duration": 12,
    "start_time": "2022-08-10T22:16:29.901Z"
   },
   {
    "duration": 12,
    "start_time": "2022-08-10T22:16:35.625Z"
   },
   {
    "duration": 13,
    "start_time": "2022-08-10T22:16:38.617Z"
   },
   {
    "duration": 12,
    "start_time": "2022-08-10T22:17:15.814Z"
   },
   {
    "duration": 20,
    "start_time": "2022-08-10T22:38:55.180Z"
   },
   {
    "duration": 956,
    "start_time": "2022-08-10T23:04:46.711Z"
   },
   {
    "duration": 5,
    "start_time": "2022-08-10T23:04:50.066Z"
   },
   {
    "duration": 6,
    "start_time": "2022-08-10T23:04:59.377Z"
   },
   {
    "duration": 8,
    "start_time": "2022-08-10T23:07:07.546Z"
   },
   {
    "duration": 8,
    "start_time": "2022-08-10T23:07:19.027Z"
   },
   {
    "duration": 23,
    "start_time": "2022-08-10T23:08:06.285Z"
   },
   {
    "duration": 7,
    "start_time": "2022-08-10T23:08:28.338Z"
   },
   {
    "duration": 5,
    "start_time": "2022-08-10T23:10:34.378Z"
   },
   {
    "duration": 129,
    "start_time": "2022-08-10T23:10:40.418Z"
   },
   {
    "duration": 219,
    "start_time": "2022-08-10T23:11:13.654Z"
   },
   {
    "duration": 132,
    "start_time": "2022-08-10T23:12:46.607Z"
   },
   {
    "duration": 155,
    "start_time": "2022-08-10T23:12:54.446Z"
   },
   {
    "duration": 125,
    "start_time": "2022-08-10T23:12:58.337Z"
   },
   {
    "duration": 952,
    "start_time": "2022-08-10T23:17:07.294Z"
   },
   {
    "duration": 1124,
    "start_time": "2022-08-10T23:17:13.598Z"
   },
   {
    "duration": 1312,
    "start_time": "2022-08-10T23:17:26.378Z"
   },
   {
    "duration": 47,
    "start_time": "2022-08-10T23:18:13.567Z"
   },
   {
    "duration": 56,
    "start_time": "2022-08-10T23:18:18.311Z"
   },
   {
    "duration": 2594,
    "start_time": "2022-08-10T23:18:21.339Z"
   },
   {
    "duration": 1402,
    "start_time": "2022-08-10T23:18:36.832Z"
   },
   {
    "duration": 772,
    "start_time": "2022-08-10T23:19:00.921Z"
   },
   {
    "duration": 979,
    "start_time": "2022-08-10T23:19:23.905Z"
   },
   {
    "duration": 8,
    "start_time": "2022-08-10T23:20:21.595Z"
   },
   {
    "duration": 8,
    "start_time": "2022-08-10T23:20:28.530Z"
   },
   {
    "duration": 8,
    "start_time": "2022-08-10T23:20:39.772Z"
   },
   {
    "duration": 5,
    "start_time": "2022-08-10T23:21:58.108Z"
   },
   {
    "duration": 5,
    "start_time": "2022-08-10T23:22:07.018Z"
   },
   {
    "duration": 31,
    "start_time": "2022-08-10T23:22:13.281Z"
   },
   {
    "duration": 954,
    "start_time": "2022-08-10T23:22:50.522Z"
   },
   {
    "duration": 33,
    "start_time": "2022-08-10T23:22:58.857Z"
   },
   {
    "duration": 9,
    "start_time": "2022-08-10T23:23:14.544Z"
   },
   {
    "duration": 7,
    "start_time": "2022-08-10T23:23:37.146Z"
   },
   {
    "duration": 8,
    "start_time": "2022-08-10T23:23:53.153Z"
   },
   {
    "duration": 6,
    "start_time": "2022-08-10T23:27:46.437Z"
   },
   {
    "duration": 10,
    "start_time": "2022-08-10T23:27:56.702Z"
   },
   {
    "duration": 34,
    "start_time": "2022-08-10T23:28:05.230Z"
   },
   {
    "duration": 1038,
    "start_time": "2022-08-10T23:29:07.819Z"
   },
   {
    "duration": 1127,
    "start_time": "2022-08-10T23:29:15.243Z"
   },
   {
    "duration": 7,
    "start_time": "2022-08-10T23:29:53.062Z"
   },
   {
    "duration": 7,
    "start_time": "2022-08-10T23:30:22.268Z"
   },
   {
    "duration": 7,
    "start_time": "2022-08-10T23:44:56.071Z"
   },
   {
    "duration": 5,
    "start_time": "2022-08-10T23:45:09.555Z"
   },
   {
    "duration": 683,
    "start_time": "2022-08-10T23:45:22.186Z"
   },
   {
    "duration": 6693,
    "start_time": "2022-08-10T23:45:48.373Z"
   },
   {
    "duration": 5,
    "start_time": "2022-08-10T23:47:03.132Z"
   },
   {
    "duration": 424,
    "start_time": "2022-08-10T23:47:24.382Z"
   },
   {
    "duration": 118,
    "start_time": "2022-08-10T23:47:24.810Z"
   },
   {
    "duration": 13,
    "start_time": "2022-08-10T23:47:24.930Z"
   },
   {
    "duration": 2069,
    "start_time": "2022-08-10T23:47:24.945Z"
   },
   {
    "duration": 277,
    "start_time": "2022-08-10T23:47:27.016Z"
   },
   {
    "duration": 14,
    "start_time": "2022-08-10T23:47:27.295Z"
   },
   {
    "duration": 9,
    "start_time": "2022-08-10T23:47:27.310Z"
   },
   {
    "duration": 24,
    "start_time": "2022-08-10T23:47:27.320Z"
   },
   {
    "duration": 12,
    "start_time": "2022-08-10T23:47:27.346Z"
   },
   {
    "duration": 50,
    "start_time": "2022-08-10T23:47:27.360Z"
   },
   {
    "duration": 8,
    "start_time": "2022-08-10T23:47:27.412Z"
   },
   {
    "duration": 38,
    "start_time": "2022-08-10T23:47:27.421Z"
   },
   {
    "duration": 6,
    "start_time": "2022-08-10T23:47:27.461Z"
   },
   {
    "duration": 11,
    "start_time": "2022-08-10T23:47:27.469Z"
   },
   {
    "duration": 7,
    "start_time": "2022-08-10T23:47:27.510Z"
   },
   {
    "duration": 40,
    "start_time": "2022-08-10T23:47:27.518Z"
   },
   {
    "duration": 4,
    "start_time": "2022-08-10T23:51:23.236Z"
   },
   {
    "duration": 6,
    "start_time": "2022-08-10T23:51:36.981Z"
   },
   {
    "duration": 5,
    "start_time": "2022-08-10T23:53:26.571Z"
   },
   {
    "duration": 4,
    "start_time": "2022-08-10T23:53:33.901Z"
   },
   {
    "duration": 1916,
    "start_time": "2022-08-10T23:55:43.381Z"
   },
   {
    "duration": 36,
    "start_time": "2022-08-11T00:00:20.620Z"
   },
   {
    "duration": 8,
    "start_time": "2022-08-11T00:00:28.777Z"
   },
   {
    "duration": 6,
    "start_time": "2022-08-11T00:00:35.862Z"
   },
   {
    "duration": 6,
    "start_time": "2022-08-11T00:00:42.035Z"
   },
   {
    "duration": 6,
    "start_time": "2022-08-11T00:01:19.572Z"
   },
   {
    "duration": 5,
    "start_time": "2022-08-11T00:01:23.320Z"
   },
   {
    "duration": 6,
    "start_time": "2022-08-11T00:01:29.992Z"
   },
   {
    "duration": 5,
    "start_time": "2022-08-11T00:01:55.624Z"
   },
   {
    "duration": 8,
    "start_time": "2022-08-11T00:02:12.915Z"
   },
   {
    "duration": 6,
    "start_time": "2022-08-11T00:02:47.525Z"
   },
   {
    "duration": 8,
    "start_time": "2022-08-11T00:02:50.365Z"
   },
   {
    "duration": 68,
    "start_time": "2022-08-11T00:04:30.559Z"
   },
   {
    "duration": 11,
    "start_time": "2022-08-11T00:04:41.006Z"
   },
   {
    "duration": 9,
    "start_time": "2022-08-11T00:04:51.005Z"
   },
   {
    "duration": 11,
    "start_time": "2022-08-11T00:05:10.402Z"
   },
   {
    "duration": 62,
    "start_time": "2022-08-11T00:09:09.814Z"
   },
   {
    "duration": 45,
    "start_time": "2022-08-11T08:13:19.829Z"
   },
   {
    "duration": 402,
    "start_time": "2022-08-11T08:13:27.784Z"
   },
   {
    "duration": 188,
    "start_time": "2022-08-11T08:13:28.188Z"
   },
   {
    "duration": 61,
    "start_time": "2022-08-11T08:13:28.377Z"
   },
   {
    "duration": 11,
    "start_time": "2022-08-11T08:13:28.440Z"
   },
   {
    "duration": 2143,
    "start_time": "2022-08-11T08:13:28.453Z"
   },
   {
    "duration": 275,
    "start_time": "2022-08-11T08:13:30.598Z"
   },
   {
    "duration": 5,
    "start_time": "2022-08-11T08:13:30.875Z"
   },
   {
    "duration": 21,
    "start_time": "2022-08-11T08:13:30.882Z"
   },
   {
    "duration": 27,
    "start_time": "2022-08-11T08:13:30.906Z"
   },
   {
    "duration": 15,
    "start_time": "2022-08-11T08:13:30.936Z"
   },
   {
    "duration": 21,
    "start_time": "2022-08-11T08:13:30.952Z"
   },
   {
    "duration": 11,
    "start_time": "2022-08-11T08:13:30.975Z"
   },
   {
    "duration": 53,
    "start_time": "2022-08-11T08:13:30.988Z"
   },
   {
    "duration": 6,
    "start_time": "2022-08-11T08:13:31.043Z"
   },
   {
    "duration": 7,
    "start_time": "2022-08-11T08:13:31.050Z"
   },
   {
    "duration": 4,
    "start_time": "2022-08-11T08:13:31.059Z"
   },
   {
    "duration": 12,
    "start_time": "2022-08-11T08:13:31.064Z"
   },
   {
    "duration": 8,
    "start_time": "2022-08-11T08:13:31.078Z"
   },
   {
    "duration": 23,
    "start_time": "2022-08-11T08:13:31.087Z"
   },
   {
    "duration": 6,
    "start_time": "2022-08-11T08:13:31.112Z"
   },
   {
    "duration": 5,
    "start_time": "2022-08-11T08:13:44.282Z"
   },
   {
    "duration": 17,
    "start_time": "2022-08-11T08:14:41.457Z"
   },
   {
    "duration": 81,
    "start_time": "2022-08-11T08:15:13.598Z"
   },
   {
    "duration": 16,
    "start_time": "2022-08-11T08:15:50.997Z"
   },
   {
    "duration": 3,
    "start_time": "2022-08-11T08:16:45.263Z"
   },
   {
    "duration": 6,
    "start_time": "2022-08-11T08:16:52.511Z"
   },
   {
    "duration": 7,
    "start_time": "2022-08-11T08:16:59.263Z"
   },
   {
    "duration": 13,
    "start_time": "2022-08-11T08:17:05.662Z"
   },
   {
    "duration": 421,
    "start_time": "2022-08-11T15:38:12.784Z"
   },
   {
    "duration": 340,
    "start_time": "2022-08-11T15:38:13.209Z"
   },
   {
    "duration": 68,
    "start_time": "2022-08-11T15:38:13.551Z"
   },
   {
    "duration": 14,
    "start_time": "2022-08-11T15:38:13.621Z"
   },
   {
    "duration": 2198,
    "start_time": "2022-08-11T15:38:13.636Z"
   },
   {
    "duration": 269,
    "start_time": "2022-08-11T15:38:15.836Z"
   },
   {
    "duration": 7,
    "start_time": "2022-08-11T15:38:16.108Z"
   },
   {
    "duration": 12,
    "start_time": "2022-08-11T15:38:16.116Z"
   },
   {
    "duration": 23,
    "start_time": "2022-08-11T15:38:16.130Z"
   },
   {
    "duration": 12,
    "start_time": "2022-08-11T15:38:16.154Z"
   },
   {
    "duration": 50,
    "start_time": "2022-08-11T15:38:16.167Z"
   },
   {
    "duration": 6,
    "start_time": "2022-08-11T15:38:16.218Z"
   },
   {
    "duration": 39,
    "start_time": "2022-08-11T15:38:16.225Z"
   },
   {
    "duration": 6,
    "start_time": "2022-08-11T15:38:16.265Z"
   },
   {
    "duration": 10,
    "start_time": "2022-08-11T15:38:16.272Z"
   },
   {
    "duration": 26,
    "start_time": "2022-08-11T15:38:16.283Z"
   },
   {
    "duration": 7,
    "start_time": "2022-08-11T15:38:16.311Z"
   },
   {
    "duration": 16,
    "start_time": "2022-08-11T15:38:16.319Z"
   },
   {
    "duration": 9,
    "start_time": "2022-08-11T15:38:16.337Z"
   },
   {
    "duration": 10,
    "start_time": "2022-08-11T15:38:16.347Z"
   },
   {
    "duration": 76,
    "start_time": "2022-08-11T15:39:00.256Z"
   },
   {
    "duration": 226,
    "start_time": "2022-08-11T15:41:03.758Z"
   },
   {
    "duration": 204,
    "start_time": "2022-08-11T15:41:14.566Z"
   },
   {
    "duration": 8,
    "start_time": "2022-08-11T15:42:27.402Z"
   },
   {
    "duration": 383,
    "start_time": "2022-08-11T15:43:56.319Z"
   },
   {
    "duration": 115,
    "start_time": "2022-08-11T15:43:56.704Z"
   },
   {
    "duration": 69,
    "start_time": "2022-08-11T15:43:56.820Z"
   },
   {
    "duration": 21,
    "start_time": "2022-08-11T15:43:56.891Z"
   },
   {
    "duration": 2117,
    "start_time": "2022-08-11T15:43:56.913Z"
   },
   {
    "duration": 249,
    "start_time": "2022-08-11T15:43:59.031Z"
   },
   {
    "duration": 5,
    "start_time": "2022-08-11T15:43:59.282Z"
   },
   {
    "duration": 19,
    "start_time": "2022-08-11T15:43:59.289Z"
   },
   {
    "duration": 24,
    "start_time": "2022-08-11T15:43:59.310Z"
   },
   {
    "duration": 12,
    "start_time": "2022-08-11T15:43:59.336Z"
   },
   {
    "duration": 20,
    "start_time": "2022-08-11T15:43:59.350Z"
   },
   {
    "duration": 6,
    "start_time": "2022-08-11T15:43:59.371Z"
   },
   {
    "duration": 67,
    "start_time": "2022-08-11T15:43:59.379Z"
   },
   {
    "duration": 6,
    "start_time": "2022-08-11T15:43:59.448Z"
   },
   {
    "duration": 9,
    "start_time": "2022-08-11T15:43:59.455Z"
   },
   {
    "duration": 5,
    "start_time": "2022-08-11T15:43:59.466Z"
   },
   {
    "duration": 38,
    "start_time": "2022-08-11T15:43:59.472Z"
   },
   {
    "duration": 12,
    "start_time": "2022-08-11T15:43:59.511Z"
   },
   {
    "duration": 12415,
    "start_time": "2022-08-11T15:43:59.524Z"
   },
   {
    "duration": 0,
    "start_time": "2022-08-11T15:44:11.941Z"
   },
   {
    "duration": 0,
    "start_time": "2022-08-11T15:44:11.942Z"
   },
   {
    "duration": 396,
    "start_time": "2022-08-11T15:44:47.876Z"
   },
   {
    "duration": 119,
    "start_time": "2022-08-11T15:44:48.274Z"
   },
   {
    "duration": 70,
    "start_time": "2022-08-11T15:44:48.394Z"
   },
   {
    "duration": 13,
    "start_time": "2022-08-11T15:44:48.466Z"
   },
   {
    "duration": 2137,
    "start_time": "2022-08-11T15:44:48.481Z"
   },
   {
    "duration": 291,
    "start_time": "2022-08-11T15:44:50.620Z"
   },
   {
    "duration": 6,
    "start_time": "2022-08-11T15:44:50.912Z"
   },
   {
    "duration": 17,
    "start_time": "2022-08-11T15:44:50.919Z"
   },
   {
    "duration": 27,
    "start_time": "2022-08-11T15:44:50.938Z"
   },
   {
    "duration": 13,
    "start_time": "2022-08-11T15:44:50.968Z"
   },
   {
    "duration": 23,
    "start_time": "2022-08-11T15:44:51.010Z"
   },
   {
    "duration": 6,
    "start_time": "2022-08-11T15:44:51.034Z"
   },
   {
    "duration": 36,
    "start_time": "2022-08-11T15:44:51.042Z"
   },
   {
    "duration": 31,
    "start_time": "2022-08-11T15:44:51.080Z"
   },
   {
    "duration": 7,
    "start_time": "2022-08-11T15:44:51.113Z"
   },
   {
    "duration": 7,
    "start_time": "2022-08-11T15:44:51.122Z"
   },
   {
    "duration": 7,
    "start_time": "2022-08-11T15:44:51.131Z"
   },
   {
    "duration": 14,
    "start_time": "2022-08-11T15:44:51.139Z"
   },
   {
    "duration": 445,
    "start_time": "2022-08-11T15:44:51.154Z"
   },
   {
    "duration": 0,
    "start_time": "2022-08-11T15:44:51.601Z"
   },
   {
    "duration": 0,
    "start_time": "2022-08-11T15:44:51.602Z"
   },
   {
    "duration": 18,
    "start_time": "2022-08-11T15:46:46.369Z"
   },
   {
    "duration": 64,
    "start_time": "2022-08-11T15:47:05.783Z"
   },
   {
    "duration": 10,
    "start_time": "2022-08-11T15:47:10.328Z"
   },
   {
    "duration": 8,
    "start_time": "2022-08-11T15:47:21.548Z"
   },
   {
    "duration": 10,
    "start_time": "2022-08-11T15:48:03.851Z"
   },
   {
    "duration": 238,
    "start_time": "2022-08-11T15:48:12.707Z"
   },
   {
    "duration": 128,
    "start_time": "2022-08-11T15:55:13.269Z"
   },
   {
    "duration": 51,
    "start_time": "2022-08-11T15:55:51.205Z"
   },
   {
    "duration": 2546,
    "start_time": "2022-08-11T15:56:28.470Z"
   },
   {
    "duration": 306,
    "start_time": "2022-08-11T15:56:53.159Z"
   },
   {
    "duration": 144,
    "start_time": "2022-08-11T16:00:23.440Z"
   },
   {
    "duration": 1024,
    "start_time": "2022-08-11T16:01:34.865Z"
   },
   {
    "duration": 61,
    "start_time": "2022-08-11T16:06:22.127Z"
   },
   {
    "duration": 54,
    "start_time": "2022-08-11T16:06:31.710Z"
   },
   {
    "duration": 125,
    "start_time": "2022-08-11T16:06:37.762Z"
   },
   {
    "duration": 126,
    "start_time": "2022-08-11T16:06:52.971Z"
   },
   {
    "duration": 18,
    "start_time": "2022-08-11T16:07:00.430Z"
   },
   {
    "duration": 14,
    "start_time": "2022-08-11T16:09:10.712Z"
   },
   {
    "duration": 26,
    "start_time": "2022-08-11T16:09:18.644Z"
   },
   {
    "duration": 88,
    "start_time": "2022-08-11T16:09:25.070Z"
   },
   {
    "duration": 18,
    "start_time": "2022-08-11T16:10:25.603Z"
   },
   {
    "duration": 19,
    "start_time": "2022-08-11T16:11:07.825Z"
   },
   {
    "duration": 6,
    "start_time": "2022-08-11T16:13:12.040Z"
   },
   {
    "duration": 15,
    "start_time": "2022-08-11T16:13:41.789Z"
   },
   {
    "duration": 13,
    "start_time": "2022-08-11T16:23:12.487Z"
   },
   {
    "duration": 8,
    "start_time": "2022-08-11T16:25:53.983Z"
   },
   {
    "duration": 6,
    "start_time": "2022-08-11T16:26:24.088Z"
   },
   {
    "duration": 7,
    "start_time": "2022-08-11T16:28:24.032Z"
   },
   {
    "duration": 16,
    "start_time": "2022-08-11T16:28:33.358Z"
   },
   {
    "duration": 6,
    "start_time": "2022-08-11T16:29:58.729Z"
   },
   {
    "duration": 13,
    "start_time": "2022-08-11T16:29:59.941Z"
   },
   {
    "duration": 6,
    "start_time": "2022-08-11T16:30:22.352Z"
   },
   {
    "duration": 13,
    "start_time": "2022-08-11T16:30:47.759Z"
   },
   {
    "duration": 433,
    "start_time": "2022-08-11T16:31:01.685Z"
   },
   {
    "duration": 121,
    "start_time": "2022-08-11T16:31:03.411Z"
   },
   {
    "duration": 80,
    "start_time": "2022-08-11T16:31:03.534Z"
   },
   {
    "duration": 14,
    "start_time": "2022-08-11T16:31:03.616Z"
   },
   {
    "duration": 2026,
    "start_time": "2022-08-11T16:31:03.632Z"
   },
   {
    "duration": 255,
    "start_time": "2022-08-11T16:31:05.661Z"
   },
   {
    "duration": 5,
    "start_time": "2022-08-11T16:31:05.918Z"
   },
   {
    "duration": 10,
    "start_time": "2022-08-11T16:31:05.925Z"
   },
   {
    "duration": 32,
    "start_time": "2022-08-11T16:31:05.936Z"
   },
   {
    "duration": 12,
    "start_time": "2022-08-11T16:31:05.969Z"
   },
   {
    "duration": 45,
    "start_time": "2022-08-11T16:31:05.982Z"
   },
   {
    "duration": 7,
    "start_time": "2022-08-11T16:31:06.030Z"
   },
   {
    "duration": 48,
    "start_time": "2022-08-11T16:31:06.039Z"
   },
   {
    "duration": 24,
    "start_time": "2022-08-11T16:31:06.088Z"
   },
   {
    "duration": 7,
    "start_time": "2022-08-11T16:31:06.115Z"
   },
   {
    "duration": 17,
    "start_time": "2022-08-11T16:31:06.124Z"
   },
   {
    "duration": 10,
    "start_time": "2022-08-11T16:31:06.142Z"
   },
   {
    "duration": 4,
    "start_time": "2022-08-11T16:31:06.154Z"
   },
   {
    "duration": 18,
    "start_time": "2022-08-11T16:31:06.159Z"
   },
   {
    "duration": 5,
    "start_time": "2022-08-11T16:31:06.179Z"
   },
   {
    "duration": 7,
    "start_time": "2022-08-11T16:31:08.106Z"
   },
   {
    "duration": 9,
    "start_time": "2022-08-11T16:31:08.114Z"
   },
   {
    "duration": 7,
    "start_time": "2022-08-11T16:31:08.124Z"
   },
   {
    "duration": 21,
    "start_time": "2022-08-11T16:35:55.731Z"
   },
   {
    "duration": 15,
    "start_time": "2022-08-11T16:36:14.428Z"
   },
   {
    "duration": 15,
    "start_time": "2022-08-11T16:36:30.209Z"
   },
   {
    "duration": 17,
    "start_time": "2022-08-11T16:40:41.328Z"
   },
   {
    "duration": 368,
    "start_time": "2022-08-11T16:42:54.347Z"
   },
   {
    "duration": 131,
    "start_time": "2022-08-11T16:42:54.717Z"
   },
   {
    "duration": 93,
    "start_time": "2022-08-11T16:42:54.850Z"
   },
   {
    "duration": 13,
    "start_time": "2022-08-11T16:42:54.945Z"
   },
   {
    "duration": 2190,
    "start_time": "2022-08-11T16:42:54.960Z"
   },
   {
    "duration": 328,
    "start_time": "2022-08-11T16:42:57.152Z"
   },
   {
    "duration": 6,
    "start_time": "2022-08-11T16:42:57.483Z"
   },
   {
    "duration": 33,
    "start_time": "2022-08-11T16:42:57.491Z"
   },
   {
    "duration": 26,
    "start_time": "2022-08-11T16:42:57.526Z"
   },
   {
    "duration": 13,
    "start_time": "2022-08-11T16:42:57.555Z"
   },
   {
    "duration": 41,
    "start_time": "2022-08-11T16:42:57.570Z"
   },
   {
    "duration": 11,
    "start_time": "2022-08-11T16:42:57.614Z"
   },
   {
    "duration": 47,
    "start_time": "2022-08-11T16:42:57.627Z"
   },
   {
    "duration": 8,
    "start_time": "2022-08-11T16:42:57.676Z"
   },
   {
    "duration": 31,
    "start_time": "2022-08-11T16:42:57.685Z"
   },
   {
    "duration": 7,
    "start_time": "2022-08-11T16:42:57.719Z"
   },
   {
    "duration": 21,
    "start_time": "2022-08-11T16:42:57.728Z"
   },
   {
    "duration": 25,
    "start_time": "2022-08-11T16:42:57.751Z"
   },
   {
    "duration": 6,
    "start_time": "2022-08-11T16:42:57.778Z"
   },
   {
    "duration": 45,
    "start_time": "2022-08-11T16:42:57.785Z"
   },
   {
    "duration": 7,
    "start_time": "2022-08-11T16:42:57.832Z"
   },
   {
    "duration": 356,
    "start_time": "2022-08-11T16:48:20.657Z"
   },
   {
    "duration": 118,
    "start_time": "2022-08-11T16:48:21.015Z"
   },
   {
    "duration": 93,
    "start_time": "2022-08-11T16:48:21.134Z"
   },
   {
    "duration": 16,
    "start_time": "2022-08-11T16:48:21.230Z"
   },
   {
    "duration": 2026,
    "start_time": "2022-08-11T16:48:21.248Z"
   },
   {
    "duration": 251,
    "start_time": "2022-08-11T16:48:23.275Z"
   },
   {
    "duration": 5,
    "start_time": "2022-08-11T16:48:23.528Z"
   },
   {
    "duration": 17,
    "start_time": "2022-08-11T16:48:23.535Z"
   },
   {
    "duration": 23,
    "start_time": "2022-08-11T16:48:23.553Z"
   },
   {
    "duration": 11,
    "start_time": "2022-08-11T16:48:23.578Z"
   },
   {
    "duration": 33,
    "start_time": "2022-08-11T16:48:23.590Z"
   },
   {
    "duration": 6,
    "start_time": "2022-08-11T16:48:23.625Z"
   },
   {
    "duration": 37,
    "start_time": "2022-08-11T16:48:23.632Z"
   },
   {
    "duration": 6,
    "start_time": "2022-08-11T16:48:23.670Z"
   },
   {
    "duration": 37,
    "start_time": "2022-08-11T16:48:23.677Z"
   },
   {
    "duration": 6,
    "start_time": "2022-08-11T16:48:23.717Z"
   },
   {
    "duration": 26,
    "start_time": "2022-08-11T16:48:23.725Z"
   },
   {
    "duration": 7,
    "start_time": "2022-08-11T16:48:23.752Z"
   },
   {
    "duration": 14,
    "start_time": "2022-08-11T16:48:23.760Z"
   },
   {
    "duration": 4,
    "start_time": "2022-08-11T16:48:23.776Z"
   },
   {
    "duration": 338,
    "start_time": "2022-08-11T16:48:54.367Z"
   },
   {
    "duration": 120,
    "start_time": "2022-08-11T16:48:54.710Z"
   },
   {
    "duration": 78,
    "start_time": "2022-08-11T16:48:54.832Z"
   },
   {
    "duration": 14,
    "start_time": "2022-08-11T16:48:56.247Z"
   },
   {
    "duration": 2163,
    "start_time": "2022-08-11T16:48:56.263Z"
   },
   {
    "duration": 234,
    "start_time": "2022-08-11T16:48:58.428Z"
   },
   {
    "duration": 5,
    "start_time": "2022-08-11T16:48:58.664Z"
   },
   {
    "duration": 10,
    "start_time": "2022-08-11T16:48:58.671Z"
   },
   {
    "duration": 38,
    "start_time": "2022-08-11T16:48:58.682Z"
   },
   {
    "duration": 10,
    "start_time": "2022-08-11T16:48:58.722Z"
   },
   {
    "duration": 20,
    "start_time": "2022-08-11T16:48:58.733Z"
   },
   {
    "duration": 6,
    "start_time": "2022-08-11T16:48:58.755Z"
   },
   {
    "duration": 56,
    "start_time": "2022-08-11T16:48:58.763Z"
   },
   {
    "duration": 6,
    "start_time": "2022-08-11T16:48:58.820Z"
   },
   {
    "duration": 9,
    "start_time": "2022-08-11T16:48:58.828Z"
   },
   {
    "duration": 4,
    "start_time": "2022-08-11T16:48:58.839Z"
   },
   {
    "duration": 23,
    "start_time": "2022-08-11T16:48:58.845Z"
   },
   {
    "duration": 6,
    "start_time": "2022-08-11T16:48:58.870Z"
   },
   {
    "duration": 37,
    "start_time": "2022-08-11T16:48:58.877Z"
   },
   {
    "duration": 7,
    "start_time": "2022-08-11T16:48:58.915Z"
   },
   {
    "duration": 381,
    "start_time": "2022-08-11T16:53:37.775Z"
   },
   {
    "duration": 115,
    "start_time": "2022-08-11T16:53:38.158Z"
   },
   {
    "duration": 85,
    "start_time": "2022-08-11T16:53:38.275Z"
   },
   {
    "duration": 14,
    "start_time": "2022-08-11T16:53:38.362Z"
   },
   {
    "duration": 2132,
    "start_time": "2022-08-11T16:53:38.378Z"
   },
   {
    "duration": 276,
    "start_time": "2022-08-11T16:53:40.512Z"
   },
   {
    "duration": 7,
    "start_time": "2022-08-11T16:53:40.789Z"
   },
   {
    "duration": 18,
    "start_time": "2022-08-11T16:53:40.797Z"
   },
   {
    "duration": 30,
    "start_time": "2022-08-11T16:53:40.817Z"
   },
   {
    "duration": 11,
    "start_time": "2022-08-11T16:53:40.850Z"
   },
   {
    "duration": 20,
    "start_time": "2022-08-11T16:53:40.863Z"
   },
   {
    "duration": 29,
    "start_time": "2022-08-11T16:53:40.884Z"
   },
   {
    "duration": 38,
    "start_time": "2022-08-11T16:53:40.914Z"
   },
   {
    "duration": 6,
    "start_time": "2022-08-11T16:53:40.954Z"
   },
   {
    "duration": 9,
    "start_time": "2022-08-11T16:53:40.961Z"
   },
   {
    "duration": 6,
    "start_time": "2022-08-11T16:53:40.972Z"
   },
   {
    "duration": 23,
    "start_time": "2022-08-11T16:53:41.010Z"
   },
   {
    "duration": 76,
    "start_time": "2022-08-11T16:53:41.035Z"
   },
   {
    "duration": 0,
    "start_time": "2022-08-11T16:53:41.112Z"
   },
   {
    "duration": 0,
    "start_time": "2022-08-11T16:53:41.114Z"
   },
   {
    "duration": 60,
    "start_time": "2022-08-11T16:54:04.775Z"
   },
   {
    "duration": 47,
    "start_time": "2022-08-11T16:54:18.390Z"
   },
   {
    "duration": 5,
    "start_time": "2022-08-11T16:54:38.281Z"
   },
   {
    "duration": 22,
    "start_time": "2022-08-11T16:54:40.852Z"
   },
   {
    "duration": 39,
    "start_time": "2022-08-11T16:54:52.476Z"
   },
   {
    "duration": 7,
    "start_time": "2022-08-11T16:55:10.759Z"
   },
   {
    "duration": 13,
    "start_time": "2022-08-11T16:55:12.431Z"
   },
   {
    "duration": 3,
    "start_time": "2022-08-11T17:00:01.539Z"
   },
   {
    "duration": 142,
    "start_time": "2022-08-11T17:00:01.543Z"
   },
   {
    "duration": 80,
    "start_time": "2022-08-11T17:00:01.687Z"
   },
   {
    "duration": 15,
    "start_time": "2022-08-11T17:00:01.769Z"
   },
   {
    "duration": 1885,
    "start_time": "2022-08-11T17:00:01.786Z"
   },
   {
    "duration": 268,
    "start_time": "2022-08-11T17:00:03.673Z"
   },
   {
    "duration": 4,
    "start_time": "2022-08-11T17:00:03.943Z"
   },
   {
    "duration": 22,
    "start_time": "2022-08-11T17:00:03.948Z"
   },
   {
    "duration": 22,
    "start_time": "2022-08-11T17:00:03.971Z"
   },
   {
    "duration": 20,
    "start_time": "2022-08-11T17:00:03.995Z"
   },
   {
    "duration": 21,
    "start_time": "2022-08-11T17:00:04.017Z"
   },
   {
    "duration": 6,
    "start_time": "2022-08-11T17:00:04.039Z"
   },
   {
    "duration": 40,
    "start_time": "2022-08-11T17:00:04.047Z"
   },
   {
    "duration": 7,
    "start_time": "2022-08-11T17:00:04.108Z"
   },
   {
    "duration": 11,
    "start_time": "2022-08-11T17:00:04.116Z"
   },
   {
    "duration": 6,
    "start_time": "2022-08-11T17:00:04.129Z"
   },
   {
    "duration": 22,
    "start_time": "2022-08-11T17:00:04.137Z"
   },
   {
    "duration": 13,
    "start_time": "2022-08-11T17:00:04.161Z"
   },
   {
    "duration": 58,
    "start_time": "2022-08-11T17:00:04.176Z"
   },
   {
    "duration": 4,
    "start_time": "2022-08-11T17:00:04.235Z"
   },
   {
    "duration": 16,
    "start_time": "2022-08-11T17:00:41.634Z"
   },
   {
    "duration": 36,
    "start_time": "2022-08-11T17:00:53.632Z"
   },
   {
    "duration": 6,
    "start_time": "2022-08-11T17:01:59.366Z"
   },
   {
    "duration": 16,
    "start_time": "2022-08-11T17:02:09.596Z"
   },
   {
    "duration": 39,
    "start_time": "2022-08-11T17:02:26.412Z"
   },
   {
    "duration": 40,
    "start_time": "2022-08-11T17:03:31.429Z"
   },
   {
    "duration": 37,
    "start_time": "2022-08-11T17:03:52.500Z"
   },
   {
    "duration": 67,
    "start_time": "2022-08-11T17:04:20.682Z"
   },
   {
    "duration": 39,
    "start_time": "2022-08-11T17:04:43.053Z"
   },
   {
    "duration": 36,
    "start_time": "2022-08-11T17:05:05.977Z"
   },
   {
    "duration": 54,
    "start_time": "2022-08-11T17:06:28.993Z"
   },
   {
    "duration": 3,
    "start_time": "2022-08-11T17:12:43.942Z"
   },
   {
    "duration": 124,
    "start_time": "2022-08-11T17:12:43.949Z"
   },
   {
    "duration": 80,
    "start_time": "2022-08-11T17:12:44.076Z"
   },
   {
    "duration": 14,
    "start_time": "2022-08-11T17:12:44.158Z"
   },
   {
    "duration": 2184,
    "start_time": "2022-08-11T17:12:44.174Z"
   },
   {
    "duration": 298,
    "start_time": "2022-08-11T17:12:46.360Z"
   },
   {
    "duration": 5,
    "start_time": "2022-08-11T17:12:46.661Z"
   },
   {
    "duration": 16,
    "start_time": "2022-08-11T17:12:46.668Z"
   },
   {
    "duration": 37,
    "start_time": "2022-08-11T17:12:46.686Z"
   },
   {
    "duration": 12,
    "start_time": "2022-08-11T17:12:46.725Z"
   },
   {
    "duration": 42,
    "start_time": "2022-08-11T17:12:46.740Z"
   },
   {
    "duration": 8,
    "start_time": "2022-08-11T17:12:46.784Z"
   },
   {
    "duration": 48,
    "start_time": "2022-08-11T17:12:46.794Z"
   },
   {
    "duration": 14,
    "start_time": "2022-08-11T17:12:46.845Z"
   },
   {
    "duration": 23,
    "start_time": "2022-08-11T17:12:46.861Z"
   },
   {
    "duration": 21,
    "start_time": "2022-08-11T17:12:46.887Z"
   },
   {
    "duration": 26,
    "start_time": "2022-08-11T17:12:46.911Z"
   },
   {
    "duration": 32,
    "start_time": "2022-08-11T17:12:46.939Z"
   },
   {
    "duration": 52,
    "start_time": "2022-08-11T17:12:46.973Z"
   },
   {
    "duration": 0,
    "start_time": "2022-08-11T17:12:47.027Z"
   },
   {
    "duration": 0,
    "start_time": "2022-08-11T17:12:47.029Z"
   },
   {
    "duration": 13,
    "start_time": "2022-08-11T17:13:41.865Z"
   },
   {
    "duration": 26,
    "start_time": "2022-08-11T17:14:05.024Z"
   },
   {
    "duration": 13,
    "start_time": "2022-08-11T17:14:47.434Z"
   },
   {
    "duration": 26,
    "start_time": "2022-08-11T17:14:51.812Z"
   },
   {
    "duration": 18,
    "start_time": "2022-08-11T17:23:07.540Z"
   },
   {
    "duration": 20,
    "start_time": "2022-08-11T17:23:12.555Z"
   },
   {
    "duration": 3,
    "start_time": "2022-08-11T17:23:43.611Z"
   },
   {
    "duration": 134,
    "start_time": "2022-08-11T17:23:43.616Z"
   },
   {
    "duration": 72,
    "start_time": "2022-08-11T17:23:43.752Z"
   },
   {
    "duration": 14,
    "start_time": "2022-08-11T17:23:43.826Z"
   },
   {
    "duration": 1957,
    "start_time": "2022-08-11T17:23:43.842Z"
   },
   {
    "duration": 332,
    "start_time": "2022-08-11T17:23:45.808Z"
   },
   {
    "duration": 5,
    "start_time": "2022-08-11T17:23:46.141Z"
   },
   {
    "duration": 18,
    "start_time": "2022-08-11T17:23:46.148Z"
   },
   {
    "duration": 22,
    "start_time": "2022-08-11T17:23:46.168Z"
   },
   {
    "duration": 17,
    "start_time": "2022-08-11T17:23:46.210Z"
   },
   {
    "duration": 26,
    "start_time": "2022-08-11T17:23:46.229Z"
   },
   {
    "duration": 7,
    "start_time": "2022-08-11T17:23:46.257Z"
   },
   {
    "duration": 117,
    "start_time": "2022-08-11T17:23:46.266Z"
   },
   {
    "duration": 7,
    "start_time": "2022-08-11T17:23:46.387Z"
   },
   {
    "duration": 20,
    "start_time": "2022-08-11T17:23:46.396Z"
   },
   {
    "duration": 5,
    "start_time": "2022-08-11T17:23:46.417Z"
   },
   {
    "duration": 13,
    "start_time": "2022-08-11T17:23:46.424Z"
   },
   {
    "duration": 19,
    "start_time": "2022-08-11T17:23:46.439Z"
   },
   {
    "duration": 9,
    "start_time": "2022-08-11T17:23:46.460Z"
   },
   {
    "duration": 9,
    "start_time": "2022-08-11T17:23:46.471Z"
   },
   {
    "duration": 29,
    "start_time": "2022-08-11T17:23:46.481Z"
   },
   {
    "duration": 16,
    "start_time": "2022-08-11T17:24:10.244Z"
   },
   {
    "duration": 20,
    "start_time": "2022-08-11T17:24:31.811Z"
   },
   {
    "duration": 17,
    "start_time": "2022-08-11T17:24:36.512Z"
   },
   {
    "duration": 104,
    "start_time": "2022-08-11T17:25:00.618Z"
   },
   {
    "duration": 18,
    "start_time": "2022-08-11T17:25:05.635Z"
   },
   {
    "duration": 238,
    "start_time": "2022-08-11T17:26:10.449Z"
   },
   {
    "duration": 18,
    "start_time": "2022-08-11T17:26:14.479Z"
   },
   {
    "duration": 3,
    "start_time": "2022-08-11T17:26:43.213Z"
   },
   {
    "duration": 111,
    "start_time": "2022-08-11T17:26:43.218Z"
   },
   {
    "duration": 78,
    "start_time": "2022-08-11T17:26:43.331Z"
   },
   {
    "duration": 13,
    "start_time": "2022-08-11T17:26:43.411Z"
   },
   {
    "duration": 1720,
    "start_time": "2022-08-11T17:26:43.426Z"
   },
   {
    "duration": 250,
    "start_time": "2022-08-11T17:26:45.148Z"
   },
   {
    "duration": 10,
    "start_time": "2022-08-11T17:26:45.400Z"
   },
   {
    "duration": 12,
    "start_time": "2022-08-11T17:26:45.412Z"
   },
   {
    "duration": 19,
    "start_time": "2022-08-11T17:26:45.425Z"
   },
   {
    "duration": 11,
    "start_time": "2022-08-11T17:26:45.445Z"
   },
   {
    "duration": 18,
    "start_time": "2022-08-11T17:26:45.457Z"
   },
   {
    "duration": 6,
    "start_time": "2022-08-11T17:26:45.476Z"
   },
   {
    "duration": 35,
    "start_time": "2022-08-11T17:26:45.509Z"
   },
   {
    "duration": 6,
    "start_time": "2022-08-11T17:26:45.546Z"
   },
   {
    "duration": 8,
    "start_time": "2022-08-11T17:26:45.553Z"
   },
   {
    "duration": 4,
    "start_time": "2022-08-11T17:26:45.563Z"
   },
   {
    "duration": 9,
    "start_time": "2022-08-11T17:26:45.569Z"
   },
   {
    "duration": 44,
    "start_time": "2022-08-11T17:26:45.580Z"
   },
   {
    "duration": 249,
    "start_time": "2022-08-11T17:26:45.626Z"
   },
   {
    "duration": 3,
    "start_time": "2022-08-11T17:26:45.877Z"
   },
   {
    "duration": 8,
    "start_time": "2022-08-11T17:26:45.882Z"
   },
   {
    "duration": 2,
    "start_time": "2022-08-11T17:26:54.128Z"
   },
   {
    "duration": 102,
    "start_time": "2022-08-11T17:26:54.227Z"
   },
   {
    "duration": 67,
    "start_time": "2022-08-11T17:26:54.331Z"
   },
   {
    "duration": 21,
    "start_time": "2022-08-11T17:26:54.399Z"
   },
   {
    "duration": 1722,
    "start_time": "2022-08-11T17:26:54.422Z"
   },
   {
    "duration": 255,
    "start_time": "2022-08-11T17:26:56.146Z"
   },
   {
    "duration": 7,
    "start_time": "2022-08-11T17:26:56.403Z"
   },
   {
    "duration": 12,
    "start_time": "2022-08-11T17:26:56.412Z"
   },
   {
    "duration": 20,
    "start_time": "2022-08-11T17:26:56.426Z"
   },
   {
    "duration": 13,
    "start_time": "2022-08-11T17:26:56.448Z"
   },
   {
    "duration": 19,
    "start_time": "2022-08-11T17:26:56.462Z"
   },
   {
    "duration": 32,
    "start_time": "2022-08-11T17:26:56.483Z"
   },
   {
    "duration": 37,
    "start_time": "2022-08-11T17:26:56.517Z"
   },
   {
    "duration": 7,
    "start_time": "2022-08-11T17:26:56.556Z"
   },
   {
    "duration": 7,
    "start_time": "2022-08-11T17:26:56.566Z"
   },
   {
    "duration": 36,
    "start_time": "2022-08-11T17:26:56.575Z"
   },
   {
    "duration": 10,
    "start_time": "2022-08-11T17:26:56.613Z"
   },
   {
    "duration": 19,
    "start_time": "2022-08-11T17:26:56.624Z"
   },
   {
    "duration": 107,
    "start_time": "2022-08-11T17:26:56.645Z"
   },
   {
    "duration": 2,
    "start_time": "2022-08-11T17:26:56.753Z"
   },
   {
    "duration": 7,
    "start_time": "2022-08-11T17:26:56.757Z"
   },
   {
    "duration": 18,
    "start_time": "2022-08-11T17:27:10.791Z"
   },
   {
    "duration": 277,
    "start_time": "2022-08-11T17:27:49.283Z"
   },
   {
    "duration": 18,
    "start_time": "2022-08-11T17:27:53.262Z"
   },
   {
    "duration": 349,
    "start_time": "2022-08-11T17:29:53.763Z"
   },
   {
    "duration": 122,
    "start_time": "2022-08-11T17:29:54.114Z"
   },
   {
    "duration": 85,
    "start_time": "2022-08-11T17:29:54.237Z"
   },
   {
    "duration": 13,
    "start_time": "2022-08-11T17:29:54.325Z"
   },
   {
    "duration": 2154,
    "start_time": "2022-08-11T17:29:54.340Z"
   },
   {
    "duration": 270,
    "start_time": "2022-08-11T17:29:56.496Z"
   },
   {
    "duration": 7,
    "start_time": "2022-08-11T17:29:56.768Z"
   },
   {
    "duration": 33,
    "start_time": "2022-08-11T17:29:56.776Z"
   },
   {
    "duration": 46,
    "start_time": "2022-08-11T17:29:56.811Z"
   },
   {
    "duration": 21,
    "start_time": "2022-08-11T17:29:56.859Z"
   },
   {
    "duration": 30,
    "start_time": "2022-08-11T17:29:56.882Z"
   },
   {
    "duration": 7,
    "start_time": "2022-08-11T17:29:56.914Z"
   },
   {
    "duration": 44,
    "start_time": "2022-08-11T17:29:56.923Z"
   },
   {
    "duration": 7,
    "start_time": "2022-08-11T17:29:56.969Z"
   },
   {
    "duration": 23,
    "start_time": "2022-08-11T17:29:56.978Z"
   },
   {
    "duration": 22,
    "start_time": "2022-08-11T17:29:57.004Z"
   },
   {
    "duration": 18,
    "start_time": "2022-08-11T17:29:57.027Z"
   },
   {
    "duration": 34,
    "start_time": "2022-08-11T17:29:57.047Z"
   },
   {
    "duration": 37,
    "start_time": "2022-08-11T17:29:57.082Z"
   },
   {
    "duration": 15,
    "start_time": "2022-08-11T17:29:57.120Z"
   },
   {
    "duration": 18,
    "start_time": "2022-08-11T17:29:57.137Z"
   },
   {
    "duration": 19,
    "start_time": "2022-08-11T17:29:57.157Z"
   },
   {
    "duration": 10,
    "start_time": "2022-08-11T17:30:13.117Z"
   },
   {
    "duration": 15,
    "start_time": "2022-08-11T17:30:19.055Z"
   },
   {
    "duration": 12,
    "start_time": "2022-08-11T17:31:05.294Z"
   },
   {
    "duration": 16,
    "start_time": "2022-08-11T17:31:11.330Z"
   },
   {
    "duration": 68,
    "start_time": "2022-08-11T17:35:27.984Z"
   },
   {
    "duration": 40,
    "start_time": "2022-08-11T17:38:55.554Z"
   },
   {
    "duration": 12,
    "start_time": "2022-08-11T17:40:27.458Z"
   },
   {
    "duration": 6,
    "start_time": "2022-08-11T17:40:45.380Z"
   },
   {
    "duration": 5,
    "start_time": "2022-08-11T17:40:53.085Z"
   },
   {
    "duration": 8,
    "start_time": "2022-08-11T17:40:57.910Z"
   },
   {
    "duration": 6,
    "start_time": "2022-08-11T17:42:10.312Z"
   },
   {
    "duration": 62,
    "start_time": "2022-08-11T17:42:55.857Z"
   },
   {
    "duration": 7,
    "start_time": "2022-08-11T17:43:00.741Z"
   },
   {
    "duration": 7,
    "start_time": "2022-08-11T17:43:10.070Z"
   },
   {
    "duration": 7,
    "start_time": "2022-08-11T17:43:19.837Z"
   },
   {
    "duration": 9,
    "start_time": "2022-08-11T17:43:27.358Z"
   },
   {
    "duration": 53,
    "start_time": "2022-08-11T17:43:56.065Z"
   },
   {
    "duration": 7,
    "start_time": "2022-08-11T17:44:29.096Z"
   },
   {
    "duration": 8,
    "start_time": "2022-08-11T17:44:35.774Z"
   },
   {
    "duration": 6,
    "start_time": "2022-08-11T17:45:00.519Z"
   },
   {
    "duration": 6,
    "start_time": "2022-08-11T17:45:22.319Z"
   },
   {
    "duration": 6,
    "start_time": "2022-08-11T17:45:55.650Z"
   },
   {
    "duration": 2,
    "start_time": "2022-08-11T17:52:19.591Z"
   },
   {
    "duration": 121,
    "start_time": "2022-08-11T17:52:19.595Z"
   },
   {
    "duration": 76,
    "start_time": "2022-08-11T17:52:19.718Z"
   },
   {
    "duration": 22,
    "start_time": "2022-08-11T17:52:19.795Z"
   },
   {
    "duration": 1859,
    "start_time": "2022-08-11T17:52:19.819Z"
   },
   {
    "duration": 264,
    "start_time": "2022-08-11T17:52:21.679Z"
   },
   {
    "duration": 4,
    "start_time": "2022-08-11T17:52:21.945Z"
   },
   {
    "duration": 24,
    "start_time": "2022-08-11T17:52:21.951Z"
   },
   {
    "duration": 21,
    "start_time": "2022-08-11T17:52:21.977Z"
   },
   {
    "duration": 12,
    "start_time": "2022-08-11T17:52:22.010Z"
   },
   {
    "duration": 34,
    "start_time": "2022-08-11T17:52:22.024Z"
   },
   {
    "duration": 23,
    "start_time": "2022-08-11T17:52:22.060Z"
   },
   {
    "duration": 42,
    "start_time": "2022-08-11T17:52:22.085Z"
   },
   {
    "duration": 6,
    "start_time": "2022-08-11T17:52:22.129Z"
   },
   {
    "duration": 13,
    "start_time": "2022-08-11T17:52:22.136Z"
   },
   {
    "duration": 25,
    "start_time": "2022-08-11T17:52:22.151Z"
   },
   {
    "duration": 20,
    "start_time": "2022-08-11T17:52:22.177Z"
   },
   {
    "duration": 4,
    "start_time": "2022-08-11T17:52:22.199Z"
   },
   {
    "duration": 38,
    "start_time": "2022-08-11T17:52:22.204Z"
   },
   {
    "duration": 32,
    "start_time": "2022-08-11T17:52:22.244Z"
   },
   {
    "duration": 43,
    "start_time": "2022-08-11T17:52:22.278Z"
   },
   {
    "duration": 63,
    "start_time": "2022-08-11T17:52:22.323Z"
   },
   {
    "duration": 15,
    "start_time": "2022-08-11T17:52:27.030Z"
   },
   {
    "duration": 10,
    "start_time": "2022-08-11T17:54:28.250Z"
   },
   {
    "duration": 46,
    "start_time": "2022-08-11T17:56:16.000Z"
   },
   {
    "duration": 16,
    "start_time": "2022-08-11T17:56:20.970Z"
   },
   {
    "duration": 14,
    "start_time": "2022-08-11T17:58:34.945Z"
   },
   {
    "duration": 12,
    "start_time": "2022-08-11T18:03:22.214Z"
   },
   {
    "duration": 10,
    "start_time": "2022-08-11T18:03:30.276Z"
   },
   {
    "duration": 3,
    "start_time": "2022-08-11T18:03:40.532Z"
   },
   {
    "duration": 113,
    "start_time": "2022-08-11T18:03:40.537Z"
   },
   {
    "duration": 72,
    "start_time": "2022-08-11T18:03:40.651Z"
   },
   {
    "duration": 16,
    "start_time": "2022-08-11T18:03:40.725Z"
   },
   {
    "duration": 2041,
    "start_time": "2022-08-11T18:03:40.742Z"
   },
   {
    "duration": 278,
    "start_time": "2022-08-11T18:03:42.785Z"
   },
   {
    "duration": 4,
    "start_time": "2022-08-11T18:03:43.065Z"
   },
   {
    "duration": 10,
    "start_time": "2022-08-11T18:03:43.070Z"
   },
   {
    "duration": 37,
    "start_time": "2022-08-11T18:03:43.082Z"
   },
   {
    "duration": 16,
    "start_time": "2022-08-11T18:03:43.120Z"
   },
   {
    "duration": 20,
    "start_time": "2022-08-11T18:03:43.138Z"
   },
   {
    "duration": 6,
    "start_time": "2022-08-11T18:03:43.160Z"
   },
   {
    "duration": 84,
    "start_time": "2022-08-11T18:03:43.168Z"
   },
   {
    "duration": 5,
    "start_time": "2022-08-11T18:03:43.254Z"
   },
   {
    "duration": 17,
    "start_time": "2022-08-11T18:03:43.261Z"
   },
   {
    "duration": 6,
    "start_time": "2022-08-11T18:03:43.279Z"
   },
   {
    "duration": 8,
    "start_time": "2022-08-11T18:03:43.286Z"
   },
   {
    "duration": 4,
    "start_time": "2022-08-11T18:03:43.309Z"
   },
   {
    "duration": 26,
    "start_time": "2022-08-11T18:03:43.316Z"
   },
   {
    "duration": 11,
    "start_time": "2022-08-11T18:03:43.345Z"
   },
   {
    "duration": 8,
    "start_time": "2022-08-11T18:03:43.358Z"
   },
   {
    "duration": 7,
    "start_time": "2022-08-11T18:03:43.368Z"
   },
   {
    "duration": 11,
    "start_time": "2022-08-11T18:03:55.247Z"
   },
   {
    "duration": 4,
    "start_time": "2022-08-11T18:12:14.579Z"
   },
   {
    "duration": 117,
    "start_time": "2022-08-11T18:12:14.585Z"
   },
   {
    "duration": 74,
    "start_time": "2022-08-11T18:12:14.704Z"
   },
   {
    "duration": 30,
    "start_time": "2022-08-11T18:12:14.781Z"
   },
   {
    "duration": 1898,
    "start_time": "2022-08-11T18:12:14.813Z"
   },
   {
    "duration": 255,
    "start_time": "2022-08-11T18:12:16.713Z"
   },
   {
    "duration": 4,
    "start_time": "2022-08-11T18:12:16.970Z"
   },
   {
    "duration": 11,
    "start_time": "2022-08-11T18:12:16.975Z"
   },
   {
    "duration": 35,
    "start_time": "2022-08-11T18:12:16.989Z"
   },
   {
    "duration": 10,
    "start_time": "2022-08-11T18:12:17.026Z"
   },
   {
    "duration": 18,
    "start_time": "2022-08-11T18:12:17.038Z"
   },
   {
    "duration": 6,
    "start_time": "2022-08-11T18:12:17.058Z"
   },
   {
    "duration": 63,
    "start_time": "2022-08-11T18:12:17.065Z"
   },
   {
    "duration": 6,
    "start_time": "2022-08-11T18:12:17.130Z"
   },
   {
    "duration": 11,
    "start_time": "2022-08-11T18:12:17.137Z"
   },
   {
    "duration": 6,
    "start_time": "2022-08-11T18:12:17.149Z"
   },
   {
    "duration": 6,
    "start_time": "2022-08-11T18:12:17.157Z"
   },
   {
    "duration": 58,
    "start_time": "2022-08-11T18:12:17.165Z"
   },
   {
    "duration": 18,
    "start_time": "2022-08-11T18:12:17.225Z"
   },
   {
    "duration": 20,
    "start_time": "2022-08-11T18:12:17.245Z"
   },
   {
    "duration": 15,
    "start_time": "2022-08-11T18:12:17.267Z"
   },
   {
    "duration": 12,
    "start_time": "2022-08-11T18:53:34.074Z"
   },
   {
    "duration": 378,
    "start_time": "2022-08-11T18:53:41.718Z"
   },
   {
    "duration": 118,
    "start_time": "2022-08-11T18:53:42.098Z"
   },
   {
    "duration": 67,
    "start_time": "2022-08-11T18:53:42.218Z"
   },
   {
    "duration": 29,
    "start_time": "2022-08-11T18:53:42.287Z"
   },
   {
    "duration": 1988,
    "start_time": "2022-08-11T18:53:42.318Z"
   },
   {
    "duration": 260,
    "start_time": "2022-08-11T18:53:44.308Z"
   },
   {
    "duration": 6,
    "start_time": "2022-08-11T18:53:44.570Z"
   },
   {
    "duration": 9,
    "start_time": "2022-08-11T18:53:44.577Z"
   },
   {
    "duration": 38,
    "start_time": "2022-08-11T18:53:44.587Z"
   },
   {
    "duration": 13,
    "start_time": "2022-08-11T18:53:44.627Z"
   },
   {
    "duration": 21,
    "start_time": "2022-08-11T18:53:44.641Z"
   },
   {
    "duration": 6,
    "start_time": "2022-08-11T18:53:44.664Z"
   },
   {
    "duration": 65,
    "start_time": "2022-08-11T18:53:44.672Z"
   },
   {
    "duration": 8,
    "start_time": "2022-08-11T18:53:44.739Z"
   },
   {
    "duration": 8,
    "start_time": "2022-08-11T18:53:44.748Z"
   },
   {
    "duration": 4,
    "start_time": "2022-08-11T18:53:44.758Z"
   },
   {
    "duration": 6,
    "start_time": "2022-08-11T18:53:44.763Z"
   },
   {
    "duration": 39,
    "start_time": "2022-08-11T18:53:44.770Z"
   },
   {
    "duration": 11,
    "start_time": "2022-08-11T18:53:44.811Z"
   },
   {
    "duration": 7,
    "start_time": "2022-08-11T18:53:44.824Z"
   },
   {
    "duration": 19,
    "start_time": "2022-08-11T18:53:44.833Z"
   },
   {
    "duration": 5,
    "start_time": "2022-08-11T18:55:17.628Z"
   },
   {
    "duration": 4,
    "start_time": "2022-08-11T18:55:59.474Z"
   },
   {
    "duration": 30,
    "start_time": "2022-08-11T18:56:14.898Z"
   },
   {
    "duration": 33,
    "start_time": "2022-08-11T18:56:45.798Z"
   },
   {
    "duration": 3,
    "start_time": "2022-08-11T18:56:59.416Z"
   },
   {
    "duration": 128,
    "start_time": "2022-08-11T18:56:59.421Z"
   },
   {
    "duration": 77,
    "start_time": "2022-08-11T18:56:59.550Z"
   },
   {
    "duration": 13,
    "start_time": "2022-08-11T18:56:59.629Z"
   },
   {
    "duration": 1858,
    "start_time": "2022-08-11T18:56:59.644Z"
   },
   {
    "duration": 292,
    "start_time": "2022-08-11T18:57:01.509Z"
   },
   {
    "duration": 9,
    "start_time": "2022-08-11T18:57:01.802Z"
   },
   {
    "duration": 34,
    "start_time": "2022-08-11T18:57:01.812Z"
   },
   {
    "duration": 41,
    "start_time": "2022-08-11T18:57:01.848Z"
   },
   {
    "duration": 51,
    "start_time": "2022-08-11T18:57:01.891Z"
   },
   {
    "duration": 45,
    "start_time": "2022-08-11T18:57:01.944Z"
   },
   {
    "duration": 14,
    "start_time": "2022-08-11T18:57:01.991Z"
   },
   {
    "duration": 53,
    "start_time": "2022-08-11T18:57:02.008Z"
   },
   {
    "duration": 6,
    "start_time": "2022-08-11T18:57:02.064Z"
   },
   {
    "duration": 24,
    "start_time": "2022-08-11T18:57:02.071Z"
   },
   {
    "duration": 10,
    "start_time": "2022-08-11T18:57:02.097Z"
   },
   {
    "duration": 18,
    "start_time": "2022-08-11T18:57:02.109Z"
   },
   {
    "duration": 30,
    "start_time": "2022-08-11T18:57:02.129Z"
   },
   {
    "duration": 33,
    "start_time": "2022-08-11T18:57:02.161Z"
   },
   {
    "duration": 58,
    "start_time": "2022-08-11T18:57:13.507Z"
   },
   {
    "duration": 10,
    "start_time": "2022-08-11T18:57:48.103Z"
   },
   {
    "duration": 8,
    "start_time": "2022-08-11T18:58:04.400Z"
   },
   {
    "duration": 9,
    "start_time": "2022-08-11T18:58:16.315Z"
   },
   {
    "duration": 8,
    "start_time": "2022-08-11T18:58:29.344Z"
   },
   {
    "duration": 5,
    "start_time": "2022-08-11T18:58:49.474Z"
   },
   {
    "duration": 8,
    "start_time": "2022-08-11T18:58:56.309Z"
   },
   {
    "duration": 7,
    "start_time": "2022-08-11T18:59:08.105Z"
   },
   {
    "duration": 10,
    "start_time": "2022-08-11T18:59:30.716Z"
   },
   {
    "duration": 72,
    "start_time": "2022-08-11T18:59:51.163Z"
   },
   {
    "duration": 35,
    "start_time": "2022-08-11T19:00:01.654Z"
   },
   {
    "duration": 42,
    "start_time": "2022-08-11T19:00:11.484Z"
   },
   {
    "duration": 8,
    "start_time": "2022-08-11T19:00:59.744Z"
   },
   {
    "duration": 12,
    "start_time": "2022-08-11T19:01:36.439Z"
   },
   {
    "duration": 9,
    "start_time": "2022-08-11T19:02:36.777Z"
   },
   {
    "duration": 8,
    "start_time": "2022-08-11T19:02:49.631Z"
   },
   {
    "duration": 21,
    "start_time": "2022-08-11T19:03:15.349Z"
   },
   {
    "duration": 8,
    "start_time": "2022-08-11T19:03:24.953Z"
   },
   {
    "duration": 47,
    "start_time": "2022-08-11T19:03:36.679Z"
   },
   {
    "duration": 6,
    "start_time": "2022-08-11T19:04:15.928Z"
   },
   {
    "duration": 7,
    "start_time": "2022-08-11T19:04:19.837Z"
   },
   {
    "duration": 363,
    "start_time": "2022-08-11T19:04:44.943Z"
   },
   {
    "duration": 117,
    "start_time": "2022-08-11T19:04:45.309Z"
   },
   {
    "duration": 68,
    "start_time": "2022-08-11T19:04:45.428Z"
   },
   {
    "duration": 23,
    "start_time": "2022-08-11T19:04:45.498Z"
   },
   {
    "duration": 2119,
    "start_time": "2022-08-11T19:04:45.523Z"
   },
   {
    "duration": 277,
    "start_time": "2022-08-11T19:04:47.644Z"
   },
   {
    "duration": 6,
    "start_time": "2022-08-11T19:04:47.924Z"
   },
   {
    "duration": 13,
    "start_time": "2022-08-11T19:04:47.932Z"
   },
   {
    "duration": 25,
    "start_time": "2022-08-11T19:04:47.947Z"
   },
   {
    "duration": 35,
    "start_time": "2022-08-11T19:04:47.974Z"
   },
   {
    "duration": 22,
    "start_time": "2022-08-11T19:04:48.011Z"
   },
   {
    "duration": 9,
    "start_time": "2022-08-11T19:04:48.035Z"
   },
   {
    "duration": 35,
    "start_time": "2022-08-11T19:04:48.046Z"
   },
   {
    "duration": 26,
    "start_time": "2022-08-11T19:04:48.084Z"
   },
   {
    "duration": 13,
    "start_time": "2022-08-11T19:04:48.112Z"
   },
   {
    "duration": 11,
    "start_time": "2022-08-11T19:04:48.127Z"
   },
   {
    "duration": 5,
    "start_time": "2022-08-11T19:04:48.139Z"
   },
   {
    "duration": 22,
    "start_time": "2022-08-11T19:04:48.146Z"
   },
   {
    "duration": 10,
    "start_time": "2022-08-11T19:04:48.169Z"
   },
   {
    "duration": 11,
    "start_time": "2022-08-11T19:04:48.181Z"
   },
   {
    "duration": 304,
    "start_time": "2022-08-11T19:04:48.193Z"
   },
   {
    "duration": 14,
    "start_time": "2022-08-11T19:04:48.499Z"
   },
   {
    "duration": 14,
    "start_time": "2022-08-11T19:07:34.108Z"
   },
   {
    "duration": 9,
    "start_time": "2022-08-11T19:07:40.720Z"
   },
   {
    "duration": 11,
    "start_time": "2022-08-11T19:07:49.943Z"
   },
   {
    "duration": 20,
    "start_time": "2022-08-11T19:08:03.005Z"
   },
   {
    "duration": 10,
    "start_time": "2022-08-11T19:08:14.777Z"
   },
   {
    "duration": 10,
    "start_time": "2022-08-11T19:08:20.548Z"
   },
   {
    "duration": 10,
    "start_time": "2022-08-11T19:08:40.801Z"
   },
   {
    "duration": 6,
    "start_time": "2022-08-11T19:09:00.800Z"
   },
   {
    "duration": 10,
    "start_time": "2022-08-11T19:09:04.257Z"
   },
   {
    "duration": 9,
    "start_time": "2022-08-11T19:09:22.861Z"
   },
   {
    "duration": 9,
    "start_time": "2022-08-11T19:09:29.950Z"
   },
   {
    "duration": 9,
    "start_time": "2022-08-11T19:09:41.669Z"
   },
   {
    "duration": 7,
    "start_time": "2022-08-11T19:09:59.003Z"
   },
   {
    "duration": 8,
    "start_time": "2022-08-11T19:10:05.755Z"
   },
   {
    "duration": 8,
    "start_time": "2022-08-11T19:10:46.935Z"
   },
   {
    "duration": 9,
    "start_time": "2022-08-11T19:11:48.913Z"
   },
   {
    "duration": 43,
    "start_time": "2022-08-11T19:12:05.096Z"
   },
   {
    "duration": 15,
    "start_time": "2022-08-11T19:12:20.327Z"
   },
   {
    "duration": 3,
    "start_time": "2022-08-11T19:12:30.111Z"
   },
   {
    "duration": 17,
    "start_time": "2022-08-11T19:12:32.172Z"
   },
   {
    "duration": 5,
    "start_time": "2022-08-11T19:12:54.240Z"
   },
   {
    "duration": 9,
    "start_time": "2022-08-11T19:13:03.370Z"
   },
   {
    "duration": 8,
    "start_time": "2022-08-11T19:13:56.208Z"
   },
   {
    "duration": 40,
    "start_time": "2022-08-11T19:14:24.758Z"
   },
   {
    "duration": 40,
    "start_time": "2022-08-11T19:14:31.700Z"
   },
   {
    "duration": 7,
    "start_time": "2022-08-11T19:15:23.516Z"
   },
   {
    "duration": 11,
    "start_time": "2022-08-11T19:15:28.895Z"
   },
   {
    "duration": 375,
    "start_time": "2022-08-11T19:15:52.038Z"
   },
   {
    "duration": 117,
    "start_time": "2022-08-11T19:15:52.415Z"
   },
   {
    "duration": 76,
    "start_time": "2022-08-11T19:15:52.534Z"
   },
   {
    "duration": 14,
    "start_time": "2022-08-11T19:15:52.613Z"
   },
   {
    "duration": 2094,
    "start_time": "2022-08-11T19:15:52.628Z"
   },
   {
    "duration": 245,
    "start_time": "2022-08-11T19:15:54.724Z"
   },
   {
    "duration": 6,
    "start_time": "2022-08-11T19:15:54.970Z"
   },
   {
    "duration": 10,
    "start_time": "2022-08-11T19:15:54.977Z"
   },
   {
    "duration": 41,
    "start_time": "2022-08-11T19:15:54.989Z"
   },
   {
    "duration": 11,
    "start_time": "2022-08-11T19:15:55.032Z"
   },
   {
    "duration": 20,
    "start_time": "2022-08-11T19:15:55.044Z"
   },
   {
    "duration": 6,
    "start_time": "2022-08-11T19:15:55.065Z"
   },
   {
    "duration": 70,
    "start_time": "2022-08-11T19:15:55.072Z"
   },
   {
    "duration": 5,
    "start_time": "2022-08-11T19:15:55.144Z"
   },
   {
    "duration": 10,
    "start_time": "2022-08-11T19:15:55.151Z"
   },
   {
    "duration": 4,
    "start_time": "2022-08-11T19:15:55.163Z"
   },
   {
    "duration": 10,
    "start_time": "2022-08-11T19:15:55.169Z"
   },
   {
    "duration": 38,
    "start_time": "2022-08-11T19:15:55.180Z"
   },
   {
    "duration": 11,
    "start_time": "2022-08-11T19:15:55.219Z"
   },
   {
    "duration": 21,
    "start_time": "2022-08-11T19:15:55.231Z"
   },
   {
    "duration": 323,
    "start_time": "2022-08-11T19:15:55.253Z"
   },
   {
    "duration": 11,
    "start_time": "2022-08-11T19:15:55.577Z"
   },
   {
    "duration": 26,
    "start_time": "2022-08-11T19:16:11.062Z"
   },
   {
    "duration": 8,
    "start_time": "2022-08-11T19:16:28.714Z"
   },
   {
    "duration": 45,
    "start_time": "2022-08-11T19:16:57.736Z"
   },
   {
    "duration": 404,
    "start_time": "2022-08-11T19:17:47.512Z"
   },
   {
    "duration": 122,
    "start_time": "2022-08-11T19:17:47.918Z"
   },
   {
    "duration": 79,
    "start_time": "2022-08-11T19:17:48.042Z"
   },
   {
    "duration": 14,
    "start_time": "2022-08-11T19:17:48.123Z"
   },
   {
    "duration": 2087,
    "start_time": "2022-08-11T19:17:48.139Z"
   },
   {
    "duration": 261,
    "start_time": "2022-08-11T19:17:50.228Z"
   },
   {
    "duration": 6,
    "start_time": "2022-08-11T19:17:50.490Z"
   },
   {
    "duration": 19,
    "start_time": "2022-08-11T19:17:50.497Z"
   },
   {
    "duration": 25,
    "start_time": "2022-08-11T19:17:50.518Z"
   },
   {
    "duration": 11,
    "start_time": "2022-08-11T19:17:50.546Z"
   },
   {
    "duration": 24,
    "start_time": "2022-08-11T19:17:50.559Z"
   },
   {
    "duration": 28,
    "start_time": "2022-08-11T19:17:50.585Z"
   },
   {
    "duration": 47,
    "start_time": "2022-08-11T19:17:50.615Z"
   },
   {
    "duration": 8,
    "start_time": "2022-08-11T19:17:50.664Z"
   },
   {
    "duration": 9,
    "start_time": "2022-08-11T19:17:50.674Z"
   },
   {
    "duration": 25,
    "start_time": "2022-08-11T19:17:50.685Z"
   },
   {
    "duration": 10,
    "start_time": "2022-08-11T19:17:50.712Z"
   },
   {
    "duration": 31,
    "start_time": "2022-08-11T19:17:50.723Z"
   },
   {
    "duration": 12,
    "start_time": "2022-08-11T19:17:50.756Z"
   },
   {
    "duration": 27,
    "start_time": "2022-08-11T19:17:50.769Z"
   },
   {
    "duration": 311,
    "start_time": "2022-08-11T19:17:50.798Z"
   },
   {
    "duration": 12,
    "start_time": "2022-08-11T19:17:51.110Z"
   },
   {
    "duration": 18,
    "start_time": "2022-08-11T19:17:59.623Z"
   },
   {
    "duration": 434,
    "start_time": "2022-08-11T19:20:10.088Z"
   },
   {
    "duration": 118,
    "start_time": "2022-08-11T19:20:10.524Z"
   },
   {
    "duration": 82,
    "start_time": "2022-08-11T19:20:10.643Z"
   },
   {
    "duration": 13,
    "start_time": "2022-08-11T19:20:10.726Z"
   },
   {
    "duration": 2029,
    "start_time": "2022-08-11T19:20:10.741Z"
   },
   {
    "duration": 260,
    "start_time": "2022-08-11T19:20:12.771Z"
   },
   {
    "duration": 6,
    "start_time": "2022-08-11T19:20:13.032Z"
   },
   {
    "duration": 9,
    "start_time": "2022-08-11T19:20:13.040Z"
   },
   {
    "duration": 23,
    "start_time": "2022-08-11T19:20:13.050Z"
   },
   {
    "duration": 40,
    "start_time": "2022-08-11T19:20:13.075Z"
   },
   {
    "duration": 22,
    "start_time": "2022-08-11T19:20:13.117Z"
   },
   {
    "duration": 7,
    "start_time": "2022-08-11T19:20:13.140Z"
   },
   {
    "duration": 64,
    "start_time": "2022-08-11T19:20:13.148Z"
   },
   {
    "duration": 6,
    "start_time": "2022-08-11T19:20:13.214Z"
   },
   {
    "duration": 8,
    "start_time": "2022-08-11T19:20:13.221Z"
   },
   {
    "duration": 4,
    "start_time": "2022-08-11T19:20:13.231Z"
   },
   {
    "duration": 7,
    "start_time": "2022-08-11T19:20:13.237Z"
   },
   {
    "duration": 21,
    "start_time": "2022-08-11T19:20:13.246Z"
   },
   {
    "duration": 43,
    "start_time": "2022-08-11T19:20:13.268Z"
   },
   {
    "duration": 11,
    "start_time": "2022-08-11T19:20:13.312Z"
   },
   {
    "duration": 318,
    "start_time": "2022-08-11T19:20:13.324Z"
   },
   {
    "duration": 11,
    "start_time": "2022-08-11T19:20:13.644Z"
   },
   {
    "duration": 5,
    "start_time": "2022-08-11T19:21:02.266Z"
   },
   {
    "duration": 5,
    "start_time": "2022-08-11T19:21:15.977Z"
   },
   {
    "duration": 5,
    "start_time": "2022-08-11T19:21:23.417Z"
   },
   {
    "duration": 6,
    "start_time": "2022-08-11T19:21:31.225Z"
   },
   {
    "duration": 6,
    "start_time": "2022-08-11T19:21:42.508Z"
   },
   {
    "duration": 7,
    "start_time": "2022-08-11T19:21:50.490Z"
   },
   {
    "duration": 6,
    "start_time": "2022-08-11T19:22:10.746Z"
   },
   {
    "duration": 6,
    "start_time": "2022-08-11T19:22:17.908Z"
   },
   {
    "duration": 370,
    "start_time": "2022-08-11T19:22:22.458Z"
   },
   {
    "duration": 6,
    "start_time": "2022-08-11T19:22:22.891Z"
   },
   {
    "duration": 357,
    "start_time": "2022-08-11T19:22:30.265Z"
   },
   {
    "duration": 5,
    "start_time": "2022-08-11T19:22:30.796Z"
   },
   {
    "duration": 297,
    "start_time": "2022-08-11T19:22:58.116Z"
   },
   {
    "duration": 307,
    "start_time": "2022-08-11T19:23:06.394Z"
   },
   {
    "duration": 372,
    "start_time": "2022-08-11T19:23:31.125Z"
   },
   {
    "duration": 316,
    "start_time": "2022-08-11T19:23:50.195Z"
   },
   {
    "duration": 51,
    "start_time": "2022-08-11T19:33:44.396Z"
   },
   {
    "duration": 620,
    "start_time": "2022-08-11T19:34:17.739Z"
   },
   {
    "duration": 11353,
    "start_time": "2022-08-11T19:35:58.502Z"
   },
   {
    "duration": 581,
    "start_time": "2022-08-11T19:38:30.873Z"
   },
   {
    "duration": 598,
    "start_time": "2022-08-11T19:39:58.989Z"
   },
   {
    "duration": 8,
    "start_time": "2022-08-11T19:43:10.134Z"
   },
   {
    "duration": 121,
    "start_time": "2022-08-11T19:44:33.254Z"
   },
   {
    "duration": 124,
    "start_time": "2022-08-11T19:44:38.562Z"
   },
   {
    "duration": 134,
    "start_time": "2022-08-11T19:44:43.737Z"
   },
   {
    "duration": 298,
    "start_time": "2022-08-11T19:49:59.815Z"
   },
   {
    "duration": 5,
    "start_time": "2022-08-11T19:50:02.760Z"
   },
   {
    "duration": 235,
    "start_time": "2022-08-11T19:55:59.397Z"
   },
   {
    "duration": 167,
    "start_time": "2022-08-11T19:56:08.515Z"
   },
   {
    "duration": 286,
    "start_time": "2022-08-11T19:56:56.910Z"
   },
   {
    "duration": 358,
    "start_time": "2022-08-12T07:04:02.970Z"
   },
   {
    "duration": 165,
    "start_time": "2022-08-12T07:04:03.330Z"
   },
   {
    "duration": 64,
    "start_time": "2022-08-12T07:04:03.496Z"
   },
   {
    "duration": 12,
    "start_time": "2022-08-12T07:04:03.562Z"
   },
   {
    "duration": 2018,
    "start_time": "2022-08-12T07:04:03.575Z"
   },
   {
    "duration": 224,
    "start_time": "2022-08-12T07:04:05.595Z"
   },
   {
    "duration": 5,
    "start_time": "2022-08-12T07:04:05.821Z"
   },
   {
    "duration": 11,
    "start_time": "2022-08-12T07:04:05.827Z"
   },
   {
    "duration": 32,
    "start_time": "2022-08-12T07:04:05.839Z"
   },
   {
    "duration": 10,
    "start_time": "2022-08-12T07:04:05.874Z"
   },
   {
    "duration": 23,
    "start_time": "2022-08-12T07:04:05.885Z"
   },
   {
    "duration": 5,
    "start_time": "2022-08-12T07:04:05.910Z"
   },
   {
    "duration": 53,
    "start_time": "2022-08-12T07:04:05.917Z"
   },
   {
    "duration": 5,
    "start_time": "2022-08-12T07:04:05.971Z"
   },
   {
    "duration": 7,
    "start_time": "2022-08-12T07:04:05.978Z"
   },
   {
    "duration": 5,
    "start_time": "2022-08-12T07:04:05.987Z"
   },
   {
    "duration": 4,
    "start_time": "2022-08-12T07:04:05.993Z"
   },
   {
    "duration": 15,
    "start_time": "2022-08-12T07:04:05.999Z"
   },
   {
    "duration": 41,
    "start_time": "2022-08-12T07:04:06.016Z"
   },
   {
    "duration": 9,
    "start_time": "2022-08-12T07:04:06.059Z"
   },
   {
    "duration": 305,
    "start_time": "2022-08-12T07:04:06.069Z"
   },
   {
    "duration": 304,
    "start_time": "2022-08-12T07:04:06.376Z"
   },
   {
    "duration": 141,
    "start_time": "2022-08-12T07:04:06.682Z"
   },
   {
    "duration": 135,
    "start_time": "2022-08-12T07:04:06.825Z"
   },
   {
    "duration": 2341,
    "start_time": "2022-08-12T07:04:25.204Z"
   },
   {
    "duration": 18,
    "start_time": "2022-08-12T07:08:16.152Z"
   },
   {
    "duration": 4,
    "start_time": "2022-08-12T07:08:22.016Z"
   },
   {
    "duration": 21,
    "start_time": "2022-08-12T07:08:27.384Z"
   },
   {
    "duration": 20,
    "start_time": "2022-08-12T07:08:36.404Z"
   },
   {
    "duration": 16,
    "start_time": "2022-08-12T07:08:40.784Z"
   },
   {
    "duration": 15,
    "start_time": "2022-08-12T07:08:52.537Z"
   },
   {
    "duration": 16,
    "start_time": "2022-08-12T07:16:36.961Z"
   },
   {
    "duration": 17,
    "start_time": "2022-08-12T07:18:25.155Z"
   },
   {
    "duration": 13,
    "start_time": "2022-08-12T07:20:37.034Z"
   },
   {
    "duration": 13,
    "start_time": "2022-08-12T07:20:43.446Z"
   },
   {
    "duration": 14,
    "start_time": "2022-08-12T07:21:22.138Z"
   },
   {
    "duration": 74,
    "start_time": "2022-08-12T07:21:43.849Z"
   },
   {
    "duration": 13,
    "start_time": "2022-08-12T07:21:49.282Z"
   },
   {
    "duration": 14,
    "start_time": "2022-08-12T07:23:11.121Z"
   },
   {
    "duration": 12,
    "start_time": "2022-08-12T07:23:22.042Z"
   },
   {
    "duration": 13,
    "start_time": "2022-08-12T07:23:34.691Z"
   },
   {
    "duration": 38,
    "start_time": "2022-08-12T07:23:50.911Z"
   },
   {
    "duration": 10,
    "start_time": "2022-08-12T07:23:58.183Z"
   },
   {
    "duration": 15,
    "start_time": "2022-08-12T07:24:56.375Z"
   },
   {
    "duration": 14,
    "start_time": "2022-08-12T07:25:06.443Z"
   },
   {
    "duration": 15,
    "start_time": "2022-08-12T07:25:12.802Z"
   },
   {
    "duration": 13,
    "start_time": "2022-08-12T07:25:17.973Z"
   },
   {
    "duration": 12,
    "start_time": "2022-08-12T07:25:31.346Z"
   },
   {
    "duration": 6,
    "start_time": "2022-08-12T07:26:33.762Z"
   },
   {
    "duration": 12,
    "start_time": "2022-08-12T07:28:15.795Z"
   },
   {
    "duration": 13,
    "start_time": "2022-08-12T07:28:50.456Z"
   },
   {
    "duration": 6,
    "start_time": "2022-08-12T07:40:58.670Z"
   },
   {
    "duration": 5,
    "start_time": "2022-08-12T07:41:23.353Z"
   },
   {
    "duration": 8,
    "start_time": "2022-08-12T07:43:46.006Z"
   },
   {
    "duration": 13,
    "start_time": "2022-08-12T07:43:49.561Z"
   },
   {
    "duration": 2,
    "start_time": "2022-08-12T07:51:27.570Z"
   },
   {
    "duration": 104,
    "start_time": "2022-08-12T07:51:27.574Z"
   },
   {
    "duration": 63,
    "start_time": "2022-08-12T07:51:27.680Z"
   },
   {
    "duration": 19,
    "start_time": "2022-08-12T07:51:27.744Z"
   },
   {
    "duration": 1733,
    "start_time": "2022-08-12T07:51:27.765Z"
   },
   {
    "duration": 235,
    "start_time": "2022-08-12T07:51:29.500Z"
   },
   {
    "duration": 3,
    "start_time": "2022-08-12T07:51:29.736Z"
   },
   {
    "duration": 16,
    "start_time": "2022-08-12T07:51:29.741Z"
   },
   {
    "duration": 17,
    "start_time": "2022-08-12T07:51:29.759Z"
   },
   {
    "duration": 10,
    "start_time": "2022-08-12T07:51:29.778Z"
   },
   {
    "duration": 16,
    "start_time": "2022-08-12T07:51:29.789Z"
   },
   {
    "duration": 6,
    "start_time": "2022-08-12T07:51:29.806Z"
   },
   {
    "duration": 66,
    "start_time": "2022-08-12T07:51:29.813Z"
   },
   {
    "duration": 6,
    "start_time": "2022-08-12T07:51:29.881Z"
   },
   {
    "duration": 9,
    "start_time": "2022-08-12T07:51:29.888Z"
   },
   {
    "duration": 4,
    "start_time": "2022-08-12T07:51:29.898Z"
   },
   {
    "duration": 14,
    "start_time": "2022-08-12T07:51:29.904Z"
   },
   {
    "duration": 4,
    "start_time": "2022-08-12T07:51:29.920Z"
   },
   {
    "duration": 4,
    "start_time": "2022-08-12T07:51:29.925Z"
   },
   {
    "duration": 37,
    "start_time": "2022-08-12T07:51:29.931Z"
   },
   {
    "duration": 9,
    "start_time": "2022-08-12T07:51:29.970Z"
   },
   {
    "duration": 10,
    "start_time": "2022-08-12T07:51:29.981Z"
   },
   {
    "duration": 13,
    "start_time": "2022-08-12T07:51:29.992Z"
   },
   {
    "duration": 0,
    "start_time": "2022-08-12T07:51:30.006Z"
   },
   {
    "duration": 0,
    "start_time": "2022-08-12T07:51:30.007Z"
   },
   {
    "duration": 1,
    "start_time": "2022-08-12T07:51:30.008Z"
   },
   {
    "duration": 0,
    "start_time": "2022-08-12T07:51:30.010Z"
   },
   {
    "duration": 15,
    "start_time": "2022-08-12T07:52:10.654Z"
   },
   {
    "duration": 3,
    "start_time": "2022-08-12T07:54:08.446Z"
   },
   {
    "duration": 101,
    "start_time": "2022-08-12T07:54:08.450Z"
   },
   {
    "duration": 63,
    "start_time": "2022-08-12T07:54:08.552Z"
   },
   {
    "duration": 13,
    "start_time": "2022-08-12T07:54:08.618Z"
   },
   {
    "duration": 1760,
    "start_time": "2022-08-12T07:54:08.632Z"
   },
   {
    "duration": 234,
    "start_time": "2022-08-12T07:54:10.393Z"
   },
   {
    "duration": 4,
    "start_time": "2022-08-12T07:54:10.628Z"
   },
   {
    "duration": 21,
    "start_time": "2022-08-12T07:54:10.634Z"
   },
   {
    "duration": 18,
    "start_time": "2022-08-12T07:54:10.658Z"
   },
   {
    "duration": 11,
    "start_time": "2022-08-12T07:54:10.677Z"
   },
   {
    "duration": 18,
    "start_time": "2022-08-12T07:54:10.690Z"
   },
   {
    "duration": 6,
    "start_time": "2022-08-12T07:54:10.709Z"
   },
   {
    "duration": 64,
    "start_time": "2022-08-12T07:54:10.716Z"
   },
   {
    "duration": 5,
    "start_time": "2022-08-12T07:54:10.781Z"
   },
   {
    "duration": 8,
    "start_time": "2022-08-12T07:54:10.788Z"
   },
   {
    "duration": 10,
    "start_time": "2022-08-12T07:54:10.798Z"
   },
   {
    "duration": 9,
    "start_time": "2022-08-12T07:54:10.809Z"
   },
   {
    "duration": 23,
    "start_time": "2022-08-12T07:54:10.820Z"
   },
   {
    "duration": 13,
    "start_time": "2022-08-12T07:54:10.845Z"
   },
   {
    "duration": 17,
    "start_time": "2022-08-12T07:54:10.860Z"
   },
   {
    "duration": 305,
    "start_time": "2022-08-12T07:54:10.879Z"
   },
   {
    "duration": 252,
    "start_time": "2022-08-12T07:54:11.185Z"
   },
   {
    "duration": 127,
    "start_time": "2022-08-12T07:54:11.438Z"
   },
   {
    "duration": 131,
    "start_time": "2022-08-12T07:54:11.567Z"
   },
   {
    "duration": 75,
    "start_time": "2022-08-12T07:54:27.798Z"
   },
   {
    "duration": 5,
    "start_time": "2022-08-12T07:55:09.466Z"
   },
   {
    "duration": 15,
    "start_time": "2022-08-12T07:55:39.555Z"
   },
   {
    "duration": 6,
    "start_time": "2022-08-12T07:55:59.377Z"
   },
   {
    "duration": 24,
    "start_time": "2022-08-12T07:57:02.186Z"
   },
   {
    "duration": 12,
    "start_time": "2022-08-12T07:58:21.372Z"
   },
   {
    "duration": 9,
    "start_time": "2022-08-12T07:58:44.236Z"
   },
   {
    "duration": 16,
    "start_time": "2022-08-12T07:59:00.365Z"
   },
   {
    "duration": 4,
    "start_time": "2022-08-12T07:59:17.175Z"
   },
   {
    "duration": 15,
    "start_time": "2022-08-12T07:59:20.030Z"
   },
   {
    "duration": 7,
    "start_time": "2022-08-12T08:00:18.180Z"
   },
   {
    "duration": 4,
    "start_time": "2022-08-12T08:00:20.408Z"
   },
   {
    "duration": 15,
    "start_time": "2022-08-12T08:04:34.078Z"
   },
   {
    "duration": 15,
    "start_time": "2022-08-12T08:06:12.975Z"
   },
   {
    "duration": 6,
    "start_time": "2022-08-12T08:15:21.266Z"
   },
   {
    "duration": 5,
    "start_time": "2022-08-12T08:15:25.472Z"
   },
   {
    "duration": 2259,
    "start_time": "2022-08-12T08:15:58.584Z"
   },
   {
    "duration": 8,
    "start_time": "2022-08-12T08:17:36.606Z"
   },
   {
    "duration": 2,
    "start_time": "2022-08-12T08:17:51.267Z"
   },
   {
    "duration": 107,
    "start_time": "2022-08-12T08:17:51.271Z"
   },
   {
    "duration": 76,
    "start_time": "2022-08-12T08:17:51.380Z"
   },
   {
    "duration": 13,
    "start_time": "2022-08-12T08:17:51.457Z"
   },
   {
    "duration": 1775,
    "start_time": "2022-08-12T08:17:51.472Z"
   },
   {
    "duration": 243,
    "start_time": "2022-08-12T08:17:53.248Z"
   },
   {
    "duration": 4,
    "start_time": "2022-08-12T08:17:53.492Z"
   },
   {
    "duration": 10,
    "start_time": "2022-08-12T08:17:53.497Z"
   },
   {
    "duration": 17,
    "start_time": "2022-08-12T08:17:53.508Z"
   },
   {
    "duration": 28,
    "start_time": "2022-08-12T08:17:53.527Z"
   },
   {
    "duration": 16,
    "start_time": "2022-08-12T08:17:53.558Z"
   },
   {
    "duration": 5,
    "start_time": "2022-08-12T08:17:53.576Z"
   },
   {
    "duration": 35,
    "start_time": "2022-08-12T08:17:53.583Z"
   },
   {
    "duration": 5,
    "start_time": "2022-08-12T08:17:53.620Z"
   },
   {
    "duration": 29,
    "start_time": "2022-08-12T08:17:53.626Z"
   },
   {
    "duration": 7,
    "start_time": "2022-08-12T08:17:53.656Z"
   },
   {
    "duration": 5,
    "start_time": "2022-08-12T08:17:53.664Z"
   },
   {
    "duration": 9,
    "start_time": "2022-08-12T08:17:53.671Z"
   },
   {
    "duration": 5,
    "start_time": "2022-08-12T08:17:53.681Z"
   },
   {
    "duration": 17,
    "start_time": "2022-08-12T08:17:53.687Z"
   },
   {
    "duration": 11,
    "start_time": "2022-08-12T08:17:53.706Z"
   },
   {
    "duration": 38,
    "start_time": "2022-08-12T08:17:53.718Z"
   },
   {
    "duration": 301,
    "start_time": "2022-08-12T08:17:53.757Z"
   },
   {
    "duration": 241,
    "start_time": "2022-08-12T08:17:54.059Z"
   },
   {
    "duration": 156,
    "start_time": "2022-08-12T08:17:54.302Z"
   },
   {
    "duration": 134,
    "start_time": "2022-08-12T08:17:54.460Z"
   },
   {
    "duration": 4,
    "start_time": "2022-08-12T08:17:54.596Z"
   },
   {
    "duration": 6,
    "start_time": "2022-08-12T08:17:54.601Z"
   },
   {
    "duration": 8,
    "start_time": "2022-08-12T08:18:19.805Z"
   },
   {
    "duration": 14,
    "start_time": "2022-08-12T08:22:00.959Z"
   },
   {
    "duration": 417,
    "start_time": "2022-08-12T08:23:30.058Z"
   },
   {
    "duration": 114,
    "start_time": "2022-08-12T08:23:30.477Z"
   },
   {
    "duration": 78,
    "start_time": "2022-08-12T08:23:30.593Z"
   },
   {
    "duration": 13,
    "start_time": "2022-08-12T08:23:30.673Z"
   },
   {
    "duration": 2005,
    "start_time": "2022-08-12T08:23:30.688Z"
   },
   {
    "duration": 233,
    "start_time": "2022-08-12T08:23:32.695Z"
   },
   {
    "duration": 5,
    "start_time": "2022-08-12T08:23:32.929Z"
   },
   {
    "duration": 20,
    "start_time": "2022-08-12T08:23:32.935Z"
   },
   {
    "duration": 20,
    "start_time": "2022-08-12T08:23:32.957Z"
   },
   {
    "duration": 11,
    "start_time": "2022-08-12T08:23:32.980Z"
   },
   {
    "duration": 22,
    "start_time": "2022-08-12T08:23:32.993Z"
   },
   {
    "duration": 5,
    "start_time": "2022-08-12T08:23:33.017Z"
   },
   {
    "duration": 67,
    "start_time": "2022-08-12T08:23:33.024Z"
   },
   {
    "duration": 7,
    "start_time": "2022-08-12T08:23:33.092Z"
   },
   {
    "duration": 6,
    "start_time": "2022-08-12T08:23:33.100Z"
   },
   {
    "duration": 6,
    "start_time": "2022-08-12T08:23:33.108Z"
   },
   {
    "duration": 3,
    "start_time": "2022-08-12T08:23:33.116Z"
   },
   {
    "duration": 7,
    "start_time": "2022-08-12T08:23:33.121Z"
   },
   {
    "duration": 28,
    "start_time": "2022-08-12T08:23:33.129Z"
   },
   {
    "duration": 18,
    "start_time": "2022-08-12T08:23:33.158Z"
   },
   {
    "duration": 10,
    "start_time": "2022-08-12T08:23:33.177Z"
   },
   {
    "duration": 13,
    "start_time": "2022-08-12T08:23:33.189Z"
   },
   {
    "duration": 316,
    "start_time": "2022-08-12T08:23:33.203Z"
   },
   {
    "duration": 316,
    "start_time": "2022-08-12T08:23:33.520Z"
   },
   {
    "duration": 154,
    "start_time": "2022-08-12T08:23:33.838Z"
   },
   {
    "duration": 153,
    "start_time": "2022-08-12T08:23:33.994Z"
   },
   {
    "duration": 4,
    "start_time": "2022-08-12T08:23:34.157Z"
   },
   {
    "duration": 5,
    "start_time": "2022-08-12T08:23:34.164Z"
   },
   {
    "duration": 8,
    "start_time": "2022-08-12T08:24:14.140Z"
   },
   {
    "duration": 2,
    "start_time": "2022-08-12T08:27:04.843Z"
   },
   {
    "duration": 113,
    "start_time": "2022-08-12T08:27:04.847Z"
   },
   {
    "duration": 73,
    "start_time": "2022-08-12T08:27:04.961Z"
   },
   {
    "duration": 24,
    "start_time": "2022-08-12T08:27:05.036Z"
   },
   {
    "duration": 1708,
    "start_time": "2022-08-12T08:27:05.063Z"
   },
   {
    "duration": 255,
    "start_time": "2022-08-12T08:27:06.773Z"
   },
   {
    "duration": 4,
    "start_time": "2022-08-12T08:27:07.030Z"
   },
   {
    "duration": 21,
    "start_time": "2022-08-12T08:27:07.035Z"
   },
   {
    "duration": 18,
    "start_time": "2022-08-12T08:27:07.057Z"
   },
   {
    "duration": 11,
    "start_time": "2022-08-12T08:27:07.077Z"
   },
   {
    "duration": 17,
    "start_time": "2022-08-12T08:27:07.089Z"
   },
   {
    "duration": 6,
    "start_time": "2022-08-12T08:27:07.107Z"
   },
   {
    "duration": 56,
    "start_time": "2022-08-12T08:27:07.114Z"
   },
   {
    "duration": 6,
    "start_time": "2022-08-12T08:27:07.172Z"
   },
   {
    "duration": 7,
    "start_time": "2022-08-12T08:27:07.179Z"
   },
   {
    "duration": 6,
    "start_time": "2022-08-12T08:27:07.188Z"
   },
   {
    "duration": 5,
    "start_time": "2022-08-12T08:27:07.195Z"
   },
   {
    "duration": 8,
    "start_time": "2022-08-12T08:27:07.201Z"
   },
   {
    "duration": 3,
    "start_time": "2022-08-12T08:27:07.211Z"
   },
   {
    "duration": 53,
    "start_time": "2022-08-12T08:27:07.215Z"
   },
   {
    "duration": 14,
    "start_time": "2022-08-12T08:27:07.270Z"
   },
   {
    "duration": 6,
    "start_time": "2022-08-12T08:27:07.286Z"
   },
   {
    "duration": 329,
    "start_time": "2022-08-12T08:27:07.294Z"
   },
   {
    "duration": 251,
    "start_time": "2022-08-12T08:27:07.625Z"
   },
   {
    "duration": 159,
    "start_time": "2022-08-12T08:27:07.877Z"
   },
   {
    "duration": 132,
    "start_time": "2022-08-12T08:27:08.038Z"
   },
   {
    "duration": 3,
    "start_time": "2022-08-12T08:27:08.172Z"
   },
   {
    "duration": 7,
    "start_time": "2022-08-12T08:27:08.176Z"
   },
   {
    "duration": 8,
    "start_time": "2022-08-12T08:27:50.853Z"
   },
   {
    "duration": 15,
    "start_time": "2022-08-12T08:30:21.162Z"
   },
   {
    "duration": 3,
    "start_time": "2022-08-12T08:30:27.736Z"
   },
   {
    "duration": 14,
    "start_time": "2022-08-12T08:30:28.529Z"
   },
   {
    "duration": 14,
    "start_time": "2022-08-12T08:30:55.635Z"
   },
   {
    "duration": 74,
    "start_time": "2022-08-12T08:31:33.782Z"
   },
   {
    "duration": 13,
    "start_time": "2022-08-12T08:31:41.656Z"
   },
   {
    "duration": 15,
    "start_time": "2022-08-12T08:31:51.142Z"
   },
   {
    "duration": 5,
    "start_time": "2022-08-12T08:33:33.566Z"
   },
   {
    "duration": 2,
    "start_time": "2022-08-12T08:33:41.156Z"
   },
   {
    "duration": 115,
    "start_time": "2022-08-12T08:33:41.162Z"
   },
   {
    "duration": 63,
    "start_time": "2022-08-12T08:33:41.279Z"
   },
   {
    "duration": 20,
    "start_time": "2022-08-12T08:33:41.344Z"
   },
   {
    "duration": 1726,
    "start_time": "2022-08-12T08:33:41.366Z"
   },
   {
    "duration": 235,
    "start_time": "2022-08-12T08:33:43.095Z"
   },
   {
    "duration": 3,
    "start_time": "2022-08-12T08:33:43.332Z"
   },
   {
    "duration": 14,
    "start_time": "2022-08-12T08:33:43.336Z"
   },
   {
    "duration": 20,
    "start_time": "2022-08-12T08:33:43.351Z"
   },
   {
    "duration": 10,
    "start_time": "2022-08-12T08:33:43.373Z"
   },
   {
    "duration": 16,
    "start_time": "2022-08-12T08:33:43.384Z"
   },
   {
    "duration": 5,
    "start_time": "2022-08-12T08:33:43.402Z"
   },
   {
    "duration": 61,
    "start_time": "2022-08-12T08:33:43.408Z"
   },
   {
    "duration": 5,
    "start_time": "2022-08-12T08:33:43.471Z"
   },
   {
    "duration": 8,
    "start_time": "2022-08-12T08:33:43.478Z"
   },
   {
    "duration": 7,
    "start_time": "2022-08-12T08:33:43.488Z"
   },
   {
    "duration": 4,
    "start_time": "2022-08-12T08:33:43.496Z"
   },
   {
    "duration": 6,
    "start_time": "2022-08-12T08:33:43.501Z"
   },
   {
    "duration": 4,
    "start_time": "2022-08-12T08:33:43.509Z"
   },
   {
    "duration": 85,
    "start_time": "2022-08-12T08:33:43.514Z"
   },
   {
    "duration": 0,
    "start_time": "2022-08-12T08:33:43.601Z"
   },
   {
    "duration": 0,
    "start_time": "2022-08-12T08:33:43.602Z"
   },
   {
    "duration": 0,
    "start_time": "2022-08-12T08:33:43.603Z"
   },
   {
    "duration": 0,
    "start_time": "2022-08-12T08:33:43.605Z"
   },
   {
    "duration": 0,
    "start_time": "2022-08-12T08:33:43.605Z"
   },
   {
    "duration": 0,
    "start_time": "2022-08-12T08:33:43.606Z"
   },
   {
    "duration": 0,
    "start_time": "2022-08-12T08:33:43.608Z"
   },
   {
    "duration": 0,
    "start_time": "2022-08-12T08:33:43.609Z"
   },
   {
    "duration": 17,
    "start_time": "2022-08-12T08:34:01.395Z"
   },
   {
    "duration": 15,
    "start_time": "2022-08-12T08:34:06.548Z"
   },
   {
    "duration": 1043,
    "start_time": "2022-08-12T08:34:58.584Z"
   },
   {
    "duration": 578,
    "start_time": "2022-08-12T08:35:20.939Z"
   },
   {
    "duration": 13,
    "start_time": "2022-08-12T08:35:41.688Z"
   },
   {
    "duration": 20,
    "start_time": "2022-08-12T08:35:49.362Z"
   },
   {
    "duration": 21,
    "start_time": "2022-08-12T08:36:11.200Z"
   },
   {
    "duration": 11,
    "start_time": "2022-08-12T08:36:34.077Z"
   },
   {
    "duration": 20,
    "start_time": "2022-08-12T08:36:39.462Z"
   },
   {
    "duration": 18,
    "start_time": "2022-08-12T08:37:20.512Z"
   },
   {
    "duration": 20,
    "start_time": "2022-08-12T08:38:03.931Z"
   },
   {
    "duration": 18,
    "start_time": "2022-08-12T08:39:07.101Z"
   },
   {
    "duration": 4,
    "start_time": "2022-08-12T08:48:31.591Z"
   },
   {
    "duration": 4,
    "start_time": "2022-08-12T08:49:00.271Z"
   },
   {
    "duration": 7,
    "start_time": "2022-08-12T08:49:04.434Z"
   },
   {
    "duration": 15,
    "start_time": "2022-08-12T08:50:25.106Z"
   },
   {
    "duration": 3,
    "start_time": "2022-08-12T08:54:50.470Z"
   },
   {
    "duration": 112,
    "start_time": "2022-08-12T08:54:50.475Z"
   },
   {
    "duration": 72,
    "start_time": "2022-08-12T08:54:50.589Z"
   },
   {
    "duration": 12,
    "start_time": "2022-08-12T08:54:50.662Z"
   },
   {
    "duration": 1792,
    "start_time": "2022-08-12T08:54:50.676Z"
   },
   {
    "duration": 244,
    "start_time": "2022-08-12T08:54:52.470Z"
   },
   {
    "duration": 4,
    "start_time": "2022-08-12T08:54:52.716Z"
   },
   {
    "duration": 9,
    "start_time": "2022-08-12T08:54:52.722Z"
   },
   {
    "duration": 35,
    "start_time": "2022-08-12T08:54:52.732Z"
   },
   {
    "duration": 12,
    "start_time": "2022-08-12T08:54:52.768Z"
   },
   {
    "duration": 17,
    "start_time": "2022-08-12T08:54:52.781Z"
   },
   {
    "duration": 6,
    "start_time": "2022-08-12T08:54:52.799Z"
   },
   {
    "duration": 55,
    "start_time": "2022-08-12T08:54:52.807Z"
   },
   {
    "duration": 5,
    "start_time": "2022-08-12T08:54:52.864Z"
   },
   {
    "duration": 8,
    "start_time": "2022-08-12T08:54:52.870Z"
   },
   {
    "duration": 6,
    "start_time": "2022-08-12T08:54:52.879Z"
   },
   {
    "duration": 3,
    "start_time": "2022-08-12T08:54:52.887Z"
   },
   {
    "duration": 7,
    "start_time": "2022-08-12T08:54:53.011Z"
   },
   {
    "duration": 26,
    "start_time": "2022-08-12T08:55:06.365Z"
   },
   {
    "duration": 9,
    "start_time": "2022-08-12T08:55:17.857Z"
   },
   {
    "duration": 18,
    "start_time": "2022-08-12T08:58:29.848Z"
   },
   {
    "duration": 5,
    "start_time": "2022-08-12T09:05:31.837Z"
   },
   {
    "duration": 128,
    "start_time": "2022-08-12T09:05:31.848Z"
   },
   {
    "duration": 78,
    "start_time": "2022-08-12T09:05:31.978Z"
   },
   {
    "duration": 15,
    "start_time": "2022-08-12T09:05:32.057Z"
   },
   {
    "duration": 1797,
    "start_time": "2022-08-12T09:05:32.073Z"
   },
   {
    "duration": 250,
    "start_time": "2022-08-12T09:05:33.872Z"
   },
   {
    "duration": 4,
    "start_time": "2022-08-12T09:05:34.123Z"
   },
   {
    "duration": 9,
    "start_time": "2022-08-12T09:05:34.128Z"
   },
   {
    "duration": 31,
    "start_time": "2022-08-12T09:05:34.139Z"
   },
   {
    "duration": 11,
    "start_time": "2022-08-12T09:05:34.171Z"
   },
   {
    "duration": 16,
    "start_time": "2022-08-12T09:05:34.183Z"
   },
   {
    "duration": 5,
    "start_time": "2022-08-12T09:05:34.201Z"
   },
   {
    "duration": 58,
    "start_time": "2022-08-12T09:05:34.207Z"
   },
   {
    "duration": 5,
    "start_time": "2022-08-12T09:05:34.266Z"
   },
   {
    "duration": 6,
    "start_time": "2022-08-12T09:05:34.274Z"
   },
   {
    "duration": 5,
    "start_time": "2022-08-12T09:05:34.281Z"
   },
   {
    "duration": 4,
    "start_time": "2022-08-12T09:05:34.288Z"
   },
   {
    "duration": 4,
    "start_time": "2022-08-12T09:05:34.294Z"
   },
   {
    "duration": 21,
    "start_time": "2022-08-12T09:05:34.300Z"
   },
   {
    "duration": 37,
    "start_time": "2022-08-12T09:05:34.322Z"
   },
   {
    "duration": 8,
    "start_time": "2022-08-12T09:05:42.234Z"
   },
   {
    "duration": 7,
    "start_time": "2022-08-12T09:06:01.837Z"
   },
   {
    "duration": 7,
    "start_time": "2022-08-12T09:06:53.000Z"
   },
   {
    "duration": 6,
    "start_time": "2022-08-12T09:07:06.441Z"
   },
   {
    "duration": 8,
    "start_time": "2022-08-12T09:08:53.845Z"
   },
   {
    "duration": 8,
    "start_time": "2022-08-12T09:09:05.070Z"
   },
   {
    "duration": 5,
    "start_time": "2022-08-12T09:09:18.722Z"
   },
   {
    "duration": 14,
    "start_time": "2022-08-12T09:09:25.936Z"
   },
   {
    "duration": 2,
    "start_time": "2022-08-12T09:13:26.367Z"
   },
   {
    "duration": 114,
    "start_time": "2022-08-12T09:13:26.371Z"
   },
   {
    "duration": 70,
    "start_time": "2022-08-12T09:13:26.486Z"
   },
   {
    "duration": 12,
    "start_time": "2022-08-12T09:13:26.557Z"
   },
   {
    "duration": 1906,
    "start_time": "2022-08-12T09:13:26.571Z"
   },
   {
    "duration": 238,
    "start_time": "2022-08-12T09:13:28.479Z"
   },
   {
    "duration": 4,
    "start_time": "2022-08-12T09:13:28.718Z"
   },
   {
    "duration": 14,
    "start_time": "2022-08-12T09:13:28.723Z"
   },
   {
    "duration": 28,
    "start_time": "2022-08-12T09:13:28.738Z"
   },
   {
    "duration": 11,
    "start_time": "2022-08-12T09:13:28.767Z"
   },
   {
    "duration": 17,
    "start_time": "2022-08-12T09:13:28.780Z"
   },
   {
    "duration": 5,
    "start_time": "2022-08-12T09:13:28.799Z"
   },
   {
    "duration": 56,
    "start_time": "2022-08-12T09:13:28.806Z"
   },
   {
    "duration": 5,
    "start_time": "2022-08-12T09:13:28.863Z"
   },
   {
    "duration": 7,
    "start_time": "2022-08-12T09:13:28.869Z"
   },
   {
    "duration": 5,
    "start_time": "2022-08-12T09:13:28.877Z"
   },
   {
    "duration": 4,
    "start_time": "2022-08-12T09:13:28.883Z"
   },
   {
    "duration": 14,
    "start_time": "2022-08-12T09:13:28.888Z"
   },
   {
    "duration": 15,
    "start_time": "2022-08-12T09:13:35.464Z"
   },
   {
    "duration": 13,
    "start_time": "2022-08-12T09:14:44.298Z"
   },
   {
    "duration": 12,
    "start_time": "2022-08-12T09:14:51.093Z"
   },
   {
    "duration": 15,
    "start_time": "2022-08-12T09:15:02.011Z"
   },
   {
    "duration": 11,
    "start_time": "2022-08-12T09:16:10.266Z"
   },
   {
    "duration": 6,
    "start_time": "2022-08-12T09:16:25.123Z"
   },
   {
    "duration": 4,
    "start_time": "2022-08-12T09:16:41.507Z"
   },
   {
    "duration": 88,
    "start_time": "2022-08-12T09:17:23.981Z"
   },
   {
    "duration": 14,
    "start_time": "2022-08-12T09:17:35.014Z"
   },
   {
    "duration": 12,
    "start_time": "2022-08-12T09:18:21.656Z"
   },
   {
    "duration": 4,
    "start_time": "2022-08-12T09:19:55.494Z"
   },
   {
    "duration": 4,
    "start_time": "2022-08-12T09:20:17.834Z"
   },
   {
    "duration": 8,
    "start_time": "2022-08-12T09:20:46.043Z"
   },
   {
    "duration": 5,
    "start_time": "2022-08-12T09:21:18.848Z"
   },
   {
    "duration": 664,
    "start_time": "2022-08-12T09:21:37.789Z"
   },
   {
    "duration": 5,
    "start_time": "2022-08-12T09:22:07.190Z"
   },
   {
    "duration": 21,
    "start_time": "2022-08-12T09:24:57.631Z"
   },
   {
    "duration": 51,
    "start_time": "2022-08-12T12:18:21.680Z"
   },
   {
    "duration": 398,
    "start_time": "2022-08-12T12:18:29.638Z"
   },
   {
    "duration": 352,
    "start_time": "2022-08-12T12:18:30.039Z"
   },
   {
    "duration": 68,
    "start_time": "2022-08-12T12:18:30.393Z"
   },
   {
    "duration": 14,
    "start_time": "2022-08-12T12:18:30.463Z"
   },
   {
    "duration": 2264,
    "start_time": "2022-08-12T12:18:30.478Z"
   },
   {
    "duration": 228,
    "start_time": "2022-08-12T12:18:32.744Z"
   },
   {
    "duration": 6,
    "start_time": "2022-08-12T12:18:32.974Z"
   },
   {
    "duration": 10,
    "start_time": "2022-08-12T12:18:32.981Z"
   },
   {
    "duration": 35,
    "start_time": "2022-08-12T12:18:32.992Z"
   },
   {
    "duration": 11,
    "start_time": "2022-08-12T12:18:33.030Z"
   },
   {
    "duration": 25,
    "start_time": "2022-08-12T12:18:33.042Z"
   },
   {
    "duration": 5,
    "start_time": "2022-08-12T12:18:33.069Z"
   },
   {
    "duration": 54,
    "start_time": "2022-08-12T12:18:33.076Z"
   },
   {
    "duration": 6,
    "start_time": "2022-08-12T12:18:33.132Z"
   },
   {
    "duration": 9,
    "start_time": "2022-08-12T12:18:33.139Z"
   },
   {
    "duration": 7,
    "start_time": "2022-08-12T12:18:33.149Z"
   },
   {
    "duration": 4,
    "start_time": "2022-08-12T12:18:33.158Z"
   },
   {
    "duration": 11,
    "start_time": "2022-08-12T12:18:33.163Z"
   },
   {
    "duration": 38,
    "start_time": "2022-08-12T12:18:33.175Z"
   },
   {
    "duration": 54,
    "start_time": "2022-08-12T12:18:33.214Z"
   },
   {
    "duration": 0,
    "start_time": "2022-08-12T12:18:33.270Z"
   },
   {
    "duration": 0,
    "start_time": "2022-08-12T12:18:33.271Z"
   },
   {
    "duration": 0,
    "start_time": "2022-08-12T12:18:33.272Z"
   },
   {
    "duration": 0,
    "start_time": "2022-08-12T12:18:33.273Z"
   },
   {
    "duration": 0,
    "start_time": "2022-08-12T12:18:33.275Z"
   },
   {
    "duration": 0,
    "start_time": "2022-08-12T12:18:33.276Z"
   },
   {
    "duration": 0,
    "start_time": "2022-08-12T12:18:33.278Z"
   },
   {
    "duration": 0,
    "start_time": "2022-08-12T12:18:33.279Z"
   },
   {
    "duration": 0,
    "start_time": "2022-08-12T12:18:33.281Z"
   },
   {
    "duration": 0,
    "start_time": "2022-08-12T12:18:33.283Z"
   },
   {
    "duration": 0,
    "start_time": "2022-08-12T12:18:33.284Z"
   },
   {
    "duration": 0,
    "start_time": "2022-08-12T12:18:33.285Z"
   },
   {
    "duration": 0,
    "start_time": "2022-08-12T12:18:33.286Z"
   },
   {
    "duration": 0,
    "start_time": "2022-08-12T12:18:33.288Z"
   },
   {
    "duration": 1,
    "start_time": "2022-08-12T12:18:33.289Z"
   },
   {
    "duration": 0,
    "start_time": "2022-08-12T12:18:33.291Z"
   },
   {
    "duration": 0,
    "start_time": "2022-08-12T12:18:33.292Z"
   },
   {
    "duration": 0,
    "start_time": "2022-08-12T12:18:33.294Z"
   },
   {
    "duration": 0,
    "start_time": "2022-08-12T12:18:33.295Z"
   },
   {
    "duration": 0,
    "start_time": "2022-08-12T12:18:33.296Z"
   },
   {
    "duration": 0,
    "start_time": "2022-08-12T12:18:33.298Z"
   },
   {
    "duration": 49,
    "start_time": "2022-08-12T12:25:33.886Z"
   },
   {
    "duration": 3,
    "start_time": "2022-08-12T12:25:42.848Z"
   },
   {
    "duration": 19,
    "start_time": "2022-08-12T12:37:09.306Z"
   },
   {
    "duration": 18,
    "start_time": "2022-08-12T12:37:46.735Z"
   },
   {
    "duration": 21,
    "start_time": "2022-08-12T12:38:03.484Z"
   },
   {
    "duration": 276,
    "start_time": "2022-08-12T12:38:56.747Z"
   },
   {
    "duration": 22,
    "start_time": "2022-08-12T12:39:01.816Z"
   },
   {
    "duration": 238,
    "start_time": "2022-08-12T12:42:25.786Z"
   },
   {
    "duration": 23,
    "start_time": "2022-08-12T12:42:46.692Z"
   },
   {
    "duration": 16,
    "start_time": "2022-08-12T12:47:36.680Z"
   },
   {
    "duration": 12,
    "start_time": "2022-08-12T12:47:50.181Z"
   },
   {
    "duration": 18,
    "start_time": "2022-08-12T12:51:18.172Z"
   },
   {
    "duration": 16,
    "start_time": "2022-08-12T12:51:46.133Z"
   },
   {
    "duration": 5,
    "start_time": "2022-08-12T12:53:16.002Z"
   },
   {
    "duration": 122,
    "start_time": "2022-08-12T12:53:16.010Z"
   },
   {
    "duration": 80,
    "start_time": "2022-08-12T12:53:16.133Z"
   },
   {
    "duration": 16,
    "start_time": "2022-08-12T12:53:16.215Z"
   },
   {
    "duration": 1902,
    "start_time": "2022-08-12T12:53:16.232Z"
   },
   {
    "duration": 247,
    "start_time": "2022-08-12T12:53:18.136Z"
   },
   {
    "duration": 3,
    "start_time": "2022-08-12T12:53:18.385Z"
   },
   {
    "duration": 24,
    "start_time": "2022-08-12T12:53:18.390Z"
   },
   {
    "duration": 20,
    "start_time": "2022-08-12T12:53:18.416Z"
   },
   {
    "duration": 19,
    "start_time": "2022-08-12T12:53:18.437Z"
   },
   {
    "duration": 20,
    "start_time": "2022-08-12T12:53:18.458Z"
   },
   {
    "duration": 9,
    "start_time": "2022-08-12T12:53:18.479Z"
   },
   {
    "duration": 45,
    "start_time": "2022-08-12T12:53:18.489Z"
   },
   {
    "duration": 7,
    "start_time": "2022-08-12T12:53:18.535Z"
   },
   {
    "duration": 10,
    "start_time": "2022-08-12T12:53:18.543Z"
   },
   {
    "duration": 27,
    "start_time": "2022-08-12T12:53:18.554Z"
   },
   {
    "duration": 16,
    "start_time": "2022-08-12T12:53:18.583Z"
   },
   {
    "duration": 39,
    "start_time": "2022-08-12T12:53:18.601Z"
   },
   {
    "duration": 15,
    "start_time": "2022-08-12T12:53:23.175Z"
   },
   {
    "duration": 9,
    "start_time": "2022-08-12T12:54:56.702Z"
   },
   {
    "duration": 2,
    "start_time": "2022-08-12T12:55:38.169Z"
   },
   {
    "duration": 117,
    "start_time": "2022-08-12T12:55:38.173Z"
   },
   {
    "duration": 79,
    "start_time": "2022-08-12T12:55:38.292Z"
   },
   {
    "duration": 13,
    "start_time": "2022-08-12T12:55:38.373Z"
   },
   {
    "duration": 1921,
    "start_time": "2022-08-12T12:55:38.388Z"
   },
   {
    "duration": 308,
    "start_time": "2022-08-12T12:55:40.311Z"
   },
   {
    "duration": 4,
    "start_time": "2022-08-12T12:55:40.621Z"
   },
   {
    "duration": 12,
    "start_time": "2022-08-12T12:55:40.627Z"
   },
   {
    "duration": 20,
    "start_time": "2022-08-12T12:55:40.641Z"
   },
   {
    "duration": 11,
    "start_time": "2022-08-12T12:55:40.663Z"
   },
   {
    "duration": 36,
    "start_time": "2022-08-12T12:55:40.675Z"
   },
   {
    "duration": 7,
    "start_time": "2022-08-12T12:55:40.712Z"
   },
   {
    "duration": 48,
    "start_time": "2022-08-12T12:55:40.721Z"
   },
   {
    "duration": 5,
    "start_time": "2022-08-12T12:55:40.771Z"
   },
   {
    "duration": 6,
    "start_time": "2022-08-12T12:55:40.778Z"
   },
   {
    "duration": 40,
    "start_time": "2022-08-12T12:55:40.785Z"
   },
   {
    "duration": 4,
    "start_time": "2022-08-12T12:55:40.826Z"
   },
   {
    "duration": 23,
    "start_time": "2022-08-12T12:55:40.832Z"
   },
   {
    "duration": 14,
    "start_time": "2022-08-12T12:55:40.856Z"
   },
   {
    "duration": 7,
    "start_time": "2022-08-12T12:55:41.909Z"
   },
   {
    "duration": 44,
    "start_time": "2022-08-12T12:55:47.480Z"
   },
   {
    "duration": 372,
    "start_time": "2022-08-12T12:57:15.850Z"
   },
   {
    "duration": 120,
    "start_time": "2022-08-12T12:57:16.224Z"
   },
   {
    "duration": 86,
    "start_time": "2022-08-12T12:57:16.346Z"
   },
   {
    "duration": 14,
    "start_time": "2022-08-12T12:57:16.434Z"
   },
   {
    "duration": 2160,
    "start_time": "2022-08-12T12:57:16.450Z"
   },
   {
    "duration": 248,
    "start_time": "2022-08-12T12:57:18.612Z"
   },
   {
    "duration": 6,
    "start_time": "2022-08-12T12:57:18.862Z"
   },
   {
    "duration": 13,
    "start_time": "2022-08-12T12:57:18.869Z"
   },
   {
    "duration": 40,
    "start_time": "2022-08-12T12:57:18.883Z"
   },
   {
    "duration": 11,
    "start_time": "2022-08-12T12:57:18.925Z"
   },
   {
    "duration": 20,
    "start_time": "2022-08-12T12:57:18.937Z"
   },
   {
    "duration": 7,
    "start_time": "2022-08-12T12:57:18.959Z"
   },
   {
    "duration": 66,
    "start_time": "2022-08-12T12:57:18.968Z"
   },
   {
    "duration": 6,
    "start_time": "2022-08-12T12:57:19.037Z"
   },
   {
    "duration": 11,
    "start_time": "2022-08-12T12:57:19.045Z"
   },
   {
    "duration": 8,
    "start_time": "2022-08-12T12:57:19.057Z"
   },
   {
    "duration": 4,
    "start_time": "2022-08-12T12:57:19.067Z"
   },
   {
    "duration": 43,
    "start_time": "2022-08-12T12:57:19.072Z"
   },
   {
    "duration": 14,
    "start_time": "2022-08-12T12:57:19.117Z"
   },
   {
    "duration": 5,
    "start_time": "2022-08-12T12:57:19.133Z"
   },
   {
    "duration": 325,
    "start_time": "2022-08-12T12:57:19.140Z"
   },
   {
    "duration": 360,
    "start_time": "2022-08-12T12:57:19.467Z"
   },
   {
    "duration": 172,
    "start_time": "2022-08-12T12:57:19.829Z"
   },
   {
    "duration": 148,
    "start_time": "2022-08-12T12:57:20.002Z"
   },
   {
    "duration": 4,
    "start_time": "2022-08-12T12:57:20.151Z"
   },
   {
    "duration": 10,
    "start_time": "2022-08-12T12:57:20.157Z"
   },
   {
    "duration": 11,
    "start_time": "2022-08-12T12:57:20.169Z"
   },
   {
    "duration": 10,
    "start_time": "2022-08-12T14:23:12.202Z"
   },
   {
    "duration": 86,
    "start_time": "2022-08-12T14:37:37.231Z"
   },
   {
    "duration": 3,
    "start_time": "2022-08-12T14:37:44.876Z"
   },
   {
    "duration": 112,
    "start_time": "2022-08-12T14:37:44.880Z"
   },
   {
    "duration": 71,
    "start_time": "2022-08-12T14:37:44.994Z"
   },
   {
    "duration": 13,
    "start_time": "2022-08-12T14:37:45.067Z"
   },
   {
    "duration": 1903,
    "start_time": "2022-08-12T14:37:45.081Z"
   },
   {
    "duration": 266,
    "start_time": "2022-08-12T14:37:46.986Z"
   },
   {
    "duration": 4,
    "start_time": "2022-08-12T14:37:47.254Z"
   },
   {
    "duration": 15,
    "start_time": "2022-08-12T14:37:47.260Z"
   },
   {
    "duration": 48,
    "start_time": "2022-08-12T14:37:47.277Z"
   },
   {
    "duration": 13,
    "start_time": "2022-08-12T14:37:47.327Z"
   },
   {
    "duration": 24,
    "start_time": "2022-08-12T14:37:47.341Z"
   },
   {
    "duration": 8,
    "start_time": "2022-08-12T14:37:47.367Z"
   },
   {
    "duration": 70,
    "start_time": "2022-08-12T14:37:47.377Z"
   },
   {
    "duration": 8,
    "start_time": "2022-08-12T14:37:47.450Z"
   },
   {
    "duration": 11,
    "start_time": "2022-08-12T14:37:47.460Z"
   },
   {
    "duration": 11,
    "start_time": "2022-08-12T14:37:47.473Z"
   },
   {
    "duration": 9,
    "start_time": "2022-08-12T14:37:47.486Z"
   },
   {
    "duration": 33,
    "start_time": "2022-08-12T14:37:47.496Z"
   },
   {
    "duration": 14,
    "start_time": "2022-08-12T14:37:47.531Z"
   },
   {
    "duration": 5,
    "start_time": "2022-08-12T14:37:47.547Z"
   },
   {
    "duration": 328,
    "start_time": "2022-08-12T14:37:47.553Z"
   },
   {
    "duration": 165,
    "start_time": "2022-08-12T14:37:47.883Z"
   },
   {
    "duration": 150,
    "start_time": "2022-08-12T14:38:11.851Z"
   },
   {
    "duration": 158,
    "start_time": "2022-08-12T14:38:23.502Z"
   },
   {
    "duration": 289,
    "start_time": "2022-08-12T14:46:43.636Z"
   },
   {
    "duration": 397,
    "start_time": "2022-08-12T14:46:52.337Z"
   },
   {
    "duration": 295,
    "start_time": "2022-08-12T14:47:46.171Z"
   },
   {
    "duration": 2,
    "start_time": "2022-08-12T16:19:23.714Z"
   },
   {
    "duration": 138,
    "start_time": "2022-08-12T16:19:23.719Z"
   },
   {
    "duration": 75,
    "start_time": "2022-08-12T16:19:23.859Z"
   },
   {
    "duration": 13,
    "start_time": "2022-08-12T16:19:23.936Z"
   },
   {
    "duration": 1852,
    "start_time": "2022-08-12T16:19:23.951Z"
   },
   {
    "duration": 282,
    "start_time": "2022-08-12T16:19:25.805Z"
   },
   {
    "duration": 4,
    "start_time": "2022-08-12T16:19:26.089Z"
   },
   {
    "duration": 15,
    "start_time": "2022-08-12T16:19:26.095Z"
   },
   {
    "duration": 12,
    "start_time": "2022-08-12T16:19:26.111Z"
   },
   {
    "duration": 19,
    "start_time": "2022-08-12T16:19:26.125Z"
   },
   {
    "duration": 23,
    "start_time": "2022-08-12T16:19:26.146Z"
   },
   {
    "duration": 19,
    "start_time": "2022-08-12T16:19:26.171Z"
   },
   {
    "duration": 8,
    "start_time": "2022-08-12T16:19:26.208Z"
   },
   {
    "duration": 36,
    "start_time": "2022-08-12T16:19:26.218Z"
   },
   {
    "duration": 6,
    "start_time": "2022-08-12T16:19:26.256Z"
   },
   {
    "duration": 9,
    "start_time": "2022-08-12T16:19:26.263Z"
   },
   {
    "duration": 7,
    "start_time": "2022-08-12T16:19:26.274Z"
   },
   {
    "duration": 28,
    "start_time": "2022-08-12T16:19:26.282Z"
   },
   {
    "duration": 26,
    "start_time": "2022-08-12T16:19:26.312Z"
   },
   {
    "duration": 14,
    "start_time": "2022-08-12T16:19:26.340Z"
   },
   {
    "duration": 18,
    "start_time": "2022-08-12T16:19:26.355Z"
   },
   {
    "duration": 301,
    "start_time": "2022-08-12T16:19:30.697Z"
   },
   {
    "duration": 7,
    "start_time": "2022-08-12T16:19:31.005Z"
   },
   {
    "duration": 580,
    "start_time": "2022-08-12T16:49:48.248Z"
   },
   {
    "duration": 116,
    "start_time": "2022-08-12T16:49:48.830Z"
   },
   {
    "duration": 69,
    "start_time": "2022-08-12T16:49:48.948Z"
   },
   {
    "duration": 13,
    "start_time": "2022-08-12T16:49:49.020Z"
   },
   {
    "duration": 1847,
    "start_time": "2022-08-12T16:49:49.035Z"
   },
   {
    "duration": 249,
    "start_time": "2022-08-12T16:49:50.884Z"
   },
   {
    "duration": 6,
    "start_time": "2022-08-12T16:49:51.135Z"
   },
   {
    "duration": 10,
    "start_time": "2022-08-12T16:49:51.142Z"
   },
   {
    "duration": 13,
    "start_time": "2022-08-12T16:49:51.154Z"
   },
   {
    "duration": 23,
    "start_time": "2022-08-12T16:49:51.170Z"
   },
   {
    "duration": 12,
    "start_time": "2022-08-12T16:49:51.209Z"
   },
   {
    "duration": 19,
    "start_time": "2022-08-12T16:49:51.223Z"
   },
   {
    "duration": 6,
    "start_time": "2022-08-12T16:49:51.244Z"
   },
   {
    "duration": 61,
    "start_time": "2022-08-12T16:49:51.252Z"
   },
   {
    "duration": 5,
    "start_time": "2022-08-12T16:49:51.315Z"
   },
   {
    "duration": 9,
    "start_time": "2022-08-12T16:49:51.322Z"
   },
   {
    "duration": 6,
    "start_time": "2022-08-12T16:49:51.333Z"
   },
   {
    "duration": 5,
    "start_time": "2022-08-12T16:49:51.340Z"
   },
   {
    "duration": 37,
    "start_time": "2022-08-12T16:49:51.346Z"
   },
   {
    "duration": 28,
    "start_time": "2022-08-12T16:49:51.385Z"
   },
   {
    "duration": 5,
    "start_time": "2022-08-12T16:49:51.415Z"
   },
   {
    "duration": 333,
    "start_time": "2022-08-12T16:49:51.422Z"
   },
   {
    "duration": 379,
    "start_time": "2022-08-12T16:49:51.757Z"
   },
   {
    "duration": 317,
    "start_time": "2022-08-12T16:49:52.138Z"
   },
   {
    "duration": 306,
    "start_time": "2022-08-12T16:49:52.457Z"
   },
   {
    "duration": 294,
    "start_time": "2022-08-12T16:49:52.765Z"
   },
   {
    "duration": 274,
    "start_time": "2022-08-12T16:49:53.061Z"
   },
   {
    "duration": 295,
    "start_time": "2022-08-12T16:49:53.337Z"
   },
   {
    "duration": 403,
    "start_time": "2022-08-12T16:49:53.634Z"
   },
   {
    "duration": 91,
    "start_time": "2022-08-12T16:49:54.039Z"
   },
   {
    "duration": 0,
    "start_time": "2022-08-12T16:49:54.132Z"
   },
   {
    "duration": 0,
    "start_time": "2022-08-12T16:49:54.133Z"
   },
   {
    "duration": 0,
    "start_time": "2022-08-12T16:49:54.134Z"
   },
   {
    "duration": 0,
    "start_time": "2022-08-12T16:49:54.135Z"
   },
   {
    "duration": 0,
    "start_time": "2022-08-12T16:49:54.136Z"
   },
   {
    "duration": 0,
    "start_time": "2022-08-12T16:49:54.137Z"
   },
   {
    "duration": 1,
    "start_time": "2022-08-12T16:49:54.138Z"
   },
   {
    "duration": 0,
    "start_time": "2022-08-12T16:49:54.139Z"
   },
   {
    "duration": 0,
    "start_time": "2022-08-12T16:49:54.141Z"
   },
   {
    "duration": 0,
    "start_time": "2022-08-12T16:49:54.142Z"
   },
   {
    "duration": 0,
    "start_time": "2022-08-12T16:49:54.143Z"
   },
   {
    "duration": 195,
    "start_time": "2022-08-12T16:52:29.608Z"
   },
   {
    "duration": 170,
    "start_time": "2022-08-12T16:52:33.674Z"
   },
   {
    "duration": 5,
    "start_time": "2022-08-12T16:53:12.339Z"
   },
   {
    "duration": 7,
    "start_time": "2022-08-12T16:53:22.003Z"
   },
   {
    "duration": 639,
    "start_time": "2022-08-12T16:54:54.544Z"
   },
   {
    "duration": 126,
    "start_time": "2022-08-12T16:54:55.184Z"
   },
   {
    "duration": 72,
    "start_time": "2022-08-12T16:54:55.311Z"
   },
   {
    "duration": 32,
    "start_time": "2022-08-12T16:54:55.385Z"
   },
   {
    "duration": 1890,
    "start_time": "2022-08-12T16:54:55.419Z"
   },
   {
    "duration": 263,
    "start_time": "2022-08-12T16:54:57.311Z"
   },
   {
    "duration": 6,
    "start_time": "2022-08-12T16:54:57.575Z"
   },
   {
    "duration": 5,
    "start_time": "2022-08-12T16:54:57.582Z"
   },
   {
    "duration": 27,
    "start_time": "2022-08-12T16:54:57.588Z"
   },
   {
    "duration": 22,
    "start_time": "2022-08-12T16:54:57.617Z"
   },
   {
    "duration": 10,
    "start_time": "2022-08-12T16:54:57.641Z"
   },
   {
    "duration": 19,
    "start_time": "2022-08-12T16:54:57.653Z"
   },
   {
    "duration": 6,
    "start_time": "2022-08-12T16:54:57.674Z"
   },
   {
    "duration": 40,
    "start_time": "2022-08-12T16:54:57.709Z"
   },
   {
    "duration": 6,
    "start_time": "2022-08-12T16:54:57.751Z"
   },
   {
    "duration": 7,
    "start_time": "2022-08-12T16:54:57.759Z"
   },
   {
    "duration": 6,
    "start_time": "2022-08-12T16:54:57.768Z"
   },
   {
    "duration": 37,
    "start_time": "2022-08-12T16:54:57.776Z"
   },
   {
    "duration": 27,
    "start_time": "2022-08-12T16:54:57.814Z"
   },
   {
    "duration": 14,
    "start_time": "2022-08-12T16:54:57.842Z"
   },
   {
    "duration": 7,
    "start_time": "2022-08-12T16:54:57.857Z"
   },
   {
    "duration": 339,
    "start_time": "2022-08-12T16:54:57.865Z"
   },
   {
    "duration": 162,
    "start_time": "2022-08-12T16:54:58.208Z"
   },
   {
    "duration": 228,
    "start_time": "2022-08-12T16:54:58.372Z"
   },
   {
    "duration": 158,
    "start_time": "2022-08-12T16:54:58.602Z"
   },
   {
    "duration": 157,
    "start_time": "2022-08-12T16:54:58.762Z"
   },
   {
    "duration": 143,
    "start_time": "2022-08-12T16:54:58.921Z"
   },
   {
    "duration": 178,
    "start_time": "2022-08-12T16:54:59.067Z"
   },
   {
    "duration": 155,
    "start_time": "2022-08-12T16:54:59.246Z"
   },
   {
    "duration": 77,
    "start_time": "2022-08-12T16:54:59.403Z"
   },
   {
    "duration": 0,
    "start_time": "2022-08-12T16:54:59.481Z"
   },
   {
    "duration": 0,
    "start_time": "2022-08-12T16:54:59.483Z"
   },
   {
    "duration": 0,
    "start_time": "2022-08-12T16:54:59.484Z"
   },
   {
    "duration": 0,
    "start_time": "2022-08-12T16:54:59.485Z"
   },
   {
    "duration": 0,
    "start_time": "2022-08-12T16:54:59.486Z"
   },
   {
    "duration": 0,
    "start_time": "2022-08-12T16:54:59.487Z"
   },
   {
    "duration": 0,
    "start_time": "2022-08-12T16:54:59.488Z"
   },
   {
    "duration": 0,
    "start_time": "2022-08-12T16:54:59.509Z"
   },
   {
    "duration": 0,
    "start_time": "2022-08-12T16:54:59.510Z"
   },
   {
    "duration": 0,
    "start_time": "2022-08-12T16:54:59.511Z"
   },
   {
    "duration": 0,
    "start_time": "2022-08-12T16:54:59.512Z"
   },
   {
    "duration": 0,
    "start_time": "2022-08-12T16:54:59.513Z"
   },
   {
    "duration": 14,
    "start_time": "2022-08-12T16:55:35.076Z"
   },
   {
    "duration": 14,
    "start_time": "2022-08-12T16:56:44.892Z"
   },
   {
    "duration": 154,
    "start_time": "2022-08-12T16:57:23.767Z"
   },
   {
    "duration": 267,
    "start_time": "2022-08-12T16:57:29.099Z"
   },
   {
    "duration": 155,
    "start_time": "2022-08-12T16:57:34.894Z"
   },
   {
    "duration": 169,
    "start_time": "2022-08-12T16:57:37.266Z"
   },
   {
    "duration": 259,
    "start_time": "2022-08-12T16:57:39.494Z"
   },
   {
    "duration": 154,
    "start_time": "2022-08-12T16:57:42.716Z"
   },
   {
    "duration": 25667,
    "start_time": "2022-08-12T17:00:56.568Z"
   },
   {
    "duration": 14,
    "start_time": "2022-08-12T17:08:11.159Z"
   },
   {
    "duration": 913,
    "start_time": "2022-08-12T17:08:20.926Z"
   },
   {
    "duration": 111,
    "start_time": "2022-08-12T17:08:21.841Z"
   },
   {
    "duration": 84,
    "start_time": "2022-08-12T17:08:21.954Z"
   },
   {
    "duration": 14,
    "start_time": "2022-08-12T17:08:22.040Z"
   },
   {
    "duration": 1721,
    "start_time": "2022-08-12T17:08:22.055Z"
   },
   {
    "duration": 256,
    "start_time": "2022-08-12T17:08:23.777Z"
   },
   {
    "duration": 5,
    "start_time": "2022-08-12T17:08:24.035Z"
   },
   {
    "duration": 9,
    "start_time": "2022-08-12T17:08:24.042Z"
   },
   {
    "duration": 26,
    "start_time": "2022-08-12T17:08:24.052Z"
   },
   {
    "duration": 21,
    "start_time": "2022-08-12T17:08:24.081Z"
   },
   {
    "duration": 11,
    "start_time": "2022-08-12T17:08:24.109Z"
   },
   {
    "duration": 19,
    "start_time": "2022-08-12T17:08:24.122Z"
   },
   {
    "duration": 6,
    "start_time": "2022-08-12T17:08:24.143Z"
   },
   {
    "duration": 37,
    "start_time": "2022-08-12T17:08:24.150Z"
   },
   {
    "duration": 26,
    "start_time": "2022-08-12T17:08:24.188Z"
   },
   {
    "duration": 9,
    "start_time": "2022-08-12T17:08:24.216Z"
   },
   {
    "duration": 6,
    "start_time": "2022-08-12T17:08:24.227Z"
   },
   {
    "duration": 8,
    "start_time": "2022-08-12T17:08:24.234Z"
   },
   {
    "duration": 28,
    "start_time": "2022-08-12T17:08:24.243Z"
   },
   {
    "duration": 36,
    "start_time": "2022-08-12T17:08:24.273Z"
   },
   {
    "duration": 6,
    "start_time": "2022-08-12T17:08:24.312Z"
   },
   {
    "duration": 318,
    "start_time": "2022-08-12T17:08:24.319Z"
   },
   {
    "duration": 174,
    "start_time": "2022-08-12T17:08:24.638Z"
   },
   {
    "duration": 168,
    "start_time": "2022-08-12T17:08:24.814Z"
   },
   {
    "duration": 177,
    "start_time": "2022-08-12T17:08:24.983Z"
   },
   {
    "duration": 162,
    "start_time": "2022-08-12T17:08:25.162Z"
   },
   {
    "duration": 149,
    "start_time": "2022-08-12T17:08:25.326Z"
   },
   {
    "duration": 176,
    "start_time": "2022-08-12T17:08:25.477Z"
   },
   {
    "duration": 169,
    "start_time": "2022-08-12T17:08:25.655Z"
   },
   {
    "duration": 116,
    "start_time": "2022-08-12T17:08:30.625Z"
   },
   {
    "duration": 123,
    "start_time": "2022-08-12T17:08:46.657Z"
   },
   {
    "duration": 42,
    "start_time": "2022-08-12T17:10:23.210Z"
   },
   {
    "duration": 15,
    "start_time": "2022-08-12T17:10:51.499Z"
   },
   {
    "duration": 10,
    "start_time": "2022-08-12T17:11:14.415Z"
   },
   {
    "duration": 17,
    "start_time": "2022-08-12T17:11:43.242Z"
   },
   {
    "duration": 143,
    "start_time": "2022-08-12T17:12:47.158Z"
   },
   {
    "duration": 157,
    "start_time": "2022-08-12T17:15:17.431Z"
   },
   {
    "duration": 138,
    "start_time": "2022-08-12T17:16:28.875Z"
   },
   {
    "duration": 162,
    "start_time": "2022-08-12T17:17:22.157Z"
   },
   {
    "duration": 134,
    "start_time": "2022-08-12T17:19:45.363Z"
   },
   {
    "duration": 193,
    "start_time": "2022-08-12T17:20:03.622Z"
   },
   {
    "duration": 146,
    "start_time": "2022-08-12T17:28:50.973Z"
   },
   {
    "duration": 22,
    "start_time": "2022-08-12T17:38:54.884Z"
   },
   {
    "duration": 36,
    "start_time": "2022-08-12T17:40:28.985Z"
   },
   {
    "duration": 31,
    "start_time": "2022-08-12T17:41:27.954Z"
   },
   {
    "duration": 33,
    "start_time": "2022-08-12T17:41:35.872Z"
   },
   {
    "duration": 34,
    "start_time": "2022-08-12T17:41:39.986Z"
   },
   {
    "duration": 33,
    "start_time": "2022-08-12T17:41:53.681Z"
   },
   {
    "duration": 33,
    "start_time": "2022-08-12T17:42:13.966Z"
   },
   {
    "duration": 188,
    "start_time": "2022-08-12T17:42:55.397Z"
   },
   {
    "duration": 35,
    "start_time": "2022-08-12T17:45:24.242Z"
   },
   {
    "duration": 31,
    "start_time": "2022-08-12T17:45:32.914Z"
   },
   {
    "duration": 31,
    "start_time": "2022-08-12T17:45:37.481Z"
   },
   {
    "duration": 34,
    "start_time": "2022-08-12T17:45:42.979Z"
   },
   {
    "duration": 8,
    "start_time": "2022-08-12T17:52:14.219Z"
   },
   {
    "duration": 6,
    "start_time": "2022-08-12T17:52:24.666Z"
   },
   {
    "duration": 6,
    "start_time": "2022-08-12T17:52:36.146Z"
   },
   {
    "duration": 7,
    "start_time": "2022-08-12T17:52:44.515Z"
   },
   {
    "duration": 6,
    "start_time": "2022-08-12T17:52:45.525Z"
   },
   {
    "duration": 6,
    "start_time": "2022-08-12T17:52:47.660Z"
   },
   {
    "duration": 170,
    "start_time": "2022-08-12T17:53:13.827Z"
   },
   {
    "duration": 207,
    "start_time": "2022-08-12T17:53:46.311Z"
   },
   {
    "duration": 161,
    "start_time": "2022-08-12T17:53:57.440Z"
   },
   {
    "duration": 257,
    "start_time": "2022-08-12T17:54:17.064Z"
   },
   {
    "duration": 1109,
    "start_time": "2022-08-12T17:59:25.186Z"
   },
   {
    "duration": 114,
    "start_time": "2022-08-12T17:59:26.297Z"
   },
   {
    "duration": 64,
    "start_time": "2022-08-12T17:59:26.412Z"
   },
   {
    "duration": 13,
    "start_time": "2022-08-12T17:59:26.477Z"
   },
   {
    "duration": 1890,
    "start_time": "2022-08-12T17:59:26.492Z"
   },
   {
    "duration": 238,
    "start_time": "2022-08-12T17:59:28.383Z"
   },
   {
    "duration": 6,
    "start_time": "2022-08-12T17:59:28.622Z"
   },
   {
    "duration": 5,
    "start_time": "2022-08-12T17:59:28.629Z"
   },
   {
    "duration": 11,
    "start_time": "2022-08-12T17:59:28.635Z"
   },
   {
    "duration": 23,
    "start_time": "2022-08-12T17:59:28.647Z"
   },
   {
    "duration": 40,
    "start_time": "2022-08-12T17:59:28.672Z"
   },
   {
    "duration": 19,
    "start_time": "2022-08-12T17:59:28.714Z"
   },
   {
    "duration": 6,
    "start_time": "2022-08-12T17:59:28.735Z"
   },
   {
    "duration": 46,
    "start_time": "2022-08-12T17:59:28.745Z"
   },
   {
    "duration": 20,
    "start_time": "2022-08-12T17:59:28.792Z"
   },
   {
    "duration": 6,
    "start_time": "2022-08-12T17:59:28.813Z"
   },
   {
    "duration": 6,
    "start_time": "2022-08-12T17:59:28.821Z"
   },
   {
    "duration": 6,
    "start_time": "2022-08-12T17:59:28.829Z"
   },
   {
    "duration": 28,
    "start_time": "2022-08-12T17:59:28.836Z"
   },
   {
    "duration": 13,
    "start_time": "2022-08-12T17:59:28.866Z"
   },
   {
    "duration": 32,
    "start_time": "2022-08-12T17:59:28.880Z"
   },
   {
    "duration": 6,
    "start_time": "2022-08-12T17:59:28.914Z"
   },
   {
    "duration": 7,
    "start_time": "2022-08-12T17:59:28.921Z"
   },
   {
    "duration": 314,
    "start_time": "2022-08-12T17:59:28.929Z"
   },
   {
    "duration": 157,
    "start_time": "2022-08-12T17:59:29.245Z"
   },
   {
    "duration": 160,
    "start_time": "2022-08-12T17:59:29.403Z"
   },
   {
    "duration": 158,
    "start_time": "2022-08-12T17:59:29.565Z"
   },
   {
    "duration": 162,
    "start_time": "2022-08-12T17:59:29.725Z"
   },
   {
    "duration": 149,
    "start_time": "2022-08-12T17:59:29.889Z"
   },
   {
    "duration": 272,
    "start_time": "2022-08-12T17:59:30.040Z"
   },
   {
    "duration": 160,
    "start_time": "2022-08-12T17:59:30.313Z"
   },
   {
    "duration": 146,
    "start_time": "2022-08-12T17:59:30.475Z"
   },
   {
    "duration": 170,
    "start_time": "2022-08-12T17:59:30.622Z"
   },
   {
    "duration": 164,
    "start_time": "2022-08-12T17:59:30.793Z"
   },
   {
    "duration": 151,
    "start_time": "2022-08-12T17:59:30.958Z"
   },
   {
    "duration": 155,
    "start_time": "2022-08-12T17:59:31.111Z"
   },
   {
    "duration": 153,
    "start_time": "2022-08-12T17:59:31.268Z"
   },
   {
    "duration": 149,
    "start_time": "2022-08-12T17:59:31.422Z"
   },
   {
    "duration": 167,
    "start_time": "2022-08-12T17:59:31.573Z"
   },
   {
    "duration": 139,
    "start_time": "2022-08-12T17:59:31.742Z"
   },
   {
    "duration": 4,
    "start_time": "2022-08-12T17:59:31.884Z"
   },
   {
    "duration": 12,
    "start_time": "2022-08-12T17:59:31.889Z"
   },
   {
    "duration": 4,
    "start_time": "2022-08-12T17:59:31.909Z"
   },
   {
    "duration": 8,
    "start_time": "2022-08-12T17:59:31.914Z"
   },
   {
    "duration": 14,
    "start_time": "2022-08-12T17:59:31.923Z"
   },
   {
    "duration": 40,
    "start_time": "2022-08-12T18:17:08.119Z"
   },
   {
    "duration": 6,
    "start_time": "2022-08-12T18:20:04.262Z"
   },
   {
    "duration": 51,
    "start_time": "2022-08-12T18:20:25.922Z"
   },
   {
    "duration": 18,
    "start_time": "2022-08-12T18:20:35.035Z"
   },
   {
    "duration": 14,
    "start_time": "2022-08-12T18:20:44.155Z"
   },
   {
    "duration": 132,
    "start_time": "2022-08-12T18:21:00.691Z"
   },
   {
    "duration": 10175,
    "start_time": "2022-08-12T18:21:42.627Z"
   },
   {
    "duration": 17,
    "start_time": "2022-08-12T18:22:24.023Z"
   },
   {
    "duration": 4,
    "start_time": "2022-08-12T18:22:39.251Z"
   },
   {
    "duration": 151,
    "start_time": "2022-08-12T18:22:39.259Z"
   },
   {
    "duration": 102,
    "start_time": "2022-08-12T18:22:39.415Z"
   },
   {
    "duration": 23,
    "start_time": "2022-08-12T18:22:39.519Z"
   },
   {
    "duration": 2053,
    "start_time": "2022-08-12T18:22:39.546Z"
   },
   {
    "duration": 419,
    "start_time": "2022-08-12T18:22:41.601Z"
   },
   {
    "duration": 6,
    "start_time": "2022-08-12T18:22:42.024Z"
   },
   {
    "duration": 26,
    "start_time": "2022-08-12T18:22:42.032Z"
   },
   {
    "duration": 33,
    "start_time": "2022-08-12T18:22:42.060Z"
   },
   {
    "duration": 32,
    "start_time": "2022-08-12T18:22:42.095Z"
   },
   {
    "duration": 19,
    "start_time": "2022-08-12T18:22:42.130Z"
   },
   {
    "duration": 33,
    "start_time": "2022-08-12T18:22:42.152Z"
   },
   {
    "duration": 25,
    "start_time": "2022-08-12T18:22:42.187Z"
   },
   {
    "duration": 65,
    "start_time": "2022-08-12T18:22:42.216Z"
   },
   {
    "duration": 5,
    "start_time": "2022-08-12T18:22:42.283Z"
   },
   {
    "duration": 9,
    "start_time": "2022-08-12T18:22:42.290Z"
   },
   {
    "duration": 13,
    "start_time": "2022-08-12T18:22:47.786Z"
   },
   {
    "duration": 7,
    "start_time": "2022-08-12T18:23:01.372Z"
   },
   {
    "duration": 31,
    "start_time": "2022-08-12T18:23:07.018Z"
   },
   {
    "duration": 1195,
    "start_time": "2022-08-12T18:23:14.893Z"
   },
   {
    "duration": 137,
    "start_time": "2022-08-12T18:23:16.090Z"
   },
   {
    "duration": 81,
    "start_time": "2022-08-12T18:23:16.229Z"
   },
   {
    "duration": 17,
    "start_time": "2022-08-12T18:23:16.315Z"
   },
   {
    "duration": 2068,
    "start_time": "2022-08-12T18:23:16.334Z"
   },
   {
    "duration": 267,
    "start_time": "2022-08-12T18:23:18.404Z"
   },
   {
    "duration": 6,
    "start_time": "2022-08-12T18:23:18.673Z"
   },
   {
    "duration": 5,
    "start_time": "2022-08-12T18:23:18.680Z"
   },
   {
    "duration": 32,
    "start_time": "2022-08-12T18:23:18.687Z"
   },
   {
    "duration": 28,
    "start_time": "2022-08-12T18:23:18.722Z"
   },
   {
    "duration": 12,
    "start_time": "2022-08-12T18:23:18.751Z"
   },
   {
    "duration": 19,
    "start_time": "2022-08-12T18:23:18.764Z"
   },
   {
    "duration": 28,
    "start_time": "2022-08-12T18:23:18.784Z"
   },
   {
    "duration": 52,
    "start_time": "2022-08-12T18:23:18.815Z"
   },
   {
    "duration": 6,
    "start_time": "2022-08-12T18:23:18.869Z"
   },
   {
    "duration": 37,
    "start_time": "2022-08-12T18:23:18.876Z"
   },
   {
    "duration": 10,
    "start_time": "2022-08-12T18:23:18.915Z"
   },
   {
    "duration": 11,
    "start_time": "2022-08-12T18:23:18.927Z"
   },
   {
    "duration": 31,
    "start_time": "2022-08-12T18:23:18.940Z"
   },
   {
    "duration": 38,
    "start_time": "2022-08-12T18:23:18.973Z"
   },
   {
    "duration": 13,
    "start_time": "2022-08-12T18:23:19.013Z"
   },
   {
    "duration": 10,
    "start_time": "2022-08-12T18:23:19.027Z"
   },
   {
    "duration": 9,
    "start_time": "2022-08-12T18:23:19.039Z"
   },
   {
    "duration": 6,
    "start_time": "2022-08-12T18:23:19.050Z"
   },
   {
    "duration": 335,
    "start_time": "2022-08-12T18:23:19.057Z"
   },
   {
    "duration": 203,
    "start_time": "2022-08-12T18:23:19.394Z"
   },
   {
    "duration": 188,
    "start_time": "2022-08-12T18:23:19.598Z"
   },
   {
    "duration": 172,
    "start_time": "2022-08-12T18:23:19.789Z"
   },
   {
    "duration": 174,
    "start_time": "2022-08-12T18:23:19.962Z"
   },
   {
    "duration": 156,
    "start_time": "2022-08-12T18:23:20.138Z"
   },
   {
    "duration": 320,
    "start_time": "2022-08-12T18:23:20.295Z"
   },
   {
    "duration": 167,
    "start_time": "2022-08-12T18:23:20.617Z"
   },
   {
    "duration": 156,
    "start_time": "2022-08-12T18:23:20.786Z"
   },
   {
    "duration": 187,
    "start_time": "2022-08-12T18:23:20.944Z"
   },
   {
    "duration": 182,
    "start_time": "2022-08-12T18:23:21.133Z"
   },
   {
    "duration": 170,
    "start_time": "2022-08-12T18:23:21.316Z"
   },
   {
    "duration": 173,
    "start_time": "2022-08-12T18:23:21.488Z"
   },
   {
    "duration": 177,
    "start_time": "2022-08-12T18:23:21.662Z"
   },
   {
    "duration": 176,
    "start_time": "2022-08-12T18:23:21.841Z"
   },
   {
    "duration": 174,
    "start_time": "2022-08-12T18:23:22.019Z"
   },
   {
    "duration": 150,
    "start_time": "2022-08-12T18:23:22.195Z"
   },
   {
    "duration": 5,
    "start_time": "2022-08-12T18:23:22.346Z"
   },
   {
    "duration": 8,
    "start_time": "2022-08-12T18:23:22.352Z"
   },
   {
    "duration": 8,
    "start_time": "2022-08-12T18:23:22.361Z"
   },
   {
    "duration": 8,
    "start_time": "2022-08-12T18:23:22.370Z"
   },
   {
    "duration": 74,
    "start_time": "2022-08-12T18:23:22.379Z"
   },
   {
    "duration": 2,
    "start_time": "2022-08-12T18:25:09.463Z"
   },
   {
    "duration": 121,
    "start_time": "2022-08-12T18:25:09.468Z"
   },
   {
    "duration": 89,
    "start_time": "2022-08-12T18:25:09.591Z"
   },
   {
    "duration": 37,
    "start_time": "2022-08-12T18:25:09.682Z"
   },
   {
    "duration": 2011,
    "start_time": "2022-08-12T18:25:09.722Z"
   },
   {
    "duration": 275,
    "start_time": "2022-08-12T18:25:11.735Z"
   },
   {
    "duration": 6,
    "start_time": "2022-08-12T18:25:12.014Z"
   },
   {
    "duration": 20,
    "start_time": "2022-08-12T18:25:12.023Z"
   },
   {
    "duration": 17,
    "start_time": "2022-08-12T18:25:12.045Z"
   },
   {
    "duration": 20,
    "start_time": "2022-08-12T18:25:12.064Z"
   },
   {
    "duration": 12,
    "start_time": "2022-08-12T18:25:12.085Z"
   },
   {
    "duration": 24,
    "start_time": "2022-08-12T18:25:12.099Z"
   },
   {
    "duration": 9,
    "start_time": "2022-08-12T18:25:12.125Z"
   },
   {
    "duration": 39,
    "start_time": "2022-08-12T18:25:12.138Z"
   },
   {
    "duration": 31,
    "start_time": "2022-08-12T18:25:12.179Z"
   },
   {
    "duration": 7,
    "start_time": "2022-08-12T18:25:12.213Z"
   },
   {
    "duration": 21,
    "start_time": "2022-08-12T18:25:12.222Z"
   },
   {
    "duration": 6,
    "start_time": "2022-08-12T18:25:12.245Z"
   },
   {
    "duration": 28,
    "start_time": "2022-08-12T18:25:12.253Z"
   },
   {
    "duration": 31,
    "start_time": "2022-08-12T18:25:12.282Z"
   },
   {
    "duration": 6,
    "start_time": "2022-08-12T18:25:12.315Z"
   },
   {
    "duration": 18,
    "start_time": "2022-08-12T18:25:12.322Z"
   },
   {
    "duration": 10,
    "start_time": "2022-08-12T18:25:12.342Z"
   },
   {
    "duration": 6,
    "start_time": "2022-08-12T18:25:12.353Z"
   },
   {
    "duration": 4,
    "start_time": "2022-08-12T18:25:12.362Z"
   },
   {
    "duration": 488,
    "start_time": "2022-08-12T18:25:12.368Z"
   },
   {
    "duration": 165,
    "start_time": "2022-08-12T18:25:12.858Z"
   },
   {
    "duration": 185,
    "start_time": "2022-08-12T18:25:13.025Z"
   },
   {
    "duration": 160,
    "start_time": "2022-08-12T18:25:13.212Z"
   },
   {
    "duration": 185,
    "start_time": "2022-08-12T18:25:13.374Z"
   },
   {
    "duration": 163,
    "start_time": "2022-08-12T18:25:13.560Z"
   },
   {
    "duration": 185,
    "start_time": "2022-08-12T18:25:13.724Z"
   },
   {
    "duration": 169,
    "start_time": "2022-08-12T18:25:13.910Z"
   },
   {
    "duration": 147,
    "start_time": "2022-08-12T18:25:14.081Z"
   },
   {
    "duration": 187,
    "start_time": "2022-08-12T18:25:14.230Z"
   },
   {
    "duration": 183,
    "start_time": "2022-08-12T18:25:14.419Z"
   },
   {
    "duration": 153,
    "start_time": "2022-08-12T18:25:14.603Z"
   },
   {
    "duration": 171,
    "start_time": "2022-08-12T18:25:14.758Z"
   },
   {
    "duration": 166,
    "start_time": "2022-08-12T18:25:14.931Z"
   },
   {
    "duration": 159,
    "start_time": "2022-08-12T18:25:15.098Z"
   },
   {
    "duration": 159,
    "start_time": "2022-08-12T18:25:15.260Z"
   },
   {
    "duration": 157,
    "start_time": "2022-08-12T18:25:15.420Z"
   },
   {
    "duration": 4,
    "start_time": "2022-08-12T18:25:15.579Z"
   },
   {
    "duration": 7,
    "start_time": "2022-08-12T18:25:15.585Z"
   },
   {
    "duration": 17,
    "start_time": "2022-08-12T18:25:15.593Z"
   },
   {
    "duration": 11,
    "start_time": "2022-08-12T18:25:15.611Z"
   },
   {
    "duration": 19,
    "start_time": "2022-08-12T18:25:15.623Z"
   },
   {
    "duration": 3,
    "start_time": "2022-08-12T18:27:41.662Z"
   },
   {
    "duration": 144,
    "start_time": "2022-08-12T18:27:41.669Z"
   },
   {
    "duration": 69,
    "start_time": "2022-08-12T18:27:41.815Z"
   },
   {
    "duration": 26,
    "start_time": "2022-08-12T18:27:41.886Z"
   },
   {
    "duration": 2002,
    "start_time": "2022-08-12T18:27:41.914Z"
   },
   {
    "duration": 297,
    "start_time": "2022-08-12T18:27:43.920Z"
   },
   {
    "duration": 5,
    "start_time": "2022-08-12T18:27:44.219Z"
   },
   {
    "duration": 10,
    "start_time": "2022-08-12T18:27:44.226Z"
   },
   {
    "duration": 18,
    "start_time": "2022-08-12T18:27:44.238Z"
   },
   {
    "duration": 21,
    "start_time": "2022-08-12T18:27:44.257Z"
   },
   {
    "duration": 31,
    "start_time": "2022-08-12T18:27:44.280Z"
   },
   {
    "duration": 20,
    "start_time": "2022-08-12T18:27:44.314Z"
   },
   {
    "duration": 9,
    "start_time": "2022-08-12T18:27:44.336Z"
   },
   {
    "duration": 62,
    "start_time": "2022-08-12T18:27:44.348Z"
   },
   {
    "duration": 9,
    "start_time": "2022-08-12T18:27:44.413Z"
   },
   {
    "duration": 11,
    "start_time": "2022-08-12T18:27:44.423Z"
   },
   {
    "duration": 7,
    "start_time": "2022-08-12T18:27:44.436Z"
   },
   {
    "duration": 7,
    "start_time": "2022-08-12T18:27:44.447Z"
   },
   {
    "duration": 114,
    "start_time": "2022-08-12T18:27:44.456Z"
   },
   {
    "duration": 56,
    "start_time": "2022-08-12T18:27:47.057Z"
   },
   {
    "duration": 31,
    "start_time": "2022-08-12T18:28:30.947Z"
   },
   {
    "duration": 7,
    "start_time": "2022-08-12T18:29:52.716Z"
   },
   {
    "duration": 1110,
    "start_time": "2022-08-12T18:30:49.988Z"
   },
   {
    "duration": 141,
    "start_time": "2022-08-12T18:30:51.100Z"
   },
   {
    "duration": 83,
    "start_time": "2022-08-12T18:30:51.242Z"
   },
   {
    "duration": 18,
    "start_time": "2022-08-12T18:30:51.328Z"
   },
   {
    "duration": 1949,
    "start_time": "2022-08-12T18:30:51.349Z"
   },
   {
    "duration": 290,
    "start_time": "2022-08-12T18:30:53.300Z"
   },
   {
    "duration": 16,
    "start_time": "2022-08-12T18:30:53.592Z"
   },
   {
    "duration": 6,
    "start_time": "2022-08-12T18:30:53.610Z"
   },
   {
    "duration": 20,
    "start_time": "2022-08-12T18:30:53.618Z"
   },
   {
    "duration": 24,
    "start_time": "2022-08-12T18:30:53.643Z"
   },
   {
    "duration": 11,
    "start_time": "2022-08-12T18:30:53.669Z"
   },
   {
    "duration": 39,
    "start_time": "2022-08-12T18:30:53.682Z"
   },
   {
    "duration": 10,
    "start_time": "2022-08-12T18:30:53.723Z"
   },
   {
    "duration": 44,
    "start_time": "2022-08-12T18:30:53.735Z"
   },
   {
    "duration": 5,
    "start_time": "2022-08-12T18:30:53.781Z"
   },
   {
    "duration": 27,
    "start_time": "2022-08-12T18:30:53.788Z"
   },
   {
    "duration": 9,
    "start_time": "2022-08-12T18:30:53.818Z"
   },
   {
    "duration": 7,
    "start_time": "2022-08-12T18:30:53.828Z"
   },
   {
    "duration": 10,
    "start_time": "2022-08-12T18:30:53.836Z"
   },
   {
    "duration": 27,
    "start_time": "2022-08-12T18:30:53.848Z"
   },
   {
    "duration": 38,
    "start_time": "2022-08-12T18:30:53.877Z"
   },
   {
    "duration": 9,
    "start_time": "2022-08-12T18:30:53.917Z"
   },
   {
    "duration": 9,
    "start_time": "2022-08-12T18:30:53.928Z"
   },
   {
    "duration": 8,
    "start_time": "2022-08-12T18:30:53.941Z"
   },
   {
    "duration": 9,
    "start_time": "2022-08-12T18:30:53.951Z"
   },
   {
    "duration": 6,
    "start_time": "2022-08-12T18:30:53.962Z"
   },
   {
    "duration": 368,
    "start_time": "2022-08-12T18:30:53.969Z"
   },
   {
    "duration": 161,
    "start_time": "2022-08-12T18:30:54.342Z"
   },
   {
    "duration": 166,
    "start_time": "2022-08-12T18:30:54.509Z"
   },
   {
    "duration": 193,
    "start_time": "2022-08-12T18:30:54.677Z"
   },
   {
    "duration": 188,
    "start_time": "2022-08-12T18:30:54.872Z"
   },
   {
    "duration": 165,
    "start_time": "2022-08-12T18:30:55.062Z"
   },
   {
    "duration": 276,
    "start_time": "2022-08-12T18:30:55.228Z"
   },
   {
    "duration": 161,
    "start_time": "2022-08-12T18:30:55.510Z"
   },
   {
    "duration": 163,
    "start_time": "2022-08-12T18:30:55.673Z"
   },
   {
    "duration": 180,
    "start_time": "2022-08-12T18:30:55.838Z"
   },
   {
    "duration": 184,
    "start_time": "2022-08-12T18:30:56.020Z"
   },
   {
    "duration": 172,
    "start_time": "2022-08-12T18:30:56.209Z"
   },
   {
    "duration": 188,
    "start_time": "2022-08-12T18:30:56.383Z"
   },
   {
    "duration": 154,
    "start_time": "2022-08-12T18:30:56.572Z"
   },
   {
    "duration": 151,
    "start_time": "2022-08-12T18:30:56.728Z"
   },
   {
    "duration": 156,
    "start_time": "2022-08-12T18:30:56.881Z"
   },
   {
    "duration": 175,
    "start_time": "2022-08-12T18:30:57.039Z"
   },
   {
    "duration": 10,
    "start_time": "2022-08-12T18:30:57.217Z"
   },
   {
    "duration": 20,
    "start_time": "2022-08-12T18:30:57.229Z"
   },
   {
    "duration": 14,
    "start_time": "2022-08-12T18:30:57.251Z"
   },
   {
    "duration": 7,
    "start_time": "2022-08-12T18:30:57.267Z"
   },
   {
    "duration": 35,
    "start_time": "2022-08-12T18:30:57.276Z"
   },
   {
    "duration": 31,
    "start_time": "2022-08-12T18:38:28.749Z"
   },
   {
    "duration": 505,
    "start_time": "2022-08-12T18:39:02.415Z"
   },
   {
    "duration": 33,
    "start_time": "2022-08-12T18:39:06.463Z"
   },
   {
    "duration": 32,
    "start_time": "2022-08-12T18:39:18.016Z"
   },
   {
    "duration": 1068,
    "start_time": "2022-08-12T18:40:17.617Z"
   },
   {
    "duration": 119,
    "start_time": "2022-08-12T18:40:18.687Z"
   },
   {
    "duration": 67,
    "start_time": "2022-08-12T18:40:18.809Z"
   },
   {
    "duration": 32,
    "start_time": "2022-08-12T18:40:18.877Z"
   },
   {
    "duration": 1828,
    "start_time": "2022-08-12T18:40:18.910Z"
   },
   {
    "duration": 228,
    "start_time": "2022-08-12T18:40:20.740Z"
   },
   {
    "duration": 6,
    "start_time": "2022-08-12T18:40:20.969Z"
   },
   {
    "duration": 3,
    "start_time": "2022-08-12T18:40:20.977Z"
   },
   {
    "duration": 11,
    "start_time": "2022-08-12T18:40:20.982Z"
   },
   {
    "duration": 23,
    "start_time": "2022-08-12T18:40:21.009Z"
   },
   {
    "duration": 12,
    "start_time": "2022-08-12T18:40:21.033Z"
   },
   {
    "duration": 20,
    "start_time": "2022-08-12T18:40:21.047Z"
   },
   {
    "duration": 6,
    "start_time": "2022-08-12T18:40:21.069Z"
   },
   {
    "duration": 65,
    "start_time": "2022-08-12T18:40:21.076Z"
   },
   {
    "duration": 6,
    "start_time": "2022-08-12T18:40:21.143Z"
   },
   {
    "duration": 6,
    "start_time": "2022-08-12T18:40:21.151Z"
   },
   {
    "duration": 8,
    "start_time": "2022-08-12T18:40:21.159Z"
   },
   {
    "duration": 5,
    "start_time": "2022-08-12T18:40:21.169Z"
   },
   {
    "duration": 7,
    "start_time": "2022-08-12T18:40:21.176Z"
   },
   {
    "duration": 24,
    "start_time": "2022-08-12T18:40:21.209Z"
   },
   {
    "duration": 19,
    "start_time": "2022-08-12T18:40:21.235Z"
   },
   {
    "duration": 18,
    "start_time": "2022-08-12T18:40:21.256Z"
   },
   {
    "duration": 6,
    "start_time": "2022-08-12T18:40:21.276Z"
   },
   {
    "duration": 6,
    "start_time": "2022-08-12T18:40:21.284Z"
   },
   {
    "duration": 23,
    "start_time": "2022-08-12T18:40:21.291Z"
   },
   {
    "duration": 4,
    "start_time": "2022-08-12T18:40:21.316Z"
   },
   {
    "duration": 1027,
    "start_time": "2022-08-12T18:40:21.323Z"
   },
   {
    "duration": 0,
    "start_time": "2022-08-12T18:40:22.353Z"
   },
   {
    "duration": 0,
    "start_time": "2022-08-12T18:40:22.354Z"
   },
   {
    "duration": 0,
    "start_time": "2022-08-12T18:40:22.356Z"
   },
   {
    "duration": 0,
    "start_time": "2022-08-12T18:40:22.358Z"
   },
   {
    "duration": 0,
    "start_time": "2022-08-12T18:40:22.360Z"
   },
   {
    "duration": 0,
    "start_time": "2022-08-12T18:40:22.362Z"
   },
   {
    "duration": 0,
    "start_time": "2022-08-12T18:40:22.363Z"
   },
   {
    "duration": 0,
    "start_time": "2022-08-12T18:40:22.365Z"
   },
   {
    "duration": 0,
    "start_time": "2022-08-12T18:40:22.367Z"
   },
   {
    "duration": 0,
    "start_time": "2022-08-12T18:40:22.369Z"
   },
   {
    "duration": 0,
    "start_time": "2022-08-12T18:40:22.371Z"
   },
   {
    "duration": 0,
    "start_time": "2022-08-12T18:40:22.373Z"
   },
   {
    "duration": 0,
    "start_time": "2022-08-12T18:40:22.375Z"
   },
   {
    "duration": 0,
    "start_time": "2022-08-12T18:40:22.377Z"
   },
   {
    "duration": 0,
    "start_time": "2022-08-12T18:40:22.378Z"
   },
   {
    "duration": 0,
    "start_time": "2022-08-12T18:40:22.380Z"
   },
   {
    "duration": 0,
    "start_time": "2022-08-12T18:40:22.381Z"
   },
   {
    "duration": 0,
    "start_time": "2022-08-12T18:40:22.384Z"
   },
   {
    "duration": 0,
    "start_time": "2022-08-12T18:40:22.385Z"
   },
   {
    "duration": 0,
    "start_time": "2022-08-12T18:40:22.387Z"
   },
   {
    "duration": 0,
    "start_time": "2022-08-12T18:40:22.388Z"
   },
   {
    "duration": 15,
    "start_time": "2022-08-12T18:40:40.182Z"
   },
   {
    "duration": 27,
    "start_time": "2022-08-12T18:40:52.414Z"
   },
   {
    "duration": 14,
    "start_time": "2022-08-12T18:40:56.800Z"
   },
   {
    "duration": 14,
    "start_time": "2022-08-12T18:40:58.852Z"
   },
   {
    "duration": 15,
    "start_time": "2022-08-12T18:41:01.424Z"
   },
   {
    "duration": 17,
    "start_time": "2022-08-12T18:41:03.585Z"
   },
   {
    "duration": 28,
    "start_time": "2022-08-12T18:41:09.102Z"
   },
   {
    "duration": 28,
    "start_time": "2022-08-12T18:41:15.129Z"
   },
   {
    "duration": 3,
    "start_time": "2022-08-12T18:41:45.730Z"
   },
   {
    "duration": 111,
    "start_time": "2022-08-12T18:41:45.735Z"
   },
   {
    "duration": 80,
    "start_time": "2022-08-12T18:41:45.848Z"
   },
   {
    "duration": 13,
    "start_time": "2022-08-12T18:41:45.930Z"
   },
   {
    "duration": 2011,
    "start_time": "2022-08-12T18:41:45.945Z"
   },
   {
    "duration": 256,
    "start_time": "2022-08-12T18:41:47.957Z"
   },
   {
    "duration": 5,
    "start_time": "2022-08-12T18:41:48.215Z"
   },
   {
    "duration": 6,
    "start_time": "2022-08-12T18:41:48.221Z"
   },
   {
    "duration": 12,
    "start_time": "2022-08-12T18:41:48.229Z"
   },
   {
    "duration": 19,
    "start_time": "2022-08-12T18:41:48.243Z"
   },
   {
    "duration": 45,
    "start_time": "2022-08-12T18:41:48.264Z"
   },
   {
    "duration": 19,
    "start_time": "2022-08-12T18:41:48.310Z"
   },
   {
    "duration": 5,
    "start_time": "2022-08-12T18:41:48.331Z"
   },
   {
    "duration": 36,
    "start_time": "2022-08-12T18:41:48.339Z"
   },
   {
    "duration": 32,
    "start_time": "2022-08-12T18:41:48.377Z"
   },
   {
    "duration": 6,
    "start_time": "2022-08-12T18:41:48.411Z"
   },
   {
    "duration": 9,
    "start_time": "2022-08-12T18:41:48.418Z"
   },
   {
    "duration": 6,
    "start_time": "2022-08-12T18:41:48.429Z"
   },
   {
    "duration": 9,
    "start_time": "2022-08-12T18:41:48.437Z"
   },
   {
    "duration": 23,
    "start_time": "2022-08-12T18:41:48.448Z"
   },
   {
    "duration": 14,
    "start_time": "2022-08-12T18:41:48.509Z"
   },
   {
    "duration": 22,
    "start_time": "2022-08-12T18:41:48.524Z"
   },
   {
    "duration": 11,
    "start_time": "2022-08-12T18:41:48.548Z"
   },
   {
    "duration": 8,
    "start_time": "2022-08-12T18:41:48.561Z"
   },
   {
    "duration": 8,
    "start_time": "2022-08-12T18:41:48.571Z"
   },
   {
    "duration": 6,
    "start_time": "2022-08-12T18:42:07.495Z"
   },
   {
    "duration": 59,
    "start_time": "2022-08-12T18:42:22.772Z"
   },
   {
    "duration": 7,
    "start_time": "2022-08-12T18:42:26.484Z"
   },
   {
    "duration": 7,
    "start_time": "2022-08-12T18:42:37.388Z"
   },
   {
    "duration": 5,
    "start_time": "2022-08-12T18:42:40.862Z"
   },
   {
    "duration": 5,
    "start_time": "2022-08-12T18:42:43.124Z"
   },
   {
    "duration": 5,
    "start_time": "2022-08-12T18:42:45.936Z"
   },
   {
    "duration": 816,
    "start_time": "2022-08-12T18:43:07.904Z"
   },
   {
    "duration": 35,
    "start_time": "2022-08-12T18:43:11.729Z"
   },
   {
    "duration": 6,
    "start_time": "2022-08-12T18:43:19.700Z"
   },
   {
    "duration": 5,
    "start_time": "2022-08-12T18:43:35.463Z"
   },
   {
    "duration": 5,
    "start_time": "2022-08-12T18:43:39.805Z"
   },
   {
    "duration": 6,
    "start_time": "2022-08-12T18:43:41.841Z"
   },
   {
    "duration": 7,
    "start_time": "2022-08-12T18:43:43.570Z"
   },
   {
    "duration": 6,
    "start_time": "2022-08-12T18:43:50.233Z"
   },
   {
    "duration": 5,
    "start_time": "2022-08-12T18:43:52.588Z"
   },
   {
    "duration": 120,
    "start_time": "2022-08-12T18:44:50.484Z"
   },
   {
    "duration": 119,
    "start_time": "2022-08-12T18:45:09.641Z"
   },
   {
    "duration": 113,
    "start_time": "2022-08-12T18:45:22.201Z"
   },
   {
    "duration": 5,
    "start_time": "2022-08-12T18:45:34.358Z"
   },
   {
    "duration": 5,
    "start_time": "2022-08-12T18:45:48.347Z"
   },
   {
    "duration": 8,
    "start_time": "2022-08-12T18:46:03.143Z"
   },
   {
    "duration": 8,
    "start_time": "2022-08-12T18:46:07.501Z"
   },
   {
    "duration": 4,
    "start_time": "2022-08-12T18:48:25.929Z"
   },
   {
    "duration": 128,
    "start_time": "2022-08-12T18:48:25.935Z"
   },
   {
    "duration": 71,
    "start_time": "2022-08-12T18:48:28.266Z"
   },
   {
    "duration": 13,
    "start_time": "2022-08-12T18:48:28.339Z"
   },
   {
    "duration": 1895,
    "start_time": "2022-08-12T18:48:28.356Z"
   },
   {
    "duration": 263,
    "start_time": "2022-08-12T18:48:30.254Z"
   },
   {
    "duration": 6,
    "start_time": "2022-08-12T18:48:30.519Z"
   },
   {
    "duration": 40,
    "start_time": "2022-08-12T18:48:30.527Z"
   },
   {
    "duration": 28,
    "start_time": "2022-08-12T18:48:30.570Z"
   },
   {
    "duration": 23,
    "start_time": "2022-08-12T18:48:30.600Z"
   },
   {
    "duration": 14,
    "start_time": "2022-08-12T18:48:30.686Z"
   },
   {
    "duration": 25,
    "start_time": "2022-08-12T18:48:30.703Z"
   },
   {
    "duration": 7,
    "start_time": "2022-08-12T18:48:30.731Z"
   },
   {
    "duration": 40,
    "start_time": "2022-08-12T18:48:31.166Z"
   },
   {
    "duration": 21,
    "start_time": "2022-08-12T18:48:31.208Z"
   },
   {
    "duration": 18,
    "start_time": "2022-08-12T18:48:31.231Z"
   },
   {
    "duration": 10,
    "start_time": "2022-08-12T18:48:31.330Z"
   },
   {
    "duration": 31,
    "start_time": "2022-08-12T18:48:31.344Z"
   },
   {
    "duration": 11,
    "start_time": "2022-08-12T18:48:31.376Z"
   },
   {
    "duration": 26,
    "start_time": "2022-08-12T18:48:31.581Z"
   },
   {
    "duration": 13,
    "start_time": "2022-08-12T18:48:31.609Z"
   },
   {
    "duration": 15,
    "start_time": "2022-08-12T18:48:31.624Z"
   },
   {
    "duration": 10,
    "start_time": "2022-08-12T18:48:31.640Z"
   },
   {
    "duration": 9,
    "start_time": "2022-08-12T18:48:31.652Z"
   },
   {
    "duration": 7,
    "start_time": "2022-08-12T18:48:31.667Z"
   },
   {
    "duration": 5,
    "start_time": "2022-08-12T18:48:31.715Z"
   },
   {
    "duration": 162,
    "start_time": "2022-08-12T18:48:38.615Z"
   },
   {
    "duration": 193,
    "start_time": "2022-08-12T18:48:56.630Z"
   },
   {
    "duration": 6,
    "start_time": "2022-08-12T18:49:14.217Z"
   },
   {
    "duration": 473,
    "start_time": "2022-08-12T18:49:20.045Z"
   },
   {
    "duration": 7,
    "start_time": "2022-08-12T18:49:23.700Z"
   },
   {
    "duration": 5,
    "start_time": "2022-08-12T18:49:31.283Z"
   },
   {
    "duration": 3,
    "start_time": "2022-08-12T18:52:33.815Z"
   },
   {
    "duration": 113,
    "start_time": "2022-08-12T18:52:33.820Z"
   },
   {
    "duration": 67,
    "start_time": "2022-08-12T18:52:35.064Z"
   },
   {
    "duration": 16,
    "start_time": "2022-08-12T18:52:35.133Z"
   },
   {
    "duration": 1934,
    "start_time": "2022-08-12T18:52:35.151Z"
   },
   {
    "duration": 371,
    "start_time": "2022-08-12T18:52:37.087Z"
   },
   {
    "duration": 4,
    "start_time": "2022-08-12T18:52:37.460Z"
   },
   {
    "duration": 8,
    "start_time": "2022-08-12T18:52:37.466Z"
   },
   {
    "duration": 12,
    "start_time": "2022-08-12T18:52:37.476Z"
   },
   {
    "duration": 33,
    "start_time": "2022-08-12T18:52:37.490Z"
   },
   {
    "duration": 12,
    "start_time": "2022-08-12T18:52:37.525Z"
   },
   {
    "duration": 21,
    "start_time": "2022-08-12T18:52:37.538Z"
   },
   {
    "duration": 7,
    "start_time": "2022-08-12T18:52:37.561Z"
   },
   {
    "duration": 65,
    "start_time": "2022-08-12T18:52:37.571Z"
   },
   {
    "duration": 6,
    "start_time": "2022-08-12T18:52:37.638Z"
   },
   {
    "duration": 7,
    "start_time": "2022-08-12T18:52:37.646Z"
   },
   {
    "duration": 7,
    "start_time": "2022-08-12T18:52:37.654Z"
   },
   {
    "duration": 4,
    "start_time": "2022-08-12T18:52:37.663Z"
   },
   {
    "duration": 41,
    "start_time": "2022-08-12T18:52:37.669Z"
   },
   {
    "duration": 24,
    "start_time": "2022-08-12T18:52:37.713Z"
   },
   {
    "duration": 13,
    "start_time": "2022-08-12T18:52:37.739Z"
   },
   {
    "duration": 8,
    "start_time": "2022-08-12T18:52:37.754Z"
   },
   {
    "duration": 5,
    "start_time": "2022-08-12T18:52:37.764Z"
   },
   {
    "duration": 9,
    "start_time": "2022-08-12T18:52:37.770Z"
   },
   {
    "duration": 33,
    "start_time": "2022-08-12T18:52:37.780Z"
   },
   {
    "duration": 5,
    "start_time": "2022-08-12T18:52:50.101Z"
   },
   {
    "duration": 3,
    "start_time": "2022-08-12T18:58:09.446Z"
   },
   {
    "duration": 116,
    "start_time": "2022-08-12T18:58:09.450Z"
   },
   {
    "duration": 73,
    "start_time": "2022-08-12T18:58:09.568Z"
   },
   {
    "duration": 14,
    "start_time": "2022-08-12T18:58:09.643Z"
   },
   {
    "duration": 2055,
    "start_time": "2022-08-12T18:58:10.045Z"
   },
   {
    "duration": 287,
    "start_time": "2022-08-12T18:58:12.108Z"
   },
   {
    "duration": 4,
    "start_time": "2022-08-12T18:58:12.397Z"
   },
   {
    "duration": 6,
    "start_time": "2022-08-12T18:58:12.410Z"
   },
   {
    "duration": 26,
    "start_time": "2022-08-12T18:58:12.420Z"
   },
   {
    "duration": 25,
    "start_time": "2022-08-12T18:58:12.450Z"
   },
   {
    "duration": 13,
    "start_time": "2022-08-12T18:58:12.545Z"
   },
   {
    "duration": 21,
    "start_time": "2022-08-12T18:58:12.560Z"
   },
   {
    "duration": 6,
    "start_time": "2022-08-12T18:58:12.582Z"
   },
   {
    "duration": 44,
    "start_time": "2022-08-12T18:58:15.110Z"
   },
   {
    "duration": 6,
    "start_time": "2022-08-12T18:58:15.156Z"
   },
   {
    "duration": 8,
    "start_time": "2022-08-12T18:58:15.164Z"
   },
   {
    "duration": 10,
    "start_time": "2022-08-12T18:58:17.271Z"
   },
   {
    "duration": 9,
    "start_time": "2022-08-12T18:58:17.283Z"
   },
   {
    "duration": 6,
    "start_time": "2022-08-12T18:58:18.001Z"
   },
   {
    "duration": 26,
    "start_time": "2022-08-12T18:58:18.010Z"
   },
   {
    "duration": 16,
    "start_time": "2022-08-12T18:58:18.039Z"
   },
   {
    "duration": 10,
    "start_time": "2022-08-12T18:58:18.058Z"
   },
   {
    "duration": 9,
    "start_time": "2022-08-12T18:58:18.505Z"
   },
   {
    "duration": 8,
    "start_time": "2022-08-12T18:58:18.516Z"
   },
   {
    "duration": 9,
    "start_time": "2022-08-12T18:58:18.526Z"
   },
   {
    "duration": 11,
    "start_time": "2022-08-12T18:58:18.537Z"
   },
   {
    "duration": 135,
    "start_time": "2022-08-12T18:58:18.550Z"
   },
   {
    "duration": 6,
    "start_time": "2022-08-12T18:58:18.687Z"
   },
   {
    "duration": 114,
    "start_time": "2022-08-12T18:58:36.235Z"
   },
   {
    "duration": 5,
    "start_time": "2022-08-12T19:01:24.381Z"
   },
   {
    "duration": 320,
    "start_time": "2022-08-12T19:02:00.827Z"
   },
   {
    "duration": 168,
    "start_time": "2022-08-12T19:02:01.150Z"
   },
   {
    "duration": 197,
    "start_time": "2022-08-12T19:02:01.321Z"
   },
   {
    "duration": 196,
    "start_time": "2022-08-12T19:02:01.520Z"
   },
   {
    "duration": 190,
    "start_time": "2022-08-12T19:02:02.434Z"
   },
   {
    "duration": 198,
    "start_time": "2022-08-12T19:02:02.626Z"
   },
   {
    "duration": 208,
    "start_time": "2022-08-12T19:02:02.826Z"
   },
   {
    "duration": 163,
    "start_time": "2022-08-12T19:02:03.036Z"
   },
   {
    "duration": 158,
    "start_time": "2022-08-12T19:02:03.208Z"
   },
   {
    "duration": 210,
    "start_time": "2022-08-12T19:02:03.368Z"
   },
   {
    "duration": 185,
    "start_time": "2022-08-12T19:02:03.580Z"
   },
   {
    "duration": 155,
    "start_time": "2022-08-12T19:02:03.766Z"
   },
   {
    "duration": 172,
    "start_time": "2022-08-12T19:02:03.923Z"
   },
   {
    "duration": 164,
    "start_time": "2022-08-12T19:02:04.096Z"
   },
   {
    "duration": 160,
    "start_time": "2022-08-12T19:02:04.262Z"
   },
   {
    "duration": 160,
    "start_time": "2022-08-12T19:02:04.424Z"
   },
   {
    "duration": 158,
    "start_time": "2022-08-12T19:02:04.586Z"
   },
   {
    "duration": 5,
    "start_time": "2022-08-12T19:02:04.747Z"
   },
   {
    "duration": 59,
    "start_time": "2022-08-12T19:02:04.753Z"
   },
   {
    "duration": 22,
    "start_time": "2022-08-12T19:02:04.815Z"
   },
   {
    "duration": 38,
    "start_time": "2022-08-12T19:02:04.839Z"
   },
   {
    "duration": 94,
    "start_time": "2022-08-12T19:02:04.878Z"
   },
   {
    "duration": 371,
    "start_time": "2022-08-12T19:03:18.977Z"
   },
   {
    "duration": 1157,
    "start_time": "2022-08-12T19:07:15.222Z"
   },
   {
    "duration": 122,
    "start_time": "2022-08-12T19:07:16.381Z"
   },
   {
    "duration": 71,
    "start_time": "2022-08-12T19:07:16.505Z"
   },
   {
    "duration": 14,
    "start_time": "2022-08-12T19:07:16.578Z"
   },
   {
    "duration": 1989,
    "start_time": "2022-08-12T19:07:16.609Z"
   },
   {
    "duration": 260,
    "start_time": "2022-08-12T19:07:18.600Z"
   },
   {
    "duration": 9,
    "start_time": "2022-08-12T19:07:18.863Z"
   },
   {
    "duration": 9,
    "start_time": "2022-08-12T19:07:18.874Z"
   },
   {
    "duration": 26,
    "start_time": "2022-08-12T19:07:18.885Z"
   },
   {
    "duration": 24,
    "start_time": "2022-08-12T19:07:18.914Z"
   },
   {
    "duration": 11,
    "start_time": "2022-08-12T19:07:18.940Z"
   },
   {
    "duration": 22,
    "start_time": "2022-08-12T19:07:18.953Z"
   },
   {
    "duration": 6,
    "start_time": "2022-08-12T19:07:18.976Z"
   },
   {
    "duration": 37,
    "start_time": "2022-08-12T19:07:19.010Z"
   },
   {
    "duration": 5,
    "start_time": "2022-08-12T19:07:19.049Z"
   },
   {
    "duration": 7,
    "start_time": "2022-08-12T19:07:19.055Z"
   },
   {
    "duration": 19,
    "start_time": "2022-08-12T19:07:19.064Z"
   },
   {
    "duration": 27,
    "start_time": "2022-08-12T19:07:19.085Z"
   },
   {
    "duration": 12,
    "start_time": "2022-08-12T19:07:19.114Z"
   },
   {
    "duration": 26,
    "start_time": "2022-08-12T19:07:19.128Z"
   },
   {
    "duration": 16,
    "start_time": "2022-08-12T19:07:19.155Z"
   },
   {
    "duration": 37,
    "start_time": "2022-08-12T19:07:19.173Z"
   },
   {
    "duration": 9,
    "start_time": "2022-08-12T19:07:19.212Z"
   },
   {
    "duration": 8,
    "start_time": "2022-08-12T19:07:19.223Z"
   },
   {
    "duration": 18,
    "start_time": "2022-08-12T19:07:19.233Z"
   },
   {
    "duration": 13,
    "start_time": "2022-08-12T19:07:19.253Z"
   },
   {
    "duration": 125,
    "start_time": "2022-08-12T19:07:19.268Z"
   },
   {
    "duration": 14,
    "start_time": "2022-08-12T19:07:19.396Z"
   },
   {
    "duration": 8,
    "start_time": "2022-08-12T19:07:19.411Z"
   },
   {
    "duration": 6,
    "start_time": "2022-08-12T19:07:19.420Z"
   },
   {
    "duration": 15,
    "start_time": "2022-08-12T19:07:19.427Z"
   },
   {
    "duration": 159,
    "start_time": "2022-08-12T19:07:19.444Z"
   },
   {
    "duration": 162,
    "start_time": "2022-08-12T19:07:19.605Z"
   },
   {
    "duration": 185,
    "start_time": "2022-08-12T19:07:19.769Z"
   },
   {
    "duration": 179,
    "start_time": "2022-08-12T19:07:19.956Z"
   },
   {
    "duration": 173,
    "start_time": "2022-08-12T19:07:20.137Z"
   },
   {
    "duration": 148,
    "start_time": "2022-08-12T19:07:20.311Z"
   },
   {
    "duration": 156,
    "start_time": "2022-08-12T19:07:20.460Z"
   },
   {
    "duration": 215,
    "start_time": "2022-08-12T19:07:20.618Z"
   },
   {
    "duration": 157,
    "start_time": "2022-08-12T19:07:20.834Z"
   },
   {
    "duration": 174,
    "start_time": "2022-08-12T19:07:20.993Z"
   },
   {
    "duration": 180,
    "start_time": "2022-08-12T19:07:21.169Z"
   },
   {
    "duration": 162,
    "start_time": "2022-08-12T19:07:21.351Z"
   },
   {
    "duration": 155,
    "start_time": "2022-08-12T19:07:21.514Z"
   },
   {
    "duration": 164,
    "start_time": "2022-08-12T19:07:21.671Z"
   },
   {
    "duration": 148,
    "start_time": "2022-08-12T19:07:21.836Z"
   },
   {
    "duration": 145,
    "start_time": "2022-08-12T19:07:21.986Z"
   },
   {
    "duration": 4,
    "start_time": "2022-08-12T19:07:22.132Z"
   },
   {
    "duration": 10,
    "start_time": "2022-08-12T19:07:22.137Z"
   },
   {
    "duration": 13,
    "start_time": "2022-08-12T19:07:22.149Z"
   },
   {
    "duration": 11,
    "start_time": "2022-08-12T19:07:22.163Z"
   },
   {
    "duration": 38,
    "start_time": "2022-08-12T19:07:22.175Z"
   },
   {
    "duration": 4,
    "start_time": "2022-08-12T19:07:41.317Z"
   },
   {
    "duration": 4,
    "start_time": "2022-08-12T19:07:43.634Z"
   },
   {
    "duration": 5,
    "start_time": "2022-08-12T19:08:01.697Z"
   },
   {
    "duration": 158,
    "start_time": "2022-08-12T19:08:01.714Z"
   },
   {
    "duration": 88,
    "start_time": "2022-08-12T19:08:01.874Z"
   },
   {
    "duration": 15,
    "start_time": "2022-08-12T19:08:01.964Z"
   },
   {
    "duration": 1899,
    "start_time": "2022-08-12T19:08:01.983Z"
   },
   {
    "duration": 263,
    "start_time": "2022-08-12T19:08:03.884Z"
   },
   {
    "duration": 4,
    "start_time": "2022-08-12T19:08:04.150Z"
   },
   {
    "duration": 6,
    "start_time": "2022-08-12T19:08:04.156Z"
   },
   {
    "duration": 10,
    "start_time": "2022-08-12T19:08:04.163Z"
   },
   {
    "duration": 40,
    "start_time": "2022-08-12T19:08:04.174Z"
   },
   {
    "duration": 11,
    "start_time": "2022-08-12T19:08:04.217Z"
   },
   {
    "duration": 19,
    "start_time": "2022-08-12T19:08:04.230Z"
   },
   {
    "duration": 6,
    "start_time": "2022-08-12T19:08:04.251Z"
   },
   {
    "duration": 63,
    "start_time": "2022-08-12T19:08:04.259Z"
   },
   {
    "duration": 7,
    "start_time": "2022-08-12T19:08:04.323Z"
   },
   {
    "duration": 9,
    "start_time": "2022-08-12T19:08:04.331Z"
   },
   {
    "duration": 38,
    "start_time": "2022-08-12T19:08:04.342Z"
   },
   {
    "duration": 29,
    "start_time": "2022-08-12T19:08:04.382Z"
   },
   {
    "duration": 7,
    "start_time": "2022-08-12T19:08:04.413Z"
   },
   {
    "duration": 22,
    "start_time": "2022-08-12T19:08:04.421Z"
   },
   {
    "duration": 14,
    "start_time": "2022-08-12T19:08:04.444Z"
   },
   {
    "duration": 4,
    "start_time": "2022-08-12T19:08:04.460Z"
   },
   {
    "duration": 6,
    "start_time": "2022-08-12T19:08:04.466Z"
   },
   {
    "duration": 35,
    "start_time": "2022-08-12T19:08:04.474Z"
   },
   {
    "duration": 6,
    "start_time": "2022-08-12T19:08:04.511Z"
   },
   {
    "duration": 8,
    "start_time": "2022-08-12T19:08:04.518Z"
   },
   {
    "duration": 125,
    "start_time": "2022-08-12T19:08:04.527Z"
   },
   {
    "duration": 5,
    "start_time": "2022-08-12T19:08:04.653Z"
   },
   {
    "duration": 5,
    "start_time": "2022-08-12T19:08:11.613Z"
   },
   {
    "duration": 42,
    "start_time": "2022-08-12T19:08:23.559Z"
   },
   {
    "duration": 5,
    "start_time": "2022-08-12T19:08:35.470Z"
   },
   {
    "duration": 4,
    "start_time": "2022-08-12T19:08:37.216Z"
   },
   {
    "duration": 1145,
    "start_time": "2022-08-12T19:09:01.565Z"
   },
   {
    "duration": 124,
    "start_time": "2022-08-12T19:09:02.712Z"
   },
   {
    "duration": 76,
    "start_time": "2022-08-12T19:09:02.837Z"
   },
   {
    "duration": 13,
    "start_time": "2022-08-12T19:09:02.915Z"
   },
   {
    "duration": 1901,
    "start_time": "2022-08-12T19:09:02.929Z"
   },
   {
    "duration": 239,
    "start_time": "2022-08-12T19:09:04.832Z"
   },
   {
    "duration": 7,
    "start_time": "2022-08-12T19:09:05.073Z"
   },
   {
    "duration": 8,
    "start_time": "2022-08-12T19:09:05.082Z"
   },
   {
    "duration": 25,
    "start_time": "2022-08-12T19:09:05.091Z"
   },
   {
    "duration": 23,
    "start_time": "2022-08-12T19:09:05.119Z"
   },
   {
    "duration": 11,
    "start_time": "2022-08-12T19:09:05.144Z"
   },
   {
    "duration": 21,
    "start_time": "2022-08-12T19:09:05.157Z"
   },
   {
    "duration": 29,
    "start_time": "2022-08-12T19:09:05.180Z"
   },
   {
    "duration": 39,
    "start_time": "2022-08-12T19:09:05.211Z"
   },
   {
    "duration": 7,
    "start_time": "2022-08-12T19:09:05.252Z"
   },
   {
    "duration": 18,
    "start_time": "2022-08-12T19:09:05.260Z"
   },
   {
    "duration": 30,
    "start_time": "2022-08-12T19:09:05.280Z"
   },
   {
    "duration": 4,
    "start_time": "2022-08-12T19:09:05.312Z"
   },
   {
    "duration": 12,
    "start_time": "2022-08-12T19:09:05.318Z"
   },
   {
    "duration": 22,
    "start_time": "2022-08-12T19:09:05.332Z"
   },
   {
    "duration": 14,
    "start_time": "2022-08-12T19:09:05.355Z"
   },
   {
    "duration": 39,
    "start_time": "2022-08-12T19:09:05.370Z"
   },
   {
    "duration": 9,
    "start_time": "2022-08-12T19:09:05.411Z"
   },
   {
    "duration": 6,
    "start_time": "2022-08-12T19:09:05.422Z"
   },
   {
    "duration": 5,
    "start_time": "2022-08-12T19:09:05.430Z"
   },
   {
    "duration": 13,
    "start_time": "2022-08-12T19:09:05.436Z"
   },
   {
    "duration": 130,
    "start_time": "2022-08-12T19:09:05.451Z"
   },
   {
    "duration": 5,
    "start_time": "2022-08-12T19:09:05.585Z"
   },
   {
    "duration": 18,
    "start_time": "2022-08-12T19:09:05.591Z"
   },
   {
    "duration": 6,
    "start_time": "2022-08-12T19:09:05.611Z"
   },
   {
    "duration": 340,
    "start_time": "2022-08-12T19:09:05.618Z"
   },
   {
    "duration": 174,
    "start_time": "2022-08-12T19:09:05.960Z"
   },
   {
    "duration": 165,
    "start_time": "2022-08-12T19:09:06.135Z"
   },
   {
    "duration": 163,
    "start_time": "2022-08-12T19:09:06.301Z"
   },
   {
    "duration": 151,
    "start_time": "2022-08-12T19:09:06.466Z"
   },
   {
    "duration": 238,
    "start_time": "2022-08-12T19:09:06.619Z"
   },
   {
    "duration": 171,
    "start_time": "2022-08-12T19:09:06.859Z"
   },
   {
    "duration": 178,
    "start_time": "2022-08-12T19:09:07.032Z"
   },
   {
    "duration": 177,
    "start_time": "2022-08-12T19:09:07.212Z"
   },
   {
    "duration": 155,
    "start_time": "2022-08-12T19:09:07.392Z"
   },
   {
    "duration": 173,
    "start_time": "2022-08-12T19:09:07.549Z"
   },
   {
    "duration": 151,
    "start_time": "2022-08-12T19:09:07.724Z"
   },
   {
    "duration": 163,
    "start_time": "2022-08-12T19:09:07.877Z"
   },
   {
    "duration": 154,
    "start_time": "2022-08-12T19:09:08.042Z"
   },
   {
    "duration": 159,
    "start_time": "2022-08-12T19:09:08.197Z"
   },
   {
    "duration": 165,
    "start_time": "2022-08-12T19:09:08.358Z"
   },
   {
    "duration": 158,
    "start_time": "2022-08-12T19:09:08.525Z"
   },
   {
    "duration": 4,
    "start_time": "2022-08-12T19:09:08.685Z"
   },
   {
    "duration": 11,
    "start_time": "2022-08-12T19:09:08.691Z"
   },
   {
    "duration": 20,
    "start_time": "2022-08-12T19:09:08.709Z"
   },
   {
    "duration": 22,
    "start_time": "2022-08-12T19:09:08.731Z"
   },
   {
    "duration": 52,
    "start_time": "2022-08-12T19:09:08.755Z"
   },
   {
    "duration": 145,
    "start_time": "2022-08-12T19:34:59.258Z"
   },
   {
    "duration": 51,
    "start_time": "2022-08-12T19:37:49.243Z"
   },
   {
    "duration": 117,
    "start_time": "2022-08-12T19:41:34.772Z"
   },
   {
    "duration": 10,
    "start_time": "2022-08-12T19:41:46.309Z"
   },
   {
    "duration": 22,
    "start_time": "2022-08-12T19:42:14.745Z"
   },
   {
    "duration": 10,
    "start_time": "2022-08-12T19:42:54.141Z"
   },
   {
    "duration": 9,
    "start_time": "2022-08-12T19:42:58.571Z"
   },
   {
    "duration": 5,
    "start_time": "2022-08-12T19:43:05.207Z"
   },
   {
    "duration": 18,
    "start_time": "2022-08-12T19:45:29.056Z"
   },
   {
    "duration": 20,
    "start_time": "2022-08-12T19:45:34.494Z"
   },
   {
    "duration": 18,
    "start_time": "2022-08-12T19:45:59.641Z"
   },
   {
    "duration": 15,
    "start_time": "2022-08-12T19:46:15.247Z"
   },
   {
    "duration": 13,
    "start_time": "2022-08-12T19:46:21.028Z"
   },
   {
    "duration": 14,
    "start_time": "2022-08-12T19:48:13.030Z"
   },
   {
    "duration": 5,
    "start_time": "2022-08-12T19:48:17.795Z"
   },
   {
    "duration": 13,
    "start_time": "2022-08-12T19:48:37.985Z"
   },
   {
    "duration": 9,
    "start_time": "2022-08-12T19:48:43.131Z"
   },
   {
    "duration": 12,
    "start_time": "2022-08-12T19:49:04.929Z"
   },
   {
    "duration": 4,
    "start_time": "2022-08-12T19:49:21.650Z"
   },
   {
    "duration": 10,
    "start_time": "2022-08-12T19:49:28.023Z"
   },
   {
    "duration": 11,
    "start_time": "2022-08-12T19:49:40.173Z"
   },
   {
    "duration": 11,
    "start_time": "2022-08-12T19:49:44.134Z"
   },
   {
    "duration": 10,
    "start_time": "2022-08-12T19:50:42.860Z"
   },
   {
    "duration": 9,
    "start_time": "2022-08-12T19:50:47.748Z"
   },
   {
    "duration": 8,
    "start_time": "2022-08-12T19:50:58.596Z"
   },
   {
    "duration": 8,
    "start_time": "2022-08-12T19:51:04.256Z"
   },
   {
    "duration": 15,
    "start_time": "2022-08-12T19:51:20.130Z"
   },
   {
    "duration": 8,
    "start_time": "2022-08-12T19:54:07.960Z"
   },
   {
    "duration": 5,
    "start_time": "2022-08-12T19:54:17.834Z"
   },
   {
    "duration": 16,
    "start_time": "2022-08-12T19:55:06.560Z"
   },
   {
    "duration": 90,
    "start_time": "2022-08-12T19:55:21.978Z"
   },
   {
    "duration": 13,
    "start_time": "2022-08-12T19:55:29.098Z"
   },
   {
    "duration": 15,
    "start_time": "2022-08-12T19:56:06.646Z"
   },
   {
    "duration": 1128,
    "start_time": "2022-08-13T05:16:30.276Z"
   },
   {
    "duration": 717,
    "start_time": "2022-08-13T05:16:31.406Z"
   },
   {
    "duration": 61,
    "start_time": "2022-08-13T05:16:32.124Z"
   },
   {
    "duration": 13,
    "start_time": "2022-08-13T05:16:32.187Z"
   },
   {
    "duration": 1708,
    "start_time": "2022-08-13T05:16:32.201Z"
   },
   {
    "duration": 220,
    "start_time": "2022-08-13T05:16:33.910Z"
   },
   {
    "duration": 12,
    "start_time": "2022-08-13T05:16:34.131Z"
   },
   {
    "duration": 4,
    "start_time": "2022-08-13T05:16:34.144Z"
   },
   {
    "duration": 19,
    "start_time": "2022-08-13T05:16:34.150Z"
   },
   {
    "duration": 21,
    "start_time": "2022-08-13T05:16:34.171Z"
   },
   {
    "duration": 10,
    "start_time": "2022-08-13T05:16:34.193Z"
   },
   {
    "duration": 38,
    "start_time": "2022-08-13T05:16:34.205Z"
   },
   {
    "duration": 6,
    "start_time": "2022-08-13T05:16:34.245Z"
   },
   {
    "duration": 47,
    "start_time": "2022-08-13T05:16:34.252Z"
   },
   {
    "duration": 5,
    "start_time": "2022-08-13T05:16:34.301Z"
   },
   {
    "duration": 11,
    "start_time": "2022-08-13T05:16:34.307Z"
   },
   {
    "duration": 23,
    "start_time": "2022-08-13T05:16:34.319Z"
   },
   {
    "duration": 11,
    "start_time": "2022-08-13T05:16:34.344Z"
   },
   {
    "duration": 9,
    "start_time": "2022-08-13T05:16:34.357Z"
   },
   {
    "duration": 22,
    "start_time": "2022-08-13T05:16:34.367Z"
   },
   {
    "duration": 15,
    "start_time": "2022-08-13T05:16:34.391Z"
   },
   {
    "duration": 7,
    "start_time": "2022-08-13T05:16:34.407Z"
   },
   {
    "duration": 7,
    "start_time": "2022-08-13T05:16:34.415Z"
   },
   {
    "duration": 5,
    "start_time": "2022-08-13T05:16:34.438Z"
   },
   {
    "duration": 6,
    "start_time": "2022-08-13T05:16:34.444Z"
   },
   {
    "duration": 8,
    "start_time": "2022-08-13T05:16:34.452Z"
   },
   {
    "duration": 118,
    "start_time": "2022-08-13T05:16:34.461Z"
   },
   {
    "duration": 5,
    "start_time": "2022-08-13T05:16:34.582Z"
   },
   {
    "duration": 9,
    "start_time": "2022-08-13T05:16:34.588Z"
   },
   {
    "duration": 7,
    "start_time": "2022-08-13T05:16:34.598Z"
   },
   {
    "duration": 306,
    "start_time": "2022-08-13T05:16:34.606Z"
   },
   {
    "duration": 147,
    "start_time": "2022-08-13T05:16:34.913Z"
   },
   {
    "duration": 149,
    "start_time": "2022-08-13T05:16:35.062Z"
   },
   {
    "duration": 150,
    "start_time": "2022-08-13T05:16:35.213Z"
   },
   {
    "duration": 218,
    "start_time": "2022-08-13T05:16:35.364Z"
   },
   {
    "duration": 141,
    "start_time": "2022-08-13T05:16:35.584Z"
   },
   {
    "duration": 159,
    "start_time": "2022-08-13T05:16:35.727Z"
   },
   {
    "duration": 152,
    "start_time": "2022-08-13T05:16:35.887Z"
   },
   {
    "duration": 128,
    "start_time": "2022-08-13T05:16:36.040Z"
   },
   {
    "duration": 142,
    "start_time": "2022-08-13T05:16:36.170Z"
   },
   {
    "duration": 152,
    "start_time": "2022-08-13T05:16:36.313Z"
   },
   {
    "duration": 151,
    "start_time": "2022-08-13T05:16:36.467Z"
   },
   {
    "duration": 151,
    "start_time": "2022-08-13T05:16:36.619Z"
   },
   {
    "duration": 138,
    "start_time": "2022-08-13T05:16:36.772Z"
   },
   {
    "duration": 147,
    "start_time": "2022-08-13T05:16:36.911Z"
   },
   {
    "duration": 139,
    "start_time": "2022-08-13T05:16:37.059Z"
   },
   {
    "duration": 123,
    "start_time": "2022-08-13T05:16:37.200Z"
   },
   {
    "duration": 14,
    "start_time": "2022-08-13T05:16:37.324Z"
   },
   {
    "duration": 4,
    "start_time": "2022-08-13T05:16:37.339Z"
   },
   {
    "duration": 5,
    "start_time": "2022-08-13T05:16:37.344Z"
   },
   {
    "duration": 8,
    "start_time": "2022-08-13T05:16:37.351Z"
   },
   {
    "duration": 36,
    "start_time": "2022-08-13T05:16:37.361Z"
   },
   {
    "duration": 4,
    "start_time": "2022-08-13T05:16:37.399Z"
   },
   {
    "duration": 61,
    "start_time": "2022-08-13T05:16:37.405Z"
   },
   {
    "duration": 656,
    "start_time": "2022-08-13T05:17:34.385Z"
   },
   {
    "duration": 16,
    "start_time": "2022-08-13T05:18:17.178Z"
   },
   {
    "duration": 1068,
    "start_time": "2022-08-13T05:19:31.430Z"
   },
   {
    "duration": 110,
    "start_time": "2022-08-13T05:19:32.500Z"
   },
   {
    "duration": 62,
    "start_time": "2022-08-13T05:19:32.611Z"
   },
   {
    "duration": 11,
    "start_time": "2022-08-13T05:19:32.675Z"
   },
   {
    "duration": 1757,
    "start_time": "2022-08-13T05:19:32.688Z"
   },
   {
    "duration": 232,
    "start_time": "2022-08-13T05:19:34.446Z"
   },
   {
    "duration": 6,
    "start_time": "2022-08-13T05:19:34.679Z"
   },
   {
    "duration": 8,
    "start_time": "2022-08-13T05:19:34.687Z"
   },
   {
    "duration": 15,
    "start_time": "2022-08-13T05:19:34.696Z"
   },
   {
    "duration": 38,
    "start_time": "2022-08-13T05:19:34.714Z"
   },
   {
    "duration": 11,
    "start_time": "2022-08-13T05:19:34.754Z"
   },
   {
    "duration": 21,
    "start_time": "2022-08-13T05:19:34.768Z"
   },
   {
    "duration": 6,
    "start_time": "2022-08-13T05:19:34.791Z"
   },
   {
    "duration": 62,
    "start_time": "2022-08-13T05:19:34.799Z"
   },
   {
    "duration": 5,
    "start_time": "2022-08-13T05:19:34.863Z"
   },
   {
    "duration": 7,
    "start_time": "2022-08-13T05:19:34.870Z"
   },
   {
    "duration": 5,
    "start_time": "2022-08-13T05:19:34.878Z"
   },
   {
    "duration": 4,
    "start_time": "2022-08-13T05:19:34.885Z"
   },
   {
    "duration": 8,
    "start_time": "2022-08-13T05:19:34.891Z"
   },
   {
    "duration": 43,
    "start_time": "2022-08-13T05:19:34.900Z"
   },
   {
    "duration": 13,
    "start_time": "2022-08-13T05:19:34.944Z"
   },
   {
    "duration": 13,
    "start_time": "2022-08-13T05:19:34.959Z"
   },
   {
    "duration": 17,
    "start_time": "2022-08-13T05:19:34.973Z"
   },
   {
    "duration": 13,
    "start_time": "2022-08-13T05:19:34.991Z"
   },
   {
    "duration": 10,
    "start_time": "2022-08-13T05:19:35.005Z"
   },
   {
    "duration": 8,
    "start_time": "2022-08-13T05:19:35.017Z"
   },
   {
    "duration": 119,
    "start_time": "2022-08-13T05:19:35.027Z"
   },
   {
    "duration": 6,
    "start_time": "2022-08-13T05:19:35.151Z"
   },
   {
    "duration": 11,
    "start_time": "2022-08-13T05:19:35.159Z"
   },
   {
    "duration": 5,
    "start_time": "2022-08-13T05:19:35.171Z"
   },
   {
    "duration": 418,
    "start_time": "2022-08-13T05:19:35.177Z"
   },
   {
    "duration": 0,
    "start_time": "2022-08-13T05:19:35.597Z"
   },
   {
    "duration": 0,
    "start_time": "2022-08-13T05:19:35.598Z"
   },
   {
    "duration": 0,
    "start_time": "2022-08-13T05:19:35.599Z"
   },
   {
    "duration": 0,
    "start_time": "2022-08-13T05:19:35.599Z"
   },
   {
    "duration": 0,
    "start_time": "2022-08-13T05:19:35.600Z"
   },
   {
    "duration": 0,
    "start_time": "2022-08-13T05:19:35.601Z"
   },
   {
    "duration": 0,
    "start_time": "2022-08-13T05:19:35.603Z"
   },
   {
    "duration": 0,
    "start_time": "2022-08-13T05:19:35.604Z"
   },
   {
    "duration": 0,
    "start_time": "2022-08-13T05:19:35.605Z"
   },
   {
    "duration": 0,
    "start_time": "2022-08-13T05:19:35.606Z"
   },
   {
    "duration": 0,
    "start_time": "2022-08-13T05:19:35.608Z"
   },
   {
    "duration": 0,
    "start_time": "2022-08-13T05:19:35.609Z"
   },
   {
    "duration": 0,
    "start_time": "2022-08-13T05:19:35.609Z"
   },
   {
    "duration": 0,
    "start_time": "2022-08-13T05:19:35.610Z"
   },
   {
    "duration": 0,
    "start_time": "2022-08-13T05:19:35.611Z"
   },
   {
    "duration": 0,
    "start_time": "2022-08-13T05:19:35.638Z"
   },
   {
    "duration": 0,
    "start_time": "2022-08-13T05:19:35.639Z"
   },
   {
    "duration": 0,
    "start_time": "2022-08-13T05:19:35.640Z"
   },
   {
    "duration": 0,
    "start_time": "2022-08-13T05:19:35.641Z"
   },
   {
    "duration": 0,
    "start_time": "2022-08-13T05:19:35.642Z"
   },
   {
    "duration": 0,
    "start_time": "2022-08-13T05:19:35.643Z"
   },
   {
    "duration": 0,
    "start_time": "2022-08-13T05:19:35.644Z"
   },
   {
    "duration": 0,
    "start_time": "2022-08-13T05:19:35.645Z"
   },
   {
    "duration": 0,
    "start_time": "2022-08-13T05:19:35.646Z"
   },
   {
    "duration": 18,
    "start_time": "2022-08-13T05:19:38.127Z"
   },
   {
    "duration": 12,
    "start_time": "2022-08-13T05:22:30.014Z"
   },
   {
    "duration": 7,
    "start_time": "2022-08-13T05:22:40.887Z"
   },
   {
    "duration": 6,
    "start_time": "2022-08-13T05:23:21.197Z"
   },
   {
    "duration": 6,
    "start_time": "2022-08-13T05:24:16.285Z"
   },
   {
    "duration": 9,
    "start_time": "2022-08-13T05:25:40.018Z"
   },
   {
    "duration": 8,
    "start_time": "2022-08-13T05:25:55.600Z"
   },
   {
    "duration": 7,
    "start_time": "2022-08-13T05:26:16.237Z"
   },
   {
    "duration": 4,
    "start_time": "2022-08-13T05:26:20.456Z"
   },
   {
    "duration": 3,
    "start_time": "2022-08-13T05:26:23.842Z"
   },
   {
    "duration": 9,
    "start_time": "2022-08-13T05:26:25.632Z"
   },
   {
    "duration": 11,
    "start_time": "2022-08-13T05:26:32.963Z"
   },
   {
    "duration": 7,
    "start_time": "2022-08-13T05:27:39.277Z"
   },
   {
    "duration": 33,
    "start_time": "2022-08-13T05:27:42.237Z"
   },
   {
    "duration": 8,
    "start_time": "2022-08-13T05:28:11.769Z"
   },
   {
    "duration": 9,
    "start_time": "2022-08-13T05:28:16.762Z"
   },
   {
    "duration": 5,
    "start_time": "2022-08-13T05:28:26.748Z"
   },
   {
    "duration": 14,
    "start_time": "2022-08-13T05:29:32.661Z"
   },
   {
    "duration": 15,
    "start_time": "2022-08-13T05:29:46.060Z"
   },
   {
    "duration": 10,
    "start_time": "2022-08-13T05:29:54.586Z"
   },
   {
    "duration": 4,
    "start_time": "2022-08-13T05:30:03.418Z"
   },
   {
    "duration": 3,
    "start_time": "2022-08-13T05:30:07.716Z"
   },
   {
    "duration": 13,
    "start_time": "2022-08-13T05:30:55.488Z"
   },
   {
    "duration": 5,
    "start_time": "2022-08-13T05:31:44.642Z"
   },
   {
    "duration": 4,
    "start_time": "2022-08-13T05:31:51.674Z"
   },
   {
    "duration": 29,
    "start_time": "2022-08-13T05:32:16.264Z"
   },
   {
    "duration": 4,
    "start_time": "2022-08-13T05:32:49.194Z"
   },
   {
    "duration": 1073,
    "start_time": "2022-08-13T05:33:27.520Z"
   },
   {
    "duration": 109,
    "start_time": "2022-08-13T05:33:28.595Z"
   },
   {
    "duration": 67,
    "start_time": "2022-08-13T05:33:28.706Z"
   },
   {
    "duration": 12,
    "start_time": "2022-08-13T05:33:28.775Z"
   },
   {
    "duration": 1785,
    "start_time": "2022-08-13T05:33:28.788Z"
   },
   {
    "duration": 227,
    "start_time": "2022-08-13T05:33:30.574Z"
   },
   {
    "duration": 6,
    "start_time": "2022-08-13T05:33:30.802Z"
   },
   {
    "duration": 26,
    "start_time": "2022-08-13T05:33:30.809Z"
   },
   {
    "duration": 22,
    "start_time": "2022-08-13T05:33:30.836Z"
   },
   {
    "duration": 35,
    "start_time": "2022-08-13T05:33:30.861Z"
   },
   {
    "duration": 21,
    "start_time": "2022-08-13T05:33:30.897Z"
   },
   {
    "duration": 39,
    "start_time": "2022-08-13T05:33:30.920Z"
   },
   {
    "duration": 17,
    "start_time": "2022-08-13T05:33:30.961Z"
   },
   {
    "duration": 80,
    "start_time": "2022-08-13T05:33:30.980Z"
   },
   {
    "duration": 12,
    "start_time": "2022-08-13T05:33:31.062Z"
   },
   {
    "duration": 29,
    "start_time": "2022-08-13T05:33:31.076Z"
   },
   {
    "duration": 30,
    "start_time": "2022-08-13T05:33:31.106Z"
   },
   {
    "duration": 20,
    "start_time": "2022-08-13T05:33:31.137Z"
   },
   {
    "duration": 24,
    "start_time": "2022-08-13T05:33:31.158Z"
   },
   {
    "duration": 57,
    "start_time": "2022-08-13T05:33:31.184Z"
   },
   {
    "duration": 21,
    "start_time": "2022-08-13T05:33:31.242Z"
   },
   {
    "duration": 41,
    "start_time": "2022-08-13T05:33:31.265Z"
   },
   {
    "duration": 22,
    "start_time": "2022-08-13T05:33:31.308Z"
   },
   {
    "duration": 7,
    "start_time": "2022-08-13T05:33:31.331Z"
   },
   {
    "duration": 18,
    "start_time": "2022-08-13T05:33:31.339Z"
   },
   {
    "duration": 22,
    "start_time": "2022-08-13T05:33:31.359Z"
   },
   {
    "duration": 118,
    "start_time": "2022-08-13T05:33:31.382Z"
   },
   {
    "duration": 4,
    "start_time": "2022-08-13T05:33:31.503Z"
   },
   {
    "duration": 26,
    "start_time": "2022-08-13T05:33:31.509Z"
   },
   {
    "duration": 39,
    "start_time": "2022-08-13T05:33:31.536Z"
   },
   {
    "duration": 330,
    "start_time": "2022-08-13T05:33:31.577Z"
   },
   {
    "duration": 149,
    "start_time": "2022-08-13T05:33:31.908Z"
   },
   {
    "duration": 159,
    "start_time": "2022-08-13T05:33:32.058Z"
   },
   {
    "duration": 152,
    "start_time": "2022-08-13T05:33:32.219Z"
   },
   {
    "duration": 141,
    "start_time": "2022-08-13T05:33:32.373Z"
   },
   {
    "duration": 226,
    "start_time": "2022-08-13T05:33:32.516Z"
   },
   {
    "duration": 159,
    "start_time": "2022-08-13T05:33:32.743Z"
   },
   {
    "duration": 149,
    "start_time": "2022-08-13T05:33:32.903Z"
   },
   {
    "duration": 125,
    "start_time": "2022-08-13T05:33:33.053Z"
   },
   {
    "duration": 151,
    "start_time": "2022-08-13T05:33:33.179Z"
   },
   {
    "duration": 151,
    "start_time": "2022-08-13T05:33:33.331Z"
   },
   {
    "duration": 140,
    "start_time": "2022-08-13T05:33:33.483Z"
   },
   {
    "duration": 150,
    "start_time": "2022-08-13T05:33:33.624Z"
   },
   {
    "duration": 137,
    "start_time": "2022-08-13T05:33:33.775Z"
   },
   {
    "duration": 142,
    "start_time": "2022-08-13T05:33:33.913Z"
   },
   {
    "duration": 137,
    "start_time": "2022-08-13T05:33:34.056Z"
   },
   {
    "duration": 139,
    "start_time": "2022-08-13T05:33:34.195Z"
   },
   {
    "duration": 5,
    "start_time": "2022-08-13T05:33:34.336Z"
   },
   {
    "duration": 7,
    "start_time": "2022-08-13T05:33:34.342Z"
   },
   {
    "duration": 6,
    "start_time": "2022-08-13T05:33:34.351Z"
   },
   {
    "duration": 8,
    "start_time": "2022-08-13T05:33:34.359Z"
   },
   {
    "duration": 38,
    "start_time": "2022-08-13T05:33:34.368Z"
   },
   {
    "duration": 5,
    "start_time": "2022-08-13T05:33:34.407Z"
   },
   {
    "duration": 487,
    "start_time": "2022-08-13T05:33:34.438Z"
   },
   {
    "duration": 0,
    "start_time": "2022-08-13T05:33:34.927Z"
   },
   {
    "duration": 0,
    "start_time": "2022-08-13T05:33:34.928Z"
   },
   {
    "duration": 0,
    "start_time": "2022-08-13T05:33:34.929Z"
   },
   {
    "duration": 0,
    "start_time": "2022-08-13T05:33:34.930Z"
   },
   {
    "duration": 0,
    "start_time": "2022-08-13T05:33:34.931Z"
   },
   {
    "duration": 0,
    "start_time": "2022-08-13T05:33:34.932Z"
   },
   {
    "duration": 0,
    "start_time": "2022-08-13T05:33:34.933Z"
   },
   {
    "duration": 0,
    "start_time": "2022-08-13T05:33:34.934Z"
   },
   {
    "duration": 5,
    "start_time": "2022-08-13T05:34:43.062Z"
   },
   {
    "duration": 6,
    "start_time": "2022-08-13T05:34:43.393Z"
   },
   {
    "duration": 13,
    "start_time": "2022-08-13T05:34:43.856Z"
   },
   {
    "duration": 4,
    "start_time": "2022-08-13T05:34:48.431Z"
   },
   {
    "duration": 29,
    "start_time": "2022-08-13T05:34:57.338Z"
   },
   {
    "duration": 6,
    "start_time": "2022-08-13T05:38:17.679Z"
   },
   {
    "duration": 12,
    "start_time": "2022-08-13T05:38:37.804Z"
   },
   {
    "duration": 5,
    "start_time": "2022-08-13T05:39:36.920Z"
   },
   {
    "duration": 4,
    "start_time": "2022-08-13T05:39:37.246Z"
   },
   {
    "duration": 2,
    "start_time": "2022-08-13T05:39:37.561Z"
   },
   {
    "duration": 4,
    "start_time": "2022-08-13T05:39:44.784Z"
   },
   {
    "duration": 3,
    "start_time": "2022-08-13T05:39:45.258Z"
   },
   {
    "duration": 13,
    "start_time": "2022-08-13T05:39:45.575Z"
   },
   {
    "duration": 4,
    "start_time": "2022-08-13T05:39:57.105Z"
   },
   {
    "duration": 4,
    "start_time": "2022-08-13T05:39:57.619Z"
   },
   {
    "duration": 3,
    "start_time": "2022-08-13T05:39:57.979Z"
   },
   {
    "duration": 3,
    "start_time": "2022-08-13T05:40:05.672Z"
   },
   {
    "duration": 5,
    "start_time": "2022-08-13T05:40:05.854Z"
   },
   {
    "duration": 4,
    "start_time": "2022-08-13T05:40:06.093Z"
   },
   {
    "duration": 7,
    "start_time": "2022-08-13T05:40:07.812Z"
   },
   {
    "duration": 3,
    "start_time": "2022-08-13T05:40:13.783Z"
   },
   {
    "duration": 3,
    "start_time": "2022-08-13T05:40:25.620Z"
   },
   {
    "duration": 41,
    "start_time": "2022-08-13T05:41:22.468Z"
   },
   {
    "duration": 4,
    "start_time": "2022-08-13T05:41:27.597Z"
   },
   {
    "duration": 14,
    "start_time": "2022-08-13T05:46:17.607Z"
   },
   {
    "duration": 14,
    "start_time": "2022-08-13T05:46:23.242Z"
   },
   {
    "duration": 11,
    "start_time": "2022-08-13T05:49:35.919Z"
   },
   {
    "duration": 10,
    "start_time": "2022-08-13T05:59:26.590Z"
   },
   {
    "duration": 16,
    "start_time": "2022-08-13T05:59:33.504Z"
   },
   {
    "duration": 8,
    "start_time": "2022-08-13T06:00:52.198Z"
   },
   {
    "duration": 3,
    "start_time": "2022-08-13T06:00:57.504Z"
   },
   {
    "duration": 15,
    "start_time": "2022-08-13T06:05:16.936Z"
   },
   {
    "duration": 3,
    "start_time": "2022-08-13T06:05:26.916Z"
   },
   {
    "duration": 46,
    "start_time": "2022-08-13T06:08:17.271Z"
   },
   {
    "duration": 40,
    "start_time": "2022-08-13T06:08:26.880Z"
   },
   {
    "duration": 14,
    "start_time": "2022-08-13T06:21:41.079Z"
   },
   {
    "duration": 3,
    "start_time": "2022-08-13T06:21:51.776Z"
   },
   {
    "duration": 10,
    "start_time": "2022-08-13T06:22:24.735Z"
   },
   {
    "duration": 9,
    "start_time": "2022-08-13T06:22:34.070Z"
   },
   {
    "duration": 5,
    "start_time": "2022-08-13T06:22:41.733Z"
   },
   {
    "duration": 4,
    "start_time": "2022-08-13T06:23:10.758Z"
   },
   {
    "duration": 5,
    "start_time": "2022-08-13T06:24:57.218Z"
   },
   {
    "duration": 42,
    "start_time": "2022-08-13T12:26:13.588Z"
   },
   {
    "duration": 1254,
    "start_time": "2022-08-13T13:58:16.954Z"
   },
   {
    "duration": 745,
    "start_time": "2022-08-13T13:58:18.210Z"
   },
   {
    "duration": 84,
    "start_time": "2022-08-13T13:58:18.957Z"
   },
   {
    "duration": 17,
    "start_time": "2022-08-13T13:58:19.043Z"
   },
   {
    "duration": 1795,
    "start_time": "2022-08-13T13:58:19.062Z"
   },
   {
    "duration": 223,
    "start_time": "2022-08-13T13:58:20.858Z"
   },
   {
    "duration": 6,
    "start_time": "2022-08-13T13:58:21.083Z"
   },
   {
    "duration": 11,
    "start_time": "2022-08-13T13:58:21.090Z"
   },
   {
    "duration": 13,
    "start_time": "2022-08-13T13:58:21.102Z"
   },
   {
    "duration": 39,
    "start_time": "2022-08-13T13:58:21.116Z"
   },
   {
    "duration": 11,
    "start_time": "2022-08-13T13:58:21.157Z"
   },
   {
    "duration": 32,
    "start_time": "2022-08-13T13:58:21.169Z"
   },
   {
    "duration": 6,
    "start_time": "2022-08-13T13:58:21.203Z"
   },
   {
    "duration": 43,
    "start_time": "2022-08-13T13:58:21.212Z"
   },
   {
    "duration": 17,
    "start_time": "2022-08-13T13:58:21.256Z"
   },
   {
    "duration": 7,
    "start_time": "2022-08-13T13:58:21.275Z"
   },
   {
    "duration": 16,
    "start_time": "2022-08-13T13:58:21.284Z"
   },
   {
    "duration": 10,
    "start_time": "2022-08-13T13:58:21.301Z"
   },
   {
    "duration": 8,
    "start_time": "2022-08-13T13:58:21.312Z"
   },
   {
    "duration": 17,
    "start_time": "2022-08-13T13:58:21.321Z"
   },
   {
    "duration": 6,
    "start_time": "2022-08-13T13:58:21.340Z"
   },
   {
    "duration": 26,
    "start_time": "2022-08-13T13:58:21.348Z"
   },
   {
    "duration": 12,
    "start_time": "2022-08-13T13:58:21.376Z"
   },
   {
    "duration": 5,
    "start_time": "2022-08-13T13:58:21.390Z"
   },
   {
    "duration": 12,
    "start_time": "2022-08-13T13:58:21.397Z"
   },
   {
    "duration": 21,
    "start_time": "2022-08-13T13:58:21.410Z"
   },
   {
    "duration": 17,
    "start_time": "2022-08-13T13:58:21.432Z"
   },
   {
    "duration": 6,
    "start_time": "2022-08-13T13:58:21.450Z"
   },
   {
    "duration": 113,
    "start_time": "2022-08-13T13:58:21.457Z"
   },
   {
    "duration": 4,
    "start_time": "2022-08-13T13:58:21.572Z"
   },
   {
    "duration": 19,
    "start_time": "2022-08-13T13:58:21.578Z"
   },
   {
    "duration": 8,
    "start_time": "2022-08-13T13:58:21.598Z"
   },
   {
    "duration": 291,
    "start_time": "2022-08-13T13:58:21.607Z"
   },
   {
    "duration": 146,
    "start_time": "2022-08-13T13:58:21.899Z"
   },
   {
    "duration": 148,
    "start_time": "2022-08-13T13:58:22.046Z"
   },
   {
    "duration": 149,
    "start_time": "2022-08-13T13:58:22.196Z"
   },
   {
    "duration": 144,
    "start_time": "2022-08-13T13:58:22.347Z"
   },
   {
    "duration": 220,
    "start_time": "2022-08-13T13:58:22.494Z"
   },
   {
    "duration": 167,
    "start_time": "2022-08-13T13:58:22.716Z"
   },
   {
    "duration": 147,
    "start_time": "2022-08-13T13:58:22.885Z"
   },
   {
    "duration": 116,
    "start_time": "2022-08-13T13:58:23.037Z"
   },
   {
    "duration": 148,
    "start_time": "2022-08-13T13:58:23.155Z"
   },
   {
    "duration": 1149,
    "start_time": "2022-08-13T14:15:54.537Z"
   },
   {
    "duration": 111,
    "start_time": "2022-08-13T14:15:55.688Z"
   },
   {
    "duration": 68,
    "start_time": "2022-08-13T14:15:55.801Z"
   },
   {
    "duration": 12,
    "start_time": "2022-08-13T14:15:55.871Z"
   },
   {
    "duration": 1696,
    "start_time": "2022-08-13T14:15:55.885Z"
   },
   {
    "duration": 227,
    "start_time": "2022-08-13T14:15:57.582Z"
   },
   {
    "duration": 6,
    "start_time": "2022-08-13T14:15:57.810Z"
   },
   {
    "duration": 7,
    "start_time": "2022-08-13T14:15:57.817Z"
   },
   {
    "duration": 17,
    "start_time": "2022-08-13T14:15:57.825Z"
   },
   {
    "duration": 22,
    "start_time": "2022-08-13T14:15:57.844Z"
   },
   {
    "duration": 10,
    "start_time": "2022-08-13T14:15:57.867Z"
   },
   {
    "duration": 17,
    "start_time": "2022-08-13T14:15:57.878Z"
   },
   {
    "duration": 5,
    "start_time": "2022-08-13T14:15:57.897Z"
   },
   {
    "duration": 62,
    "start_time": "2022-08-13T14:15:57.903Z"
   },
   {
    "duration": 15,
    "start_time": "2022-08-13T14:15:57.967Z"
   },
   {
    "duration": 4,
    "start_time": "2022-08-13T14:15:57.983Z"
   },
   {
    "duration": 6,
    "start_time": "2022-08-13T14:15:57.989Z"
   },
   {
    "duration": 9,
    "start_time": "2022-08-13T14:15:57.996Z"
   },
   {
    "duration": 7,
    "start_time": "2022-08-13T14:15:58.007Z"
   },
   {
    "duration": 23,
    "start_time": "2022-08-13T14:15:58.015Z"
   },
   {
    "duration": 7,
    "start_time": "2022-08-13T14:15:58.040Z"
   },
   {
    "duration": 19,
    "start_time": "2022-08-13T14:15:58.048Z"
   },
   {
    "duration": 13,
    "start_time": "2022-08-13T14:15:58.068Z"
   },
   {
    "duration": 5,
    "start_time": "2022-08-13T14:15:58.082Z"
   },
   {
    "duration": 5,
    "start_time": "2022-08-13T14:15:58.089Z"
   },
   {
    "duration": 10,
    "start_time": "2022-08-13T14:15:58.095Z"
   },
   {
    "duration": 5,
    "start_time": "2022-08-13T14:15:58.106Z"
   },
   {
    "duration": 5,
    "start_time": "2022-08-13T14:15:58.138Z"
   },
   {
    "duration": 114,
    "start_time": "2022-08-13T14:15:58.144Z"
   },
   {
    "duration": 4,
    "start_time": "2022-08-13T14:15:58.260Z"
   },
   {
    "duration": 9,
    "start_time": "2022-08-13T14:15:58.266Z"
   },
   {
    "duration": 4,
    "start_time": "2022-08-13T14:15:58.276Z"
   },
   {
    "duration": 309,
    "start_time": "2022-08-13T14:15:58.281Z"
   },
   {
    "duration": 142,
    "start_time": "2022-08-13T14:15:58.591Z"
   },
   {
    "duration": 159,
    "start_time": "2022-08-13T14:15:58.737Z"
   },
   {
    "duration": 190,
    "start_time": "2022-08-13T14:15:58.898Z"
   },
   {
    "duration": 142,
    "start_time": "2022-08-13T14:15:59.089Z"
   },
   {
    "duration": 216,
    "start_time": "2022-08-13T14:15:59.232Z"
   },
   {
    "duration": 159,
    "start_time": "2022-08-13T14:15:59.449Z"
   },
   {
    "duration": 147,
    "start_time": "2022-08-13T14:15:59.610Z"
   },
   {
    "duration": 119,
    "start_time": "2022-08-13T14:15:59.759Z"
   },
   {
    "duration": 148,
    "start_time": "2022-08-13T14:15:59.880Z"
   },
   {
    "duration": 151,
    "start_time": "2022-08-13T14:16:00.030Z"
   },
   {
    "duration": 140,
    "start_time": "2022-08-13T14:16:00.182Z"
   },
   {
    "duration": 144,
    "start_time": "2022-08-13T14:16:00.323Z"
   },
   {
    "duration": 139,
    "start_time": "2022-08-13T14:16:00.469Z"
   },
   {
    "duration": 138,
    "start_time": "2022-08-13T14:16:00.609Z"
   },
   {
    "duration": 144,
    "start_time": "2022-08-13T14:16:00.748Z"
   },
   {
    "duration": 133,
    "start_time": "2022-08-13T14:16:00.893Z"
   },
   {
    "duration": 11,
    "start_time": "2022-08-13T14:16:01.028Z"
   },
   {
    "duration": 3,
    "start_time": "2022-08-13T14:16:01.040Z"
   },
   {
    "duration": 6,
    "start_time": "2022-08-13T14:16:01.045Z"
   },
   {
    "duration": 10,
    "start_time": "2022-08-13T14:16:01.053Z"
   },
   {
    "duration": 38,
    "start_time": "2022-08-13T14:16:01.065Z"
   },
   {
    "duration": 6,
    "start_time": "2022-08-13T14:16:01.105Z"
   },
   {
    "duration": 72,
    "start_time": "2022-08-13T14:16:01.112Z"
   },
   {
    "duration": 0,
    "start_time": "2022-08-13T14:16:01.186Z"
   },
   {
    "duration": 0,
    "start_time": "2022-08-13T14:16:01.188Z"
   },
   {
    "duration": 0,
    "start_time": "2022-08-13T14:16:01.189Z"
   },
   {
    "duration": 0,
    "start_time": "2022-08-13T14:16:01.190Z"
   },
   {
    "duration": 0,
    "start_time": "2022-08-13T14:16:01.191Z"
   },
   {
    "duration": 0,
    "start_time": "2022-08-13T14:16:01.192Z"
   },
   {
    "duration": 0,
    "start_time": "2022-08-13T14:16:01.193Z"
   },
   {
    "duration": 0,
    "start_time": "2022-08-13T14:16:01.194Z"
   },
   {
    "duration": 0,
    "start_time": "2022-08-13T14:16:01.195Z"
   },
   {
    "duration": 0,
    "start_time": "2022-08-13T14:16:01.196Z"
   },
   {
    "duration": 0,
    "start_time": "2022-08-13T14:16:01.197Z"
   },
   {
    "duration": 0,
    "start_time": "2022-08-13T14:16:01.198Z"
   },
   {
    "duration": 0,
    "start_time": "2022-08-13T14:16:01.199Z"
   },
   {
    "duration": 158,
    "start_time": "2022-08-13T14:22:03.738Z"
   },
   {
    "duration": 142,
    "start_time": "2022-08-13T14:22:11.942Z"
   },
   {
    "duration": 287,
    "start_time": "2022-08-13T14:22:18.884Z"
   },
   {
    "duration": 189,
    "start_time": "2022-08-13T14:22:27.043Z"
   },
   {
    "duration": 148,
    "start_time": "2022-08-13T14:23:10.462Z"
   },
   {
    "duration": 322,
    "start_time": "2022-08-13T15:48:03.350Z"
   },
   {
    "duration": 179,
    "start_time": "2022-08-13T15:48:12.381Z"
   },
   {
    "duration": 163,
    "start_time": "2022-08-13T15:48:19.651Z"
   },
   {
    "duration": 157,
    "start_time": "2022-08-13T15:48:57.106Z"
   },
   {
    "duration": 208,
    "start_time": "2022-08-13T15:49:10.668Z"
   },
   {
    "duration": 213,
    "start_time": "2022-08-13T15:49:17.642Z"
   },
   {
    "duration": 258,
    "start_time": "2022-08-13T15:49:29.148Z"
   },
   {
    "duration": 3,
    "start_time": "2022-08-13T15:49:48.259Z"
   },
   {
    "duration": 112,
    "start_time": "2022-08-13T15:49:48.326Z"
   },
   {
    "duration": 65,
    "start_time": "2022-08-13T15:49:48.440Z"
   },
   {
    "duration": 32,
    "start_time": "2022-08-13T15:49:48.506Z"
   },
   {
    "duration": 1757,
    "start_time": "2022-08-13T15:49:48.540Z"
   },
   {
    "duration": 247,
    "start_time": "2022-08-13T15:49:50.299Z"
   },
   {
    "duration": 3,
    "start_time": "2022-08-13T15:49:50.548Z"
   },
   {
    "duration": 7,
    "start_time": "2022-08-13T15:49:50.553Z"
   },
   {
    "duration": 9,
    "start_time": "2022-08-13T15:49:50.561Z"
   },
   {
    "duration": 19,
    "start_time": "2022-08-13T15:49:50.572Z"
   },
   {
    "duration": 11,
    "start_time": "2022-08-13T15:49:50.592Z"
   },
   {
    "duration": 47,
    "start_time": "2022-08-13T15:49:50.605Z"
   },
   {
    "duration": 5,
    "start_time": "2022-08-13T15:49:50.654Z"
   },
   {
    "duration": 33,
    "start_time": "2022-08-13T15:49:50.661Z"
   },
   {
    "duration": 15,
    "start_time": "2022-08-13T15:49:50.697Z"
   },
   {
    "duration": 27,
    "start_time": "2022-08-13T15:49:50.713Z"
   },
   {
    "duration": 14,
    "start_time": "2022-08-13T15:49:50.741Z"
   },
   {
    "duration": 5,
    "start_time": "2022-08-13T15:49:50.757Z"
   },
   {
    "duration": 5,
    "start_time": "2022-08-13T15:49:50.764Z"
   },
   {
    "duration": 9,
    "start_time": "2022-08-13T15:49:50.771Z"
   },
   {
    "duration": 10,
    "start_time": "2022-08-13T15:49:50.781Z"
   },
   {
    "duration": 34,
    "start_time": "2022-08-13T15:49:50.792Z"
   },
   {
    "duration": 20,
    "start_time": "2022-08-13T15:49:50.828Z"
   },
   {
    "duration": 5,
    "start_time": "2022-08-13T15:49:50.850Z"
   },
   {
    "duration": 9,
    "start_time": "2022-08-13T15:49:50.856Z"
   },
   {
    "duration": 16,
    "start_time": "2022-08-13T15:49:50.866Z"
   },
   {
    "duration": 4,
    "start_time": "2022-08-13T15:49:50.883Z"
   },
   {
    "duration": 6,
    "start_time": "2022-08-13T15:49:50.889Z"
   },
   {
    "duration": 125,
    "start_time": "2022-08-13T15:49:50.896Z"
   },
   {
    "duration": 15,
    "start_time": "2022-08-13T15:49:51.023Z"
   },
   {
    "duration": 5,
    "start_time": "2022-08-13T15:49:51.039Z"
   },
   {
    "duration": 4,
    "start_time": "2022-08-13T15:49:51.045Z"
   },
   {
    "duration": 421,
    "start_time": "2022-08-13T15:49:51.050Z"
   },
   {
    "duration": 257,
    "start_time": "2022-08-13T15:49:51.473Z"
   },
   {
    "duration": 217,
    "start_time": "2022-08-13T15:49:51.731Z"
   },
   {
    "duration": 201,
    "start_time": "2022-08-13T15:49:51.950Z"
   },
   {
    "duration": 162,
    "start_time": "2022-08-13T15:49:52.153Z"
   },
   {
    "duration": 144,
    "start_time": "2022-08-13T15:49:52.317Z"
   },
   {
    "duration": 162,
    "start_time": "2022-08-13T15:49:52.463Z"
   },
   {
    "duration": 142,
    "start_time": "2022-08-13T15:49:52.627Z"
   },
   {
    "duration": 126,
    "start_time": "2022-08-13T15:49:52.771Z"
   },
   {
    "duration": 147,
    "start_time": "2022-08-13T15:49:52.900Z"
   },
   {
    "duration": 157,
    "start_time": "2022-08-13T15:49:53.048Z"
   },
   {
    "duration": 149,
    "start_time": "2022-08-13T15:49:53.207Z"
   },
   {
    "duration": 155,
    "start_time": "2022-08-13T15:49:53.358Z"
   },
   {
    "duration": 147,
    "start_time": "2022-08-13T15:49:53.515Z"
   },
   {
    "duration": 264,
    "start_time": "2022-08-13T15:50:07.006Z"
   },
   {
    "duration": 140,
    "start_time": "2022-08-13T16:01:50.962Z"
   },
   {
    "duration": 243,
    "start_time": "2022-08-13T16:02:26.584Z"
   },
   {
    "duration": 5,
    "start_time": "2022-08-13T16:03:29.807Z"
   },
   {
    "duration": 147,
    "start_time": "2022-08-13T16:07:38.482Z"
   },
   {
    "duration": 265,
    "start_time": "2022-08-13T16:07:46.117Z"
   },
   {
    "duration": 891,
    "start_time": "2022-08-13T16:13:57.940Z"
   },
   {
    "duration": 249,
    "start_time": "2022-08-13T16:14:13.554Z"
   },
   {
    "duration": 137,
    "start_time": "2022-08-13T16:21:14.479Z"
   },
   {
    "duration": 135,
    "start_time": "2022-08-13T16:21:26.202Z"
   },
   {
    "duration": 138,
    "start_time": "2022-08-13T16:23:33.212Z"
   },
   {
    "duration": 140,
    "start_time": "2022-08-13T16:24:23.399Z"
   },
   {
    "duration": 144,
    "start_time": "2022-08-13T16:24:42.735Z"
   },
   {
    "duration": 140,
    "start_time": "2022-08-13T16:25:04.426Z"
   },
   {
    "duration": 141,
    "start_time": "2022-08-13T16:25:17.731Z"
   },
   {
    "duration": 93,
    "start_time": "2022-08-13T16:35:47.265Z"
   },
   {
    "duration": 140,
    "start_time": "2022-08-13T16:39:07.585Z"
   },
   {
    "duration": 129,
    "start_time": "2022-08-13T16:39:36.874Z"
   },
   {
    "duration": 133,
    "start_time": "2022-08-13T16:41:59.424Z"
   },
   {
    "duration": 138,
    "start_time": "2022-08-13T16:43:41.329Z"
   },
   {
    "duration": 126,
    "start_time": "2022-08-13T16:44:44.516Z"
   },
   {
    "duration": 130,
    "start_time": "2022-08-13T16:44:59.765Z"
   },
   {
    "duration": 43,
    "start_time": "2022-08-13T16:45:54.672Z"
   },
   {
    "duration": 90,
    "start_time": "2022-08-13T16:45:59.753Z"
   },
   {
    "duration": 53,
    "start_time": "2022-08-13T16:46:05.953Z"
   },
   {
    "duration": 71,
    "start_time": "2022-08-13T16:46:08.364Z"
   },
   {
    "duration": 56,
    "start_time": "2022-08-13T16:46:33.710Z"
   },
   {
    "duration": 55,
    "start_time": "2022-08-13T16:46:39.621Z"
   },
   {
    "duration": 280,
    "start_time": "2022-08-13T16:46:50.131Z"
   },
   {
    "duration": 127,
    "start_time": "2022-08-13T16:46:56.357Z"
   },
   {
    "duration": 138,
    "start_time": "2022-08-13T16:47:03.686Z"
   },
   {
    "duration": 134,
    "start_time": "2022-08-13T16:48:23.712Z"
   },
   {
    "duration": 477,
    "start_time": "2022-08-13T16:50:52.107Z"
   },
   {
    "duration": 435,
    "start_time": "2022-08-13T16:52:00.255Z"
   },
   {
    "duration": 139,
    "start_time": "2022-08-13T16:52:44.364Z"
   },
   {
    "duration": 336,
    "start_time": "2022-08-13T16:57:11.668Z"
   },
   {
    "duration": 139,
    "start_time": "2022-08-13T16:58:03.173Z"
   },
   {
    "duration": 330,
    "start_time": "2022-08-13T16:58:09.833Z"
   },
   {
    "duration": 145,
    "start_time": "2022-08-13T16:58:12.928Z"
   },
   {
    "duration": 473,
    "start_time": "2022-08-13T16:58:33.591Z"
   },
   {
    "duration": 144,
    "start_time": "2022-08-13T16:58:38.207Z"
   },
   {
    "duration": 356,
    "start_time": "2022-08-13T17:00:10.903Z"
   },
   {
    "duration": 156,
    "start_time": "2022-08-13T17:00:13.603Z"
   },
   {
    "duration": 225,
    "start_time": "2022-08-13T17:01:30.411Z"
   },
   {
    "duration": 148,
    "start_time": "2022-08-13T17:02:22.909Z"
   },
   {
    "duration": 167,
    "start_time": "2022-08-13T17:07:43.210Z"
   },
   {
    "duration": 205,
    "start_time": "2022-08-13T17:09:08.201Z"
   },
   {
    "duration": 164,
    "start_time": "2022-08-13T17:10:17.487Z"
   },
   {
    "duration": 144,
    "start_time": "2022-08-13T17:11:07.592Z"
   },
   {
    "duration": 151,
    "start_time": "2022-08-13T17:15:51.235Z"
   },
   {
    "duration": 164,
    "start_time": "2022-08-13T17:16:03.594Z"
   },
   {
    "duration": 144,
    "start_time": "2022-08-13T17:16:10.561Z"
   },
   {
    "duration": 136,
    "start_time": "2022-08-13T17:16:20.052Z"
   },
   {
    "duration": 6,
    "start_time": "2022-08-13T17:20:49.049Z"
   },
   {
    "duration": 4,
    "start_time": "2022-08-13T17:20:55.116Z"
   },
   {
    "duration": 33,
    "start_time": "2022-08-13T17:21:02.633Z"
   },
   {
    "duration": 8,
    "start_time": "2022-08-13T17:21:18.227Z"
   },
   {
    "duration": 633,
    "start_time": "2022-08-13T17:25:38.307Z"
   },
   {
    "duration": 2,
    "start_time": "2022-08-13T17:25:53.297Z"
   },
   {
    "duration": 105,
    "start_time": "2022-08-13T17:25:53.301Z"
   },
   {
    "duration": 68,
    "start_time": "2022-08-13T17:25:53.407Z"
   },
   {
    "duration": 12,
    "start_time": "2022-08-13T17:25:53.476Z"
   },
   {
    "duration": 1755,
    "start_time": "2022-08-13T17:25:53.490Z"
   },
   {
    "duration": 227,
    "start_time": "2022-08-13T17:25:55.247Z"
   },
   {
    "duration": 3,
    "start_time": "2022-08-13T17:25:55.476Z"
   },
   {
    "duration": 9,
    "start_time": "2022-08-13T17:25:55.480Z"
   },
   {
    "duration": 10,
    "start_time": "2022-08-13T17:25:55.491Z"
   },
   {
    "duration": 19,
    "start_time": "2022-08-13T17:25:55.502Z"
   },
   {
    "duration": 24,
    "start_time": "2022-08-13T17:25:55.522Z"
   },
   {
    "duration": 18,
    "start_time": "2022-08-13T17:25:55.547Z"
   },
   {
    "duration": 5,
    "start_time": "2022-08-13T17:25:55.566Z"
   },
   {
    "duration": 33,
    "start_time": "2022-08-13T17:25:55.573Z"
   },
   {
    "duration": 38,
    "start_time": "2022-08-13T17:25:55.608Z"
   },
   {
    "duration": 4,
    "start_time": "2022-08-13T17:25:55.647Z"
   },
   {
    "duration": 8,
    "start_time": "2022-08-13T17:25:55.652Z"
   },
   {
    "duration": 9,
    "start_time": "2022-08-13T17:25:55.662Z"
   },
   {
    "duration": 9,
    "start_time": "2022-08-13T17:25:55.672Z"
   },
   {
    "duration": 4,
    "start_time": "2022-08-13T17:25:55.682Z"
   },
   {
    "duration": 8,
    "start_time": "2022-08-13T17:25:55.687Z"
   },
   {
    "duration": 45,
    "start_time": "2022-08-13T17:25:55.696Z"
   },
   {
    "duration": 13,
    "start_time": "2022-08-13T17:25:55.742Z"
   },
   {
    "duration": 5,
    "start_time": "2022-08-13T17:25:55.758Z"
   },
   {
    "duration": 8,
    "start_time": "2022-08-13T17:25:55.764Z"
   },
   {
    "duration": 9,
    "start_time": "2022-08-13T17:25:55.774Z"
   },
   {
    "duration": 5,
    "start_time": "2022-08-13T17:25:55.784Z"
   },
   {
    "duration": 9,
    "start_time": "2022-08-13T17:25:55.790Z"
   },
   {
    "duration": 120,
    "start_time": "2022-08-13T17:25:55.800Z"
   },
   {
    "duration": 5,
    "start_time": "2022-08-13T17:25:55.921Z"
   },
   {
    "duration": 14,
    "start_time": "2022-08-13T17:25:55.927Z"
   },
   {
    "duration": 3,
    "start_time": "2022-08-13T17:25:55.942Z"
   },
   {
    "duration": 318,
    "start_time": "2022-08-13T17:25:55.947Z"
   },
   {
    "duration": 408,
    "start_time": "2022-08-13T17:25:56.266Z"
   },
   {
    "duration": 225,
    "start_time": "2022-08-13T17:25:56.676Z"
   },
   {
    "duration": 209,
    "start_time": "2022-08-13T17:25:56.902Z"
   },
   {
    "duration": 157,
    "start_time": "2022-08-13T17:25:57.113Z"
   },
   {
    "duration": 245,
    "start_time": "2022-08-13T17:25:57.272Z"
   },
   {
    "duration": 133,
    "start_time": "2022-08-13T17:25:57.519Z"
   },
   {
    "duration": 156,
    "start_time": "2022-08-13T17:25:57.654Z"
   },
   {
    "duration": 147,
    "start_time": "2022-08-13T17:25:57.811Z"
   },
   {
    "duration": 118,
    "start_time": "2022-08-13T17:25:57.959Z"
   },
   {
    "duration": 143,
    "start_time": "2022-08-13T17:25:58.078Z"
   },
   {
    "duration": 156,
    "start_time": "2022-08-13T17:25:58.222Z"
   },
   {
    "duration": 142,
    "start_time": "2022-08-13T17:25:58.379Z"
   },
   {
    "duration": 149,
    "start_time": "2022-08-13T17:25:58.522Z"
   },
   {
    "duration": 140,
    "start_time": "2022-08-13T17:25:58.672Z"
   },
   {
    "duration": 168,
    "start_time": "2022-08-13T17:25:58.814Z"
   },
   {
    "duration": 296,
    "start_time": "2022-08-13T17:25:58.983Z"
   },
   {
    "duration": 138,
    "start_time": "2022-08-13T17:25:59.281Z"
   },
   {
    "duration": 326,
    "start_time": "2022-08-13T17:25:59.420Z"
   },
   {
    "duration": 138,
    "start_time": "2022-08-13T17:25:59.748Z"
   },
   {
    "duration": 123,
    "start_time": "2022-08-13T17:25:59.887Z"
   },
   {
    "duration": 132,
    "start_time": "2022-08-13T17:26:00.012Z"
   },
   {
    "duration": 149,
    "start_time": "2022-08-13T17:26:00.145Z"
   },
   {
    "duration": 150,
    "start_time": "2022-08-13T17:26:00.296Z"
   },
   {
    "duration": 137,
    "start_time": "2022-08-13T17:26:00.447Z"
   },
   {
    "duration": 4,
    "start_time": "2022-08-13T17:26:00.586Z"
   },
   {
    "duration": 725,
    "start_time": "2022-08-13T17:26:08.983Z"
   },
   {
    "duration": 9,
    "start_time": "2022-08-13T17:26:33.226Z"
   },
   {
    "duration": 9,
    "start_time": "2022-08-13T17:26:53.544Z"
   },
   {
    "duration": 9,
    "start_time": "2022-08-13T17:27:39.683Z"
   },
   {
    "duration": 79,
    "start_time": "2022-08-13T17:28:19.367Z"
   },
   {
    "duration": 9,
    "start_time": "2022-08-13T17:28:22.407Z"
   },
   {
    "duration": 10,
    "start_time": "2022-08-13T17:28:48.477Z"
   },
   {
    "duration": 8,
    "start_time": "2022-08-13T17:29:00.494Z"
   },
   {
    "duration": 9,
    "start_time": "2022-08-13T17:30:41.933Z"
   },
   {
    "duration": 9,
    "start_time": "2022-08-13T19:35:56.006Z"
   },
   {
    "duration": 9259,
    "start_time": "2022-08-13T19:36:10.563Z"
   },
   {
    "duration": 16,
    "start_time": "2022-08-13T19:39:43.827Z"
   },
   {
    "duration": 15,
    "start_time": "2022-08-13T19:39:59.341Z"
   },
   {
    "duration": 16,
    "start_time": "2022-08-13T19:40:18.391Z"
   },
   {
    "duration": 15,
    "start_time": "2022-08-13T19:40:36.109Z"
   },
   {
    "duration": 16,
    "start_time": "2022-08-13T19:40:48.019Z"
   },
   {
    "duration": 15,
    "start_time": "2022-08-13T19:41:09.425Z"
   },
   {
    "duration": 16,
    "start_time": "2022-08-13T19:41:29.677Z"
   },
   {
    "duration": 2,
    "start_time": "2022-08-13T19:41:36.116Z"
   },
   {
    "duration": 8,
    "start_time": "2022-08-13T19:41:38.690Z"
   },
   {
    "duration": 2,
    "start_time": "2022-08-13T19:41:43.156Z"
   },
   {
    "duration": 16,
    "start_time": "2022-08-13T19:41:46.868Z"
   },
   {
    "duration": 19,
    "start_time": "2022-08-13T19:43:17.942Z"
   },
   {
    "duration": 5,
    "start_time": "2022-08-13T19:44:18.459Z"
   },
   {
    "duration": 921,
    "start_time": "2022-08-13T19:45:32.602Z"
   },
   {
    "duration": 16,
    "start_time": "2022-08-13T19:45:39.431Z"
   },
   {
    "duration": 761,
    "start_time": "2022-08-13T19:54:54.812Z"
   },
   {
    "duration": 9,
    "start_time": "2022-08-13T19:55:08.165Z"
   },
   {
    "duration": 9,
    "start_time": "2022-08-13T19:55:17.014Z"
   },
   {
    "duration": 8,
    "start_time": "2022-08-13T19:57:42.302Z"
   },
   {
    "duration": 719,
    "start_time": "2022-08-13T19:57:51.185Z"
   },
   {
    "duration": 8,
    "start_time": "2022-08-13T20:02:33.890Z"
   },
   {
    "duration": 62,
    "start_time": "2022-08-13T20:08:48.524Z"
   },
   {
    "duration": 55,
    "start_time": "2022-08-13T20:10:36.562Z"
   },
   {
    "duration": 16,
    "start_time": "2022-08-13T20:10:41.751Z"
   },
   {
    "duration": 14,
    "start_time": "2022-08-13T20:11:27.052Z"
   },
   {
    "duration": 20,
    "start_time": "2022-08-13T20:11:33.501Z"
   },
   {
    "duration": 4,
    "start_time": "2022-08-13T20:12:42.344Z"
   },
   {
    "duration": 80,
    "start_time": "2022-08-13T20:13:09.818Z"
   },
   {
    "duration": 58,
    "start_time": "2022-08-13T20:13:19.514Z"
   },
   {
    "duration": 100,
    "start_time": "2022-08-13T20:14:13.534Z"
   },
   {
    "duration": 43,
    "start_time": "2022-08-13T20:14:23.059Z"
   },
   {
    "duration": 75,
    "start_time": "2022-08-13T20:14:40.347Z"
   },
   {
    "duration": 7,
    "start_time": "2022-08-13T20:15:20.542Z"
   },
   {
    "duration": 7,
    "start_time": "2022-08-13T20:17:02.885Z"
   },
   {
    "duration": 8,
    "start_time": "2022-08-13T20:17:49.760Z"
   },
   {
    "duration": 8918,
    "start_time": "2022-08-13T20:19:26.607Z"
   },
   {
    "duration": 711,
    "start_time": "2022-08-13T20:19:47.014Z"
   },
   {
    "duration": 6,
    "start_time": "2022-08-13T20:19:56.107Z"
   },
   {
    "duration": 4,
    "start_time": "2022-08-13T20:20:23.776Z"
   },
   {
    "duration": 4,
    "start_time": "2022-08-13T20:20:30.662Z"
   },
   {
    "duration": 5,
    "start_time": "2022-08-13T20:20:43.208Z"
   },
   {
    "duration": 8,
    "start_time": "2022-08-13T20:20:58.467Z"
   },
   {
    "duration": 5,
    "start_time": "2022-08-13T20:21:01.062Z"
   },
   {
    "duration": 8,
    "start_time": "2022-08-13T20:21:21.208Z"
   },
   {
    "duration": 9,
    "start_time": "2022-08-13T20:21:35.806Z"
   },
   {
    "duration": 9,
    "start_time": "2022-08-13T20:21:37.788Z"
   },
   {
    "duration": 14,
    "start_time": "2022-08-13T20:23:13.517Z"
   },
   {
    "duration": 15,
    "start_time": "2022-08-13T20:24:11.160Z"
   },
   {
    "duration": 16,
    "start_time": "2022-08-13T20:24:16.204Z"
   },
   {
    "duration": 41,
    "start_time": "2022-08-13T20:30:47.714Z"
   },
   {
    "duration": 7,
    "start_time": "2022-08-13T20:31:38.746Z"
   },
   {
    "duration": 167,
    "start_time": "2022-08-13T20:35:23.404Z"
   },
   {
    "duration": 175,
    "start_time": "2022-08-13T20:35:38.348Z"
   },
   {
    "duration": 204,
    "start_time": "2022-08-13T20:35:54.389Z"
   },
   {
    "duration": 170,
    "start_time": "2022-08-13T20:36:04.757Z"
   },
   {
    "duration": 51,
    "start_time": "2022-08-13T20:36:22.958Z"
   },
   {
    "duration": 226,
    "start_time": "2022-08-13T20:36:27.250Z"
   },
   {
    "duration": 228,
    "start_time": "2022-08-13T20:36:45.301Z"
   },
   {
    "duration": 175,
    "start_time": "2022-08-13T20:36:59.712Z"
   },
   {
    "duration": 139,
    "start_time": "2022-08-13T20:37:19.420Z"
   },
   {
    "duration": 16,
    "start_time": "2022-08-13T20:40:05.341Z"
   },
   {
    "duration": 8,
    "start_time": "2022-08-13T20:40:12.433Z"
   },
   {
    "duration": 12,
    "start_time": "2022-08-13T20:43:14.194Z"
   },
   {
    "duration": 9,
    "start_time": "2022-08-13T20:43:19.768Z"
   },
   {
    "duration": 10,
    "start_time": "2022-08-13T20:43:24.861Z"
   },
   {
    "duration": 36,
    "start_time": "2022-08-13T20:44:30.994Z"
   },
   {
    "duration": 12,
    "start_time": "2022-08-13T20:44:47.495Z"
   },
   {
    "duration": 5,
    "start_time": "2022-08-13T20:51:38.898Z"
   },
   {
    "duration": 4,
    "start_time": "2022-08-13T20:52:02.629Z"
   },
   {
    "duration": 727,
    "start_time": "2022-08-13T20:52:35.328Z"
   },
   {
    "duration": 11,
    "start_time": "2022-08-13T20:52:45.411Z"
   },
   {
    "duration": 18,
    "start_time": "2022-08-13T20:54:18.378Z"
   },
   {
    "duration": 13,
    "start_time": "2022-08-13T20:54:32.385Z"
   },
   {
    "duration": 18,
    "start_time": "2022-08-13T20:55:38.008Z"
   },
   {
    "duration": 11,
    "start_time": "2022-08-13T20:57:51.263Z"
   },
   {
    "duration": 5,
    "start_time": "2022-08-13T20:58:04.889Z"
   },
   {
    "duration": 1080,
    "start_time": "2022-08-13T21:39:57.940Z"
   },
   {
    "duration": 132,
    "start_time": "2022-08-13T21:39:59.022Z"
   },
   {
    "duration": 72,
    "start_time": "2022-08-13T21:39:59.156Z"
   },
   {
    "duration": 18,
    "start_time": "2022-08-13T21:39:59.230Z"
   },
   {
    "duration": 1680,
    "start_time": "2022-08-13T21:39:59.249Z"
   },
   {
    "duration": 238,
    "start_time": "2022-08-13T21:40:00.930Z"
   },
   {
    "duration": 6,
    "start_time": "2022-08-13T21:40:01.170Z"
   },
   {
    "duration": 29,
    "start_time": "2022-08-13T21:40:01.177Z"
   },
   {
    "duration": 19,
    "start_time": "2022-08-13T21:40:01.208Z"
   },
   {
    "duration": 32,
    "start_time": "2022-08-13T21:40:01.229Z"
   },
   {
    "duration": 95,
    "start_time": "2022-08-13T21:40:01.262Z"
   },
   {
    "duration": 0,
    "start_time": "2022-08-13T21:40:01.360Z"
   },
   {
    "duration": 0,
    "start_time": "2022-08-13T21:40:01.361Z"
   },
   {
    "duration": 0,
    "start_time": "2022-08-13T21:40:01.362Z"
   },
   {
    "duration": 0,
    "start_time": "2022-08-13T21:40:01.363Z"
   },
   {
    "duration": 0,
    "start_time": "2022-08-13T21:40:01.364Z"
   },
   {
    "duration": 0,
    "start_time": "2022-08-13T21:40:01.365Z"
   },
   {
    "duration": 0,
    "start_time": "2022-08-13T21:40:01.366Z"
   },
   {
    "duration": 0,
    "start_time": "2022-08-13T21:40:01.367Z"
   },
   {
    "duration": 0,
    "start_time": "2022-08-13T21:40:01.368Z"
   },
   {
    "duration": 0,
    "start_time": "2022-08-13T21:40:01.369Z"
   },
   {
    "duration": 0,
    "start_time": "2022-08-13T21:40:01.370Z"
   },
   {
    "duration": 0,
    "start_time": "2022-08-13T21:40:01.371Z"
   },
   {
    "duration": 0,
    "start_time": "2022-08-13T21:40:01.372Z"
   },
   {
    "duration": 0,
    "start_time": "2022-08-13T21:40:01.373Z"
   },
   {
    "duration": 0,
    "start_time": "2022-08-13T21:40:01.374Z"
   },
   {
    "duration": 0,
    "start_time": "2022-08-13T21:40:01.375Z"
   },
   {
    "duration": 0,
    "start_time": "2022-08-13T21:40:01.376Z"
   },
   {
    "duration": 0,
    "start_time": "2022-08-13T21:40:01.377Z"
   },
   {
    "duration": 0,
    "start_time": "2022-08-13T21:40:01.378Z"
   },
   {
    "duration": 0,
    "start_time": "2022-08-13T21:40:01.379Z"
   },
   {
    "duration": 0,
    "start_time": "2022-08-13T21:40:01.380Z"
   },
   {
    "duration": 0,
    "start_time": "2022-08-13T21:40:01.381Z"
   },
   {
    "duration": 0,
    "start_time": "2022-08-13T21:40:01.381Z"
   },
   {
    "duration": 0,
    "start_time": "2022-08-13T21:40:01.382Z"
   },
   {
    "duration": 0,
    "start_time": "2022-08-13T21:40:01.384Z"
   },
   {
    "duration": 0,
    "start_time": "2022-08-13T21:40:01.385Z"
   },
   {
    "duration": 0,
    "start_time": "2022-08-13T21:40:01.386Z"
   },
   {
    "duration": 0,
    "start_time": "2022-08-13T21:40:01.387Z"
   },
   {
    "duration": 0,
    "start_time": "2022-08-13T21:40:01.388Z"
   },
   {
    "duration": 0,
    "start_time": "2022-08-13T21:40:01.388Z"
   },
   {
    "duration": 0,
    "start_time": "2022-08-13T21:40:01.439Z"
   },
   {
    "duration": 0,
    "start_time": "2022-08-13T21:40:01.440Z"
   },
   {
    "duration": 0,
    "start_time": "2022-08-13T21:40:01.441Z"
   },
   {
    "duration": 0,
    "start_time": "2022-08-13T21:40:01.442Z"
   },
   {
    "duration": 0,
    "start_time": "2022-08-13T21:40:01.442Z"
   },
   {
    "duration": 0,
    "start_time": "2022-08-13T21:40:01.443Z"
   },
   {
    "duration": 0,
    "start_time": "2022-08-13T21:40:01.444Z"
   },
   {
    "duration": 0,
    "start_time": "2022-08-13T21:40:01.445Z"
   },
   {
    "duration": 0,
    "start_time": "2022-08-13T21:40:01.446Z"
   },
   {
    "duration": 0,
    "start_time": "2022-08-13T21:40:01.447Z"
   },
   {
    "duration": 0,
    "start_time": "2022-08-13T21:40:01.448Z"
   },
   {
    "duration": 0,
    "start_time": "2022-08-13T21:40:01.449Z"
   },
   {
    "duration": 0,
    "start_time": "2022-08-13T21:40:01.450Z"
   },
   {
    "duration": 0,
    "start_time": "2022-08-13T21:40:01.451Z"
   },
   {
    "duration": 0,
    "start_time": "2022-08-13T21:40:01.452Z"
   },
   {
    "duration": 0,
    "start_time": "2022-08-13T21:40:01.453Z"
   },
   {
    "duration": 0,
    "start_time": "2022-08-13T21:40:01.454Z"
   },
   {
    "duration": 0,
    "start_time": "2022-08-13T21:40:01.455Z"
   },
   {
    "duration": 0,
    "start_time": "2022-08-13T21:40:01.455Z"
   },
   {
    "duration": 0,
    "start_time": "2022-08-13T21:40:01.457Z"
   },
   {
    "duration": 0,
    "start_time": "2022-08-13T21:40:01.458Z"
   },
   {
    "duration": 1049,
    "start_time": "2022-08-13T21:42:23.147Z"
   },
   {
    "duration": 118,
    "start_time": "2022-08-13T21:42:24.197Z"
   },
   {
    "duration": 74,
    "start_time": "2022-08-13T21:42:24.317Z"
   },
   {
    "duration": 12,
    "start_time": "2022-08-13T21:42:24.392Z"
   },
   {
    "duration": 1711,
    "start_time": "2022-08-13T21:42:24.406Z"
   },
   {
    "duration": 236,
    "start_time": "2022-08-13T21:42:26.118Z"
   },
   {
    "duration": 6,
    "start_time": "2022-08-13T21:42:26.355Z"
   },
   {
    "duration": 4,
    "start_time": "2022-08-13T21:42:26.362Z"
   },
   {
    "duration": 13,
    "start_time": "2022-08-13T21:42:26.367Z"
   },
   {
    "duration": 22,
    "start_time": "2022-08-13T21:42:26.382Z"
   },
   {
    "duration": 34,
    "start_time": "2022-08-13T21:42:26.405Z"
   },
   {
    "duration": 20,
    "start_time": "2022-08-13T21:42:26.440Z"
   },
   {
    "duration": 6,
    "start_time": "2022-08-13T21:42:26.461Z"
   },
   {
    "duration": 35,
    "start_time": "2022-08-13T21:42:26.468Z"
   },
   {
    "duration": 35,
    "start_time": "2022-08-13T21:42:26.504Z"
   },
   {
    "duration": 5,
    "start_time": "2022-08-13T21:42:26.540Z"
   },
   {
    "duration": 6,
    "start_time": "2022-08-13T21:42:26.546Z"
   },
   {
    "duration": 4,
    "start_time": "2022-08-13T21:42:26.553Z"
   },
   {
    "duration": 6,
    "start_time": "2022-08-13T21:42:26.559Z"
   },
   {
    "duration": 4,
    "start_time": "2022-08-13T21:42:26.566Z"
   },
   {
    "duration": 7,
    "start_time": "2022-08-13T21:42:26.571Z"
   },
   {
    "duration": 21,
    "start_time": "2022-08-13T21:42:26.579Z"
   },
   {
    "duration": 42,
    "start_time": "2022-08-13T21:42:26.602Z"
   },
   {
    "duration": 4,
    "start_time": "2022-08-13T21:42:26.646Z"
   },
   {
    "duration": 5,
    "start_time": "2022-08-13T21:42:26.652Z"
   },
   {
    "duration": 5,
    "start_time": "2022-08-13T21:42:26.658Z"
   },
   {
    "duration": 4,
    "start_time": "2022-08-13T21:42:26.665Z"
   },
   {
    "duration": 5,
    "start_time": "2022-08-13T21:42:26.673Z"
   },
   {
    "duration": 127,
    "start_time": "2022-08-13T21:42:26.679Z"
   },
   {
    "duration": 4,
    "start_time": "2022-08-13T21:42:26.808Z"
   },
   {
    "duration": 9,
    "start_time": "2022-08-13T21:42:26.814Z"
   },
   {
    "duration": 3,
    "start_time": "2022-08-13T21:42:26.838Z"
   },
   {
    "duration": 307,
    "start_time": "2022-08-13T21:42:26.842Z"
   },
   {
    "duration": 255,
    "start_time": "2022-08-13T21:42:27.150Z"
   },
   {
    "duration": 214,
    "start_time": "2022-08-13T21:42:27.406Z"
   },
   {
    "duration": 290,
    "start_time": "2022-08-13T21:42:27.621Z"
   },
   {
    "duration": 162,
    "start_time": "2022-08-13T21:42:27.912Z"
   },
   {
    "duration": 248,
    "start_time": "2022-08-13T21:42:28.076Z"
   },
   {
    "duration": 135,
    "start_time": "2022-08-13T21:42:28.325Z"
   },
   {
    "duration": 162,
    "start_time": "2022-08-13T21:42:28.461Z"
   },
   {
    "duration": 170,
    "start_time": "2022-08-13T21:42:28.624Z"
   },
   {
    "duration": 151,
    "start_time": "2022-08-13T21:42:28.796Z"
   },
   {
    "duration": 232,
    "start_time": "2022-08-13T21:42:28.949Z"
   },
   {
    "duration": 334,
    "start_time": "2022-08-13T21:42:29.182Z"
   },
   {
    "duration": 231,
    "start_time": "2022-08-13T21:42:29.518Z"
   },
   {
    "duration": 172,
    "start_time": "2022-08-13T21:42:29.750Z"
   },
   {
    "duration": 149,
    "start_time": "2022-08-13T21:42:29.924Z"
   },
   {
    "duration": 139,
    "start_time": "2022-08-13T21:42:30.075Z"
   },
   {
    "duration": 286,
    "start_time": "2022-08-13T21:42:30.215Z"
   },
   {
    "duration": 157,
    "start_time": "2022-08-13T21:42:30.503Z"
   },
   {
    "duration": 147,
    "start_time": "2022-08-13T21:42:30.662Z"
   },
   {
    "duration": 146,
    "start_time": "2022-08-13T21:42:30.811Z"
   },
   {
    "duration": 133,
    "start_time": "2022-08-13T21:42:30.958Z"
   },
   {
    "duration": 234,
    "start_time": "2022-08-13T21:42:31.093Z"
   },
   {
    "duration": 148,
    "start_time": "2022-08-13T21:42:31.328Z"
   },
   {
    "duration": 160,
    "start_time": "2022-08-13T21:42:31.478Z"
   },
   {
    "duration": 135,
    "start_time": "2022-08-13T21:42:31.640Z"
   },
   {
    "duration": 13,
    "start_time": "2022-08-13T21:42:31.777Z"
   },
   {
    "duration": 13,
    "start_time": "2022-08-13T21:42:31.792Z"
   },
   {
    "duration": 10,
    "start_time": "2022-08-13T21:42:31.806Z"
   },
   {
    "duration": 11,
    "start_time": "2022-08-13T21:42:31.838Z"
   },
   {
    "duration": 4,
    "start_time": "2022-08-13T21:42:31.851Z"
   },
   {
    "duration": 1278,
    "start_time": "2022-08-14T23:47:35.721Z"
   },
   {
    "duration": 170,
    "start_time": "2022-08-14T23:47:37.001Z"
   },
   {
    "duration": 67,
    "start_time": "2022-08-14T23:47:37.173Z"
   },
   {
    "duration": 12,
    "start_time": "2022-08-14T23:47:37.242Z"
   },
   {
    "duration": 1848,
    "start_time": "2022-08-14T23:47:37.256Z"
   },
   {
    "duration": 255,
    "start_time": "2022-08-14T23:47:39.106Z"
   },
   {
    "duration": 5,
    "start_time": "2022-08-14T23:47:39.363Z"
   },
   {
    "duration": 4,
    "start_time": "2022-08-14T23:47:39.370Z"
   },
   {
    "duration": 10,
    "start_time": "2022-08-14T23:47:39.376Z"
   },
   {
    "duration": 23,
    "start_time": "2022-08-14T23:47:39.405Z"
   },
   {
    "duration": 11,
    "start_time": "2022-08-14T23:47:39.429Z"
   },
   {
    "duration": 19,
    "start_time": "2022-08-14T23:47:39.441Z"
   },
   {
    "duration": 5,
    "start_time": "2022-08-14T23:47:39.462Z"
   },
   {
    "duration": 55,
    "start_time": "2022-08-14T23:47:39.468Z"
   },
   {
    "duration": 17,
    "start_time": "2022-08-14T23:47:39.524Z"
   },
   {
    "duration": 5,
    "start_time": "2022-08-14T23:47:39.543Z"
   },
   {
    "duration": 5,
    "start_time": "2022-08-14T23:47:39.550Z"
   },
   {
    "duration": 5,
    "start_time": "2022-08-14T23:47:39.557Z"
   },
   {
    "duration": 6,
    "start_time": "2022-08-14T23:47:39.564Z"
   },
   {
    "duration": 4,
    "start_time": "2022-08-14T23:47:39.571Z"
   },
   {
    "duration": 7,
    "start_time": "2022-08-14T23:47:39.606Z"
   },
   {
    "duration": 23,
    "start_time": "2022-08-14T23:47:39.615Z"
   },
   {
    "duration": 14,
    "start_time": "2022-08-14T23:47:39.639Z"
   },
   {
    "duration": 5,
    "start_time": "2022-08-14T23:47:39.655Z"
   },
   {
    "duration": 7,
    "start_time": "2022-08-14T23:47:39.661Z"
   },
   {
    "duration": 38,
    "start_time": "2022-08-14T23:47:39.669Z"
   },
   {
    "duration": 6,
    "start_time": "2022-08-14T23:47:39.708Z"
   },
   {
    "duration": 8,
    "start_time": "2022-08-14T23:47:39.717Z"
   },
   {
    "duration": 146,
    "start_time": "2022-08-14T23:47:39.726Z"
   },
   {
    "duration": 6,
    "start_time": "2022-08-14T23:47:39.873Z"
   },
   {
    "duration": 7,
    "start_time": "2022-08-14T23:47:39.881Z"
   },
   {
    "duration": 17,
    "start_time": "2022-08-14T23:47:39.890Z"
   },
   {
    "duration": 340,
    "start_time": "2022-08-14T23:47:39.909Z"
   },
   {
    "duration": 277,
    "start_time": "2022-08-14T23:47:40.250Z"
   },
   {
    "duration": 214,
    "start_time": "2022-08-14T23:47:40.528Z"
   },
   {
    "duration": 295,
    "start_time": "2022-08-14T23:47:40.743Z"
   },
   {
    "duration": 156,
    "start_time": "2022-08-14T23:47:41.040Z"
   },
   {
    "duration": 267,
    "start_time": "2022-08-14T23:47:41.205Z"
   },
   {
    "duration": 135,
    "start_time": "2022-08-14T23:47:41.473Z"
   },
   {
    "duration": 168,
    "start_time": "2022-08-14T23:47:41.609Z"
   },
   {
    "duration": 176,
    "start_time": "2022-08-14T23:47:41.778Z"
   },
   {
    "duration": 125,
    "start_time": "2022-08-14T23:47:41.956Z"
   },
   {
    "duration": 177,
    "start_time": "2022-08-14T23:47:42.082Z"
   },
   {
    "duration": 315,
    "start_time": "2022-08-14T23:47:42.260Z"
   },
   {
    "duration": 225,
    "start_time": "2022-08-14T23:47:42.576Z"
   },
   {
    "duration": 172,
    "start_time": "2022-08-14T23:47:42.806Z"
   },
   {
    "duration": 146,
    "start_time": "2022-08-14T23:47:42.980Z"
   },
   {
    "duration": 136,
    "start_time": "2022-08-14T23:47:43.128Z"
   },
   {
    "duration": 249,
    "start_time": "2022-08-14T23:47:43.266Z"
   },
   {
    "duration": 135,
    "start_time": "2022-08-14T23:47:43.517Z"
   },
   {
    "duration": 136,
    "start_time": "2022-08-14T23:47:43.653Z"
   },
   {
    "duration": 135,
    "start_time": "2022-08-14T23:47:43.791Z"
   },
   {
    "duration": 135,
    "start_time": "2022-08-14T23:47:43.928Z"
   },
   {
    "duration": 235,
    "start_time": "2022-08-14T23:47:44.065Z"
   },
   {
    "duration": 152,
    "start_time": "2022-08-14T23:47:44.302Z"
   },
   {
    "duration": 150,
    "start_time": "2022-08-14T23:47:44.455Z"
   },
   {
    "duration": 126,
    "start_time": "2022-08-14T23:47:44.607Z"
   },
   {
    "duration": 14,
    "start_time": "2022-08-14T23:47:44.735Z"
   },
   {
    "duration": 13,
    "start_time": "2022-08-14T23:47:44.750Z"
   },
   {
    "duration": 7,
    "start_time": "2022-08-14T23:47:44.765Z"
   },
   {
    "duration": 4,
    "start_time": "2022-08-14T23:47:44.774Z"
   },
   {
    "duration": 34,
    "start_time": "2022-08-14T23:47:44.779Z"
   },
   {
    "duration": 8,
    "start_time": "2022-08-14T23:47:44.814Z"
   },
   {
    "duration": 145,
    "start_time": "2022-08-14T23:47:44.824Z"
   },
   {
    "duration": 79,
    "start_time": "2022-08-14T23:56:31.801Z"
   },
   {
    "duration": 1250,
    "start_time": "2022-08-15T09:44:46.851Z"
   },
   {
    "duration": 375,
    "start_time": "2022-08-15T09:44:48.103Z"
   },
   {
    "duration": 76,
    "start_time": "2022-08-15T09:44:48.479Z"
   },
   {
    "duration": 14,
    "start_time": "2022-08-15T09:44:48.557Z"
   },
   {
    "duration": 2100,
    "start_time": "2022-08-15T09:44:48.573Z"
   },
   {
    "duration": 335,
    "start_time": "2022-08-15T09:44:50.675Z"
   },
   {
    "duration": 6,
    "start_time": "2022-08-15T09:44:51.011Z"
   },
   {
    "duration": 23,
    "start_time": "2022-08-15T09:44:51.019Z"
   },
   {
    "duration": 27,
    "start_time": "2022-08-15T09:44:51.044Z"
   },
   {
    "duration": 2,
    "start_time": "2022-08-15T09:45:23.699Z"
   },
   {
    "duration": 124,
    "start_time": "2022-08-15T09:45:23.705Z"
   },
   {
    "duration": 80,
    "start_time": "2022-08-15T09:45:23.830Z"
   },
   {
    "duration": 14,
    "start_time": "2022-08-15T09:45:23.912Z"
   },
   {
    "duration": 2008,
    "start_time": "2022-08-15T09:45:23.928Z"
   },
   {
    "duration": 298,
    "start_time": "2022-08-15T09:45:25.937Z"
   },
   {
    "duration": 4,
    "start_time": "2022-08-15T09:45:26.237Z"
   },
   {
    "duration": 11,
    "start_time": "2022-08-15T09:45:26.243Z"
   },
   {
    "duration": 14,
    "start_time": "2022-08-15T09:45:26.256Z"
   },
   {
    "duration": 34,
    "start_time": "2022-08-15T09:45:26.271Z"
   },
   {
    "duration": 13,
    "start_time": "2022-08-15T09:45:26.307Z"
   },
   {
    "duration": 100,
    "start_time": "2022-08-15T09:45:36.951Z"
   },
   {
    "duration": 4,
    "start_time": "2022-08-15T09:45:50.391Z"
   },
   {
    "duration": 4,
    "start_time": "2022-08-15T09:45:54.214Z"
   },
   {
    "duration": 3,
    "start_time": "2022-08-15T09:47:45.325Z"
   },
   {
    "duration": 125,
    "start_time": "2022-08-15T09:47:45.329Z"
   },
   {
    "duration": 96,
    "start_time": "2022-08-15T09:47:45.456Z"
   },
   {
    "duration": 14,
    "start_time": "2022-08-15T09:47:45.554Z"
   },
   {
    "duration": 2204,
    "start_time": "2022-08-15T09:47:45.571Z"
   },
   {
    "duration": 299,
    "start_time": "2022-08-15T09:47:47.778Z"
   },
   {
    "duration": 4,
    "start_time": "2022-08-15T09:47:48.079Z"
   },
   {
    "duration": 19,
    "start_time": "2022-08-15T09:47:48.084Z"
   },
   {
    "duration": 9,
    "start_time": "2022-08-15T09:47:48.105Z"
   },
   {
    "duration": 22,
    "start_time": "2022-08-15T09:47:48.116Z"
   },
   {
    "duration": 12,
    "start_time": "2022-08-15T09:47:48.141Z"
   },
   {
    "duration": 49,
    "start_time": "2022-08-15T09:47:48.155Z"
   },
   {
    "duration": 6,
    "start_time": "2022-08-15T09:47:48.206Z"
   },
   {
    "duration": 43,
    "start_time": "2022-08-15T09:47:48.214Z"
   },
   {
    "duration": 18,
    "start_time": "2022-08-15T09:47:48.259Z"
   },
   {
    "duration": 24,
    "start_time": "2022-08-15T09:47:48.279Z"
   },
   {
    "duration": 6,
    "start_time": "2022-08-15T09:47:48.305Z"
   },
   {
    "duration": 5,
    "start_time": "2022-08-15T09:47:48.313Z"
   },
   {
    "duration": 8,
    "start_time": "2022-08-15T09:47:48.320Z"
   },
   {
    "duration": 5,
    "start_time": "2022-08-15T09:47:48.330Z"
   },
   {
    "duration": 8,
    "start_time": "2022-08-15T09:47:48.336Z"
   },
   {
    "duration": 61,
    "start_time": "2022-08-15T09:47:48.346Z"
   },
   {
    "duration": 16,
    "start_time": "2022-08-15T09:47:48.409Z"
   },
   {
    "duration": 6,
    "start_time": "2022-08-15T09:47:48.427Z"
   },
   {
    "duration": 5,
    "start_time": "2022-08-15T09:47:48.434Z"
   },
   {
    "duration": 6,
    "start_time": "2022-08-15T09:47:48.440Z"
   },
   {
    "duration": 5,
    "start_time": "2022-08-15T09:47:48.447Z"
   },
   {
    "duration": 21,
    "start_time": "2022-08-15T09:47:48.454Z"
   },
   {
    "duration": 139,
    "start_time": "2022-08-15T09:47:48.502Z"
   },
   {
    "duration": 5,
    "start_time": "2022-08-15T09:47:48.644Z"
   },
   {
    "duration": 8,
    "start_time": "2022-08-15T09:47:48.651Z"
   },
   {
    "duration": 9,
    "start_time": "2022-08-15T09:47:48.660Z"
   },
   {
    "duration": 381,
    "start_time": "2022-08-15T09:47:48.671Z"
   },
   {
    "duration": 309,
    "start_time": "2022-08-15T09:47:49.054Z"
   },
   {
    "duration": 257,
    "start_time": "2022-08-15T09:47:49.364Z"
   },
   {
    "duration": 251,
    "start_time": "2022-08-15T09:47:49.623Z"
   },
   {
    "duration": 195,
    "start_time": "2022-08-15T09:47:49.875Z"
   },
   {
    "duration": 465,
    "start_time": "2022-08-15T09:47:50.071Z"
   },
   {
    "duration": 166,
    "start_time": "2022-08-15T09:47:50.537Z"
   },
   {
    "duration": 210,
    "start_time": "2022-08-15T09:47:50.705Z"
   },
   {
    "duration": 218,
    "start_time": "2022-08-15T09:47:50.917Z"
   },
   {
    "duration": 166,
    "start_time": "2022-08-15T09:47:51.137Z"
   },
   {
    "duration": 216,
    "start_time": "2022-08-15T09:47:51.305Z"
   },
   {
    "duration": 293,
    "start_time": "2022-08-15T09:47:51.522Z"
   },
   {
    "duration": 304,
    "start_time": "2022-08-15T09:47:51.817Z"
   },
   {
    "duration": 224,
    "start_time": "2022-08-15T09:47:52.122Z"
   },
   {
    "duration": 181,
    "start_time": "2022-08-15T09:47:52.348Z"
   },
   {
    "duration": 173,
    "start_time": "2022-08-15T09:47:52.531Z"
   },
   {
    "duration": 326,
    "start_time": "2022-08-15T09:47:52.705Z"
   },
   {
    "duration": 182,
    "start_time": "2022-08-15T09:47:53.033Z"
   },
   {
    "duration": 176,
    "start_time": "2022-08-15T09:47:53.217Z"
   },
   {
    "duration": 168,
    "start_time": "2022-08-15T09:47:53.394Z"
   },
   {
    "duration": 337,
    "start_time": "2022-08-15T09:47:53.564Z"
   },
   {
    "duration": 156,
    "start_time": "2022-08-15T09:47:53.903Z"
   },
   {
    "duration": 182,
    "start_time": "2022-08-15T09:47:54.062Z"
   },
   {
    "duration": 183,
    "start_time": "2022-08-15T09:47:54.245Z"
   },
   {
    "duration": 174,
    "start_time": "2022-08-15T09:47:54.430Z"
   },
   {
    "duration": 18,
    "start_time": "2022-08-15T09:47:54.606Z"
   },
   {
    "duration": 16,
    "start_time": "2022-08-15T09:47:54.626Z"
   },
   {
    "duration": 10,
    "start_time": "2022-08-15T09:47:54.644Z"
   },
   {
    "duration": 7,
    "start_time": "2022-08-15T09:47:54.655Z"
   },
   {
    "duration": 49,
    "start_time": "2022-08-15T09:47:54.664Z"
   },
   {
    "duration": 5,
    "start_time": "2022-08-15T09:47:54.715Z"
   },
   {
    "duration": 177,
    "start_time": "2022-08-15T09:47:54.721Z"
   },
   {
    "duration": 5,
    "start_time": "2022-08-15T09:47:58.722Z"
   },
   {
    "duration": 6,
    "start_time": "2022-08-15T09:48:24.966Z"
   },
   {
    "duration": 5,
    "start_time": "2022-08-15T09:49:06.263Z"
   },
   {
    "duration": 11,
    "start_time": "2022-08-15T09:49:11.676Z"
   },
   {
    "duration": 10,
    "start_time": "2022-08-15T09:49:18.318Z"
   },
   {
    "duration": 10,
    "start_time": "2022-08-15T09:49:26.186Z"
   },
   {
    "duration": 7,
    "start_time": "2022-08-15T09:49:54.749Z"
   },
   {
    "duration": 8,
    "start_time": "2022-08-15T09:50:30.089Z"
   },
   {
    "duration": 7,
    "start_time": "2022-08-15T09:50:37.313Z"
   },
   {
    "duration": 8,
    "start_time": "2022-08-15T09:50:42.908Z"
   },
   {
    "duration": 18,
    "start_time": "2022-08-15T09:51:31.013Z"
   },
   {
    "duration": 6,
    "start_time": "2022-08-15T09:51:53.510Z"
   },
   {
    "duration": 17,
    "start_time": "2022-08-15T09:52:00.064Z"
   },
   {
    "duration": 18,
    "start_time": "2022-08-15T09:52:13.489Z"
   },
   {
    "duration": 25,
    "start_time": "2022-08-15T10:00:24.706Z"
   },
   {
    "duration": 44,
    "start_time": "2022-08-15T10:00:30.746Z"
   },
   {
    "duration": 43,
    "start_time": "2022-08-15T10:00:52.229Z"
   },
   {
    "duration": 56,
    "start_time": "2022-08-15T10:07:07.720Z"
   },
   {
    "duration": 18,
    "start_time": "2022-08-15T10:07:18.802Z"
   },
   {
    "duration": 18,
    "start_time": "2022-08-15T10:07:41.738Z"
   },
   {
    "duration": 14,
    "start_time": "2022-08-15T10:09:47.375Z"
   },
   {
    "duration": 9,
    "start_time": "2022-08-15T10:09:54.910Z"
   },
   {
    "duration": 7,
    "start_time": "2022-08-15T10:09:58.287Z"
   },
   {
    "duration": 22,
    "start_time": "2022-08-15T10:10:28.002Z"
   },
   {
    "duration": 12,
    "start_time": "2022-08-15T10:11:11.661Z"
   },
   {
    "duration": 14,
    "start_time": "2022-08-15T10:11:23.999Z"
   },
   {
    "duration": 16,
    "start_time": "2022-08-15T10:11:35.500Z"
   },
   {
    "duration": 10,
    "start_time": "2022-08-15T10:11:37.453Z"
   },
   {
    "duration": 79,
    "start_time": "2022-08-15T10:11:49.497Z"
   },
   {
    "duration": 10,
    "start_time": "2022-08-15T10:11:55.648Z"
   },
   {
    "duration": 9,
    "start_time": "2022-08-15T10:12:01.528Z"
   },
   {
    "duration": 5,
    "start_time": "2022-08-15T10:15:07.407Z"
   },
   {
    "duration": 8,
    "start_time": "2022-08-15T10:15:08.051Z"
   },
   {
    "duration": 30,
    "start_time": "2022-08-15T10:24:18.830Z"
   },
   {
    "duration": 29,
    "start_time": "2022-08-15T10:24:52.331Z"
   },
   {
    "duration": 230,
    "start_time": "2022-08-15T10:28:20.090Z"
   },
   {
    "duration": 29,
    "start_time": "2022-08-15T10:28:31.111Z"
   },
   {
    "duration": 39,
    "start_time": "2022-08-15T10:28:39.949Z"
   },
   {
    "duration": 25,
    "start_time": "2022-08-15T10:29:41.399Z"
   },
   {
    "duration": 6,
    "start_time": "2022-08-15T10:30:35.708Z"
   },
   {
    "duration": 26,
    "start_time": "2022-08-15T10:31:11.100Z"
   },
   {
    "duration": 268,
    "start_time": "2022-08-15T10:31:28.970Z"
   },
   {
    "duration": 29,
    "start_time": "2022-08-15T10:31:33.507Z"
   },
   {
    "duration": 31,
    "start_time": "2022-08-15T13:32:19.609Z"
   },
   {
    "duration": 30,
    "start_time": "2022-08-15T13:36:27.617Z"
   },
   {
    "duration": 158,
    "start_time": "2022-08-15T13:44:18.664Z"
   },
   {
    "duration": 131,
    "start_time": "2022-08-15T13:45:21.431Z"
   },
   {
    "duration": 139,
    "start_time": "2022-08-15T13:46:04.080Z"
   },
   {
    "duration": 67,
    "start_time": "2022-08-15T14:26:30.913Z"
   },
   {
    "duration": 135,
    "start_time": "2022-08-15T14:26:34.714Z"
   },
   {
    "duration": 184,
    "start_time": "2022-08-15T14:26:42.669Z"
   },
   {
    "duration": 1167,
    "start_time": "2022-08-15T14:32:05.156Z"
   },
   {
    "duration": 129,
    "start_time": "2022-08-15T14:32:06.325Z"
   },
   {
    "duration": 83,
    "start_time": "2022-08-15T14:32:06.455Z"
   },
   {
    "duration": 16,
    "start_time": "2022-08-15T14:32:06.541Z"
   },
   {
    "duration": 2186,
    "start_time": "2022-08-15T14:32:06.559Z"
   },
   {
    "duration": 301,
    "start_time": "2022-08-15T14:32:08.747Z"
   },
   {
    "duration": 6,
    "start_time": "2022-08-15T14:32:09.050Z"
   },
   {
    "duration": 5,
    "start_time": "2022-08-15T14:32:09.057Z"
   },
   {
    "duration": 14,
    "start_time": "2022-08-15T14:32:09.064Z"
   },
   {
    "duration": 136,
    "start_time": "2022-08-15T14:32:09.102Z"
   },
   {
    "duration": 0,
    "start_time": "2022-08-15T14:32:09.243Z"
   },
   {
    "duration": 0,
    "start_time": "2022-08-15T14:32:09.245Z"
   },
   {
    "duration": 0,
    "start_time": "2022-08-15T14:32:09.246Z"
   },
   {
    "duration": 0,
    "start_time": "2022-08-15T14:32:09.248Z"
   },
   {
    "duration": 0,
    "start_time": "2022-08-15T14:32:09.249Z"
   },
   {
    "duration": 0,
    "start_time": "2022-08-15T14:32:09.250Z"
   },
   {
    "duration": 0,
    "start_time": "2022-08-15T14:32:09.252Z"
   },
   {
    "duration": 0,
    "start_time": "2022-08-15T14:32:09.253Z"
   },
   {
    "duration": 0,
    "start_time": "2022-08-15T14:32:09.254Z"
   },
   {
    "duration": 0,
    "start_time": "2022-08-15T14:32:09.255Z"
   },
   {
    "duration": 0,
    "start_time": "2022-08-15T14:32:09.256Z"
   },
   {
    "duration": 0,
    "start_time": "2022-08-15T14:32:09.258Z"
   },
   {
    "duration": 0,
    "start_time": "2022-08-15T14:32:09.259Z"
   },
   {
    "duration": 0,
    "start_time": "2022-08-15T14:32:09.261Z"
   },
   {
    "duration": 0,
    "start_time": "2022-08-15T14:32:09.262Z"
   },
   {
    "duration": 0,
    "start_time": "2022-08-15T14:32:09.263Z"
   },
   {
    "duration": 0,
    "start_time": "2022-08-15T14:32:09.303Z"
   },
   {
    "duration": 0,
    "start_time": "2022-08-15T14:32:09.305Z"
   },
   {
    "duration": 0,
    "start_time": "2022-08-15T14:32:09.306Z"
   },
   {
    "duration": 0,
    "start_time": "2022-08-15T14:32:09.308Z"
   },
   {
    "duration": 0,
    "start_time": "2022-08-15T14:32:09.309Z"
   },
   {
    "duration": 0,
    "start_time": "2022-08-15T14:32:09.310Z"
   },
   {
    "duration": 0,
    "start_time": "2022-08-15T14:32:09.312Z"
   },
   {
    "duration": 0,
    "start_time": "2022-08-15T14:32:09.313Z"
   },
   {
    "duration": 0,
    "start_time": "2022-08-15T14:32:09.314Z"
   },
   {
    "duration": 0,
    "start_time": "2022-08-15T14:32:09.316Z"
   },
   {
    "duration": 0,
    "start_time": "2022-08-15T14:32:09.318Z"
   },
   {
    "duration": 0,
    "start_time": "2022-08-15T14:32:09.319Z"
   },
   {
    "duration": 0,
    "start_time": "2022-08-15T14:32:09.321Z"
   },
   {
    "duration": 0,
    "start_time": "2022-08-15T14:32:09.322Z"
   },
   {
    "duration": 0,
    "start_time": "2022-08-15T14:32:09.324Z"
   },
   {
    "duration": 0,
    "start_time": "2022-08-15T14:32:09.325Z"
   },
   {
    "duration": 0,
    "start_time": "2022-08-15T14:32:09.326Z"
   },
   {
    "duration": 0,
    "start_time": "2022-08-15T14:32:09.328Z"
   },
   {
    "duration": 0,
    "start_time": "2022-08-15T14:32:09.329Z"
   },
   {
    "duration": 0,
    "start_time": "2022-08-15T14:32:09.330Z"
   },
   {
    "duration": 0,
    "start_time": "2022-08-15T14:32:09.331Z"
   },
   {
    "duration": 0,
    "start_time": "2022-08-15T14:32:09.333Z"
   },
   {
    "duration": 0,
    "start_time": "2022-08-15T14:32:09.339Z"
   },
   {
    "duration": 0,
    "start_time": "2022-08-15T14:32:09.402Z"
   },
   {
    "duration": 0,
    "start_time": "2022-08-15T14:32:09.404Z"
   },
   {
    "duration": 0,
    "start_time": "2022-08-15T14:32:09.405Z"
   },
   {
    "duration": 0,
    "start_time": "2022-08-15T14:32:09.406Z"
   },
   {
    "duration": 0,
    "start_time": "2022-08-15T14:32:09.408Z"
   },
   {
    "duration": 0,
    "start_time": "2022-08-15T14:32:09.410Z"
   },
   {
    "duration": 0,
    "start_time": "2022-08-15T14:32:09.411Z"
   },
   {
    "duration": 0,
    "start_time": "2022-08-15T14:32:09.413Z"
   },
   {
    "duration": 0,
    "start_time": "2022-08-15T14:32:09.415Z"
   },
   {
    "duration": 0,
    "start_time": "2022-08-15T14:32:09.416Z"
   },
   {
    "duration": 0,
    "start_time": "2022-08-15T14:32:09.417Z"
   },
   {
    "duration": 0,
    "start_time": "2022-08-15T14:32:09.419Z"
   },
   {
    "duration": 0,
    "start_time": "2022-08-15T14:32:09.420Z"
   },
   {
    "duration": 0,
    "start_time": "2022-08-15T14:32:09.421Z"
   },
   {
    "duration": 0,
    "start_time": "2022-08-15T14:32:09.423Z"
   },
   {
    "duration": 1,
    "start_time": "2022-08-15T14:32:09.424Z"
   },
   {
    "duration": 11,
    "start_time": "2022-08-15T14:33:25.411Z"
   },
   {
    "duration": 1398,
    "start_time": "2022-08-15T14:35:58.500Z"
   },
   {
    "duration": 127,
    "start_time": "2022-08-15T14:35:59.900Z"
   },
   {
    "duration": 85,
    "start_time": "2022-08-15T14:36:00.029Z"
   },
   {
    "duration": 21,
    "start_time": "2022-08-15T14:36:00.116Z"
   },
   {
    "duration": 2398,
    "start_time": "2022-08-15T14:36:00.139Z"
   },
   {
    "duration": 326,
    "start_time": "2022-08-15T14:36:02.539Z"
   },
   {
    "duration": 6,
    "start_time": "2022-08-15T14:36:02.868Z"
   },
   {
    "duration": 10,
    "start_time": "2022-08-15T14:36:02.876Z"
   },
   {
    "duration": 28,
    "start_time": "2022-08-15T14:36:02.888Z"
   },
   {
    "duration": 31,
    "start_time": "2022-08-15T14:36:02.919Z"
   },
   {
    "duration": 14,
    "start_time": "2022-08-15T14:36:02.953Z"
   },
   {
    "duration": 52,
    "start_time": "2022-08-15T14:36:02.969Z"
   },
   {
    "duration": 25,
    "start_time": "2022-08-15T14:36:03.023Z"
   },
   {
    "duration": 8,
    "start_time": "2022-08-15T14:36:03.050Z"
   },
   {
    "duration": 67,
    "start_time": "2022-08-15T14:36:03.060Z"
   },
   {
    "duration": 22,
    "start_time": "2022-08-15T14:36:03.130Z"
   },
   {
    "duration": 8,
    "start_time": "2022-08-15T14:36:03.155Z"
   },
   {
    "duration": 22,
    "start_time": "2022-08-15T14:36:03.165Z"
   },
   {
    "duration": 8,
    "start_time": "2022-08-15T14:36:03.202Z"
   },
   {
    "duration": 8,
    "start_time": "2022-08-15T14:36:03.212Z"
   },
   {
    "duration": 13,
    "start_time": "2022-08-15T14:36:03.222Z"
   },
   {
    "duration": 15,
    "start_time": "2022-08-15T14:36:03.237Z"
   },
   {
    "duration": 33,
    "start_time": "2022-08-15T14:36:03.254Z"
   },
   {
    "duration": 16,
    "start_time": "2022-08-15T14:36:03.304Z"
   },
   {
    "duration": 11,
    "start_time": "2022-08-15T14:36:03.323Z"
   },
   {
    "duration": 14,
    "start_time": "2022-08-15T14:36:03.336Z"
   },
   {
    "duration": 11,
    "start_time": "2022-08-15T14:36:03.352Z"
   },
   {
    "duration": 11,
    "start_time": "2022-08-15T14:36:03.368Z"
   },
   {
    "duration": 8,
    "start_time": "2022-08-15T14:36:03.403Z"
   },
   {
    "duration": 202,
    "start_time": "2022-08-15T14:36:03.413Z"
   },
   {
    "duration": 6,
    "start_time": "2022-08-15T14:36:03.617Z"
   },
   {
    "duration": 11,
    "start_time": "2022-08-15T14:36:03.625Z"
   },
   {
    "duration": 5,
    "start_time": "2022-08-15T14:36:03.638Z"
   },
   {
    "duration": 412,
    "start_time": "2022-08-15T14:36:03.645Z"
   },
   {
    "duration": 350,
    "start_time": "2022-08-15T14:36:04.060Z"
   },
   {
    "duration": 282,
    "start_time": "2022-08-15T14:36:04.412Z"
   },
   {
    "duration": 366,
    "start_time": "2022-08-15T14:36:04.702Z"
   },
   {
    "duration": 215,
    "start_time": "2022-08-15T14:36:05.070Z"
   },
   {
    "duration": 328,
    "start_time": "2022-08-15T14:36:05.287Z"
   },
   {
    "duration": 176,
    "start_time": "2022-08-15T14:36:05.617Z"
   },
   {
    "duration": 220,
    "start_time": "2022-08-15T14:36:05.802Z"
   },
   {
    "duration": 229,
    "start_time": "2022-08-15T14:36:06.023Z"
   },
   {
    "duration": 197,
    "start_time": "2022-08-15T14:36:06.254Z"
   },
   {
    "duration": 233,
    "start_time": "2022-08-15T14:36:06.455Z"
   },
   {
    "duration": 436,
    "start_time": "2022-08-15T14:36:06.690Z"
   },
   {
    "duration": 315,
    "start_time": "2022-08-15T14:36:07.129Z"
   },
   {
    "duration": 264,
    "start_time": "2022-08-15T14:36:07.446Z"
   },
   {
    "duration": 199,
    "start_time": "2022-08-15T14:36:07.712Z"
   },
   {
    "duration": 192,
    "start_time": "2022-08-15T14:36:07.914Z"
   },
   {
    "duration": 375,
    "start_time": "2022-08-15T14:36:08.108Z"
   },
   {
    "duration": 189,
    "start_time": "2022-08-15T14:36:08.485Z"
   },
   {
    "duration": 195,
    "start_time": "2022-08-15T14:36:08.676Z"
   },
   {
    "duration": 263,
    "start_time": "2022-08-15T14:36:08.873Z"
   },
   {
    "duration": 233,
    "start_time": "2022-08-15T14:36:09.139Z"
   },
   {
    "duration": 305,
    "start_time": "2022-08-15T14:36:09.374Z"
   },
   {
    "duration": 264,
    "start_time": "2022-08-15T14:36:09.682Z"
   },
   {
    "duration": 264,
    "start_time": "2022-08-15T14:36:09.949Z"
   },
   {
    "duration": 223,
    "start_time": "2022-08-15T14:36:10.215Z"
   },
   {
    "duration": 26,
    "start_time": "2022-08-15T14:36:10.440Z"
   },
   {
    "duration": 41,
    "start_time": "2022-08-15T14:36:10.468Z"
   },
   {
    "duration": 13,
    "start_time": "2022-08-15T14:36:10.511Z"
   },
   {
    "duration": 8,
    "start_time": "2022-08-15T14:36:10.526Z"
   },
   {
    "duration": 21,
    "start_time": "2022-08-15T14:36:10.536Z"
   },
   {
    "duration": 6,
    "start_time": "2022-08-15T14:36:10.560Z"
   },
   {
    "duration": 221,
    "start_time": "2022-08-15T14:36:10.568Z"
   },
   {
    "duration": 1888,
    "start_time": "2022-08-16T10:41:54.393Z"
   },
   {
    "duration": 376,
    "start_time": "2022-08-16T10:41:56.287Z"
   },
   {
    "duration": 122,
    "start_time": "2022-08-16T10:41:56.665Z"
   },
   {
    "duration": 20,
    "start_time": "2022-08-16T10:41:56.789Z"
   },
   {
    "duration": 2734,
    "start_time": "2022-08-16T10:41:56.811Z"
   },
   {
    "duration": 364,
    "start_time": "2022-08-16T10:41:59.548Z"
   },
   {
    "duration": 9,
    "start_time": "2022-08-16T10:41:59.914Z"
   },
   {
    "duration": 20,
    "start_time": "2022-08-16T10:41:59.927Z"
   },
   {
    "duration": 24,
    "start_time": "2022-08-16T10:41:59.949Z"
   },
   {
    "duration": 43,
    "start_time": "2022-08-16T10:41:59.980Z"
   },
   {
    "duration": 51,
    "start_time": "2022-08-16T10:42:00.025Z"
   },
   {
    "duration": 60,
    "start_time": "2022-08-16T10:42:00.081Z"
   },
   {
    "duration": 32,
    "start_time": "2022-08-16T10:42:00.143Z"
   },
   {
    "duration": 11,
    "start_time": "2022-08-16T10:42:00.177Z"
   },
   {
    "duration": 89,
    "start_time": "2022-08-16T10:42:00.192Z"
   },
   {
    "duration": 26,
    "start_time": "2022-08-16T10:42:00.287Z"
   },
   {
    "duration": 13,
    "start_time": "2022-08-16T10:42:00.315Z"
   },
   {
    "duration": 17,
    "start_time": "2022-08-16T10:42:00.329Z"
   },
   {
    "duration": 6,
    "start_time": "2022-08-16T10:42:00.350Z"
   },
   {
    "duration": 41,
    "start_time": "2022-08-16T10:42:00.358Z"
   },
   {
    "duration": 8,
    "start_time": "2022-08-16T10:42:00.401Z"
   },
   {
    "duration": 13,
    "start_time": "2022-08-16T10:42:00.411Z"
   },
   {
    "duration": 40,
    "start_time": "2022-08-16T10:42:00.426Z"
   },
   {
    "duration": 21,
    "start_time": "2022-08-16T10:42:00.470Z"
   },
   {
    "duration": 47,
    "start_time": "2022-08-16T10:42:00.493Z"
   },
   {
    "duration": 18,
    "start_time": "2022-08-16T10:42:00.543Z"
   },
   {
    "duration": 43,
    "start_time": "2022-08-16T10:42:00.563Z"
   },
   {
    "duration": 7,
    "start_time": "2022-08-16T10:42:00.612Z"
   },
   {
    "duration": 13,
    "start_time": "2022-08-16T10:42:00.621Z"
   },
   {
    "duration": 184,
    "start_time": "2022-08-16T10:42:00.637Z"
   },
   {
    "duration": 8,
    "start_time": "2022-08-16T10:42:00.823Z"
   },
   {
    "duration": 26,
    "start_time": "2022-08-16T10:42:00.835Z"
   },
   {
    "duration": 53,
    "start_time": "2022-08-16T10:42:00.863Z"
   },
   {
    "duration": 642,
    "start_time": "2022-08-16T10:42:00.918Z"
   },
   {
    "duration": 497,
    "start_time": "2022-08-16T10:42:01.563Z"
   },
   {
    "duration": 336,
    "start_time": "2022-08-16T10:42:02.076Z"
   },
   {
    "duration": 369,
    "start_time": "2022-08-16T10:42:02.413Z"
   },
   {
    "duration": 218,
    "start_time": "2022-08-16T10:42:02.784Z"
   },
   {
    "duration": 450,
    "start_time": "2022-08-16T10:42:03.005Z"
   },
   {
    "duration": 192,
    "start_time": "2022-08-16T10:42:03.457Z"
   },
   {
    "duration": 225,
    "start_time": "2022-08-16T10:42:03.651Z"
   },
   {
    "duration": 235,
    "start_time": "2022-08-16T10:42:03.880Z"
   },
   {
    "duration": 140,
    "start_time": "2022-08-16T10:42:04.118Z"
   },
   {
    "duration": 221,
    "start_time": "2022-08-16T10:42:04.267Z"
   },
   {
    "duration": 415,
    "start_time": "2022-08-16T10:42:04.492Z"
   },
   {
    "duration": 364,
    "start_time": "2022-08-16T10:42:04.909Z"
   },
   {
    "duration": 237,
    "start_time": "2022-08-16T10:42:05.275Z"
   },
   {
    "duration": 203,
    "start_time": "2022-08-16T10:42:05.514Z"
   },
   {
    "duration": 274,
    "start_time": "2022-08-16T10:42:05.720Z"
   },
   {
    "duration": 418,
    "start_time": "2022-08-16T10:42:05.999Z"
   },
   {
    "duration": 210,
    "start_time": "2022-08-16T10:42:06.419Z"
   },
   {
    "duration": 213,
    "start_time": "2022-08-16T10:42:06.632Z"
   },
   {
    "duration": 245,
    "start_time": "2022-08-16T10:42:06.848Z"
   },
   {
    "duration": 215,
    "start_time": "2022-08-16T10:42:07.095Z"
   },
   {
    "duration": 352,
    "start_time": "2022-08-16T10:42:07.312Z"
   },
   {
    "duration": 278,
    "start_time": "2022-08-16T10:42:07.668Z"
   },
   {
    "duration": 260,
    "start_time": "2022-08-16T10:42:07.948Z"
   },
   {
    "duration": 206,
    "start_time": "2022-08-16T10:42:08.210Z"
   },
   {
    "duration": 20,
    "start_time": "2022-08-16T10:43:11.633Z"
   },
   {
    "duration": 122,
    "start_time": "2022-08-16T10:43:37.586Z"
   },
   {
    "duration": 36,
    "start_time": "2022-08-16T10:43:45.929Z"
   },
   {
    "duration": 25,
    "start_time": "2022-08-16T10:44:09.422Z"
   },
   {
    "duration": 29,
    "start_time": "2022-08-16T10:45:09.708Z"
   },
   {
    "duration": 28,
    "start_time": "2022-08-16T10:45:39.755Z"
   },
   {
    "duration": 24,
    "start_time": "2022-08-16T10:45:44.637Z"
   },
   {
    "duration": 25,
    "start_time": "2022-08-16T10:46:13.086Z"
   },
   {
    "duration": 29,
    "start_time": "2022-08-16T10:55:19.983Z"
   },
   {
    "duration": 31,
    "start_time": "2022-08-16T10:56:06.749Z"
   },
   {
    "duration": 27,
    "start_time": "2022-08-16T10:56:20.101Z"
   },
   {
    "duration": 32,
    "start_time": "2022-08-16T10:56:28.768Z"
   },
   {
    "duration": 26,
    "start_time": "2022-08-16T10:56:43.637Z"
   },
   {
    "duration": 32,
    "start_time": "2022-08-16T10:56:46.680Z"
   },
   {
    "duration": 20,
    "start_time": "2022-08-16T10:57:04.417Z"
   },
   {
    "duration": 32,
    "start_time": "2022-08-16T10:57:08.855Z"
   },
   {
    "duration": 27,
    "start_time": "2022-08-16T10:57:48.588Z"
   },
   {
    "duration": 26,
    "start_time": "2022-08-16T10:58:22.724Z"
   },
   {
    "duration": 26,
    "start_time": "2022-08-16T10:58:27.603Z"
   },
   {
    "duration": 18,
    "start_time": "2022-08-16T10:58:36.209Z"
   },
   {
    "duration": 23,
    "start_time": "2022-08-16T10:58:39.018Z"
   },
   {
    "duration": 27,
    "start_time": "2022-08-16T10:59:18.448Z"
   },
   {
    "duration": 25,
    "start_time": "2022-08-16T10:59:21.636Z"
   },
   {
    "duration": 25,
    "start_time": "2022-08-16T10:59:33.580Z"
   },
   {
    "duration": 23,
    "start_time": "2022-08-16T10:59:49.894Z"
   },
   {
    "duration": 30,
    "start_time": "2022-08-16T11:00:04.853Z"
   },
   {
    "duration": 23,
    "start_time": "2022-08-16T11:00:12.934Z"
   }
  ],
  "kernelspec": {
   "display_name": "Python 3 (ipykernel)",
   "language": "python",
   "name": "python3"
  },
  "language_info": {
   "codemirror_mode": {
    "name": "ipython",
    "version": 3
   },
   "file_extension": ".py",
   "mimetype": "text/x-python",
   "name": "python",
   "nbconvert_exporter": "python",
   "pygments_lexer": "ipython3",
   "version": "3.9.12"
  },
  "toc": {
   "base_numbering": 1,
   "nav_menu": {},
   "number_sections": true,
   "sideBar": true,
   "skip_h1_title": true,
   "title_cell": "Table of Contents",
   "title_sidebar": "Contents",
   "toc_cell": false,
   "toc_position": {},
   "toc_section_display": true,
   "toc_window_display": false
  }
 },
 "nbformat": 4,
 "nbformat_minor": 2
}
